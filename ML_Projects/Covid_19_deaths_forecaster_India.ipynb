{
 "cells": [
  {
   "cell_type": "code",
   "execution_count": 313,
   "id": "39edf251",
   "metadata": {},
   "outputs": [],
   "source": [
    "import pandas as pd\n",
    "import numpy as np\n",
    "import plotly.express as px\n",
    "from autots import AutoTS\n",
    "import matplotlib.pyplot as plt\n",
    "import statsmodels.api as smapi\n",
    "import warnings\n",
    "from sklearn.metrics import mean_squared_error\n",
    "from sklearn.metrics import mean_absolute_error"
   ]
  },
  {
   "cell_type": "code",
   "execution_count": 119,
   "id": "3a2a2840",
   "metadata": {},
   "outputs": [
    {
     "name": "stdout",
     "output_type": "stream",
     "text": [
      "                       Date  Daily Confirmed  Daily Deceased\n",
      "Date_YMD                                                    \n",
      "2020-01-30  30 January 2020                1               0\n",
      "2020-01-31  31 January 2020                0               0\n",
      "2020-02-01  1 February 2020                0               0\n",
      "2020-02-02  2 February 2020                1               0\n",
      "2020-02-03  3 February 2020                1               0\n",
      "...                     ...              ...             ...\n",
      "2022-01-14  14 January 2022           266518             621\n",
      "2022-01-15  15 January 2022           271202             314\n",
      "2022-01-16  16 January 2022           258089             385\n",
      "2022-01-17  17 January 2022           238018             310\n",
      "2022-01-18  18 January 2022           282970             441\n",
      "\n",
      "[720 rows x 3 columns]\n"
     ]
    }
   ],
   "source": [
    "data = pd.read_csv('https://raw.githubusercontent.com/amankharwal/Website-data/master/COVID19%20data%20for%20overall%20INDIA.csv', parse_dates=['Date_YMD']).set_index('Date_YMD')\n",
    "print(data)"
   ]
  },
  {
   "cell_type": "code",
   "execution_count": 120,
   "id": "203570e3",
   "metadata": {},
   "outputs": [
    {
     "name": "stdout",
     "output_type": "stream",
     "text": [
      "            Daily Deceased\n",
      "Date_YMD                  \n",
      "2020-01-30               0\n",
      "2020-01-31               0\n",
      "2020-02-01               0\n",
      "2020-02-02               0\n",
      "2020-02-03               0\n"
     ]
    }
   ],
   "source": [
    "data=data.drop(columns=['Date', 'Daily Confirmed'])\n",
    "print(data.head())"
   ]
  },
  {
   "cell_type": "code",
   "execution_count": 241,
   "id": "03a3f6fa",
   "metadata": {
    "scrolled": true
   },
   "outputs": [
    {
     "data": {
      "text/plain": [
       "<AxesSubplot:xlabel='Date_YMD'>"
      ]
     },
     "execution_count": 241,
     "metadata": {},
     "output_type": "execute_result"
    },
    {
     "data": {
      "image/png": "[encoded data removed]",
      "text/plain": [
       "<Figure size 432x288 with 1 Axes>"
      ]
     },
     "metadata": {
      "needs_background": "light"
     },
     "output_type": "display_data"
    }
   ],
   "source": [
    "data['Daily Deceased'].plot()"
   ]
  },
  {
   "cell_type": "code",
   "execution_count": 331,
   "id": "9f5df0ad",
   "metadata": {},
   "outputs": [
    {
     "name": "stdout",
     "output_type": "stream",
     "text": [
      "            Daily Deceased\n",
      "Date_YMD                  \n",
      "2022-01-09             146\n",
      "2022-01-10             277\n",
      "2022-01-11             411\n",
      "2022-01-12             411\n",
      "2022-01-13              96\n",
      "2022-01-14             621\n",
      "2022-01-15             314\n",
      "2022-01-16             385\n",
      "2022-01-17             310\n",
      "2022-01-18             441\n"
     ]
    }
   ],
   "source": [
    "data_train = data.iloc[:-10, :]\n",
    "data_test = data.iloc[-10:, :]\n",
    "print(data_test)\n"
   ]
  },
  {
   "cell_type": "markdown",
   "id": "8fec567d",
   "metadata": {},
   "source": [
    "### Hyperparameter Tuning for ARIMA Model"
   ]
  },
  {
   "cell_type": "code",
   "execution_count": 345,
   "id": "a9709e3f",
   "metadata": {
    "scrolled": false
   },
   "outputs": [
    {
     "name": "stdout",
     "output_type": "stream",
     "text": [
      "Best Root Mean Squared error is: 90.381617\n",
      "Best Parameters were: (4, 1, 0)\n"
     ]
    }
   ],
   "source": [
    "from sklearn.model_selection import TimeSeriesSplit\n",
    "p_values = [0, 1, 2, 3, 4]\n",
    "d_values = [0, 1, 2]\n",
    "q_values = [0, 1, 2]\n",
    "\n",
    "def model_evaluation(p, d, q):\n",
    "    tcsv = TimeSeriesSplit(test_size=1, n_splits=8)\n",
    "    array = np.array([])\n",
    "    for train_index, test_index in tcsv.split(data_train):\n",
    "        train_ds, test_ds = data.iloc[train_index, :], data.iloc[test_index, :]\n",
    "        order = (p, d, q)\n",
    "        model = smapi.tsa.arima.ARIMA(train_ds.values, order=order).fit()\n",
    "        predictions = model.predict(start=len(train_ds), end=len(train_ds)+len(test_ds)-1)\n",
    "        error = mean_squared_error(test_ds, predictions, squared=False)\n",
    "        array = np.append(array, error)\n",
    "    return np.mean(array)\n",
    "best_score = model_evaluation(0, 0, 0)\n",
    "for p in p_values:\n",
    "    for d in d_values:\n",
    "        for q in q_values:\n",
    "            error = model_evaluation(p, d, q)\n",
    "            order = (p, d, q)\n",
    "            if error<best_score:\n",
    "                best_score=error\n",
    "                best_params = order\n",
    "print('Best Root Mean Squared error is: %f' % best_score)\n",
    "print('Best Parameters were: %s' % (best_params, ))\n",
    "           "
   ]
  },
  {
   "cell_type": "markdown",
   "id": "aa26feba",
   "metadata": {},
   "source": [
    "#### Forecasting 10 Dates in one go "
   ]
  },
  {
   "cell_type": "code",
   "execution_count": 346,
   "id": "478121cd",
   "metadata": {},
   "outputs": [
    {
     "name": "stdout",
     "output_type": "stream",
     "text": [
      "145.872082901815\n"
     ]
    }
   ],
   "source": [
    "model = smapi.tsa.arima.ARIMA(data_train, order=best_params).fit()\n",
    "preds = model.predict(start=len(data_train), end=len(data)-1)\n",
    "error = mean_squared_error(data_test, preds, squared=False)\n",
    "print(error)"
   ]
  },
  {
   "cell_type": "code",
   "execution_count": 347,
   "id": "05d548b3",
   "metadata": {},
   "outputs": [
    {
     "data": {
      "text/plain": [
       "[<matplotlib.lines.Line2D at 0x20a565277f0>]"
      ]
     },
     "execution_count": 347,
     "metadata": {},
     "output_type": "execute_result"
    },
    {
     "data": {
      "image/png": "[encoded data removed]",
      "text/plain": [
       "<Figure size 432x288 with 1 Axes>"
      ]
     },
     "metadata": {
      "needs_background": "light"
     },
     "output_type": "display_data"
    }
   ],
   "source": [
    "plt.plot(data_test)\n",
    "plt.plot(preds)"
   ]
  },
  {
   "cell_type": "markdown",
   "id": "85263ecf",
   "metadata": {},
   "source": [
    "#### Forecasting 1 Date at a time "
   ]
  },
  {
   "cell_type": "code",
   "execution_count": 349,
   "id": "d290cf38",
   "metadata": {},
   "outputs": [
    {
     "data": {
      "text/plain": [
       "[<matplotlib.lines.Line2D at 0x20a565f64f0>]"
      ]
     },
     "execution_count": 349,
     "metadata": {},
     "output_type": "execute_result"
    },
    {
     "data": {
      "image/png": "[encoded data removed]",
      "text/plain": [
       "<Figure size 432x288 with 1 Axes>"
      ]
     },
     "metadata": {
      "needs_background": "light"
     },
     "output_type": "display_data"
    }
   ],
   "source": [
    "order = (4, 1, 0) \n",
    "tcsv = TimeSeriesSplit(test_size=1, n_splits=10)\n",
    "predictions = []\n",
    "for train_index, test_index in tcsv.split(data):\n",
    "    train_ds, test_ds = data.iloc[train_index, :], data.iloc[test_index, :]\n",
    "    model = smapi.tsa.arima.ARIMA(train_ds.values, order=order).fit()\n",
    "    prediction = model.predict(start=len(train_ds), end=len(train_ds)+len(test_ds)-1)\n",
    "    predictions.append(prediction)\n",
    "plt.plot(data_test.values)\n",
    "plt.plot(predictions)"
   ]
  },
  {
   "cell_type": "code",
   "execution_count": 350,
   "id": "d4b26390",
   "metadata": {},
   "outputs": [
    {
     "name": "stdout",
     "output_type": "stream",
     "text": [
      "168.75285403256302\n"
     ]
    }
   ],
   "source": [
    "print(mean_squared_error(predictions, data_test, squared=False))"
   ]
  },
  {
   "cell_type": "code",
   "execution_count": null,
   "id": "a83269f9",
   "metadata": {},
   "outputs": [],
   "source": []
  },
  {
   "cell_type": "code",
   "execution_count": null,
   "id": "62fd6c02",
   "metadata": {},
   "outputs": [],
   "source": []
  }
 ],
 "metadata": {
  "kernelspec": {
   "display_name": "TurinEnv",
   "language": "python",
   "name": "turinenv"
  },
  "language_info": {
   "codemirror_mode": {
    "name": "ipython",
    "version": 3
   },
   "file_extension": ".py",
   "mimetype": "text/x-python",
   "name": "python",
   "nbconvert_exporter": "python",
   "pygments_lexer": "ipython3",
   "version": "3.9.12"
  }
 },
 "nbformat": 4,
 "nbformat_minor": 5
}
