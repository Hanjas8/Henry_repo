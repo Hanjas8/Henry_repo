{
 "cells": [
  {
   "cell_type": "code",
   "execution_count": 33,
   "id": "1b830b28",
   "metadata": {},
   "outputs": [],
   "source": [
    "import pandas as pd\n",
    "import matplotlib.pyplot as plt\n",
    "import seaborn as sns\n",
    "import numpy as np\n"
   ]
  },
  {
   "cell_type": "code",
   "execution_count": 5,
   "id": "acda15f1",
   "metadata": {},
   "outputs": [
    {
     "data": {
      "text/html": [
       "<div>\n",
       "<style scoped>\n",
       "    .dataframe tbody tr th:only-of-type {\n",
       "        vertical-align: middle;\n",
       "    }\n",
       "\n",
       "    .dataframe tbody tr th {\n",
       "        vertical-align: top;\n",
       "    }\n",
       "\n",
       "    .dataframe thead th {\n",
       "        text-align: right;\n",
       "    }\n",
       "</style>\n",
       "<table border=\"1\" class=\"dataframe\">\n",
       "  <thead>\n",
       "    <tr style=\"text-align: right;\">\n",
       "      <th></th>\n",
       "      <th>period_start</th>\n",
       "      <th>period_end</th>\n",
       "      <th>followers_gained</th>\n",
       "      <th>followers_lost</th>\n",
       "      <th>followers_net</th>\n",
       "      <th>followers_total</th>\n",
       "      <th>subscribers_gained</th>\n",
       "      <th>subscribers_lost</th>\n",
       "      <th>subscribers_net</th>\n",
       "      <th>subscribers_total</th>\n",
       "      <th>views</th>\n",
       "    </tr>\n",
       "  </thead>\n",
       "  <tbody>\n",
       "    <tr>\n",
       "      <th>0</th>\n",
       "      <td>5/1/2020</td>\n",
       "      <td>5/31/2020</td>\n",
       "      <td>1</td>\n",
       "      <td>0</td>\n",
       "      <td>1</td>\n",
       "      <td>1</td>\n",
       "      <td>0</td>\n",
       "      <td>0</td>\n",
       "      <td>0</td>\n",
       "      <td>0</td>\n",
       "      <td>128.0</td>\n",
       "    </tr>\n",
       "    <tr>\n",
       "      <th>1</th>\n",
       "      <td>6/1/2020</td>\n",
       "      <td>6/30/2020</td>\n",
       "      <td>8</td>\n",
       "      <td>0</td>\n",
       "      <td>8</td>\n",
       "      <td>9</td>\n",
       "      <td>0</td>\n",
       "      <td>0</td>\n",
       "      <td>0</td>\n",
       "      <td>0</td>\n",
       "      <td>16130.0</td>\n",
       "    </tr>\n",
       "    <tr>\n",
       "      <th>2</th>\n",
       "      <td>7/1/2020</td>\n",
       "      <td>7/31/2020</td>\n",
       "      <td>103</td>\n",
       "      <td>0</td>\n",
       "      <td>103</td>\n",
       "      <td>112</td>\n",
       "      <td>0</td>\n",
       "      <td>0</td>\n",
       "      <td>0</td>\n",
       "      <td>0</td>\n",
       "      <td>14616.0</td>\n",
       "    </tr>\n",
       "    <tr>\n",
       "      <th>3</th>\n",
       "      <td>8/1/2020</td>\n",
       "      <td>8/31/2020</td>\n",
       "      <td>46</td>\n",
       "      <td>0</td>\n",
       "      <td>46</td>\n",
       "      <td>158</td>\n",
       "      <td>0</td>\n",
       "      <td>0</td>\n",
       "      <td>0</td>\n",
       "      <td>0</td>\n",
       "      <td>4053.0</td>\n",
       "    </tr>\n",
       "    <tr>\n",
       "      <th>4</th>\n",
       "      <td>9/1/2020</td>\n",
       "      <td>9/30/2020</td>\n",
       "      <td>35</td>\n",
       "      <td>1</td>\n",
       "      <td>34</td>\n",
       "      <td>192</td>\n",
       "      <td>0</td>\n",
       "      <td>0</td>\n",
       "      <td>0</td>\n",
       "      <td>0</td>\n",
       "      <td>5153.0</td>\n",
       "    </tr>\n",
       "  </tbody>\n",
       "</table>\n",
       "</div>"
      ],
      "text/plain": [
       "  period_start period_end  followers_gained  followers_lost  followers_net  \\\n",
       "0     5/1/2020  5/31/2020                 1               0              1   \n",
       "1     6/1/2020  6/30/2020                 8               0              8   \n",
       "2     7/1/2020  7/31/2020               103               0            103   \n",
       "3     8/1/2020  8/31/2020                46               0             46   \n",
       "4     9/1/2020  9/30/2020                35               1             34   \n",
       "\n",
       "   followers_total  subscribers_gained  subscribers_lost  subscribers_net  \\\n",
       "0                1                   0                 0                0   \n",
       "1                9                   0                 0                0   \n",
       "2              112                   0                 0                0   \n",
       "3              158                   0                 0                0   \n",
       "4              192                   0                 0                0   \n",
       "\n",
       "   subscribers_total    views  \n",
       "0                  0    128.0  \n",
       "1                  0  16130.0  \n",
       "2                  0  14616.0  \n",
       "3                  0   4053.0  \n",
       "4                  0   5153.0  "
      ]
     },
     "execution_count": 5,
     "metadata": {},
     "output_type": "execute_result"
    }
   ],
   "source": [
    "data = pd.read_csv('https://raw.githubusercontent.com/amankharwal/Website-data/master/stats.csv')\n",
    "data.drop(data.index[-1], inplace=True)\n",
    "data.head()"
   ]
  },
  {
   "cell_type": "code",
   "execution_count": 30,
   "id": "4141fc78",
   "metadata": {},
   "outputs": [
    {
     "data": {
      "image/png": "[encoded data removed]",
      "text/plain": [
       "<Figure size 1080x720 with 1 Axes>"
      ]
     },
     "metadata": {},
     "output_type": "display_data"
    }
   ],
   "source": [
    "plt.figure(figsize=(15, 10))\n",
    "plt.title('Total followers at the end of every month')\n",
    "sns.set_theme(style='dark')\n",
    "sns.barplot(x='followers_total', y='period_end', data=data)\n",
    "plt.show()"
   ]
  },
  {
   "cell_type": "code",
   "execution_count": 28,
   "id": "24337412",
   "metadata": {},
   "outputs": [
    {
     "data": {
      "image/png": "[encoded data removed]",
      "text/plain": [
       "<Figure size 864x720 with 1 Axes>"
      ]
     },
     "metadata": {},
     "output_type": "display_data"
    }
   ],
   "source": [
    "plt.figure(figsize=(12, 10))\n",
    "plt.title('Total views per month')\n",
    "sns.set_theme(style='dark')\n",
    "sns.barplot(x='views', y='period_end', data=data)\n",
    "plt.show()"
   ]
  },
  {
   "cell_type": "code",
   "execution_count": 37,
   "id": "92274aa9",
   "metadata": {},
   "outputs": [
    {
     "name": "stdout",
     "output_type": "stream",
     "text": [
      "Inferred frequency is: M\n",
      "Model Number: 1 with model AverageValueNaive in generation 0 of 10\n",
      "Model Number: 2 with model AverageValueNaive in generation 0 of 10\n",
      "Model Number: 3 with model AverageValueNaive in generation 0 of 10\n",
      "Model Number: 4 with model DatepartRegression in generation 0 of 10\n",
      "Model Number: 5 with model DatepartRegression in generation 0 of 10\n",
      "Model Number: 6 with model DatepartRegression in generation 0 of 10\n"
     ]
    },
    {
     "name": "stderr",
     "output_type": "stream",
     "text": [
      "C:\\Users\\henry\\miniconda3\\envs\\jupyter_env\\lib\\site-packages\\sklearn\\svm\\_base.py:1206: ConvergenceWarning: Liblinear failed to converge, increase the number of iterations.\n",
      "  warnings.warn(\n"
     ]
    },
    {
     "name": "stdout",
     "output_type": "stream",
     "text": [
      "Model Number: 7 with model DatepartRegression in generation 0 of 10\n",
      "Template Eval Error: ImportError('Tensorflow not available, install with pip install tensorflow.') in model 7: DatepartRegression\n",
      "Model Number: 8 with model ETS in generation 0 of 10\n",
      "Model Number: 9 with model ETS in generation 0 of 10\n",
      "ETS error ValueError('Cannot compute initial seasonals using heuristic method with less than two full seasonal cycles in the data.')\n",
      "ETS failed on followers_gained with ValueError('Cannot compute initial seasonals using heuristic method with less than two full seasonal cycles in the data.')\n",
      "Model Number: 10 with model GLM in generation 0 of 10\n",
      "Template Eval Error: TypeError(\"ufunc 'isfinite' not supported for the input types, and the inputs could not be safely coerced to any supported types according to the casting rule ''safe''\") in model 10: GLM\n",
      "Model Number: 11 with model GLM in generation 0 of 10\n",
      "Model Number: 12 with model GLS in generation 0 of 10\n",
      "Model Number: 13 with model GLS in generation 0 of 10\n",
      "Model Number: 14 with model GluonTS in generation 0 of 10\n",
      "Template Eval Error: ImportError('GluonTS installation not found or installed version is incompatible with AutoTS.') in model 14: GluonTS\n",
      "Model Number: 15 with model GluonTS in generation 0 of 10\n",
      "Template Eval Error: ImportError('GluonTS installation not found or installed version is incompatible with AutoTS.') in model 15: GluonTS\n",
      "Model Number: 16 with model GluonTS in generation 0 of 10\n",
      "Template Eval Error: ImportError('GluonTS installation not found or installed version is incompatible with AutoTS.') in model 16: GluonTS\n",
      "Model Number: 17 with model GluonTS in generation 0 of 10\n",
      "Template Eval Error: ImportError('GluonTS installation not found or installed version is incompatible with AutoTS.') in model 17: GluonTS\n",
      "Model Number: 18 with model GluonTS in generation 0 of 10\n",
      "Template Eval Error: ImportError('GluonTS installation not found or installed version is incompatible with AutoTS.') in model 18: GluonTS\n",
      "Model Number: 19 with model LastValueNaive in generation 0 of 10\n",
      "Model Number: 20 with model LastValueNaive in generation 0 of 10\n",
      "Model Number: 21 with model LastValueNaive in generation 0 of 10\n",
      "Model Number: 22 with model LastValueNaive in generation 0 of 10\n",
      "Model Number: 23 with model SeasonalNaive in generation 0 of 10\n",
      "Model Number: 24 with model SeasonalNaive in generation 0 of 10\n",
      "Model Number: 25 with model SeasonalNaive in generation 0 of 10\n",
      "Model Number: 26 with model UnobservedComponents in generation 0 of 10\n"
     ]
    },
    {
     "name": "stderr",
     "output_type": "stream",
     "text": [
      "C:\\Users\\henry\\miniconda3\\envs\\jupyter_env\\lib\\site-packages\\autots\\tools\\probabilistic.py:67: RuntimeWarning: invalid value encountered in true_divide\n",
      "  (prior_mu / prior_sigma**2) + ((n * data_mu) / prior_sigma**2)\n",
      "C:\\Users\\henry\\miniconda3\\envs\\jupyter_env\\lib\\site-packages\\autots\\tools\\probabilistic.py:68: RuntimeWarning: divide by zero encountered in true_divide\n",
      "  ) / ((1 / prior_sigma**2) + (n / prior_sigma**2))\n"
     ]
    },
    {
     "name": "stdout",
     "output_type": "stream",
     "text": [
      "Model Number: 27 with model UnobservedComponents in generation 0 of 10\n",
      "Model Number: 28 with model UnobservedComponents in generation 0 of 10\n",
      "Model Number: 29 with model VAR in generation 0 of 10\n",
      "Template Eval Error: ValueError('Only gave one variable to VAR') in model 29: VAR\n",
      "Model Number: 30 with model VAR in generation 0 of 10\n",
      "Template Eval Error: ValueError('Only gave one variable to VAR') in model 30: VAR\n",
      "Model Number: 31 with model VECM in generation 0 of 10\n",
      "Template Eval Error: ValueError('Only gave one variable to VECM') in model 31: VECM\n",
      "Model Number: 32 with model VECM in generation 0 of 10\n",
      "Template Eval Error: ValueError('Only gave one variable to VECM') in model 32: VECM\n",
      "Model Number: 33 with model WindowRegression in generation 0 of 10\n",
      "Template Eval Error: ValueError('Found array with 0 sample(s) (shape=(0, 0)) while a minimum of 1 is required.') in model 33: WindowRegression\n",
      "Model Number: 34 with model ConstantNaive in generation 0 of 10\n",
      "Model Number: 35 with model FBProphet in generation 0 of 10\n",
      "Template Eval Error: ModuleNotFoundError(\"No module named 'fbprophet'\") in model 35: FBProphet\n",
      "Model Number: 36 with model GluonTS in generation 0 of 10\n",
      "Template Eval Error: ImportError('GluonTS installation not found or installed version is incompatible with AutoTS.') in model 36: GluonTS\n",
      "Model Number: 37 with model MultivariateRegression in generation 0 of 10\n"
     ]
    },
    {
     "name": "stderr",
     "output_type": "stream",
     "text": [
      "[Parallel(n_jobs=-2)]: Using backend ThreadingBackend with 15 concurrent workers.\n",
      "[Parallel(n_jobs=-2)]: Done  20 tasks      | elapsed:    0.0s\n",
      "[Parallel(n_jobs=-2)]: Done 170 tasks      | elapsed:    0.2s\n",
      "[Parallel(n_jobs=-2)]: Done 200 out of 200 | elapsed:    0.2s finished\n",
      "[Parallel(n_jobs=15)]: Using backend ThreadingBackend with 15 concurrent workers.\n",
      "[Parallel(n_jobs=15)]: Done  20 tasks      | elapsed:    0.0s\n",
      "[Parallel(n_jobs=15)]: Done 170 tasks      | elapsed:    0.0s\n",
      "[Parallel(n_jobs=15)]: Done 200 out of 200 | elapsed:    0.0s finished\n",
      "[Parallel(n_jobs=15)]: Using backend ThreadingBackend with 15 concurrent workers.\n",
      "[Parallel(n_jobs=15)]: Done  20 tasks      | elapsed:    0.0s\n",
      "[Parallel(n_jobs=15)]: Done 170 tasks      | elapsed:    0.0s\n",
      "[Parallel(n_jobs=15)]: Done 200 out of 200 | elapsed:    0.0s finished\n",
      "[Parallel(n_jobs=15)]: Using backend ThreadingBackend with 15 concurrent workers.\n",
      "[Parallel(n_jobs=15)]: Done  20 tasks      | elapsed:    0.0s\n",
      "[Parallel(n_jobs=15)]: Done 170 tasks      | elapsed:    0.0s\n",
      "[Parallel(n_jobs=15)]: Done 200 out of 200 | elapsed:    0.0s finished\n"
     ]
    },
    {
     "name": "stdout",
     "output_type": "stream",
     "text": [
      "Model Number: 38 with model MultivariateRegression in generation 0 of 10\n",
      "Template Eval Error: ValueError(\"regression_type='User' but not future_regressor supplied.\") in model 38: MultivariateRegression\n",
      "Model Number: 39 with model DatepartRegression in generation 0 of 10\n",
      "Template Eval Error: ValueError(\"regression_type='User' but no future_regressor passed\") in model 39: DatepartRegression\n",
      "Model Number: 40 with model SeasonalNaive in generation 0 of 10\n"
     ]
    },
    {
     "name": "stderr",
     "output_type": "stream",
     "text": [
      "[Parallel(n_jobs=15)]: Using backend ThreadingBackend with 15 concurrent workers.\n",
      "[Parallel(n_jobs=15)]: Done  20 tasks      | elapsed:    0.0s\n",
      "[Parallel(n_jobs=15)]: Done 170 tasks      | elapsed:    0.0s\n",
      "[Parallel(n_jobs=15)]: Done 200 out of 200 | elapsed:    0.0s finished\n"
     ]
    },
    {
     "name": "stdout",
     "output_type": "stream",
     "text": [
      "Model Number: 41 with model DatepartRegression in generation 0 of 10\n",
      "Model Number: 42 with model UnobservedComponents in generation 0 of 10\n",
      "Model Number: 43 with model UnobservedComponents in generation 0 of 10\n",
      "Model Number: 44 with model ETS in generation 0 of 10\n",
      "ETS error ValueError('Cannot compute initial seasonals using heuristic method with less than two full seasonal cycles in the data.')\n",
      "ETS failed on followers_gained with ValueError('Cannot compute initial seasonals using heuristic method with less than two full seasonal cycles in the data.')\n",
      "Model Number: 45 with model VECM in generation 0 of 10\n",
      "Template Eval Error: ValueError('Only gave one variable to VECM') in model 45: VECM\n",
      "Model Number: 46 with model ARDL in generation 0 of 10\n",
      "Model Number: 47 with model MultivariateMotif in generation 0 of 10\n",
      "Template Eval Error: ValueError('window shape cannot be larger than input array shape') in model 47: MultivariateMotif\n",
      "Model Number: 48 with model MultivariateMotif in generation 0 of 10\n",
      "Template Eval Error: ValueError('window shape cannot be larger than input array shape') in model 48: MultivariateMotif\n",
      "Model Number: 49 with model UnivariateMotif in generation 0 of 10\n",
      "Template Eval Error: ValueError('window shape cannot be larger than input array shape') in model 49: UnivariateMotif\n",
      "Model Number: 50 with model UnivariateMotif in generation 0 of 10\n",
      "Template Eval Error: ValueError('window shape cannot be larger than input array shape') in model 50: UnivariateMotif\n",
      "Model Number: 51 with model SectionalMotif in generation 0 of 10\n",
      "Template Eval Error: ValueError('zero-size array to reduction operation fmax which has no identity') in model 51: SectionalMotif\n",
      "Model Number: 52 with model SectionalMotif in generation 0 of 10\n",
      "Template Eval Error: ValueError('kth(=10) out of bounds (3)') in model 52: SectionalMotif\n",
      "Model Number: 53 with model MultivariateRegression in generation 0 of 10\n"
     ]
    },
    {
     "name": "stderr",
     "output_type": "stream",
     "text": [
      "C:\\Users\\henry\\miniconda3\\envs\\jupyter_env\\lib\\site-packages\\numpy\\lib\\function_base.py:495: RuntimeWarning: Mean of empty slice.\n",
      "  avg = a.mean(axis)\n",
      "C:\\Users\\henry\\miniconda3\\envs\\jupyter_env\\lib\\site-packages\\numpy\\core\\_methods.py:181: RuntimeWarning: invalid value encountered in true_divide\n",
      "  ret = um.true_divide(\n"
     ]
    },
    {
     "name": "stdout",
     "output_type": "stream",
     "text": [
      "Model Number: 54 with model FBProphet in generation 0 of 10\n",
      "Template Eval Error: ModuleNotFoundError(\"No module named 'fbprophet'\") in model 54: FBProphet\n",
      "Model Number: 55 with model SeasonalNaive in generation 0 of 10\n",
      "Model Number: 56 with model DatepartRegression in generation 0 of 10\n"
     ]
    },
    {
     "name": "stderr",
     "output_type": "stream",
     "text": [
      "[Parallel(n_jobs=-2)]: Using backend ThreadingBackend with 15 concurrent workers.\n",
      "[Parallel(n_jobs=-2)]: Done  20 tasks      | elapsed:    0.0s\n",
      "[Parallel(n_jobs=-2)]: Done 100 out of 100 | elapsed:    0.0s finished\n",
      "[Parallel(n_jobs=15)]: Using backend ThreadingBackend with 15 concurrent workers.\n",
      "[Parallel(n_jobs=15)]: Done  20 tasks      | elapsed:    0.0s\n",
      "[Parallel(n_jobs=15)]: Done 100 out of 100 | elapsed:    0.0s finished\n"
     ]
    },
    {
     "name": "stdout",
     "output_type": "stream",
     "text": [
      "Model Number: 57 with model NVAR in generation 0 of 10\n",
      "Model Number: 58 with model Theta in generation 0 of 10\n",
      "Template Eval Error: ValueError('x must have 2 complete cycles requires 24 observations. x only has 11 observation(s)') in model 58: Theta\n",
      "Model Number: 59 with model UnivariateRegression in generation 0 of 10\n",
      "Template Eval Error: ValueError(\"Input contains NaN, infinity or a value too large for dtype('float32').\") in model 59: UnivariateRegression\n",
      "Model Number: 60 with model ConstantNaive in generation 0 of 10\n",
      "Model Number: 61 with model LastValueNaive in generation 0 of 10\n",
      "Model Number: 62 with model AverageValueNaive in generation 0 of 10\n",
      "Model Number: 63 with model GLS in generation 0 of 10\n",
      "Model Number: 64 with model SeasonalNaive in generation 0 of 10\n",
      "Model Number: 65 with model GLM in generation 0 of 10\n",
      "Template Eval Error: ValueError('regression_type=user and no future_regressor passed') in model 65: GLM\n",
      "Model Number: 66 with model ETS in generation 0 of 10\n"
     ]
    },
    {
     "name": "stderr",
     "output_type": "stream",
     "text": [
      "C:\\Users\\henry\\miniconda3\\envs\\jupyter_env\\lib\\site-packages\\autots\\tools\\probabilistic.py:67: RuntimeWarning: invalid value encountered in true_divide\n",
      "  (prior_mu / prior_sigma**2) + ((n * data_mu) / prior_sigma**2)\n",
      "C:\\Users\\henry\\miniconda3\\envs\\jupyter_env\\lib\\site-packages\\autots\\tools\\probabilistic.py:68: RuntimeWarning: divide by zero encountered in true_divide\n",
      "  ) / ((1 / prior_sigma**2) + (n / prior_sigma**2))\n",
      "C:\\Users\\henry\\miniconda3\\envs\\jupyter_env\\lib\\site-packages\\autots\\tools\\probabilistic.py:67: RuntimeWarning: invalid value encountered in true_divide\n",
      "  (prior_mu / prior_sigma**2) + ((n * data_mu) / prior_sigma**2)\n",
      "C:\\Users\\henry\\miniconda3\\envs\\jupyter_env\\lib\\site-packages\\autots\\tools\\probabilistic.py:68: RuntimeWarning: divide by zero encountered in true_divide\n",
      "  ) / ((1 / prior_sigma**2) + (n / prior_sigma**2))\n"
     ]
    },
    {
     "name": "stdout",
     "output_type": "stream",
     "text": [
      "Model Number: 67 with model FBProphet in generation 0 of 10\n",
      "Template Eval Error: ModuleNotFoundError(\"No module named 'fbprophet'\") in model 67: FBProphet\n",
      "Model Number: 68 with model GluonTS in generation 0 of 10\n",
      "Template Eval Error: ImportError('GluonTS installation not found or installed version is incompatible with AutoTS.') in model 68: GluonTS\n",
      "Model Number: 69 with model UnobservedComponents in generation 0 of 10\n",
      "Model Number: 70 with model VAR in generation 0 of 10\n",
      "Template Eval Error: Exception('Transformer STLFilter failed on fit') in model 70: VAR\n",
      "Model Number: 71 with model VECM in generation 0 of 10\n",
      "Template Eval Error: ValueError('Only gave one variable to VECM') in model 71: VECM\n",
      "Model Number: 72 with model WindowRegression in generation 0 of 10\n",
      "Template Eval Error: ModuleNotFoundError(\"No module named 'lightgbm'\") in model 72: WindowRegression\n",
      "Model Number: 73 with model DatepartRegression in generation 0 of 10\n",
      "Template Eval Error: ValueError(\"regression_type='User' but no future_regressor passed\") in model 73: DatepartRegression\n",
      "Model Number: 74 with model UnivariateRegression in generation 0 of 10\n",
      "Template Eval Error: ValueError(\"Input contains NaN, infinity or a value too large for dtype('float32').\") in model 74: UnivariateRegression\n",
      "Model Number: 75 with model MultivariateRegression in generation 0 of 10\n",
      "Template Eval Error: ValueError(\"regression_type='User' but not future_regressor supplied.\") in model 75: MultivariateRegression\n",
      "Model Number: 76 with model UnivariateMotif in generation 0 of 10\n",
      "Template Eval Error: ValueError('window shape cannot be larger than input array shape') in model 76: UnivariateMotif\n",
      "Model Number: 77 with model MultivariateMotif in generation 0 of 10\n",
      "Template Eval Error: ValueError('window shape cannot be larger than input array shape') in model 77: MultivariateMotif\n",
      "Model Number: 78 with model SectionalMotif in generation 0 of 10\n",
      "Template Eval Error: ValueError('zero-size array to reduction operation fmax which has no identity') in model 78: SectionalMotif\n",
      "Model Number: 79 with model NVAR in generation 0 of 10\n",
      "Model Number: 80 with model Theta in generation 0 of 10\n",
      "Model Number: 81 with model ARDL in generation 0 of 10\n",
      "Model Number: 82 with model VAR in generation 0 of 10\n",
      "Template Eval Error: ValueError('Only gave one variable to VAR') in model 82: VAR\n",
      "Model Number: 83 with model WindowRegression in generation 0 of 10\n",
      "Template Eval Error: ValueError('Found array with 0 sample(s) (shape=(0, 0)) while a minimum of 1 is required.') in model 83: WindowRegression\n",
      "Model Number: 84 with model GLM in generation 0 of 10\n",
      "Template Eval Error: TypeError(\"ufunc 'isfinite' not supported for the input types, and the inputs could not be safely coerced to any supported types according to the casting rule ''safe''\") in model 84: GLM\n",
      "Model Number: 85 with model NVAR in generation 0 of 10\n",
      "Model Number: 86 with model LastValueNaive in generation 0 of 10\n",
      "Model Number: 87 with model LastValueNaive in generation 0 of 10\n",
      "Model Number: 88 with model LastValueNaive in generation 0 of 10\n",
      "Model Number: 89 with model LastValueNaive in generation 0 of 10\n"
     ]
    },
    {
     "name": "stderr",
     "output_type": "stream",
     "text": [
      "C:\\Users\\henry\\miniconda3\\envs\\jupyter_env\\lib\\site-packages\\sklearn\\preprocessing\\_data.py:3253: RuntimeWarning: divide by zero encountered in log\n",
      "  loglike = -n_samples / 2 * np.log(x_trans.var())\n"
     ]
    },
    {
     "name": "stdout",
     "output_type": "stream",
     "text": [
      "Model Number: 90 with model UnivariateMotif in generation 0 of 10\n",
      "Template Eval Error: ValueError('window shape cannot be larger than input array shape') in model 90: UnivariateMotif\n",
      "Model Number: 91 with model GLM in generation 0 of 10\n",
      "Template Eval Error: TypeError(\"ufunc 'isfinite' not supported for the input types, and the inputs could not be safely coerced to any supported types according to the casting rule ''safe''\") in model 91: GLM\n",
      "Model Number: 92 with model ConstantNaive in generation 0 of 10\n",
      "Template Eval Error: Exception('Transformer Detrend failed on inverse') in model 92: ConstantNaive\n",
      "Model Number: 93 with model GLM in generation 0 of 10\n",
      "Template Eval Error: TypeError(\"ufunc 'isfinite' not supported for the input types, and the inputs could not be safely coerced to any supported types according to the casting rule ''safe''\") in model 93: GLM\n",
      "Model Number: 94 with model MultivariateMotif in generation 0 of 10\n",
      "Template Eval Error: ValueError('window shape cannot be larger than input array shape') in model 94: MultivariateMotif\n",
      "Model Number: 95 with model LastValueNaive in generation 0 of 10\n",
      "Template Eval Error: Exception('Transformer STLFilter failed on fit') in model 95: LastValueNaive\n",
      "Model Number: 96 with model GLS in generation 0 of 10\n",
      "Model Number: 97 with model UnobservedComponents in generation 0 of 10\n",
      "Template Eval Error: ValueError(\"regression_type='User' but no future_regressor supplied\") in model 97: UnobservedComponents\n",
      "Model Number: 98 with model ETS in generation 0 of 10\n",
      "Model Number: 99 with model UnivariateMotif in generation 0 of 10\n",
      "Template Eval Error: ValueError('window shape cannot be larger than input array shape') in model 99: UnivariateMotif\n",
      "Model Number: 100 with model LastValueNaive in generation 0 of 10\n",
      "Model Number: 101 with model ConstantNaive in generation 0 of 10\n",
      "Model Number: 102 with model VAR in generation 0 of 10\n",
      "Template Eval Error: ValueError('Only gave one variable to VAR') in model 102: VAR\n",
      "Model Number: 103 with model LastValueNaive in generation 0 of 10\n",
      "Model Number: 104 with model AverageValueNaive in generation 0 of 10\n",
      "Model Number: 105 with model SectionalMotif in generation 0 of 10\n",
      "Template Eval Error: ValueError('XA and XB must have the same number of columns (i.e. feature dimension.)') in model 105: SectionalMotif\n",
      "Model Number: 106 with model MultivariateMotif in generation 0 of 10\n",
      "Template Eval Error: ValueError('window shape cannot be larger than input array shape') in model 106: MultivariateMotif\n",
      "Model Number: 107 with model UnobservedComponents in generation 0 of 10\n",
      "Model Number: 108 with model WindowRegression in generation 0 of 10\n",
      "Template Eval Error: ValueError('Found array with 0 sample(s) (shape=(0, 0)) while a minimum of 1 is required.') in model 108: WindowRegression\n",
      "Model Number: 109 with model Theta in generation 0 of 10\n"
     ]
    },
    {
     "name": "stderr",
     "output_type": "stream",
     "text": [
      "C:\\Users\\henry\\miniconda3\\envs\\jupyter_env\\lib\\site-packages\\sklearn\\linear_model\\_coordinate_descent.py:647: ConvergenceWarning: Objective did not converge. You might want to increase the number of iterations, check the scale of the features or consider increasing regularisation. Duality gap: 0.000e+00, tolerance: 0.000e+00\n",
      "  model = cd_fast.enet_coordinate_descent(\n"
     ]
    },
    {
     "name": "stdout",
     "output_type": "stream",
     "text": [
      "Model Number: 110 with model ConstantNaive in generation 0 of 10\n",
      "Model Number: 111 with model NVAR in generation 0 of 10\n",
      "Template Eval Error: Exception('Transformer StandardScaler failed on inverse') in model 111: NVAR\n",
      "Model Number: 112 with model ConstantNaive in generation 0 of 10\n",
      "Model Number: 113 with model FBProphet in generation 0 of 10\n",
      "Template Eval Error: ModuleNotFoundError(\"No module named 'fbprophet'\") in model 113: FBProphet\n",
      "Model Number: 114 with model ConstantNaive in generation 0 of 10\n",
      "Model Number: 115 with model DatepartRegression in generation 0 of 10\n",
      "Template Eval Error: ImportError('Tensorflow not available, install with pip install tensorflow.') in model 115: DatepartRegression\n",
      "Model Number: 116 with model FBProphet in generation 0 of 10\n",
      "Template Eval Error: ModuleNotFoundError(\"No module named 'fbprophet'\") in model 116: FBProphet\n",
      "Model Number: 117 with model ETS in generation 0 of 10\n"
     ]
    },
    {
     "name": "stderr",
     "output_type": "stream",
     "text": [
      "C:\\Users\\henry\\miniconda3\\envs\\jupyter_env\\lib\\site-packages\\numpy\\core\\fromnumeric.py:57: RuntimeWarning: overflow encountered in accumulate\n",
      "  return bound(*args, **kwds)\n"
     ]
    },
    {
     "name": "stdout",
     "output_type": "stream",
     "text": [
      "Model Number: 118 with model ConstantNaive in generation 0 of 10\n",
      "Model Number: 119 with model UnivariateMotif in generation 0 of 10\n",
      "Template Eval Error: ValueError('window shape cannot be larger than input array shape') in model 119: UnivariateMotif\n",
      "Model Number: 120 with model ConstantNaive in generation 0 of 10\n",
      "Model Number: 121 with model SeasonalNaive in generation 0 of 10\n",
      "Model Number: 122 with model SeasonalNaive in generation 0 of 10\n",
      "Model Number: 123 with model VAR in generation 0 of 10\n",
      "Template Eval Error: ValueError('Only gave one variable to VAR') in model 123: VAR\n",
      "Model Number: 124 with model GLS in generation 0 of 10\n",
      "Model Number: 125 with model WindowRegression in generation 0 of 10\n",
      "Template Eval Error: ImportError('Tensorflow not available, install with pip install tensorflow.') in model 125: WindowRegression\n",
      "Model Number: 126 with model UnivariateMotif in generation 0 of 10\n",
      "Template Eval Error: ValueError('window shape cannot be larger than input array shape') in model 126: UnivariateMotif\n",
      "Model Number: 127 with model WindowRegression in generation 0 of 10\n",
      "Template Eval Error: ValueError(\"regression_type='User' but no future_regressor passed\") in model 127: WindowRegression\n",
      "Model Number: 128 with model SeasonalNaive in generation 0 of 10\n",
      "Model Number: 129 with model MultivariateMotif in generation 0 of 10\n",
      "Template Eval Error: ValueError('window shape cannot be larger than input array shape') in model 129: MultivariateMotif\n",
      "Model Number: 130 with model ARDL in generation 0 of 10\n",
      "Template Eval Error: ValueError(\"regression_type='User' but future_regressor not supplied\") in model 130: ARDL\n",
      "Model Number: 131 with model ConstantNaive in generation 0 of 10\n"
     ]
    },
    {
     "name": "stderr",
     "output_type": "stream",
     "text": [
      "C:\\Users\\henry\\miniconda3\\envs\\jupyter_env\\lib\\site-packages\\autots\\tools\\probabilistic.py:67: RuntimeWarning: invalid value encountered in true_divide\n",
      "  (prior_mu / prior_sigma**2) + ((n * data_mu) / prior_sigma**2)\n",
      "C:\\Users\\henry\\miniconda3\\envs\\jupyter_env\\lib\\site-packages\\autots\\tools\\probabilistic.py:68: RuntimeWarning: divide by zero encountered in true_divide\n",
      "  ) / ((1 / prior_sigma**2) + (n / prior_sigma**2))\n"
     ]
    },
    {
     "name": "stdout",
     "output_type": "stream",
     "text": [
      "Model Number: 132 with model ETS in generation 0 of 10\n",
      "ETS error ValueError('Cannot compute initial seasonals using heuristic method with less than two full seasonal cycles in the data.')\n",
      "ETS failed on followers_gained with ValueError('Cannot compute initial seasonals using heuristic method with less than two full seasonal cycles in the data.')\n",
      "Model Number: 133 with model UnobservedComponents in generation 0 of 10\n",
      "Template Eval Error: ValueError(\"regression_type='User' but no future_regressor supplied\") in model 133: UnobservedComponents\n",
      "Model Number: 134 with model DatepartRegression in generation 0 of 10\n",
      "Template Eval Error: Exception('Transformer StandardScaler failed on fit') in model 134: DatepartRegression\n",
      "Model Number: 135 with model NVAR in generation 0 of 10\n",
      "Model Number: 136 with model SectionalMotif in generation 0 of 10\n",
      "Model Number: 137 with model NVAR in generation 0 of 10\n",
      "Model Number: 138 with model SeasonalNaive in generation 0 of 10\n",
      "Model Number: 139 with model LastValueNaive in generation 0 of 10\n",
      "Model Number: 140 with model MultivariateMotif in generation 0 of 10\n",
      "Template Eval Error: ValueError('window shape cannot be larger than input array shape') in model 140: MultivariateMotif\n",
      "Model Number: 141 with model ConstantNaive in generation 0 of 10\n",
      "Model Number: 142 with model ETS in generation 0 of 10\n"
     ]
    },
    {
     "name": "stderr",
     "output_type": "stream",
     "text": [
      "C:\\Users\\henry\\miniconda3\\envs\\jupyter_env\\lib\\site-packages\\sklearn\\utils\\validation.py:1688: FutureWarning: Feature names only support names that are all strings. Got feature names with dtypes: ['Timestamp', 'str']. An error will be raised in 1.2.\n",
      "  warnings.warn(\n",
      "C:\\Users\\henry\\miniconda3\\envs\\jupyter_env\\lib\\site-packages\\sklearn\\utils\\extmath.py:985: RuntimeWarning: invalid value encountered in true_divide\n",
      "  updated_mean = (last_sum + new_sum) / updated_sample_count\n",
      "C:\\Users\\henry\\miniconda3\\envs\\jupyter_env\\lib\\site-packages\\sklearn\\utils\\extmath.py:990: RuntimeWarning: invalid value encountered in true_divide\n",
      "  T = new_sum / new_sample_count\n",
      "C:\\Users\\henry\\miniconda3\\envs\\jupyter_env\\lib\\site-packages\\sklearn\\utils\\extmath.py:1020: RuntimeWarning: invalid value encountered in true_divide\n",
      "  new_unnormalized_variance -= correction ** 2 / new_sample_count\n",
      "C:\\Users\\henry\\miniconda3\\envs\\jupyter_env\\lib\\site-packages\\sklearn\\utils\\validation.py:1688: FutureWarning: Feature names only support names that are all strings. Got feature names with dtypes: ['Timestamp', 'str']. An error will be raised in 1.2.\n",
      "  warnings.warn(\n"
     ]
    },
    {
     "name": "stdout",
     "output_type": "stream",
     "text": [
      "ETS error ValueError('endog must be strictly positive when usingmultiplicative trend or seasonal components.')\n",
      "ETS failed on followers_gained with ValueError('endog must be strictly positive when usingmultiplicative trend or seasonal components.')\n",
      "Model Number: 143 with model ARDL in generation 0 of 10\n",
      "Template Eval Error: ValueError(\"regression_type='User' but future_regressor not supplied\") in model 143: ARDL\n",
      "Model Number: 144 with model DatepartRegression in generation 0 of 10\n",
      "Model Number: 145 with model NVAR in generation 0 of 10\n",
      "Model Number: 146 with model VAR in generation 0 of 10\n",
      "Template Eval Error: ValueError('Only gave one variable to VAR') in model 146: VAR\n",
      "Model Number: 147 with model SeasonalNaive in generation 0 of 10\n",
      "Model Number: 148 with model GLS in generation 0 of 10\n",
      "Model Number: 149 with model AverageValueNaive in generation 0 of 10\n",
      "Model Number: 150 with model ConstantNaive in generation 0 of 10\n",
      "Model Number: 151 with model SectionalMotif in generation 0 of 10\n",
      "Template Eval Error: ValueError('XA and XB must have the same number of columns (i.e. feature dimension.)') in model 151: SectionalMotif\n",
      "Model Number: 152 with model ConstantNaive in generation 0 of 10\n",
      "Model Number: 153 with model LastValueNaive in generation 0 of 10\n",
      "Model Number: 154 with model FBProphet in generation 0 of 10\n",
      "Template Eval Error: ModuleNotFoundError(\"No module named 'fbprophet'\") in model 154: FBProphet\n"
     ]
    },
    {
     "name": "stderr",
     "output_type": "stream",
     "text": [
      "C:\\Users\\henry\\miniconda3\\envs\\jupyter_env\\lib\\site-packages\\autots\\tools\\probabilistic.py:67: RuntimeWarning: invalid value encountered in true_divide\n",
      "  (prior_mu / prior_sigma**2) + ((n * data_mu) / prior_sigma**2)\n",
      "C:\\Users\\henry\\miniconda3\\envs\\jupyter_env\\lib\\site-packages\\autots\\tools\\probabilistic.py:68: RuntimeWarning: divide by zero encountered in true_divide\n",
      "  ) / ((1 / prior_sigma**2) + (n / prior_sigma**2))\n"
     ]
    },
    {
     "name": "stdout",
     "output_type": "stream",
     "text": [
      "Model Number: 155 with model GluonTS in generation 0 of 10\n",
      "Template Eval Error: Exception('Transformer STLFilter failed on fit') in model 155: GluonTS\n",
      "Model Number: 156 with model VAR in generation 0 of 10\n",
      "Template Eval Error: ValueError('Only gave one variable to VAR') in model 156: VAR\n",
      "Model Number: 157 with model MultivariateMotif in generation 0 of 10\n",
      "Template Eval Error: ValueError('window shape cannot be larger than input array shape') in model 157: MultivariateMotif\n",
      "Model Number: 158 with model GLS in generation 0 of 10\n",
      "Model Number: 159 with model GLM in generation 0 of 10\n",
      "Template Eval Error: ValueError('NaN, inf or invalid value detected in weights, estimation infeasible.') in model 159: GLM\n",
      "Model Number: 160 with model LastValueNaive in generation 0 of 10\n",
      "Model Number: 161 with model MultivariateMotif in generation 0 of 10\n",
      "Template Eval Error: ValueError('window shape cannot be larger than input array shape') in model 161: MultivariateMotif\n",
      "Model Number: 162 with model VAR in generation 0 of 10\n",
      "Template Eval Error: IndexError('tuple index out of range') in model 162: VAR\n",
      "Model Number: 163 with model LastValueNaive in generation 0 of 10\n",
      "Model Number: 164 with model NVAR in generation 0 of 10\n",
      "Model Number: 165 with model GluonTS in generation 0 of 10\n",
      "Template Eval Error: ImportError('GluonTS installation not found or installed version is incompatible with AutoTS.') in model 165: GluonTS\n",
      "Model Number: 166 with model MultivariateMotif in generation 0 of 10\n",
      "Template Eval Error: ValueError('kth(=15) out of bounds (1)') in model 166: MultivariateMotif\n",
      "Model Number: 167 with model ARDL in generation 0 of 10\n",
      "Template Eval Error: ValueError(\"regression_type='User' but future_regressor not supplied\") in model 167: ARDL\n",
      "Model Number: 168 with model SectionalMotif in generation 0 of 10\n",
      "Template Eval Error: ValueError(\"regression_type=='User' but no future_regressor supplied\") in model 168: SectionalMotif\n",
      "Model Number: 169 with model AverageValueNaive in generation 0 of 10\n"
     ]
    },
    {
     "name": "stderr",
     "output_type": "stream",
     "text": [
      "C:\\Users\\henry\\miniconda3\\envs\\jupyter_env\\lib\\site-packages\\statsmodels\\genmod\\families\\family.py:426: RuntimeWarning: divide by zero encountered in true_divide\n",
      "  endog_mu = self._clean(endog / mu)\n",
      "C:\\Users\\henry\\miniconda3\\envs\\jupyter_env\\lib\\site-packages\\statsmodels\\genmod\\families\\family.py:132: RuntimeWarning: divide by zero encountered in true_divide\n",
      "  return 1. / (self.link.deriv(mu)**2 * self.variance(mu))\n",
      "C:\\Users\\henry\\miniconda3\\envs\\jupyter_env\\lib\\site-packages\\sklearn\\decomposition\\_pca.py:501: RuntimeWarning: invalid value encountered in true_divide\n",
      "  explained_variance_ratio_ = explained_variance_ / total_var\n"
     ]
    },
    {
     "name": "stdout",
     "output_type": "stream",
     "text": [
      "New Generation: 1 of 10\n",
      "Model Number: 170 with model LastValueNaive in generation 1 of 10\n",
      "Model Number: 171 with model LastValueNaive in generation 1 of 10\n",
      "Template Eval Error: Exception('Transformer BTCD failed on fit') in model 171: LastValueNaive\n",
      "Model Number: 172 with model LastValueNaive in generation 1 of 10\n",
      "Template Eval Error: Exception('Transformer BTCD failed on fit') in model 172: LastValueNaive\n",
      "Model Number: 173 with model LastValueNaive in generation 1 of 10"
     ]
    },
    {
     "name": "stderr",
     "output_type": "stream",
     "text": [
      "C:\\Users\\henry\\miniconda3\\envs\\jupyter_env\\lib\\site-packages\\sklearn\\linear_model\\_glm\\link.py:90: RuntimeWarning: overflow encountered in exp\n",
      "  return np.exp(lin_pred)\n",
      "C:\\Users\\henry\\miniconda3\\envs\\jupyter_env\\lib\\site-packages\\sklearn\\linear_model\\_glm\\link.py:93: RuntimeWarning: overflow encountered in exp\n",
      "  return np.exp(lin_pred)\n",
      "C:\\Users\\henry\\miniconda3\\envs\\jupyter_env\\lib\\site-packages\\sklearn\\_loss\\glm_distribution.py:132: RuntimeWarning: invalid value encountered in true_divide\n",
      "  return -2 * (y - y_pred) / self.unit_variance(y_pred)\n"
     ]
    },
    {
     "name": "stdout",
     "output_type": "stream",
     "text": [
      "\n",
      "Model Number: 174 with model LastValueNaive in generation 1 of 10\n",
      "Model Number: 175 with model LastValueNaive in generation 1 of 10\n",
      "Model Number: 176 with model AverageValueNaive in generation 1 of 10\n",
      "Model Number: 177 with model AverageValueNaive in generation 1 of 10\n",
      "Model Number: 178 with model AverageValueNaive in generation 1 of 10\n",
      "Model Number: 179 with model UnobservedComponents in generation 1 of 10\n",
      "Model Number: 180 with model UnobservedComponents in generation 1 of 10\n",
      "Model Number: 181 with model UnobservedComponents in generation 1 of 10\n",
      "Model Number: 182 with model NVAR in generation 1 of 10\n",
      "Model Number: 183 with model NVAR in generation 1 of 10\n",
      "Model Number: 184 with model NVAR in generation 1 of 10\n",
      "Model Number: 185 with model NVAR in generation 1 of 10\n",
      "Model Number: 186 with model NVAR in generation 1 of 10\n",
      "Model Number: 187 with model NVAR in generation 1 of 10\n",
      "Model Number: 188 with model DatepartRegression in generation 1 of 10\n",
      "Template Eval Error: ValueError(\"regression_type='User' but no future_regressor passed\") in model 188: DatepartRegression\n",
      "Model Number: 189 with model DatepartRegression in generation 1 of 10\n",
      "Model Number: 190 with model DatepartRegression in generation 1 of 10\n",
      "Model Number: 191 with model AverageValueNaive in generation 1 of 10\n",
      "Model Number: 192 with model AverageValueNaive in generation 1 of 10\n",
      "Model Number: 193 with model AverageValueNaive in generation 1 of 10\n",
      "Model Number: 194 with model LastValueNaive in generation 1 of 10\n",
      "Model Number: 195 with model LastValueNaive in generation 1 of 10\n",
      "Model Number: 196 with model LastValueNaive in generation 1 of 10\n",
      "Model Number: 197 with model Theta in generation 1 of 10"
     ]
    },
    {
     "name": "stderr",
     "output_type": "stream",
     "text": [
      "C:\\Users\\henry\\miniconda3\\envs\\jupyter_env\\lib\\site-packages\\autots\\tools\\probabilistic.py:67: RuntimeWarning: invalid value encountered in true_divide\n",
      "  (prior_mu / prior_sigma**2) + ((n * data_mu) / prior_sigma**2)\n",
      "C:\\Users\\henry\\miniconda3\\envs\\jupyter_env\\lib\\site-packages\\autots\\tools\\probabilistic.py:68: RuntimeWarning: divide by zero encountered in true_divide\n",
      "  ) / ((1 / prior_sigma**2) + (n / prior_sigma**2))\n"
     ]
    },
    {
     "name": "stdout",
     "output_type": "stream",
     "text": [
      "\n",
      "Model Number: 198 with model Theta in generation 1 of 10\n",
      "Model Number: 199 with model Theta in generation 1 of 10\n",
      "Model Number: 200 with model UnobservedComponents in generation 1 of 10\n",
      "Model Number: 201 with model UnobservedComponents in generation 1 of 10\n",
      "Template Eval Error: ValueError(\"regression_type='User' but no future_regressor supplied\") in model 201: UnobservedComponents\n",
      "Model Number: 202 with model UnobservedComponents in generation 1 of 10\n",
      "Model Number: 203 with model UnobservedComponents in generation 1 of 10\n",
      "Model Number: 204 with model UnobservedComponents in generation 1 of 10\n",
      "Model Number: 205 with model UnobservedComponents in generation 1 of 10\n",
      "Model Number: 206 with model Theta in generation 1 of 10\n",
      "Model Number: 207 with model Theta in generation 1 of 10\n",
      "Model Number: 208 with model Theta in generation 1 of 10\n",
      "Model Number: 209 with model ETS in generation 1 of 10\n",
      "Model Number: 210 with model ETS in generation 1 of 10\n",
      "Model Number: 211 with model ETS in generation 1 of 10\n",
      "Model Number: 212 with model NVAR in generation 1 of 10\n",
      "Model Number: 213 with model NVAR in generation 1 of 10\n",
      "Model Number: 214 with model NVAR in generation 1 of 10\n",
      "Model Number: 215 with model ETS in generation 1 of 10\n",
      "Model Number: 216 with model ETS in generation 1 of 10\n",
      "Model Number: 217 with model ETS in generation 1 of 10\n",
      "Model Number: 218 with model ConstantNaive in generation 1 of 10\n",
      "Model Number: 219 with model ConstantNaive in generation 1 of 10\n",
      "Model Number: 220 with model LastValueNaive in generation 1 of 10\n",
      "Model Number: 221 with model LastValueNaive in generation 1 of 10\n",
      "Model Number: 222 with model LastValueNaive in generation 1 of 10\n",
      "Model Number: 223 with model AverageValueNaive in generation 1 of 10\n",
      "Model Number: 224 with model AverageValueNaive in generation 1 of 10\n",
      "Model Number: 225 with model ETS in generation 1 of 10\n",
      "Model Number: 226 with model ETS in generation 1 of 10\n",
      "Model Number: 227 with model SeasonalNaive in generation 1 of 10\n",
      "Model Number: 228 with model SeasonalNaive in generation 1 of 10\n",
      "Template Eval Error: Exception('Transformer BTCD failed on fit') in model 228: SeasonalNaive\n",
      "Model Number: 229 with model LastValueNaive in generation 1 of 10\n",
      "Model Number: 230 with model LastValueNaive in generation 1 of 10\n"
     ]
    },
    {
     "name": "stderr",
     "output_type": "stream",
     "text": [
      "C:\\Users\\henry\\miniconda3\\envs\\jupyter_env\\lib\\site-packages\\sklearn\\linear_model\\_glm\\link.py:90: RuntimeWarning: overflow encountered in exp\n",
      "  return np.exp(lin_pred)\n",
      "C:\\Users\\henry\\miniconda3\\envs\\jupyter_env\\lib\\site-packages\\sklearn\\linear_model\\_glm\\link.py:93: RuntimeWarning: overflow encountered in exp\n",
      "  return np.exp(lin_pred)\n",
      "C:\\Users\\henry\\miniconda3\\envs\\jupyter_env\\lib\\site-packages\\sklearn\\_loss\\glm_distribution.py:132: RuntimeWarning: invalid value encountered in true_divide\n",
      "  return -2 * (y - y_pred) / self.unit_variance(y_pred)\n",
      "C:\\Users\\henry\\miniconda3\\envs\\jupyter_env\\lib\\site-packages\\sklearn\\linear_model\\_glm\\link.py:90: RuntimeWarning: overflow encountered in exp\n",
      "  return np.exp(lin_pred)\n",
      "C:\\Users\\henry\\miniconda3\\envs\\jupyter_env\\lib\\site-packages\\sklearn\\linear_model\\_glm\\link.py:93: RuntimeWarning: overflow encountered in exp\n",
      "  return np.exp(lin_pred)\n",
      "C:\\Users\\henry\\miniconda3\\envs\\jupyter_env\\lib\\site-packages\\sklearn\\_loss\\glm_distribution.py:132: RuntimeWarning: invalid value encountered in true_divide\n",
      "  return -2 * (y - y_pred) / self.unit_variance(y_pred)\n"
     ]
    },
    {
     "name": "stdout",
     "output_type": "stream",
     "text": [
      "Model Number: 231 with model NVAR in generation 1 of 10\n",
      "Model Number: 232 with model NVAR in generation 1 of 10\n",
      "Model Number: 233 with model UnobservedComponents in generation 1 of 10\n",
      "Template Eval Error: ValueError('maxlag should be < nobs') in model 233: UnobservedComponents\n",
      "Model Number: 234 with model UnobservedComponents in generation 1 of 10\n",
      "Model Number: 235 with model SeasonalNaive in generation 1 of 10\n",
      "Model Number: 236 with model SeasonalNaive in generation 1 of 10\n",
      "Model Number: 237 with model ETS in generation 1 of 10\n",
      "Model Number: 238 with model ETS in generation 1 of 10\n",
      "Model Number: 239 with model ARDL in generation 1 of 10\n"
     ]
    },
    {
     "name": "stderr",
     "output_type": "stream",
     "text": [
      "C:\\Users\\henry\\miniconda3\\envs\\jupyter_env\\lib\\site-packages\\autots\\tools\\probabilistic.py:67: RuntimeWarning: invalid value encountered in true_divide\n",
      "  (prior_mu / prior_sigma**2) + ((n * data_mu) / prior_sigma**2)\n",
      "C:\\Users\\henry\\miniconda3\\envs\\jupyter_env\\lib\\site-packages\\autots\\tools\\probabilistic.py:68: RuntimeWarning: divide by zero encountered in true_divide\n",
      "  ) / ((1 / prior_sigma**2) + (n / prior_sigma**2))\n",
      "C:\\Users\\henry\\miniconda3\\envs\\jupyter_env\\lib\\site-packages\\autots\\tools\\probabilistic.py:67: RuntimeWarning: invalid value encountered in true_divide\n",
      "  (prior_mu / prior_sigma**2) + ((n * data_mu) / prior_sigma**2)\n",
      "C:\\Users\\henry\\miniconda3\\envs\\jupyter_env\\lib\\site-packages\\autots\\tools\\probabilistic.py:68: RuntimeWarning: divide by zero encountered in true_divide\n",
      "  ) / ((1 / prior_sigma**2) + (n / prior_sigma**2))\n",
      "C:\\Users\\henry\\miniconda3\\envs\\jupyter_env\\lib\\site-packages\\sklearn\\linear_model\\_glm\\link.py:90: RuntimeWarning: overflow encountered in exp\n",
      "  return np.exp(lin_pred)\n",
      "C:\\Users\\henry\\miniconda3\\envs\\jupyter_env\\lib\\site-packages\\sklearn\\linear_model\\_glm\\link.py:93: RuntimeWarning: overflow encountered in exp\n",
      "  return np.exp(lin_pred)\n",
      "C:\\Users\\henry\\miniconda3\\envs\\jupyter_env\\lib\\site-packages\\sklearn\\_loss\\glm_distribution.py:132: RuntimeWarning: invalid value encountered in true_divide\n",
      "  return -2 * (y - y_pred) / self.unit_variance(y_pred)\n"
     ]
    },
    {
     "name": "stdout",
     "output_type": "stream",
     "text": [
      "Model Number: 240 with model ARDL in generation 1 of 10\n",
      "Template Eval Error: Exception('Transformer ScipyFilter failed on fit') in model 240: ARDL\n",
      "Model Number: 241 with model ConstantNaive in generation 1 of 10\n",
      "Model Number: 242 with model DatepartRegression in generation 1 of 10\n",
      "Model Number: 243 with model DatepartRegression in generation 1 of 10\n",
      "Model Number: 244 with model MultivariateRegression in generation 1 of 10\n"
     ]
    },
    {
     "name": "stderr",
     "output_type": "stream",
     "text": [
      "[Parallel(n_jobs=-2)]: Using backend ThreadingBackend with 15 concurrent workers.\n",
      "[Parallel(n_jobs=-2)]: Done  20 tasks      | elapsed:    0.0s\n",
      "[Parallel(n_jobs=-2)]: Done 100 out of 100 | elapsed:    0.0s finished\n",
      "[Parallel(n_jobs=15)]: Using backend ThreadingBackend with 15 concurrent workers.\n",
      "[Parallel(n_jobs=15)]: Done  20 tasks      | elapsed:    0.0s\n",
      "[Parallel(n_jobs=15)]: Done 100 out of 100 | elapsed:    0.0s finished\n",
      "[Parallel(n_jobs=-2)]: Using backend ThreadingBackend with 15 concurrent workers.\n",
      "[Parallel(n_jobs=-2)]: Done  20 tasks      | elapsed:    0.0s\n",
      "[Parallel(n_jobs=-2)]: Done 170 tasks      | elapsed:    0.0s\n",
      "[Parallel(n_jobs=-2)]: Done 200 out of 200 | elapsed:    0.0s finished\n",
      "[Parallel(n_jobs=15)]: Using backend ThreadingBackend with 15 concurrent workers.\n",
      "[Parallel(n_jobs=15)]: Done  20 tasks      | elapsed:    0.0s\n",
      "[Parallel(n_jobs=15)]: Done 170 tasks      | elapsed:    0.0s\n",
      "[Parallel(n_jobs=15)]: Done 200 out of 200 | elapsed:    0.0s finished\n",
      "[Parallel(n_jobs=15)]: Using backend ThreadingBackend with 15 concurrent workers.\n",
      "[Parallel(n_jobs=15)]: Done  20 tasks      | elapsed:    0.0s\n",
      "[Parallel(n_jobs=15)]: Done 170 tasks      | elapsed:    0.0s\n",
      "[Parallel(n_jobs=15)]: Done 200 out of 200 | elapsed:    0.0s finished\n",
      "[Parallel(n_jobs=15)]: Using backend ThreadingBackend with 15 concurrent workers.\n",
      "[Parallel(n_jobs=15)]: Done  20 tasks      | elapsed:    0.0s\n",
      "[Parallel(n_jobs=15)]: Done 170 tasks      | elapsed:    0.0s\n",
      "[Parallel(n_jobs=15)]: Done 200 out of 200 | elapsed:    0.0s finished\n",
      "[Parallel(n_jobs=15)]: Using backend ThreadingBackend with 15 concurrent workers.\n",
      "[Parallel(n_jobs=15)]: Done  20 tasks      | elapsed:    0.0s\n",
      "[Parallel(n_jobs=15)]: Done 170 tasks      | elapsed:    0.0s\n",
      "[Parallel(n_jobs=15)]: Done 200 out of 200 | elapsed:    0.0s finished\n",
      "C:\\Users\\henry\\miniconda3\\envs\\jupyter_env\\lib\\site-packages\\sklearn\\linear_model\\_glm\\link.py:90: RuntimeWarning: overflow encountered in exp\n",
      "  return np.exp(lin_pred)\n",
      "C:\\Users\\henry\\miniconda3\\envs\\jupyter_env\\lib\\site-packages\\sklearn\\linear_model\\_glm\\link.py:93: RuntimeWarning: overflow encountered in exp\n",
      "  return np.exp(lin_pred)\n",
      "C:\\Users\\henry\\miniconda3\\envs\\jupyter_env\\lib\\site-packages\\sklearn\\_loss\\glm_distribution.py:132: RuntimeWarning: invalid value encountered in true_divide\n",
      "  return -2 * (y - y_pred) / self.unit_variance(y_pred)\n"
     ]
    },
    {
     "name": "stdout",
     "output_type": "stream",
     "text": [
      "Model Number: 245 with model MultivariateRegression in generation 1 of 10\n",
      "Model Number: 246 with model GLS in generation 1 of 10\n",
      "Model Number: 247 with model GLS in generation 1 of 10\n",
      "Model Number: 248 with model ETS in generation 1 of 10\n",
      "ETS error ValueError('endog must be strictly positive when usingmultiplicative trend or seasonal components.')\n",
      "ETS failed on followers_gained with ValueError('endog must be strictly positive when usingmultiplicative trend or seasonal components.')\n",
      "Model Number: 249 with model ETS in generation 1 of 10\n",
      "ETS error ValueError('endog must be strictly positive when usingmultiplicative trend or seasonal components.')\n",
      "ETS failed on followers_gained with ValueError('endog must be strictly positive when usingmultiplicative trend or seasonal components.')\n",
      "Model Number: 250 with model DatepartRegression in generation 1 of 10\n"
     ]
    },
    {
     "name": "stderr",
     "output_type": "stream",
     "text": [
      "C:\\Users\\henry\\miniconda3\\envs\\jupyter_env\\lib\\site-packages\\sklearn\\linear_model\\_glm\\link.py:90: RuntimeWarning: overflow encountered in exp\n",
      "  return np.exp(lin_pred)\n",
      "C:\\Users\\henry\\miniconda3\\envs\\jupyter_env\\lib\\site-packages\\sklearn\\linear_model\\_glm\\link.py:93: RuntimeWarning: overflow encountered in exp\n",
      "  return np.exp(lin_pred)\n",
      "C:\\Users\\henry\\miniconda3\\envs\\jupyter_env\\lib\\site-packages\\sklearn\\_loss\\glm_distribution.py:132: RuntimeWarning: invalid value encountered in true_divide\n",
      "  return -2 * (y - y_pred) / self.unit_variance(y_pred)\n",
      "C:\\Users\\henry\\miniconda3\\envs\\jupyter_env\\lib\\site-packages\\autots\\tools\\probabilistic.py:67: RuntimeWarning: invalid value encountered in true_divide\n",
      "  (prior_mu / prior_sigma**2) + ((n * data_mu) / prior_sigma**2)\n",
      "C:\\Users\\henry\\miniconda3\\envs\\jupyter_env\\lib\\site-packages\\autots\\tools\\probabilistic.py:68: RuntimeWarning: divide by zero encountered in true_divide\n",
      "  ) / ((1 / prior_sigma**2) + (n / prior_sigma**2))\n",
      "[Parallel(n_jobs=-2)]: Using backend ThreadingBackend with 15 concurrent workers.\n",
      "[Parallel(n_jobs=-2)]: Done  20 tasks      | elapsed:    0.0s\n"
     ]
    },
    {
     "name": "stdout",
     "output_type": "stream",
     "text": [
      "Model Number: 251 with model DatepartRegression in generation 1 of 10\n",
      "Template Eval Error: ImportError('Tensorflow not available, install with pip install tensorflow.') in model 251: DatepartRegression\n",
      "Model Number: 252 with model GLS in generation 1 of 10\n",
      "Model Number: 253 with model GLS in generation 1 of 10\n",
      "Model Number: 254 with model GLS in generation 1 of 10\n"
     ]
    },
    {
     "name": "stderr",
     "output_type": "stream",
     "text": [
      "[Parallel(n_jobs=-2)]: Done 100 out of 100 | elapsed:    0.0s finished\n",
      "[Parallel(n_jobs=15)]: Using backend ThreadingBackend with 15 concurrent workers.\n",
      "[Parallel(n_jobs=15)]: Done  20 tasks      | elapsed:    0.0s\n",
      "[Parallel(n_jobs=15)]: Done 100 out of 100 | elapsed:    0.0s finished\n"
     ]
    },
    {
     "name": "stdout",
     "output_type": "stream",
     "text": [
      "Model Number: 255 with model GLS in generation 1 of 10\n",
      "Model Number: 256 with model UnobservedComponents in generation 1 of 10\n",
      "Model Number: 257 with model UnobservedComponents in generation 1 of 10\n",
      "Model Number: 258 with model ARDL in generation 1 of 10\n",
      "Model Number: 259 with model MultivariateRegression in generation 1 of 10\n"
     ]
    },
    {
     "name": "stderr",
     "output_type": "stream",
     "text": [
      "[Parallel(n_jobs=-2)]: Using backend ThreadingBackend with 15 concurrent workers.\n",
      "[Parallel(n_jobs=-2)]: Done  20 tasks      | elapsed:    0.0s\n",
      "[Parallel(n_jobs=-2)]: Done 170 tasks      | elapsed:    0.1s\n",
      "[Parallel(n_jobs=-2)]: Done 200 out of 200 | elapsed:    0.1s finished\n",
      "[Parallel(n_jobs=15)]: Using backend ThreadingBackend with 15 concurrent workers.\n",
      "[Parallel(n_jobs=15)]: Done  20 tasks      | elapsed:    0.0s\n",
      "[Parallel(n_jobs=15)]: Done 170 tasks      | elapsed:    0.0s\n",
      "[Parallel(n_jobs=15)]: Done 200 out of 200 | elapsed:    0.0s finished\n",
      "[Parallel(n_jobs=15)]: Using backend ThreadingBackend with 15 concurrent workers.\n",
      "[Parallel(n_jobs=15)]: Done  20 tasks      | elapsed:    0.0s\n",
      "[Parallel(n_jobs=15)]: Done 170 tasks      | elapsed:    0.0s\n",
      "[Parallel(n_jobs=15)]: Done 200 out of 200 | elapsed:    0.0s finished\n",
      "[Parallel(n_jobs=15)]: Using backend ThreadingBackend with 15 concurrent workers.\n",
      "[Parallel(n_jobs=15)]: Done  20 tasks      | elapsed:    0.0s\n",
      "[Parallel(n_jobs=15)]: Done 170 tasks      | elapsed:    0.0s\n",
      "[Parallel(n_jobs=15)]: Done 200 out of 200 | elapsed:    0.0s finished\n"
     ]
    },
    {
     "name": "stdout",
     "output_type": "stream",
     "text": [
      "Model Number: 260 with model SeasonalNaive in generation 1 of 10\n",
      "Model Number: 261 with model SeasonalNaive in generation 1 of 10\n",
      "Model Number: 262 with model GLS in generation 1 of 10\n",
      "Model Number: 263 with model ConstantNaive in generation 1 of 10\n"
     ]
    },
    {
     "name": "stderr",
     "output_type": "stream",
     "text": [
      "[Parallel(n_jobs=15)]: Using backend ThreadingBackend with 15 concurrent workers.\n",
      "[Parallel(n_jobs=15)]: Done  20 tasks      | elapsed:    0.0s\n",
      "[Parallel(n_jobs=15)]: Done 170 tasks      | elapsed:    0.0s\n",
      "[Parallel(n_jobs=15)]: Done 200 out of 200 | elapsed:    0.0s finished\n"
     ]
    },
    {
     "name": "stdout",
     "output_type": "stream",
     "text": [
      "Model Number: 264 with model ConstantNaive in generation 1 of 10\n",
      "Template Eval Error: Exception('Transformer Detrend failed on fit') in model 264: ConstantNaive\n",
      "Model Number: 265 with model ConstantNaive in generation 1 of 10\n",
      "Model Number: 266 with model GLS in generation 1 of 10\n",
      "Model Number: 267 with model GLM in generation 1 of 10\n",
      "Template Eval Error: Exception('Transformer DatepartRegression failed on fit') in model 267: GLM\n",
      "Model Number: 268 with model AverageValueNaive in generation 1 of 10\n",
      "Model Number: 269 with model AverageValueNaive in generation 1 of 10\n",
      "Model Number: 270 with model DatepartRegression in generation 1 of 10\n",
      "Model Number: 271 with model DatepartRegression in generation 1 of 10\n",
      "Model Number: 272 with model SeasonalNaive in generation 1 of 10\n",
      "Model Number: 273 with model SectionalMotif in generation 1 of 10\n",
      "Template Eval Error: ValueError('Found array with 0 sample(s) (shape=(0, 10)) while a minimum of 1 is required by check_pairwise_arrays.') in model 273: SectionalMotif\n",
      "Model Number: 274 with model NVAR in generation 1 of 10\n",
      "New Generation: 2 of 10\n",
      "Model Number: 275 with model SeasonalNaive in generation 2 of 10\n",
      "Model Number: 276 with model AverageValueNaive in generation 2 of 10\n",
      "Model Number: 277 with model GLS in generation 2 of 10\n",
      "Model Number: 278 with model NVAR in generation 2 of 10\n",
      "Model Number: 279 with model UnobservedComponents in generation 2 of 10\n",
      "Template Eval Error: ValueError(\"regression_type='User' but no future_regressor supplied\") in model 279: UnobservedComponents\n",
      "Model Number: 280 with model UnobservedComponents in generation 2 of 10\n",
      "Model Number: 281 with model ARDL in generation 2 of 10\n",
      "Model Number: 282 with model Theta in generation 2 of 10\n",
      "Model Number: 283 with model UnobservedComponents in generation 2 of 10\n",
      "Model Number: 284 with model LastValueNaive in generation 2 of 10\n",
      "Model Number: 285 with model AverageValueNaive in generation 2 of 10\n",
      "Model Number: 286 with model NVAR in generation 2 of 10\n",
      "Model Number: 287 with model LastValueNaive in generation 2 of 10\n",
      "Model Number: 288 with model AverageValueNaive in generation 2 of 10\n",
      "Model Number: 289 with model ConstantNaive in generation 2 of 10\n",
      "Model Number: 290 with model ConstantNaive in generation 2 of 10\n",
      "Model Number: 291 with model AverageValueNaive in generation 2 of 10\n",
      "Model Number: 292 with model Theta in generation 2 of 10\n",
      "Model Number: 293 with model NVAR in generation 2 of 10\n",
      "Model Number: 294 with model NVAR in generation 2 of 10\n",
      "Model Number: 295 with model GLS in generation 2 of 10\n",
      "Model Number: 296 with model ETS in generation 2 of 10\n",
      "Model Number: 297 with model DatepartRegression in generation 2 of 10\n",
      "Model Number: 298 with model DatepartRegression in generation 2 of 10\n",
      "Model Number: 299 with model SeasonalNaive in generation 2 of 10\n"
     ]
    },
    {
     "name": "stderr",
     "output_type": "stream",
     "text": [
      "[Parallel(n_jobs=-2)]: Using backend ThreadingBackend with 15 concurrent workers.\n",
      "[Parallel(n_jobs=-2)]: Done  20 tasks      | elapsed:    0.0s\n",
      "[Parallel(n_jobs=-2)]: Done 100 out of 100 | elapsed:    0.0s finished\n",
      "[Parallel(n_jobs=15)]: Using backend ThreadingBackend with 15 concurrent workers.\n",
      "[Parallel(n_jobs=15)]: Done  20 tasks      | elapsed:    0.0s\n",
      "[Parallel(n_jobs=15)]: Done 100 out of 100 | elapsed:    0.0s finished\n"
     ]
    },
    {
     "name": "stdout",
     "output_type": "stream",
     "text": [
      "Model Number: 300 with model UnobservedComponents in generation 2 of 10\n",
      "Model Number: 301 with model SeasonalNaive in generation 2 of 10\n",
      "Model Number: 302 with model LastValueNaive in generation 2 of 10\n",
      "Model Number: 303 with model LastValueNaive in generation 2 of 10\n",
      "Model Number: 304 with model AverageValueNaive in generation 2 of 10\n",
      "Model Number: 305 with model DatepartRegression in generation 2 of 10\n",
      "Model Number: 306 with model DatepartRegression in generation 2 of 10\n",
      "Template Eval Error: ValueError(\"regression_type='User' but no future_regressor passed\") in model 306: DatepartRegression\n",
      "Model Number: 307 with model AverageValueNaive in generation 2 of 10\n",
      "Model Number: 308 with model Theta in generation 2 of 10\n"
     ]
    },
    {
     "name": "stderr",
     "output_type": "stream",
     "text": [
      "[Parallel(n_jobs=-2)]: Using backend ThreadingBackend with 15 concurrent workers.\n",
      "[Parallel(n_jobs=-2)]: Done  20 tasks      | elapsed:    0.0s\n",
      "[Parallel(n_jobs=-2)]: Done 100 out of 100 | elapsed:    0.0s finished\n",
      "[Parallel(n_jobs=15)]: Using backend ThreadingBackend with 15 concurrent workers.\n",
      "[Parallel(n_jobs=15)]: Done  20 tasks      | elapsed:    0.0s\n",
      "[Parallel(n_jobs=15)]: Done 100 out of 100 | elapsed:    0.0s finished\n"
     ]
    },
    {
     "name": "stdout",
     "output_type": "stream",
     "text": [
      "Model Number: 309 with model UnobservedComponents in generation 2 of 10\n",
      "Model Number: 310 with model SectionalMotif in generation 2 of 10\n",
      "Model Number: 311 with model NVAR in generation 2 of 10\n",
      "Model Number: 312 with model NVAR in generation 2 of 10\n",
      "Model Number: 313 with model MultivariateRegression in generation 2 of 10\n"
     ]
    },
    {
     "name": "stderr",
     "output_type": "stream",
     "text": [
      "[Parallel(n_jobs=-2)]: Using backend ThreadingBackend with 15 concurrent workers.\n",
      "[Parallel(n_jobs=-2)]: Done  20 tasks      | elapsed:    0.0s\n",
      "[Parallel(n_jobs=-2)]: Done 170 tasks      | elapsed:    0.0s\n",
      "[Parallel(n_jobs=-2)]: Done 200 out of 200 | elapsed:    0.1s finished\n",
      "[Parallel(n_jobs=15)]: Using backend ThreadingBackend with 15 concurrent workers.\n",
      "[Parallel(n_jobs=15)]: Done  20 tasks      | elapsed:    0.0s\n",
      "[Parallel(n_jobs=15)]: Done 170 tasks      | elapsed:    0.0s\n",
      "[Parallel(n_jobs=15)]: Done 200 out of 200 | elapsed:    0.0s finished\n",
      "[Parallel(n_jobs=15)]: Using backend ThreadingBackend with 15 concurrent workers.\n",
      "[Parallel(n_jobs=15)]: Done  20 tasks      | elapsed:    0.0s\n",
      "[Parallel(n_jobs=15)]: Done 170 tasks      | elapsed:    0.0s\n",
      "[Parallel(n_jobs=15)]: Done 200 out of 200 | elapsed:    0.0s finished\n",
      "[Parallel(n_jobs=15)]: Using backend ThreadingBackend with 15 concurrent workers.\n",
      "[Parallel(n_jobs=15)]: Done  20 tasks      | elapsed:    0.0s\n",
      "[Parallel(n_jobs=15)]: Done 170 tasks      | elapsed:    0.0s\n",
      "[Parallel(n_jobs=15)]: Done 200 out of 200 | elapsed:    0.0s finished\n",
      "[Parallel(n_jobs=15)]: Using backend ThreadingBackend with 15 concurrent workers.\n",
      "[Parallel(n_jobs=15)]: Done  20 tasks      | elapsed:    0.0s\n",
      "[Parallel(n_jobs=15)]: Done 170 tasks      | elapsed:    0.0s\n",
      "[Parallel(n_jobs=15)]: Done 200 out of 200 | elapsed:    0.0s finished\n"
     ]
    },
    {
     "name": "stdout",
     "output_type": "stream",
     "text": [
      "Model Number: 314 with model ARDL in generation 2 of 10\n",
      "Model Number: 315 with model GLS in generation 2 of 10\n",
      "Model Number: 316 with model ETS in generation 2 of 10\n",
      "Model Number: 317 with model LastValueNaive in generation 2 of 10\n",
      "Model Number: 318 with model ETS in generation 2 of 10\n",
      "Model Number: 319 with model Theta in generation 2 of 10\n",
      "Model Number: 320 with model UnobservedComponents in generation 2 of 10\n",
      "Model Number: 321 with model NVAR in generation 2 of 10\n"
     ]
    },
    {
     "name": "stderr",
     "output_type": "stream",
     "text": [
      "C:\\Users\\henry\\miniconda3\\envs\\jupyter_env\\lib\\site-packages\\sklearn\\linear_model\\_glm\\link.py:90: RuntimeWarning: overflow encountered in exp\n",
      "  return np.exp(lin_pred)\n",
      "C:\\Users\\henry\\miniconda3\\envs\\jupyter_env\\lib\\site-packages\\sklearn\\linear_model\\_glm\\link.py:93: RuntimeWarning: overflow encountered in exp\n",
      "  return np.exp(lin_pred)\n",
      "C:\\Users\\henry\\miniconda3\\envs\\jupyter_env\\lib\\site-packages\\sklearn\\_loss\\glm_distribution.py:132: RuntimeWarning: invalid value encountered in true_divide\n",
      "  return -2 * (y - y_pred) / self.unit_variance(y_pred)\n"
     ]
    },
    {
     "name": "stdout",
     "output_type": "stream",
     "text": [
      "Model Number: 322 with model UnobservedComponents in generation 2 of 10\n",
      "Model Number: 323 with model SeasonalNaive in generation 2 of 10\n",
      "Model Number: 324 with model AverageValueNaive in generation 2 of 10\n",
      "Template Eval Error: KeyError(Timestamp('2020-05-31 00:00:00', freq='M')) in model 324: AverageValueNaive\n",
      "Model Number: 325 with model AverageValueNaive in generation 2 of 10\n",
      "Model Number: 326 with model NVAR in generation 2 of 10\n",
      "Model Number: 327 with model LastValueNaive in generation 2 of 10\n",
      "Model Number: 328 with model Theta in generation 2 of 10\n",
      "Model Number: 329 with model MultivariateRegression in generation 2 of 10\n",
      "Model Number: 330 with model NVAR in generation 2 of 10\n",
      "Model Number: 331 with model ETS in generation 2 of 10\n",
      "Model Number: 332 with model NVAR in generation 2 of 10\n",
      "Model Number: 333 with model ETS in generation 2 of 10\n",
      "ETS error ValueError('Cannot compute initial seasonals using heuristic method with less than two full seasonal cycles in the data.')\n",
      "ETS failed on followers_gained with ValueError('Cannot compute initial seasonals using heuristic method with less than two full seasonal cycles in the data.')\n",
      "Model Number: 334 with model SeasonalNaive in generation 2 of 10\n",
      "Model Number: 335 with model GLS in generation 2 of 10\n",
      "Model Number: 336 with model GLS in generation 2 of 10\n",
      "Model Number: 337 with model SeasonalNaive in generation 2 of 10\n",
      "Model Number: 338 with model UnobservedComponents in generation 2 of 10\n",
      "Model Number: 339 with model SeasonalNaive in generation 2 of 10\n",
      "Model Number: 340 with model ETS in generation 2 of 10\n",
      "Model Number: 341 with model AverageValueNaive in generation 2 of 10\n",
      "Model Number: 342 with model LastValueNaive in generation 2 of 10\n",
      "Template Eval Error: Exception('Transformer BTCD failed on fit') in model 342: LastValueNaive\n",
      "Model Number: 343 with model LastValueNaive in generation 2 of 10\n",
      "Model Number: 344 with model Theta in generation 2 of 10\n",
      "Model Number: 345 with model SeasonalNaive in generation 2 of 10\n",
      "Model Number: 346 with model UnobservedComponents in generation 2 of 10\n",
      "Model Number: 347 with model NVAR in generation 2 of 10\n",
      "Model Number: 348 with model DatepartRegression in generation 2 of 10\n",
      "Model Number: 349 with model ConstantNaive in generation 2 of 10\n",
      "Model Number: 350 with model GLS in generation 2 of 10\n",
      "Model Number: 351 with model ETS in generation 2 of 10\n",
      "Model Number: 352 with model ETS in generation 2 of 10\n",
      "ETS error ValueError('endog must be strictly positive when usingmultiplicative trend or seasonal components.')\n",
      "ETS failed on followers_gained with ValueError('endog must be strictly positive when usingmultiplicative trend or seasonal components.')\n",
      "Model Number: 353 with model LastValueNaive in generation 2 of 10\n",
      "Model Number: 354 with model LastValueNaive in generation 2 of 10\n",
      "Model Number: 355 with model SeasonalNaive in generation 2 of 10\n",
      "Model Number: 356 with model ARDL in generation 2 of 10\n",
      "Model Number: 357 with model Theta in generation 2 of 10\n",
      "Model Number: 358 with model UnobservedComponents in generation 2 of 10\n"
     ]
    },
    {
     "name": "stderr",
     "output_type": "stream",
     "text": [
      "C:\\Users\\henry\\miniconda3\\envs\\jupyter_env\\lib\\site-packages\\sklearn\\preprocessing\\_data.py:3253: RuntimeWarning: divide by zero encountered in log\n",
      "  loglike = -n_samples / 2 * np.log(x_trans.var())\n"
     ]
    },
    {
     "name": "stdout",
     "output_type": "stream",
     "text": [
      "Model Number: 359 with model MultivariateRegression in generation 2 of 10\n"
     ]
    },
    {
     "name": "stderr",
     "output_type": "stream",
     "text": [
      "[Parallel(n_jobs=-2)]: Using backend ThreadingBackend with 15 concurrent workers.\n",
      "[Parallel(n_jobs=-2)]: Done  20 tasks      | elapsed:    0.0s\n",
      "[Parallel(n_jobs=-2)]: Done 170 tasks      | elapsed:    0.0s\n",
      "[Parallel(n_jobs=-2)]: Done 200 out of 200 | elapsed:    0.0s finished\n",
      "[Parallel(n_jobs=15)]: Using backend ThreadingBackend with 15 concurrent workers.\n",
      "[Parallel(n_jobs=15)]: Done  20 tasks      | elapsed:    0.0s\n",
      "[Parallel(n_jobs=15)]: Done 170 tasks      | elapsed:    0.0s\n",
      "[Parallel(n_jobs=15)]: Done 200 out of 200 | elapsed:    0.0s finished\n",
      "[Parallel(n_jobs=15)]: Using backend ThreadingBackend with 15 concurrent workers.\n",
      "[Parallel(n_jobs=15)]: Done  20 tasks      | elapsed:    0.0s\n",
      "[Parallel(n_jobs=15)]: Done 170 tasks      | elapsed:    0.0s\n",
      "[Parallel(n_jobs=15)]: Done 200 out of 200 | elapsed:    0.0s finished\n",
      "[Parallel(n_jobs=15)]: Using backend ThreadingBackend with 15 concurrent workers.\n",
      "[Parallel(n_jobs=15)]: Done  20 tasks      | elapsed:    0.0s\n",
      "[Parallel(n_jobs=15)]: Done 170 tasks      | elapsed:    0.0s\n",
      "[Parallel(n_jobs=15)]: Done 200 out of 200 | elapsed:    0.0s finished\n"
     ]
    },
    {
     "name": "stdout",
     "output_type": "stream",
     "text": [
      "Model Number: 360 with model ETS in generation 2 of 10\n",
      "ETS error ValueError('endog must be strictly positive when usingmultiplicative trend or seasonal components.')\n",
      "ETS failed on followers_gained with ValueError('endog must be strictly positive when usingmultiplicative trend or seasonal components.')\n"
     ]
    },
    {
     "name": "stderr",
     "output_type": "stream",
     "text": [
      "[Parallel(n_jobs=15)]: Using backend ThreadingBackend with 15 concurrent workers.\n",
      "[Parallel(n_jobs=15)]: Done  20 tasks      | elapsed:    0.0s\n",
      "[Parallel(n_jobs=15)]: Done 170 tasks      | elapsed:    0.0s\n",
      "[Parallel(n_jobs=15)]: Done 200 out of 200 | elapsed:    0.0s finished\n"
     ]
    },
    {
     "name": "stdout",
     "output_type": "stream",
     "text": [
      "Model Number: 361 with model UnobservedComponents in generation 2 of 10\n",
      "Model Number: 362 with model LastValueNaive in generation 2 of 10\n",
      "Model Number: 363 with model SeasonalNaive in generation 2 of 10\n",
      "Model Number: 364 with model AverageValueNaive in generation 2 of 10\n",
      "Model Number: 365 with model DatepartRegression in generation 2 of 10\n",
      "Model Number: 366 with model GLS in generation 2 of 10\n",
      "Model Number: 367 with model DatepartRegression in generation 2 of 10\n"
     ]
    },
    {
     "name": "stderr",
     "output_type": "stream",
     "text": [
      "C:\\Users\\henry\\miniconda3\\envs\\jupyter_env\\lib\\site-packages\\autots\\tools\\probabilistic.py:67: RuntimeWarning: invalid value encountered in true_divide\n",
      "  (prior_mu / prior_sigma**2) + ((n * data_mu) / prior_sigma**2)\n",
      "C:\\Users\\henry\\miniconda3\\envs\\jupyter_env\\lib\\site-packages\\autots\\tools\\probabilistic.py:68: RuntimeWarning: divide by zero encountered in true_divide\n",
      "  ) / ((1 / prior_sigma**2) + (n / prior_sigma**2))\n"
     ]
    },
    {
     "name": "stdout",
     "output_type": "stream",
     "text": [
      "Model Number: 368 with model UnobservedComponents in generation 2 of 10\n",
      "Model Number: 369 with model GLS in generation 2 of 10\n"
     ]
    },
    {
     "name": "stderr",
     "output_type": "stream",
     "text": [
      "[Parallel(n_jobs=-2)]: Using backend ThreadingBackend with 15 concurrent workers.\n",
      "[Parallel(n_jobs=-2)]: Done  20 tasks      | elapsed:    0.0s\n",
      "[Parallel(n_jobs=-2)]: Done 100 out of 100 | elapsed:    0.0s finished\n",
      "[Parallel(n_jobs=15)]: Using backend ThreadingBackend with 15 concurrent workers.\n",
      "[Parallel(n_jobs=15)]: Done  20 tasks      | elapsed:    0.0s\n",
      "[Parallel(n_jobs=15)]: Done 100 out of 100 | elapsed:    0.0s finished\n"
     ]
    },
    {
     "name": "stdout",
     "output_type": "stream",
     "text": [
      "Model Number: 370 with model UnobservedComponents in generation 2 of 10\n",
      "Model Number: 371 with model LastValueNaive in generation 2 of 10\n",
      "Model Number: 372 with model LastValueNaive in generation 2 of 10\n",
      "Model Number: 373 with model NVAR in generation 2 of 10\n",
      "Model Number: 374 with model SeasonalNaive in generation 2 of 10\n",
      "Model Number: 375 with model ETS in generation 2 of 10\n",
      "Model Number: 376 with model Theta in generation 2 of 10\n",
      "Model Number: 377 with model AverageValueNaive in generation 2 of 10\n",
      "Model Number: 378 with model LastValueNaive in generation 2 of 10\n",
      "Model Number: 379 with model ConstantNaive in generation 2 of 10\n",
      "Model Number: 380 with model DatepartRegression in generation 2 of 10\n",
      "Model Number: 381 with model ETS in generation 2 of 10\n",
      "Model Number: 382 with model ConstantNaive in generation 2 of 10\n",
      "Model Number: 383 with model MultivariateRegression in generation 2 of 10\n"
     ]
    },
    {
     "name": "stderr",
     "output_type": "stream",
     "text": [
      "[Parallel(n_jobs=-2)]: Using backend ThreadingBackend with 15 concurrent workers.\n",
      "[Parallel(n_jobs=-2)]: Done  20 tasks      | elapsed:    0.0s\n",
      "[Parallel(n_jobs=-2)]: Done 170 tasks      | elapsed:    0.0s\n",
      "[Parallel(n_jobs=-2)]: Done 200 out of 200 | elapsed:    0.0s finished\n",
      "[Parallel(n_jobs=15)]: Using backend ThreadingBackend with 15 concurrent workers.\n",
      "[Parallel(n_jobs=15)]: Done  20 tasks      | elapsed:    0.0s\n",
      "[Parallel(n_jobs=15)]: Done 170 tasks      | elapsed:    0.0s\n",
      "[Parallel(n_jobs=15)]: Done 200 out of 200 | elapsed:    0.0s finished\n",
      "[Parallel(n_jobs=15)]: Using backend ThreadingBackend with 15 concurrent workers.\n",
      "[Parallel(n_jobs=15)]: Done  20 tasks      | elapsed:    0.0s\n",
      "[Parallel(n_jobs=15)]: Done 170 tasks      | elapsed:    0.0s\n",
      "[Parallel(n_jobs=15)]: Done 200 out of 200 | elapsed:    0.0s finished\n",
      "[Parallel(n_jobs=15)]: Using backend ThreadingBackend with 15 concurrent workers.\n",
      "[Parallel(n_jobs=15)]: Done  20 tasks      | elapsed:    0.0s\n",
      "[Parallel(n_jobs=15)]: Done 170 tasks      | elapsed:    0.0s\n",
      "[Parallel(n_jobs=15)]: Done 200 out of 200 | elapsed:    0.0s finished\n",
      "[Parallel(n_jobs=15)]: Using backend ThreadingBackend with 15 concurrent workers.\n"
     ]
    },
    {
     "name": "stdout",
     "output_type": "stream",
     "text": [
      "Model Number: 384 with model NVAR in generation 2 of 10\n"
     ]
    },
    {
     "name": "stderr",
     "output_type": "stream",
     "text": [
      "[Parallel(n_jobs=15)]: Done  20 tasks      | elapsed:    0.0s\n",
      "[Parallel(n_jobs=15)]: Done 170 tasks      | elapsed:    0.0s\n",
      "[Parallel(n_jobs=15)]: Done 200 out of 200 | elapsed:    0.0s finished\n",
      "C:\\Users\\henry\\miniconda3\\envs\\jupyter_env\\lib\\site-packages\\autots\\tools\\probabilistic.py:67: RuntimeWarning: invalid value encountered in true_divide\n",
      "  (prior_mu / prior_sigma**2) + ((n * data_mu) / prior_sigma**2)\n",
      "C:\\Users\\henry\\miniconda3\\envs\\jupyter_env\\lib\\site-packages\\autots\\tools\\probabilistic.py:68: RuntimeWarning: divide by zero encountered in true_divide\n",
      "  ) / ((1 / prior_sigma**2) + (n / prior_sigma**2))\n"
     ]
    },
    {
     "name": "stdout",
     "output_type": "stream",
     "text": [
      "New Generation: 3 of 10\n",
      "Model Number: 385 with model ConstantNaive in generation 3 of 10\n",
      "Model Number: 386 with model Theta in generation 3 of 10\n",
      "Model Number: 387 with model ConstantNaive in generation 3 of 10\n",
      "Model Number: 388 with model Theta in generation 3 of 10\n",
      "Model Number: 389 with model GLM in generation 3 of 10\n",
      "Template Eval Error: TypeError(\"ufunc 'isfinite' not supported for the input types, and the inputs could not be safely coerced to any supported types according to the casting rule ''safe''\") in model 389: GLM\n",
      "Model Number: 390 with model ETS in generation 3 of 10\n",
      "Model Number: 391 with model LastValueNaive in generation 3 of 10\n",
      "Model Number: 392 with model LastValueNaive in generation 3 of 10\n",
      "Model Number: 393 with model AverageValueNaive in generation 3 of 10\n",
      "Model Number: 394 with model GLS in generation 3 of 10\n",
      "Model Number: 395 with model GLS in generation 3 of 10\n",
      "Model Number: 396 with model UnobservedComponents in generation 3 of 10\n",
      "Template Eval Error: ValueError(\"regression_type='User' but no future_regressor supplied\") in model 396: UnobservedComponents\n",
      "Model Number: 397 with model GLS in generation 3 of 10\n"
     ]
    },
    {
     "name": "stderr",
     "output_type": "stream",
     "text": [
      "C:\\Users\\henry\\miniconda3\\envs\\jupyter_env\\lib\\site-packages\\statsmodels\\genmod\\generalized_linear_model.py:298: DomainWarning: The inverse_power link function does not respect the domain of the Gamma family.\n",
      "  warnings.warn((f\"The {type(family.link).__name__} link function \"\n",
      "C:\\Users\\henry\\miniconda3\\envs\\jupyter_env\\lib\\site-packages\\sklearn\\linear_model\\_glm\\link.py:90: RuntimeWarning: overflow encountered in exp\n",
      "  return np.exp(lin_pred)\n",
      "C:\\Users\\henry\\miniconda3\\envs\\jupyter_env\\lib\\site-packages\\sklearn\\linear_model\\_glm\\link.py:93: RuntimeWarning: overflow encountered in exp\n",
      "  return np.exp(lin_pred)\n",
      "C:\\Users\\henry\\miniconda3\\envs\\jupyter_env\\lib\\site-packages\\sklearn\\_loss\\glm_distribution.py:132: RuntimeWarning: invalid value encountered in true_divide\n",
      "  return -2 * (y - y_pred) / self.unit_variance(y_pred)\n",
      "C:\\Users\\henry\\miniconda3\\envs\\jupyter_env\\lib\\site-packages\\sklearn\\_loss\\glm_distribution.py:323: RuntimeWarning: invalid value encountered in add\n",
      "  dev = 2 * (xlogy(y, y / y_pred) - y + y_pred)\n",
      "C:\\Users\\henry\\miniconda3\\envs\\jupyter_env\\lib\\site-packages\\sklearn\\linear_model\\_glm\\glm.py:323: ConvergenceWarning: lbfgs failed to converge (status=2):\n",
      "ABNORMAL_TERMINATION_IN_LNSRCH.\n",
      "\n",
      "Increase the number of iterations (max_iter) or scale the data as shown in:\n",
      "    https://scikit-learn.org/stable/modules/preprocessing.html\n",
      "  self.n_iter_ = _check_optimize_result(\"lbfgs\", opt_res)\n",
      "C:\\Users\\henry\\miniconda3\\envs\\jupyter_env\\lib\\site-packages\\sklearn\\linear_model\\_coordinate_descent.py:647: ConvergenceWarning: Objective did not converge. You might want to increase the number of iterations, check the scale of the features or consider increasing regularisation. Duality gap: 2.990e-01, tolerance: 4.374e-04\n",
      "  model = cd_fast.enet_coordinate_descent(\n"
     ]
    },
    {
     "name": "stdout",
     "output_type": "stream",
     "text": [
      "Model Number: 398 with model SeasonalNaive in generation 3 of 10\n",
      "Model Number: 399 with model AverageValueNaive in generation 3 of 10\n",
      "Model Number: 400 with model SeasonalNaive in generation 3 of 10\n",
      "Model Number: 401 with model NVAR in generation 3 of 10\n",
      "Model Number: 402 with model AverageValueNaive in generation 3 of 10\n",
      "Model Number: 403 with model LastValueNaive in generation 3 of 10\n",
      "Model Number: 404 with model MultivariateRegression in generation 3 of 10\n"
     ]
    },
    {
     "name": "stderr",
     "output_type": "stream",
     "text": [
      "[Parallel(n_jobs=-2)]: Using backend ThreadingBackend with 15 concurrent workers.\n",
      "[Parallel(n_jobs=-2)]: Done  20 tasks      | elapsed:    0.0s\n",
      "[Parallel(n_jobs=-2)]: Done 170 tasks      | elapsed:    0.0s\n",
      "[Parallel(n_jobs=-2)]: Done 200 out of 200 | elapsed:    0.0s finished\n",
      "[Parallel(n_jobs=15)]: Using backend ThreadingBackend with 15 concurrent workers.\n",
      "[Parallel(n_jobs=15)]: Done  20 tasks      | elapsed:    0.0s\n",
      "[Parallel(n_jobs=15)]: Done 170 tasks      | elapsed:    0.0s\n",
      "[Parallel(n_jobs=15)]: Done 200 out of 200 | elapsed:    0.0s finished\n",
      "[Parallel(n_jobs=15)]: Using backend ThreadingBackend with 15 concurrent workers.\n",
      "[Parallel(n_jobs=15)]: Done  20 tasks      | elapsed:    0.0s\n",
      "[Parallel(n_jobs=15)]: Done 170 tasks      | elapsed:    0.0s\n",
      "[Parallel(n_jobs=15)]: Done 200 out of 200 | elapsed:    0.0s finished\n",
      "[Parallel(n_jobs=15)]: Using backend ThreadingBackend with 15 concurrent workers.\n"
     ]
    },
    {
     "name": "stdout",
     "output_type": "stream",
     "text": [
      "Model Number: 405 with model ConstantNaive in generation 3 of 10\n"
     ]
    },
    {
     "name": "stderr",
     "output_type": "stream",
     "text": [
      "[Parallel(n_jobs=15)]: Done  20 tasks      | elapsed:    0.0s\n",
      "[Parallel(n_jobs=15)]: Done 170 tasks      | elapsed:    0.0s\n",
      "[Parallel(n_jobs=15)]: Done 200 out of 200 | elapsed:    0.0s finished\n",
      "[Parallel(n_jobs=15)]: Using backend ThreadingBackend with 15 concurrent workers.\n",
      "[Parallel(n_jobs=15)]: Done  20 tasks      | elapsed:    0.0s\n",
      "[Parallel(n_jobs=15)]: Done 170 tasks      | elapsed:    0.0s\n",
      "[Parallel(n_jobs=15)]: Done 200 out of 200 | elapsed:    0.0s finished\n",
      "C:\\Users\\henry\\miniconda3\\envs\\jupyter_env\\lib\\site-packages\\autots\\tools\\probabilistic.py:67: RuntimeWarning: invalid value encountered in true_divide\n",
      "  (prior_mu / prior_sigma**2) + ((n * data_mu) / prior_sigma**2)\n",
      "C:\\Users\\henry\\miniconda3\\envs\\jupyter_env\\lib\\site-packages\\autots\\tools\\probabilistic.py:68: RuntimeWarning: divide by zero encountered in true_divide\n",
      "  ) / ((1 / prior_sigma**2) + (n / prior_sigma**2))\n",
      "C:\\Users\\henry\\miniconda3\\envs\\jupyter_env\\lib\\site-packages\\sklearn\\linear_model\\_glm\\link.py:90: RuntimeWarning: overflow encountered in exp\n",
      "  return np.exp(lin_pred)\n",
      "C:\\Users\\henry\\miniconda3\\envs\\jupyter_env\\lib\\site-packages\\sklearn\\linear_model\\_glm\\link.py:93: RuntimeWarning: overflow encountered in exp\n",
      "  return np.exp(lin_pred)\n",
      "C:\\Users\\henry\\miniconda3\\envs\\jupyter_env\\lib\\site-packages\\sklearn\\_loss\\glm_distribution.py:132: RuntimeWarning: invalid value encountered in true_divide\n",
      "  return -2 * (y - y_pred) / self.unit_variance(y_pred)\n"
     ]
    },
    {
     "name": "stdout",
     "output_type": "stream",
     "text": [
      "Model Number: 406 with model UnobservedComponents in generation 3 of 10\n",
      "Model Number: 407 with model UnobservedComponents in generation 3 of 10\n",
      "Template Eval Error: ValueError(\"regression_type='User' but no future_regressor supplied\") in model 407: UnobservedComponents\n",
      "Model Number: 408 with model DatepartRegression in generation 3 of 10\n",
      "Model Number: 409 with model ETS in generation 3 of 10\n",
      "Model Number: 410 with model UnobservedComponents in generation 3 of 10\n",
      "Model Number: 411 with model AverageValueNaive in generation 3 of 10\n",
      "Model Number: 412 with model GLS in generation 3 of 10\n",
      "Model Number: 413 with model AverageValueNaive in generation 3 of 10\n",
      "Model Number: 414 with model Theta in generation 3 of 10\n"
     ]
    },
    {
     "name": "stderr",
     "output_type": "stream",
     "text": [
      "C:\\Users\\henry\\miniconda3\\envs\\jupyter_env\\lib\\site-packages\\autots\\tools\\probabilistic.py:67: RuntimeWarning: invalid value encountered in true_divide\n",
      "  (prior_mu / prior_sigma**2) + ((n * data_mu) / prior_sigma**2)\n",
      "C:\\Users\\henry\\miniconda3\\envs\\jupyter_env\\lib\\site-packages\\autots\\tools\\probabilistic.py:68: RuntimeWarning: divide by zero encountered in true_divide\n",
      "  ) / ((1 / prior_sigma**2) + (n / prior_sigma**2))\n"
     ]
    },
    {
     "name": "stdout",
     "output_type": "stream",
     "text": [
      "Model Number: 415 with model LastValueNaive in generation 3 of 10\n",
      "Model Number: 416 with model AverageValueNaive in generation 3 of 10\n",
      "Model Number: 417 with model UnobservedComponents in generation 3 of 10\n",
      "Model Number: 418 with model LastValueNaive in generation 3 of 10\n",
      "Model Number: 419 with model MultivariateRegression in generation 3 of 10\n"
     ]
    },
    {
     "name": "stderr",
     "output_type": "stream",
     "text": [
      "C:\\Users\\henry\\miniconda3\\envs\\jupyter_env\\lib\\site-packages\\sklearn\\linear_model\\_glm\\link.py:90: RuntimeWarning: overflow encountered in exp\n",
      "  return np.exp(lin_pred)\n",
      "C:\\Users\\henry\\miniconda3\\envs\\jupyter_env\\lib\\site-packages\\sklearn\\linear_model\\_glm\\link.py:93: RuntimeWarning: overflow encountered in exp\n",
      "  return np.exp(lin_pred)\n",
      "C:\\Users\\henry\\miniconda3\\envs\\jupyter_env\\lib\\site-packages\\sklearn\\_loss\\glm_distribution.py:132: RuntimeWarning: invalid value encountered in true_divide\n",
      "  return -2 * (y - y_pred) / self.unit_variance(y_pred)\n",
      "[Parallel(n_jobs=-2)]: Using backend ThreadingBackend with 15 concurrent workers.\n",
      "[Parallel(n_jobs=-2)]: Done  20 tasks      | elapsed:    0.0s\n",
      "[Parallel(n_jobs=-2)]: Done 170 tasks      | elapsed:    0.0s\n",
      "[Parallel(n_jobs=-2)]: Done 200 out of 200 | elapsed:    0.0s finished\n",
      "[Parallel(n_jobs=15)]: Using backend ThreadingBackend with 15 concurrent workers.\n",
      "[Parallel(n_jobs=15)]: Done  20 tasks      | elapsed:    0.0s\n",
      "[Parallel(n_jobs=15)]: Done 170 tasks      | elapsed:    0.0s\n",
      "[Parallel(n_jobs=15)]: Done 200 out of 200 | elapsed:    0.0s finished\n",
      "[Parallel(n_jobs=15)]: Using backend ThreadingBackend with 15 concurrent workers.\n",
      "[Parallel(n_jobs=15)]: Done  20 tasks      | elapsed:    0.0s\n",
      "[Parallel(n_jobs=15)]: Done 170 tasks      | elapsed:    0.0s\n",
      "[Parallel(n_jobs=15)]: Done 200 out of 200 | elapsed:    0.0s finished\n",
      "[Parallel(n_jobs=15)]: Using backend ThreadingBackend with 15 concurrent workers.\n",
      "[Parallel(n_jobs=15)]: Done  20 tasks      | elapsed:    0.0s\n",
      "[Parallel(n_jobs=15)]: Done 170 tasks      | elapsed:    0.0s\n",
      "[Parallel(n_jobs=15)]: Done 200 out of 200 | elapsed:    0.0s finished\n"
     ]
    },
    {
     "name": "stdout",
     "output_type": "stream",
     "text": [
      "Model Number: 420 with model SeasonalNaive in generation 3 of 10\n",
      "Model Number: 421 with model LastValueNaive in generation 3 of 10\n",
      "Model Number: 422 with model LastValueNaive in generation 3 of 10\n",
      "Model Number: 423 with model NVAR in generation 3 of 10\n",
      "Model Number: 424 with model SeasonalNaive in generation 3 of 10\n",
      "Model Number: 425 with model ETS in generation 3 of 10\n"
     ]
    },
    {
     "name": "stderr",
     "output_type": "stream",
     "text": [
      "[Parallel(n_jobs=15)]: Using backend ThreadingBackend with 15 concurrent workers.\n",
      "[Parallel(n_jobs=15)]: Done  20 tasks      | elapsed:    0.0s\n",
      "[Parallel(n_jobs=15)]: Done 170 tasks      | elapsed:    0.0s\n",
      "[Parallel(n_jobs=15)]: Done 200 out of 200 | elapsed:    0.0s finished\n"
     ]
    },
    {
     "name": "stdout",
     "output_type": "stream",
     "text": [
      "Model Number: 426 with model ARDL in generation 3 of 10\n",
      "Model Number: 427 with model LastValueNaive in generation 3 of 10\n",
      "Model Number: 428 with model DatepartRegression in generation 3 of 10\n",
      "Model Number: 429 with model NVAR in generation 3 of 10\n",
      "Model Number: 430 with model LastValueNaive in generation 3 of 10\n",
      "Model Number: 431 with model LastValueNaive in generation 3 of 10\n",
      "Model Number: 432 with model ARDL in generation 3 of 10\n",
      "Model Number: 433 with model NVAR in generation 3 of 10\n",
      "Model Number: 434 with model DatepartRegression in generation 3 of 10\n",
      "Model Number: 435 with model MultivariateRegression in generation 3 of 10\n"
     ]
    },
    {
     "name": "stderr",
     "output_type": "stream",
     "text": [
      "C:\\Users\\henry\\miniconda3\\envs\\jupyter_env\\lib\\site-packages\\sklearn\\linear_model\\_glm\\link.py:90: RuntimeWarning: overflow encountered in exp\n",
      "  return np.exp(lin_pred)\n",
      "C:\\Users\\henry\\miniconda3\\envs\\jupyter_env\\lib\\site-packages\\sklearn\\linear_model\\_glm\\link.py:93: RuntimeWarning: overflow encountered in exp\n",
      "  return np.exp(lin_pred)\n",
      "C:\\Users\\henry\\miniconda3\\envs\\jupyter_env\\lib\\site-packages\\sklearn\\_loss\\glm_distribution.py:132: RuntimeWarning: invalid value encountered in true_divide\n",
      "  return -2 * (y - y_pred) / self.unit_variance(y_pred)\n",
      "[Parallel(n_jobs=-2)]: Using backend ThreadingBackend with 15 concurrent workers.\n",
      "[Parallel(n_jobs=-2)]: Done  20 tasks      | elapsed:    0.0s\n",
      "[Parallel(n_jobs=-2)]: Done 170 tasks      | elapsed:    0.0s\n",
      "[Parallel(n_jobs=-2)]: Done 200 out of 200 | elapsed:    0.0s finished\n"
     ]
    },
    {
     "name": "stdout",
     "output_type": "stream",
     "text": [
      "Model Number: 436 with model Theta in generation 3 of 10\n"
     ]
    },
    {
     "name": "stderr",
     "output_type": "stream",
     "text": [
      "[Parallel(n_jobs=15)]: Using backend ThreadingBackend with 15 concurrent workers.\n",
      "[Parallel(n_jobs=15)]: Done  20 tasks      | elapsed:    0.0s\n",
      "[Parallel(n_jobs=15)]: Done 170 tasks      | elapsed:    0.0s\n",
      "[Parallel(n_jobs=15)]: Done 200 out of 200 | elapsed:    0.0s finished\n",
      "[Parallel(n_jobs=15)]: Using backend ThreadingBackend with 15 concurrent workers.\n",
      "[Parallel(n_jobs=15)]: Done  20 tasks      | elapsed:    0.0s\n",
      "[Parallel(n_jobs=15)]: Done 170 tasks      | elapsed:    0.0s\n",
      "[Parallel(n_jobs=15)]: Done 200 out of 200 | elapsed:    0.0s finished\n",
      "[Parallel(n_jobs=15)]: Using backend ThreadingBackend with 15 concurrent workers.\n",
      "[Parallel(n_jobs=15)]: Done  20 tasks      | elapsed:    0.0s\n",
      "[Parallel(n_jobs=15)]: Done 170 tasks      | elapsed:    0.0s\n",
      "[Parallel(n_jobs=15)]: Done 200 out of 200 | elapsed:    0.0s finished\n",
      "[Parallel(n_jobs=15)]: Using backend ThreadingBackend with 15 concurrent workers.\n",
      "[Parallel(n_jobs=15)]: Done  20 tasks      | elapsed:    0.0s\n",
      "[Parallel(n_jobs=15)]: Done 170 tasks      | elapsed:    0.0s\n",
      "[Parallel(n_jobs=15)]: Done 200 out of 200 | elapsed:    0.0s finished\n"
     ]
    },
    {
     "name": "stdout",
     "output_type": "stream",
     "text": [
      "Model Number: 437 with model UnobservedComponents in generation 3 of 10\n",
      "Model Number: 438 with model ETS in generation 3 of 10\n",
      "Model Number: 439 with model NVAR in generation 3 of 10\n",
      "Model Number: 440 with model UnobservedComponents in generation 3 of 10\n",
      "Model Number: 441 with model GLS in generation 3 of 10\n",
      "Template Eval Error: Exception('Transformer BTCD failed on fit') in model 441: GLS\n",
      "Model Number: 442 with model NVAR in generation 3 of 10\n",
      "Template Eval Error: IndexError('index -6 is out of bounds for axis 1 with size 5') in model 442: NVAR\n",
      "Model Number: 443 with model UnobservedComponents in generation 3 of 10\n",
      "Model Number: 444 with model NVAR in generation 3 of 10\n",
      "Model Number: 445 with model GLS in generation 3 of 10\n"
     ]
    },
    {
     "name": "stderr",
     "output_type": "stream",
     "text": [
      "C:\\Users\\henry\\miniconda3\\envs\\jupyter_env\\lib\\site-packages\\autots\\tools\\probabilistic.py:67: RuntimeWarning: invalid value encountered in true_divide\n",
      "  (prior_mu / prior_sigma**2) + ((n * data_mu) / prior_sigma**2)\n",
      "C:\\Users\\henry\\miniconda3\\envs\\jupyter_env\\lib\\site-packages\\autots\\tools\\probabilistic.py:68: RuntimeWarning: divide by zero encountered in true_divide\n",
      "  ) / ((1 / prior_sigma**2) + (n / prior_sigma**2))\n"
     ]
    },
    {
     "name": "stdout",
     "output_type": "stream",
     "text": [
      "Model Number: 446 with model ETS in generation 3 of 10\n",
      "Model Number: 447 with model LastValueNaive in generation 3 of 10\n",
      "Model Number: 448 with model LastValueNaive in generation 3 of 10\n",
      "Model Number: 449 with model AverageValueNaive in generation 3 of 10\n",
      "Model Number: 450 with model SeasonalNaive in generation 3 of 10\n",
      "Model Number: 451 with model MultivariateRegression in generation 3 of 10\n"
     ]
    },
    {
     "name": "stderr",
     "output_type": "stream",
     "text": [
      "C:\\Users\\henry\\miniconda3\\envs\\jupyter_env\\lib\\site-packages\\sklearn\\linear_model\\_glm\\link.py:90: RuntimeWarning: overflow encountered in exp\n",
      "  return np.exp(lin_pred)\n",
      "C:\\Users\\henry\\miniconda3\\envs\\jupyter_env\\lib\\site-packages\\sklearn\\linear_model\\_glm\\link.py:93: RuntimeWarning: overflow encountered in exp\n",
      "  return np.exp(lin_pred)\n",
      "C:\\Users\\henry\\miniconda3\\envs\\jupyter_env\\lib\\site-packages\\sklearn\\_loss\\glm_distribution.py:132: RuntimeWarning: invalid value encountered in true_divide\n",
      "  return -2 * (y - y_pred) / self.unit_variance(y_pred)\n",
      "C:\\Users\\henry\\miniconda3\\envs\\jupyter_env\\lib\\site-packages\\sklearn\\_loss\\glm_distribution.py:323: RuntimeWarning: invalid value encountered in add\n",
      "  dev = 2 * (xlogy(y, y / y_pred) - y + y_pred)\n",
      "C:\\Users\\henry\\miniconda3\\envs\\jupyter_env\\lib\\site-packages\\sklearn\\linear_model\\_glm\\glm.py:323: ConvergenceWarning: lbfgs failed to converge (status=2):\n",
      "ABNORMAL_TERMINATION_IN_LNSRCH.\n",
      "\n",
      "Increase the number of iterations (max_iter) or scale the data as shown in:\n",
      "    https://scikit-learn.org/stable/modules/preprocessing.html\n",
      "  self.n_iter_ = _check_optimize_result(\"lbfgs\", opt_res)\n",
      "C:\\Users\\henry\\miniconda3\\envs\\jupyter_env\\lib\\site-packages\\sklearn\\linear_model\\_glm\\link.py:90: RuntimeWarning: overflow encountered in exp\n",
      "  return np.exp(lin_pred)\n",
      "C:\\Users\\henry\\miniconda3\\envs\\jupyter_env\\lib\\site-packages\\sklearn\\linear_model\\_glm\\link.py:93: RuntimeWarning: overflow encountered in exp\n",
      "  return np.exp(lin_pred)\n",
      "C:\\Users\\henry\\miniconda3\\envs\\jupyter_env\\lib\\site-packages\\sklearn\\_loss\\glm_distribution.py:132: RuntimeWarning: invalid value encountered in true_divide\n",
      "  return -2 * (y - y_pred) / self.unit_variance(y_pred)\n",
      "C:\\Users\\henry\\miniconda3\\envs\\jupyter_env\\lib\\site-packages\\sklearn\\linear_model\\_glm\\link.py:90: RuntimeWarning: overflow encountered in exp\n",
      "  return np.exp(lin_pred)\n",
      "C:\\Users\\henry\\miniconda3\\envs\\jupyter_env\\lib\\site-packages\\sklearn\\linear_model\\_glm\\link.py:93: RuntimeWarning: overflow encountered in exp\n",
      "  return np.exp(lin_pred)\n",
      "C:\\Users\\henry\\miniconda3\\envs\\jupyter_env\\lib\\site-packages\\sklearn\\_loss\\glm_distribution.py:132: RuntimeWarning: invalid value encountered in true_divide\n",
      "  return -2 * (y - y_pred) / self.unit_variance(y_pred)\n",
      "[Parallel(n_jobs=-2)]: Using backend ThreadingBackend with 15 concurrent workers.\n",
      "[Parallel(n_jobs=-2)]: Done  20 tasks      | elapsed:    0.0s\n",
      "[Parallel(n_jobs=-2)]: Done 170 tasks      | elapsed:    0.0s\n",
      "[Parallel(n_jobs=-2)]: Done 200 out of 200 | elapsed:    0.0s finished\n",
      "[Parallel(n_jobs=15)]: Using backend ThreadingBackend with 15 concurrent workers.\n",
      "[Parallel(n_jobs=15)]: Done  20 tasks      | elapsed:    0.0s\n",
      "[Parallel(n_jobs=15)]: Done 170 tasks      | elapsed:    0.0s\n",
      "[Parallel(n_jobs=15)]: Done 200 out of 200 | elapsed:    0.0s finished\n",
      "[Parallel(n_jobs=15)]: Using backend ThreadingBackend with 15 concurrent workers.\n",
      "[Parallel(n_jobs=15)]: Done  20 tasks      | elapsed:    0.0s\n",
      "[Parallel(n_jobs=15)]: Done 170 tasks      | elapsed:    0.0s\n",
      "[Parallel(n_jobs=15)]: Done 200 out of 200 | elapsed:    0.0s finished\n",
      "[Parallel(n_jobs=15)]: Using backend ThreadingBackend with 15 concurrent workers.\n",
      "[Parallel(n_jobs=15)]: Done  20 tasks      | elapsed:    0.0s\n",
      "[Parallel(n_jobs=15)]: Done 170 tasks      | elapsed:    0.0s\n",
      "[Parallel(n_jobs=15)]: Done 200 out of 200 | elapsed:    0.0s finished\n"
     ]
    },
    {
     "name": "stdout",
     "output_type": "stream",
     "text": [
      "Model Number: 452 with model AverageValueNaive in generation 3 of 10\n",
      "Model Number: 453 with model AverageValueNaive in generation 3 of 10\n",
      "Model Number: 454 with model AverageValueNaive in generation 3 of 10\n",
      "Model Number: 455 with model ARDL in generation 3 of 10\n",
      "Template Eval Error: Exception('Transformer Cointegration failed on fit') in model 455: ARDL\n",
      "Model Number: 456 with model ConstantNaive in generation 3 of 10\n",
      "Model Number: 457 with model NVAR in generation 3 of 10\n"
     ]
    },
    {
     "name": "stderr",
     "output_type": "stream",
     "text": [
      "[Parallel(n_jobs=15)]: Using backend ThreadingBackend with 15 concurrent workers.\n",
      "[Parallel(n_jobs=15)]: Done  20 tasks      | elapsed:    0.0s\n",
      "[Parallel(n_jobs=15)]: Done 170 tasks      | elapsed:    0.0s\n",
      "[Parallel(n_jobs=15)]: Done 200 out of 200 | elapsed:    0.0s finished\n",
      "C:\\Users\\henry\\miniconda3\\envs\\jupyter_env\\lib\\site-packages\\sklearn\\linear_model\\_glm\\link.py:90: RuntimeWarning: overflow encountered in exp\n",
      "  return np.exp(lin_pred)\n",
      "C:\\Users\\henry\\miniconda3\\envs\\jupyter_env\\lib\\site-packages\\sklearn\\linear_model\\_glm\\link.py:93: RuntimeWarning: overflow encountered in exp\n",
      "  return np.exp(lin_pred)\n",
      "C:\\Users\\henry\\miniconda3\\envs\\jupyter_env\\lib\\site-packages\\sklearn\\_loss\\glm_distribution.py:132: RuntimeWarning: invalid value encountered in true_divide\n",
      "  return -2 * (y - y_pred) / self.unit_variance(y_pred)\n",
      "C:\\Users\\henry\\miniconda3\\envs\\jupyter_env\\lib\\site-packages\\sklearn\\_loss\\glm_distribution.py:323: RuntimeWarning: invalid value encountered in add\n",
      "  dev = 2 * (xlogy(y, y / y_pred) - y + y_pred)\n",
      "C:\\Users\\henry\\miniconda3\\envs\\jupyter_env\\lib\\site-packages\\sklearn\\linear_model\\_glm\\glm.py:323: ConvergenceWarning: lbfgs failed to converge (status=2):\n",
      "ABNORMAL_TERMINATION_IN_LNSRCH.\n",
      "\n",
      "Increase the number of iterations (max_iter) or scale the data as shown in:\n",
      "    https://scikit-learn.org/stable/modules/preprocessing.html\n",
      "  self.n_iter_ = _check_optimize_result(\"lbfgs\", opt_res)\n"
     ]
    },
    {
     "name": "stdout",
     "output_type": "stream",
     "text": [
      "Model Number: 458 with model ConstantNaive in generation 3 of 10\n",
      "Model Number: 459 with model NVAR in generation 3 of 10\n",
      "Model Number: 460 with model DatepartRegression in generation 3 of 10\n",
      "Model Number: 461 with model SeasonalNaive in generation 3 of 10\n",
      "Model Number: 462 with model SeasonalNaive in generation 3 of 10\n",
      "Model Number: 463 with model NVAR in generation 3 of 10\n",
      "Model Number: 464 with model NVAR in generation 3 of 10\n",
      "Model Number: 465 with model ARDL in generation 3 of 10\n",
      "Model Number: 466 with model UnobservedComponents in generation 3 of 10\n",
      "Model Number: 467 with model Theta in generation 3 of 10\n",
      "Model Number: 468 with model ARDL in generation 3 of 10\n",
      "Template Eval Error: ValueError(\"regression_type='User' but future_regressor not supplied\") in model 468: ARDL\n",
      "Model Number: 469 with model Theta in generation 3 of 10\n",
      "Template Eval Error: ValueError('x must have 2 complete cycles requires 24 observations. x only has 11 observation(s)') in model 469: Theta\n",
      "Model Number: 470 with model GLS in generation 3 of 10\n",
      "Model Number: 471 with model ConstantNaive in generation 3 of 10\n",
      "Model Number: 472 with model UnobservedComponents in generation 3 of 10\n",
      "Template Eval Error: ValueError(\"regression_type='User' but no future_regressor supplied\") in model 472: UnobservedComponents\n",
      "Model Number: 473 with model ConstantNaive in generation 3 of 10\n",
      "Model Number: 474 with model SeasonalNaive in generation 3 of 10\n",
      "Model Number: 475 with model UnobservedComponents in generation 3 of 10\n"
     ]
    },
    {
     "name": "stderr",
     "output_type": "stream",
     "text": [
      "C:\\Users\\henry\\miniconda3\\envs\\jupyter_env\\lib\\site-packages\\autots\\tools\\probabilistic.py:67: RuntimeWarning: invalid value encountered in true_divide\n",
      "  (prior_mu / prior_sigma**2) + ((n * data_mu) / prior_sigma**2)\n",
      "C:\\Users\\henry\\miniconda3\\envs\\jupyter_env\\lib\\site-packages\\autots\\tools\\probabilistic.py:68: RuntimeWarning: divide by zero encountered in true_divide\n",
      "  ) / ((1 / prior_sigma**2) + (n / prior_sigma**2))\n",
      "C:\\Users\\henry\\miniconda3\\envs\\jupyter_env\\lib\\site-packages\\sklearn\\linear_model\\_coordinate_descent.py:647: ConvergenceWarning: Objective did not converge. You might want to increase the number of iterations, check the scale of the features or consider increasing regularisation. Duality gap: 3.929e+04, tolerance: 6.436e+01\n",
      "  model = cd_fast.enet_coordinate_descent(\n"
     ]
    },
    {
     "name": "stdout",
     "output_type": "stream",
     "text": [
      "Model Number: 476 with model AverageValueNaive in generation 3 of 10\n",
      "Model Number: 477 with model GLS in generation 3 of 10\n",
      "Model Number: 478 with model DatepartRegression in generation 3 of 10\n",
      "Model Number: 479 with model ARDL in generation 3 of 10\n"
     ]
    },
    {
     "name": "stderr",
     "output_type": "stream",
     "text": [
      "C:\\Users\\henry\\miniconda3\\envs\\jupyter_env\\lib\\site-packages\\autots\\tools\\probabilistic.py:67: RuntimeWarning: invalid value encountered in true_divide\n",
      "  (prior_mu / prior_sigma**2) + ((n * data_mu) / prior_sigma**2)\n",
      "C:\\Users\\henry\\miniconda3\\envs\\jupyter_env\\lib\\site-packages\\autots\\tools\\probabilistic.py:68: RuntimeWarning: divide by zero encountered in true_divide\n",
      "  ) / ((1 / prior_sigma**2) + (n / prior_sigma**2))\n",
      "C:\\Users\\henry\\miniconda3\\envs\\jupyter_env\\lib\\site-packages\\autots\\tools\\probabilistic.py:67: RuntimeWarning: invalid value encountered in true_divide\n",
      "  (prior_mu / prior_sigma**2) + ((n * data_mu) / prior_sigma**2)\n",
      "C:\\Users\\henry\\miniconda3\\envs\\jupyter_env\\lib\\site-packages\\autots\\tools\\probabilistic.py:68: RuntimeWarning: divide by zero encountered in true_divide\n",
      "  ) / ((1 / prior_sigma**2) + (n / prior_sigma**2))\n"
     ]
    },
    {
     "name": "stdout",
     "output_type": "stream",
     "text": [
      "Model Number: 480 with model SectionalMotif in generation 3 of 10\n",
      "Template Eval Error: ValueError('kth(=1) out of bounds (1)') in model 480: SectionalMotif\n",
      "Model Number: 481 with model UnobservedComponents in generation 3 of 10\n",
      "Template Eval Error: ValueError(\"regression_type='User' but no future_regressor supplied\") in model 481: UnobservedComponents\n",
      "Model Number: 482 with model LastValueNaive in generation 3 of 10\n",
      "Model Number: 483 with model UnobservedComponents in generation 3 of 10\n",
      "Model Number: 484 with model MultivariateRegression in generation 3 of 10\n"
     ]
    },
    {
     "name": "stderr",
     "output_type": "stream",
     "text": [
      "C:\\Users\\henry\\miniconda3\\envs\\jupyter_env\\lib\\site-packages\\sklearn\\linear_model\\_glm\\link.py:90: RuntimeWarning: overflow encountered in exp\n",
      "  return np.exp(lin_pred)\n",
      "C:\\Users\\henry\\miniconda3\\envs\\jupyter_env\\lib\\site-packages\\sklearn\\linear_model\\_glm\\link.py:93: RuntimeWarning: overflow encountered in exp\n",
      "  return np.exp(lin_pred)\n",
      "C:\\Users\\henry\\miniconda3\\envs\\jupyter_env\\lib\\site-packages\\sklearn\\_loss\\glm_distribution.py:132: RuntimeWarning: invalid value encountered in true_divide\n",
      "  return -2 * (y - y_pred) / self.unit_variance(y_pred)\n",
      "[Parallel(n_jobs=-2)]: Using backend ThreadingBackend with 15 concurrent workers.\n",
      "[Parallel(n_jobs=-2)]: Done  20 tasks      | elapsed:    0.0s\n",
      "[Parallel(n_jobs=-2)]: Done 170 tasks      | elapsed:    0.0s\n",
      "[Parallel(n_jobs=-2)]: Done 200 out of 200 | elapsed:    0.0s finished\n",
      "[Parallel(n_jobs=15)]: Using backend ThreadingBackend with 15 concurrent workers.\n",
      "[Parallel(n_jobs=15)]: Done  20 tasks      | elapsed:    0.0s\n",
      "[Parallel(n_jobs=15)]: Done 170 tasks      | elapsed:    0.0s\n",
      "[Parallel(n_jobs=15)]: Done 200 out of 200 | elapsed:    0.0s finished\n",
      "[Parallel(n_jobs=15)]: Using backend ThreadingBackend with 15 concurrent workers.\n",
      "[Parallel(n_jobs=15)]: Done  20 tasks      | elapsed:    0.0s\n",
      "[Parallel(n_jobs=15)]: Done 170 tasks      | elapsed:    0.0s\n",
      "[Parallel(n_jobs=15)]: Done 200 out of 200 | elapsed:    0.0s finished\n",
      "[Parallel(n_jobs=15)]: Using backend ThreadingBackend with 15 concurrent workers.\n",
      "[Parallel(n_jobs=15)]: Done  20 tasks      | elapsed:    0.0s\n",
      "[Parallel(n_jobs=15)]: Done 170 tasks      | elapsed:    0.0s\n",
      "[Parallel(n_jobs=15)]: Done 200 out of 200 | elapsed:    0.0s finished\n"
     ]
    },
    {
     "name": "stdout",
     "output_type": "stream",
     "text": [
      "Model Number: 485 with model ETS in generation 3 of 10\n",
      "Model Number: 486 with model GLS in generation 3 of 10\n",
      "Template Eval Error: Exception('Transformer BTCD failed on fit') in model 486: GLS\n",
      "Model Number: 487 with model SeasonalNaive in generation 3 of 10\n",
      "Model Number: 488 with model UnobservedComponents in generation 3 of 10\n",
      "Model Number: 489 with model GLS in generation 3 of 10\n"
     ]
    },
    {
     "name": "stderr",
     "output_type": "stream",
     "text": [
      "[Parallel(n_jobs=15)]: Using backend ThreadingBackend with 15 concurrent workers.\n",
      "[Parallel(n_jobs=15)]: Done  20 tasks      | elapsed:    0.0s\n",
      "[Parallel(n_jobs=15)]: Done 170 tasks      | elapsed:    0.0s\n",
      "[Parallel(n_jobs=15)]: Done 200 out of 200 | elapsed:    0.0s finished\n"
     ]
    },
    {
     "name": "stdout",
     "output_type": "stream",
     "text": [
      "Model Number: 490 with model ConstantNaive in generation 3 of 10\n",
      "Model Number: 491 with model SeasonalNaive in generation 3 of 10\n",
      "Model Number: 492 with model ARDL in generation 3 of 10\n",
      "Template Eval Error: ValueError(\"regression_type='User' but future_regressor not supplied\") in model 492: ARDL\n",
      "Model Number: 493 with model UnobservedComponents in generation 3 of 10\n",
      "Model Number: 494 with model DatepartRegression in generation 3 of 10\n",
      "Template Eval Error: ValueError(\"regression_type='User' but no future_regressor passed\") in model 494: DatepartRegression\n",
      "New Generation: 4 of 10\n",
      "Model Number: 495 with model NVAR in generation 4 of 10\n",
      "Model Number: 496 with model DatepartRegression in generation 4 of 10\n",
      "Model Number: 497 with model DatepartRegression in generation 4 of 10\n",
      "Model Number: 498 with model UnobservedComponents in generation 4 of 10\n",
      "Template Eval Error: ValueError(\"regression_type='User' but no future_regressor supplied\") in model 498: UnobservedComponents\n",
      "Model Number: 499 with model SeasonalNaive in generation 4 of 10\n",
      "Model Number: 500 with model MultivariateRegression in generation 4 of 10\n"
     ]
    },
    {
     "name": "stderr",
     "output_type": "stream",
     "text": [
      "C:\\Users\\henry\\miniconda3\\envs\\jupyter_env\\lib\\site-packages\\sklearn\\linear_model\\_glm\\link.py:90: RuntimeWarning: overflow encountered in exp\n",
      "  return np.exp(lin_pred)\n",
      "C:\\Users\\henry\\miniconda3\\envs\\jupyter_env\\lib\\site-packages\\sklearn\\linear_model\\_glm\\link.py:93: RuntimeWarning: overflow encountered in exp\n",
      "  return np.exp(lin_pred)\n",
      "C:\\Users\\henry\\miniconda3\\envs\\jupyter_env\\lib\\site-packages\\sklearn\\_loss\\glm_distribution.py:132: RuntimeWarning: invalid value encountered in true_divide\n",
      "  return -2 * (y - y_pred) / self.unit_variance(y_pred)\n",
      "C:\\Users\\henry\\miniconda3\\envs\\jupyter_env\\lib\\site-packages\\sklearn\\_loss\\glm_distribution.py:323: RuntimeWarning: invalid value encountered in add\n",
      "  dev = 2 * (xlogy(y, y / y_pred) - y + y_pred)\n",
      "C:\\Users\\henry\\miniconda3\\envs\\jupyter_env\\lib\\site-packages\\sklearn\\linear_model\\_glm\\glm.py:323: ConvergenceWarning: lbfgs failed to converge (status=2):\n",
      "ABNORMAL_TERMINATION_IN_LNSRCH.\n",
      "\n",
      "Increase the number of iterations (max_iter) or scale the data as shown in:\n",
      "    https://scikit-learn.org/stable/modules/preprocessing.html\n",
      "  self.n_iter_ = _check_optimize_result(\"lbfgs\", opt_res)\n",
      "[Parallel(n_jobs=-2)]: Using backend ThreadingBackend with 15 concurrent workers.\n",
      "[Parallel(n_jobs=-2)]: Done  20 tasks      | elapsed:    0.0s\n",
      "[Parallel(n_jobs=-2)]: Done 170 tasks      | elapsed:    0.0s\n",
      "[Parallel(n_jobs=-2)]: Done 200 out of 200 | elapsed:    0.0s finished\n",
      "[Parallel(n_jobs=15)]: Using backend ThreadingBackend with 15 concurrent workers.\n",
      "[Parallel(n_jobs=15)]: Done  20 tasks      | elapsed:    0.0s\n",
      "[Parallel(n_jobs=15)]: Done 170 tasks      | elapsed:    0.0s\n",
      "[Parallel(n_jobs=15)]: Done 200 out of 200 | elapsed:    0.0s finished\n",
      "[Parallel(n_jobs=15)]: Using backend ThreadingBackend with 15 concurrent workers.\n",
      "[Parallel(n_jobs=15)]: Done  20 tasks      | elapsed:    0.0s\n",
      "[Parallel(n_jobs=15)]: Done 170 tasks      | elapsed:    0.0s\n",
      "[Parallel(n_jobs=15)]: Done 200 out of 200 | elapsed:    0.0s finished\n",
      "[Parallel(n_jobs=15)]: Using backend ThreadingBackend with 15 concurrent workers.\n",
      "[Parallel(n_jobs=15)]: Done  20 tasks      | elapsed:    0.0s\n",
      "[Parallel(n_jobs=15)]: Done 170 tasks      | elapsed:    0.0s\n",
      "[Parallel(n_jobs=15)]: Done 200 out of 200 | elapsed:    0.0s finished\n"
     ]
    },
    {
     "name": "stdout",
     "output_type": "stream",
     "text": [
      "Model Number: 501 with model Theta in generation 4 of 10\n",
      "Model Number: 502 with model ARDL in generation 4 of 10\n",
      "Template Eval Error: IndexError('tuple index out of range') in model 502: ARDL\n",
      "Model Number: 503 with model NVAR in generation 4 of 10\n",
      "Model Number: 504 with model GLS in generation 4 of 10\n"
     ]
    },
    {
     "name": "stderr",
     "output_type": "stream",
     "text": [
      "[Parallel(n_jobs=15)]: Using backend ThreadingBackend with 15 concurrent workers.\n",
      "[Parallel(n_jobs=15)]: Done  20 tasks      | elapsed:    0.0s\n",
      "[Parallel(n_jobs=15)]: Done 170 tasks      | elapsed:    0.0s\n",
      "[Parallel(n_jobs=15)]: Done 200 out of 200 | elapsed:    0.0s finished\n",
      "C:\\Users\\henry\\miniconda3\\envs\\jupyter_env\\lib\\site-packages\\autots\\tools\\probabilistic.py:67: RuntimeWarning: invalid value encountered in true_divide\n",
      "  (prior_mu / prior_sigma**2) + ((n * data_mu) / prior_sigma**2)\n",
      "C:\\Users\\henry\\miniconda3\\envs\\jupyter_env\\lib\\site-packages\\autots\\tools\\probabilistic.py:68: RuntimeWarning: divide by zero encountered in true_divide\n",
      "  ) / ((1 / prior_sigma**2) + (n / prior_sigma**2))\n"
     ]
    },
    {
     "name": "stdout",
     "output_type": "stream",
     "text": [
      "Model Number: 505 with model GLS in generation 4 of 10\n",
      "Model Number: 506 with model LastValueNaive in generation 4 of 10\n",
      "Model Number: 507 with model LastValueNaive in generation 4 of 10\n",
      "Model Number: 508 with model AverageValueNaive in generation 4 of 10\n",
      "Template Eval Error: Exception('Transformer Cointegration failed on fit') in model 508: AverageValueNaive\n",
      "Model Number: 509 with model UnobservedComponents in generation 4 of 10\n",
      "Model Number: 510 with model LastValueNaive in generation 4 of 10\n",
      "Model Number: 511 with model ConstantNaive in generation 4 of 10\n",
      "Model Number: 512 with model AverageValueNaive in generation 4 of 10\n",
      "Model Number: 513 with model SeasonalNaive in generation 4 of 10\n",
      "Model Number: 514 with model LastValueNaive in generation 4 of 10\n",
      "Model Number: 515 with model LastValueNaive in generation 4 of 10\n",
      "Model Number: 516 with model MultivariateRegression in generation 4 of 10\n"
     ]
    },
    {
     "name": "stderr",
     "output_type": "stream",
     "text": [
      "C:\\Users\\henry\\miniconda3\\envs\\jupyter_env\\lib\\site-packages\\sklearn\\decomposition\\_pca.py:501: RuntimeWarning: invalid value encountered in true_divide\n",
      "  explained_variance_ratio_ = explained_variance_ / total_var\n",
      "C:\\Users\\henry\\miniconda3\\envs\\jupyter_env\\lib\\site-packages\\sklearn\\preprocessing\\_data.py:3253: RuntimeWarning: divide by zero encountered in log\n",
      "  loglike = -n_samples / 2 * np.log(x_trans.var())\n",
      "[Parallel(n_jobs=-2)]: Using backend ThreadingBackend with 15 concurrent workers.\n",
      "[Parallel(n_jobs=-2)]: Done  20 tasks      | elapsed:    0.0s\n",
      "[Parallel(n_jobs=-2)]: Done 170 tasks      | elapsed:    0.0s\n",
      "[Parallel(n_jobs=-2)]: Done 200 out of 200 | elapsed:    0.0s finished\n",
      "[Parallel(n_jobs=15)]: Using backend ThreadingBackend with 15 concurrent workers.\n",
      "[Parallel(n_jobs=15)]: Done  20 tasks      | elapsed:    0.0s\n",
      "[Parallel(n_jobs=15)]: Done 170 tasks      | elapsed:    0.0s\n",
      "[Parallel(n_jobs=15)]: Done 200 out of 200 | elapsed:    0.0s finished\n",
      "[Parallel(n_jobs=15)]: Using backend ThreadingBackend with 15 concurrent workers.\n",
      "[Parallel(n_jobs=15)]: Done  20 tasks      | elapsed:    0.0s\n",
      "[Parallel(n_jobs=15)]: Done 170 tasks      | elapsed:    0.0s\n",
      "[Parallel(n_jobs=15)]: Done 200 out of 200 | elapsed:    0.0s finished\n",
      "[Parallel(n_jobs=15)]: Using backend ThreadingBackend with 15 concurrent workers.\n",
      "[Parallel(n_jobs=15)]: Done  20 tasks      | elapsed:    0.0s\n",
      "[Parallel(n_jobs=15)]: Done 170 tasks      | elapsed:    0.0s\n",
      "[Parallel(n_jobs=15)]: Done 200 out of 200 | elapsed:    0.0s finished\n"
     ]
    },
    {
     "name": "stdout",
     "output_type": "stream",
     "text": [
      "Model Number: 517 with model GLS in generation 4 of 10\n",
      "Model Number: 518 with model UnobservedComponents in generation 4 of 10\n"
     ]
    },
    {
     "name": "stderr",
     "output_type": "stream",
     "text": [
      "[Parallel(n_jobs=15)]: Using backend ThreadingBackend with 15 concurrent workers.\n",
      "[Parallel(n_jobs=15)]: Done  20 tasks      | elapsed:    0.0s\n",
      "[Parallel(n_jobs=15)]: Done 170 tasks      | elapsed:    0.0s\n",
      "[Parallel(n_jobs=15)]: Done 200 out of 200 | elapsed:    0.0s finished\n",
      "C:\\Users\\henry\\miniconda3\\envs\\jupyter_env\\lib\\site-packages\\autots\\tools\\probabilistic.py:67: RuntimeWarning: invalid value encountered in true_divide\n",
      "  (prior_mu / prior_sigma**2) + ((n * data_mu) / prior_sigma**2)\n",
      "C:\\Users\\henry\\miniconda3\\envs\\jupyter_env\\lib\\site-packages\\autots\\tools\\probabilistic.py:68: RuntimeWarning: divide by zero encountered in true_divide\n",
      "  ) / ((1 / prior_sigma**2) + (n / prior_sigma**2))\n"
     ]
    },
    {
     "name": "stdout",
     "output_type": "stream",
     "text": [
      "Model Number: 519 with model NVAR in generation 4 of 10\n",
      "Model Number: 520 with model NVAR in generation 4 of 10\n",
      "Model Number: 521 with model AverageValueNaive in generation 4 of 10\n",
      "Template Eval Error: Exception('Transformer Cointegration failed on fit') in model 521: AverageValueNaive\n",
      "Model Number: 522 with model GLS in generation 4 of 10\n",
      "Model Number: 523 with model ARDL in generation 4 of 10\n",
      "Template Eval Error: IndexError('tuple index out of range') in model 523: ARDL\n",
      "Model Number: 524 with model AverageValueNaive in generation 4 of 10\n",
      "Model Number: 525 with model LastValueNaive in generation 4 of 10\n",
      "Model Number: 526 with model ETS in generation 4 of 10\n",
      "Template Eval Error: Exception('Transformer Detrend failed on fit') in model 526: ETS\n",
      "Model Number: 527 with model NVAR in generation 4 of 10\n",
      "Model Number: 528 with model AverageValueNaive in generation 4 of 10\n",
      "Model Number: 529 with model SeasonalNaive in generation 4 of 10\n",
      "Model Number: 530 with model NVAR in generation 4 of 10\n",
      "Model Number: 531 with model GLS in generation 4 of 10\n",
      "Model Number: 532 with model ConstantNaive in generation 4 of 10\n",
      "Model Number: 533 with model UnobservedComponents in generation 4 of 10\n",
      "Model Number: 534 with model LastValueNaive in generation 4 of 10\n",
      "Model Number: 535 with model LastValueNaive in generation 4 of 10\n",
      "Model Number: 536 with model ConstantNaive in generation 4 of 10\n",
      "Model Number: 537 with model GLS in generation 4 of 10\n",
      "Model Number: 538 with model DatepartRegression in generation 4 of 10\n",
      "Model Number: 539 with model AverageValueNaive in generation 4 of 10\n",
      "Model Number: 540 with model AverageValueNaive in generation 4 of 10\n",
      "Model Number: 541 with model ConstantNaive in generation 4 of 10\n",
      "Model Number: 542 with model UnobservedComponents in generation 4 of 10\n"
     ]
    },
    {
     "name": "stderr",
     "output_type": "stream",
     "text": [
      "C:\\Users\\henry\\miniconda3\\envs\\jupyter_env\\lib\\site-packages\\sklearn\\linear_model\\_glm\\link.py:90: RuntimeWarning: overflow encountered in exp\n",
      "  return np.exp(lin_pred)\n",
      "C:\\Users\\henry\\miniconda3\\envs\\jupyter_env\\lib\\site-packages\\sklearn\\linear_model\\_glm\\link.py:93: RuntimeWarning: overflow encountered in exp\n",
      "  return np.exp(lin_pred)\n",
      "C:\\Users\\henry\\miniconda3\\envs\\jupyter_env\\lib\\site-packages\\sklearn\\_loss\\glm_distribution.py:132: RuntimeWarning: invalid value encountered in true_divide\n",
      "  return -2 * (y - y_pred) / self.unit_variance(y_pred)\n"
     ]
    },
    {
     "name": "stdout",
     "output_type": "stream",
     "text": [
      "Model Number: 543 with model ETS in generation 4 of 10\n",
      "ETS error ValueError('Cannot compute initial seasonals using heuristic method with less than two full seasonal cycles in the data.')\n",
      "ETS failed on followers_gained with ValueError('Cannot compute initial seasonals using heuristic method with less than two full seasonal cycles in the data.')\n",
      "Model Number: 544 with model ARDL in generation 4 of 10\n"
     ]
    },
    {
     "name": "stderr",
     "output_type": "stream",
     "text": [
      "C:\\Users\\henry\\miniconda3\\envs\\jupyter_env\\lib\\site-packages\\sklearn\\linear_model\\_glm\\link.py:90: RuntimeWarning: overflow encountered in exp\n",
      "  return np.exp(lin_pred)\n",
      "C:\\Users\\henry\\miniconda3\\envs\\jupyter_env\\lib\\site-packages\\sklearn\\linear_model\\_glm\\link.py:93: RuntimeWarning: overflow encountered in exp\n",
      "  return np.exp(lin_pred)\n",
      "C:\\Users\\henry\\miniconda3\\envs\\jupyter_env\\lib\\site-packages\\sklearn\\_loss\\glm_distribution.py:132: RuntimeWarning: invalid value encountered in true_divide\n",
      "  return -2 * (y - y_pred) / self.unit_variance(y_pred)\n",
      "C:\\Users\\henry\\miniconda3\\envs\\jupyter_env\\lib\\site-packages\\sklearn\\_loss\\glm_distribution.py:323: RuntimeWarning: invalid value encountered in add\n",
      "  dev = 2 * (xlogy(y, y / y_pred) - y + y_pred)\n",
      "C:\\Users\\henry\\miniconda3\\envs\\jupyter_env\\lib\\site-packages\\sklearn\\linear_model\\_glm\\glm.py:323: ConvergenceWarning: lbfgs failed to converge (status=2):\n",
      "ABNORMAL_TERMINATION_IN_LNSRCH.\n",
      "\n",
      "Increase the number of iterations (max_iter) or scale the data as shown in:\n",
      "    https://scikit-learn.org/stable/modules/preprocessing.html\n",
      "  self.n_iter_ = _check_optimize_result(\"lbfgs\", opt_res)\n"
     ]
    },
    {
     "name": "stdout",
     "output_type": "stream",
     "text": [
      "Model Number: 545 with model ConstantNaive in generation 4 of 10\n",
      "Model Number: 546 with model SeasonalNaive in generation 4 of 10\n",
      "Model Number: 547 with model Theta in generation 4 of 10\n",
      "Model Number: 548 with model GLS in generation 4 of 10\n",
      "Model Number: 549 with model MultivariateRegression in generation 4 of 10\n"
     ]
    },
    {
     "name": "stderr",
     "output_type": "stream",
     "text": [
      "C:\\Users\\henry\\miniconda3\\envs\\jupyter_env\\lib\\site-packages\\sklearn\\linear_model\\_glm\\link.py:90: RuntimeWarning: overflow encountered in exp\n",
      "  return np.exp(lin_pred)\n",
      "C:\\Users\\henry\\miniconda3\\envs\\jupyter_env\\lib\\site-packages\\sklearn\\linear_model\\_glm\\link.py:93: RuntimeWarning: overflow encountered in exp\n",
      "  return np.exp(lin_pred)\n",
      "C:\\Users\\henry\\miniconda3\\envs\\jupyter_env\\lib\\site-packages\\sklearn\\_loss\\glm_distribution.py:132: RuntimeWarning: invalid value encountered in true_divide\n",
      "  return -2 * (y - y_pred) / self.unit_variance(y_pred)\n",
      "[Parallel(n_jobs=-2)]: Using backend ThreadingBackend with 15 concurrent workers.\n",
      "[Parallel(n_jobs=-2)]: Done  20 tasks      | elapsed:    0.0s\n",
      "[Parallel(n_jobs=-2)]: Done 170 tasks      | elapsed:    0.0s\n",
      "[Parallel(n_jobs=-2)]: Done 200 out of 200 | elapsed:    0.1s finished\n",
      "[Parallel(n_jobs=15)]: Using backend ThreadingBackend with 15 concurrent workers.\n",
      "[Parallel(n_jobs=15)]: Done  20 tasks      | elapsed:    0.0s\n",
      "[Parallel(n_jobs=15)]: Done 170 tasks      | elapsed:    0.0s\n",
      "[Parallel(n_jobs=15)]: Done 200 out of 200 | elapsed:    0.0s finished\n",
      "[Parallel(n_jobs=15)]: Using backend ThreadingBackend with 15 concurrent workers.\n",
      "[Parallel(n_jobs=15)]: Done  20 tasks      | elapsed:    0.0s\n",
      "[Parallel(n_jobs=15)]: Done 170 tasks      | elapsed:    0.0s\n",
      "[Parallel(n_jobs=15)]: Done 200 out of 200 | elapsed:    0.0s finished\n",
      "[Parallel(n_jobs=15)]: Using backend ThreadingBackend with 15 concurrent workers.\n",
      "[Parallel(n_jobs=15)]: Done  20 tasks      | elapsed:    0.0s\n",
      "[Parallel(n_jobs=15)]: Done 170 tasks      | elapsed:    0.0s\n",
      "[Parallel(n_jobs=15)]: Done 200 out of 200 | elapsed:    0.0s finished\n",
      "[Parallel(n_jobs=15)]: Using backend ThreadingBackend with 15 concurrent workers.\n",
      "[Parallel(n_jobs=15)]: Done  20 tasks      | elapsed:    0.0s\n",
      "[Parallel(n_jobs=15)]: Done 170 tasks      | elapsed:    0.0s\n",
      "[Parallel(n_jobs=15)]: Done 200 out of 200 | elapsed:    0.0s finished\n"
     ]
    },
    {
     "name": "stdout",
     "output_type": "stream",
     "text": [
      "Model Number: 550 with model UnobservedComponents in generation 4 of 10\n",
      "Model Number: 551 with model AverageValueNaive in generation 4 of 10\n",
      "Model Number: 552 with model NVAR in generation 4 of 10\n",
      "Model Number: 553 with model NVAR in generation 4 of 10\n",
      "Model Number: 554 with model SeasonalNaive in generation 4 of 10\n",
      "Template Eval Error: Exception('Transformer Cointegration failed on fit') in model 554: SeasonalNaive\n",
      "Model Number: 555 with model Theta in generation 4 of 10\n",
      "Model Number: 556 with model DatepartRegression in generation 4 of 10\n",
      "Model Number: 557 with model DatepartRegression in generation 4 of 10\n",
      "Template Eval Error: ImportError('Tensorflow not available, install with pip install tensorflow.') in model 557: DatepartRegression\n",
      "Model Number: 558 with model MultivariateRegression in generation 4 of 10\n"
     ]
    },
    {
     "name": "stderr",
     "output_type": "stream",
     "text": [
      "C:\\Users\\henry\\miniconda3\\envs\\jupyter_env\\lib\\site-packages\\sklearn\\linear_model\\_glm\\link.py:90: RuntimeWarning: overflow encountered in exp\n",
      "  return np.exp(lin_pred)\n",
      "C:\\Users\\henry\\miniconda3\\envs\\jupyter_env\\lib\\site-packages\\sklearn\\linear_model\\_glm\\link.py:93: RuntimeWarning: overflow encountered in exp\n",
      "  return np.exp(lin_pred)\n",
      "C:\\Users\\henry\\miniconda3\\envs\\jupyter_env\\lib\\site-packages\\sklearn\\_loss\\glm_distribution.py:132: RuntimeWarning: invalid value encountered in true_divide\n",
      "  return -2 * (y - y_pred) / self.unit_variance(y_pred)\n",
      "C:\\Users\\henry\\miniconda3\\envs\\jupyter_env\\lib\\site-packages\\sklearn\\linear_model\\_glm\\link.py:90: RuntimeWarning: overflow encountered in exp\n",
      "  return np.exp(lin_pred)\n",
      "C:\\Users\\henry\\miniconda3\\envs\\jupyter_env\\lib\\site-packages\\sklearn\\linear_model\\_glm\\link.py:93: RuntimeWarning: overflow encountered in exp\n",
      "  return np.exp(lin_pred)\n",
      "C:\\Users\\henry\\miniconda3\\envs\\jupyter_env\\lib\\site-packages\\sklearn\\_loss\\glm_distribution.py:132: RuntimeWarning: invalid value encountered in true_divide\n",
      "  return -2 * (y - y_pred) / self.unit_variance(y_pred)\n",
      "[Parallel(n_jobs=-2)]: Using backend ThreadingBackend with 15 concurrent workers.\n",
      "[Parallel(n_jobs=-2)]: Done  20 tasks      | elapsed:    0.0s\n",
      "[Parallel(n_jobs=-2)]: Done 170 tasks      | elapsed:    0.0s\n",
      "[Parallel(n_jobs=-2)]: Done 200 out of 200 | elapsed:    0.1s finished\n",
      "[Parallel(n_jobs=15)]: Using backend ThreadingBackend with 15 concurrent workers.\n",
      "[Parallel(n_jobs=15)]: Done  20 tasks      | elapsed:    0.0s\n",
      "[Parallel(n_jobs=15)]: Done 170 tasks      | elapsed:    0.0s\n",
      "[Parallel(n_jobs=15)]: Done 200 out of 200 | elapsed:    0.0s finished\n",
      "[Parallel(n_jobs=15)]: Using backend ThreadingBackend with 15 concurrent workers.\n",
      "[Parallel(n_jobs=15)]: Done  20 tasks      | elapsed:    0.0s\n",
      "[Parallel(n_jobs=15)]: Done 170 tasks      | elapsed:    0.0s\n",
      "[Parallel(n_jobs=15)]: Done 200 out of 200 | elapsed:    0.0s finished\n",
      "[Parallel(n_jobs=15)]: Using backend ThreadingBackend with 15 concurrent workers.\n",
      "[Parallel(n_jobs=15)]: Done  20 tasks      | elapsed:    0.0s\n",
      "[Parallel(n_jobs=15)]: Done 170 tasks      | elapsed:    0.0s\n",
      "[Parallel(n_jobs=15)]: Done 200 out of 200 | elapsed:    0.0s finished\n",
      "[Parallel(n_jobs=15)]: Using backend ThreadingBackend with 15 concurrent workers.\n",
      "[Parallel(n_jobs=15)]: Done  20 tasks      | elapsed:    0.0s\n",
      "[Parallel(n_jobs=15)]: Done 170 tasks      | elapsed:    0.0s\n"
     ]
    },
    {
     "name": "stdout",
     "output_type": "stream",
     "text": [
      "Model Number: 559 with model SeasonalNaive in generation 4 of 10\n",
      "Model Number: 560 with model SeasonalNaive in generation 4 of 10\n",
      "Model Number: 561 with model GLS in generation 4 of 10\n"
     ]
    },
    {
     "name": "stderr",
     "output_type": "stream",
     "text": [
      "[Parallel(n_jobs=15)]: Done 200 out of 200 | elapsed:    0.0s finished\n",
      "C:\\Users\\henry\\miniconda3\\envs\\jupyter_env\\lib\\site-packages\\sklearn\\linear_model\\_glm\\link.py:90: RuntimeWarning: overflow encountered in exp\n",
      "  return np.exp(lin_pred)\n",
      "C:\\Users\\henry\\miniconda3\\envs\\jupyter_env\\lib\\site-packages\\sklearn\\linear_model\\_glm\\link.py:93: RuntimeWarning: overflow encountered in exp\n",
      "  return np.exp(lin_pred)\n",
      "C:\\Users\\henry\\miniconda3\\envs\\jupyter_env\\lib\\site-packages\\sklearn\\_loss\\glm_distribution.py:132: RuntimeWarning: invalid value encountered in true_divide\n",
      "  return -2 * (y - y_pred) / self.unit_variance(y_pred)\n"
     ]
    },
    {
     "name": "stdout",
     "output_type": "stream",
     "text": [
      "Model Number: 562 with model DatepartRegression in generation 4 of 10\n",
      "Template Eval Error: Exception('Transformer Cointegration failed on fit') in model 562: DatepartRegression\n",
      "Model Number: 563 with model GLM in generation 4 of 10\n",
      "Template Eval Error: TypeError(\"ufunc 'isfinite' not supported for the input types, and the inputs could not be safely coerced to any supported types according to the casting rule ''safe''\") in model 563: GLM\n",
      "Model Number: 564 with model UnobservedComponents in generation 4 of 10\n"
     ]
    },
    {
     "name": "stderr",
     "output_type": "stream",
     "text": [
      "C:\\Users\\henry\\miniconda3\\envs\\jupyter_env\\lib\\site-packages\\statsmodels\\genmod\\generalized_linear_model.py:298: DomainWarning: The inverse_power link function does not respect the domain of the Gamma family.\n",
      "  warnings.warn((f\"The {type(family.link).__name__} link function \"\n"
     ]
    },
    {
     "name": "stdout",
     "output_type": "stream",
     "text": [
      "Model Number: 565 with model LastValueNaive in generation 4 of 10\n",
      "Model Number: 566 with model ARDL in generation 4 of 10\n",
      "Model Number: 567 with model MultivariateRegression in generation 4 of 10\n"
     ]
    },
    {
     "name": "stderr",
     "output_type": "stream",
     "text": [
      "[Parallel(n_jobs=-2)]: Using backend ThreadingBackend with 15 concurrent workers.\n",
      "[Parallel(n_jobs=-2)]: Done  20 tasks      | elapsed:    0.0s\n",
      "[Parallel(n_jobs=-2)]: Done 170 tasks      | elapsed:    0.1s\n",
      "[Parallel(n_jobs=-2)]: Done 200 out of 200 | elapsed:    0.1s finished\n",
      "[Parallel(n_jobs=15)]: Using backend ThreadingBackend with 15 concurrent workers.\n",
      "[Parallel(n_jobs=15)]: Done  20 tasks      | elapsed:    0.0s\n",
      "[Parallel(n_jobs=15)]: Done 170 tasks      | elapsed:    0.0s\n",
      "[Parallel(n_jobs=15)]: Done 200 out of 200 | elapsed:    0.0s finished\n",
      "[Parallel(n_jobs=15)]: Using backend ThreadingBackend with 15 concurrent workers.\n",
      "[Parallel(n_jobs=15)]: Done  20 tasks      | elapsed:    0.0s\n",
      "[Parallel(n_jobs=15)]: Done 170 tasks      | elapsed:    0.0s\n",
      "[Parallel(n_jobs=15)]: Done 200 out of 200 | elapsed:    0.0s finished\n",
      "[Parallel(n_jobs=15)]: Using backend ThreadingBackend with 15 concurrent workers.\n",
      "[Parallel(n_jobs=15)]: Done  20 tasks      | elapsed:    0.0s\n",
      "[Parallel(n_jobs=15)]: Done 170 tasks      | elapsed:    0.0s\n",
      "[Parallel(n_jobs=15)]: Done 200 out of 200 | elapsed:    0.0s finished\n",
      "[Parallel(n_jobs=15)]: Using backend ThreadingBackend with 15 concurrent workers.\n",
      "[Parallel(n_jobs=15)]: Done  20 tasks      | elapsed:    0.0s\n",
      "[Parallel(n_jobs=15)]: Done 170 tasks      | elapsed:    0.0s\n",
      "[Parallel(n_jobs=15)]: Done 200 out of 200 | elapsed:    0.0s finished\n"
     ]
    },
    {
     "name": "stdout",
     "output_type": "stream",
     "text": [
      "Model Number: 568 with model UnobservedComponents in generation 4 of 10\n",
      "Model Number: 569 with model GLS in generation 4 of 10\n",
      "Model Number: 570 with model UnobservedComponents in generation 4 of 10\n",
      "Template Eval Error: LinAlgError('Singular matrix') in model 570: UnobservedComponents\n",
      "Model Number: 571 with model ETS in generation 4 of 10\n",
      "Model Number: 572 with model LastValueNaive in generation 4 of 10\n",
      "Model Number: 573 with model LastValueNaive in generation 4 of 10\n",
      "Model Number: 574 with model SeasonalNaive in generation 4 of 10\n",
      "Template Eval Error: ValueError('Model SeasonalNaive returned NaN for one or more series. fail_on_forecast_nan=True') in model 574: SeasonalNaive\n",
      "Model Number: 575 with model ConstantNaive in generation 4 of 10\n",
      "Model Number: 576 with model ARDL in generation 4 of 10\n",
      "Model Number: 577 with model Theta in generation 4 of 10\n",
      "Model Number: 578 with model ETS in generation 4 of 10\n",
      "Model Number: 579 with model ARDL in generation 4 of 10\n",
      "Model Number: 580 with model LastValueNaive in generation 4 of 10\n",
      "Model Number: 581 with model AverageValueNaive in generation 4 of 10\n",
      "Model Number: 582 with model NVAR in generation 4 of 10\n",
      "Model Number: 583 with model AverageValueNaive in generation 4 of 10\n",
      "Model Number: 584 with model SeasonalNaive in generation 4 of 10\n",
      "Model Number: 585 with model ARDL in generation 4 of 10\n",
      "Model Number: 586 with model Theta in generation 4 of 10\n",
      "Model Number: 587 with model UnobservedComponents in generation 4 of 10\n",
      "Model Number: 588 with model ConstantNaive in generation 4 of 10\n",
      "Model Number: 589 with model UnobservedComponents in generation 4 of 10\n",
      "Model Number: 590 with model ETS in generation 4 of 10\n",
      "Model Number: 591 with model Theta in generation 4 of 10\n",
      "Model Number: 592 with model UnobservedComponents in generation 4 of 10\n",
      "Model Number: 593 with model SeasonalNaive in generation 4 of 10\n",
      "Model Number: 594 with model GLS in generation 4 of 10\n",
      "Model Number: 595 with model ETS in generation 4 of 10\n",
      "Model Number: 596 with model Theta in generation 4 of 10\n",
      "Model Number: 597 with model ETS in generation 4 of 10\n",
      "Model Number: 598 with model SeasonalNaive in generation 4 of 10\n",
      "Template Eval Error: Exception('Transformer STLFilter failed on fit') in model 598: SeasonalNaive\n",
      "Model Number: 599 with model ConstantNaive in generation 4 of 10\n",
      "Model Number: 600 with model MultivariateRegression in generation 4 of 10\n"
     ]
    },
    {
     "name": "stderr",
     "output_type": "stream",
     "text": [
      "[Parallel(n_jobs=-2)]: Using backend ThreadingBackend with 15 concurrent workers.\n",
      "[Parallel(n_jobs=-2)]: Done  20 tasks      | elapsed:    0.0s\n",
      "[Parallel(n_jobs=-2)]: Done 170 tasks      | elapsed:    0.0s\n",
      "[Parallel(n_jobs=-2)]: Done 200 out of 200 | elapsed:    0.0s finished\n",
      "[Parallel(n_jobs=15)]: Using backend ThreadingBackend with 15 concurrent workers.\n",
      "[Parallel(n_jobs=15)]: Done  20 tasks      | elapsed:    0.0s\n",
      "[Parallel(n_jobs=15)]: Done 170 tasks      | elapsed:    0.0s\n",
      "[Parallel(n_jobs=15)]: Done 200 out of 200 | elapsed:    0.0s finished\n",
      "[Parallel(n_jobs=15)]: Using backend ThreadingBackend with 15 concurrent workers.\n",
      "[Parallel(n_jobs=15)]: Done  20 tasks      | elapsed:    0.0s\n",
      "[Parallel(n_jobs=15)]: Done 170 tasks      | elapsed:    0.0s\n",
      "[Parallel(n_jobs=15)]: Done 200 out of 200 | elapsed:    0.0s finished\n",
      "[Parallel(n_jobs=15)]: Using backend ThreadingBackend with 15 concurrent workers.\n",
      "[Parallel(n_jobs=15)]: Done  20 tasks      | elapsed:    0.0s\n",
      "[Parallel(n_jobs=15)]: Done 170 tasks      | elapsed:    0.0s\n",
      "[Parallel(n_jobs=15)]: Done 200 out of 200 | elapsed:    0.0s finished\n"
     ]
    },
    {
     "name": "stdout",
     "output_type": "stream",
     "text": [
      "Model Number: 601 with model AverageValueNaive in generation 4 of 10\n"
     ]
    },
    {
     "name": "stderr",
     "output_type": "stream",
     "text": [
      "[Parallel(n_jobs=15)]: Using backend ThreadingBackend with 15 concurrent workers.\n",
      "[Parallel(n_jobs=15)]: Done  20 tasks      | elapsed:    0.0s\n",
      "[Parallel(n_jobs=15)]: Done 170 tasks      | elapsed:    0.0s\n",
      "[Parallel(n_jobs=15)]: Done 200 out of 200 | elapsed:    0.0s finished\n"
     ]
    },
    {
     "name": "stdout",
     "output_type": "stream",
     "text": [
      "Model Number: 602 with model UnobservedComponents in generation 4 of 10\n",
      "Model Number: 603 with model SeasonalNaive in generation 4 of 10\n",
      "Model Number: 604 with model ConstantNaive in generation 4 of 10\n",
      "New Generation: 5 of 10\n"
     ]
    },
    {
     "name": "stderr",
     "output_type": "stream",
     "text": [
      "C:\\Users\\henry\\miniconda3\\envs\\jupyter_env\\lib\\site-packages\\sklearn\\decomposition\\_pca.py:501: RuntimeWarning: invalid value encountered in true_divide\n",
      "  explained_variance_ratio_ = explained_variance_ / total_var\n"
     ]
    },
    {
     "name": "stdout",
     "output_type": "stream",
     "text": [
      "Model Number: 605 with model LastValueNaive in generation 5 of 10\n",
      "Model Number: 606 with model MultivariateRegression in generation 5 of 10\n",
      "Template Eval Error: ValueError(\"regression_type='User' but not future_regressor supplied.\") in model 606: MultivariateRegression\n",
      "Model Number: 607 with model LastValueNaive in generation 5 of 10\n",
      "Model Number: 608 with model ETS in generation 5 of 10\n",
      "Model Number: 609 with model AverageValueNaive in generation 5 of 10\n",
      "Model Number: 610 with model AverageValueNaive in generation 5 of 10\n",
      "Model Number: 611 with model UnobservedComponents in generation 5 of 10\n",
      "Model Number: 612 with model ETS in generation 5 of 10\n",
      "Model Number: 613 with model LastValueNaive in generation 5 of 10\n",
      "Model Number: 614 with model Theta in generation 5 of 10\n",
      "Template Eval Error: Exception('Transformer BTCD failed on fit') in model 614: Theta\n",
      "Model Number: 615 with model UnobservedComponents in generation 5 of 10\n"
     ]
    },
    {
     "name": "stderr",
     "output_type": "stream",
     "text": [
      "C:\\Users\\henry\\miniconda3\\envs\\jupyter_env\\lib\\site-packages\\sklearn\\linear_model\\_glm\\link.py:90: RuntimeWarning: overflow encountered in exp\n",
      "  return np.exp(lin_pred)\n",
      "C:\\Users\\henry\\miniconda3\\envs\\jupyter_env\\lib\\site-packages\\sklearn\\linear_model\\_glm\\link.py:93: RuntimeWarning: overflow encountered in exp\n",
      "  return np.exp(lin_pred)\n",
      "C:\\Users\\henry\\miniconda3\\envs\\jupyter_env\\lib\\site-packages\\sklearn\\_loss\\glm_distribution.py:132: RuntimeWarning: invalid value encountered in true_divide\n",
      "  return -2 * (y - y_pred) / self.unit_variance(y_pred)\n"
     ]
    },
    {
     "name": "stdout",
     "output_type": "stream",
     "text": [
      "Model Number: 616 with model NVAR in generation 5 of 10\n",
      "Model Number: 617 with model MultivariateRegression in generation 5 of 10\n"
     ]
    },
    {
     "name": "stderr",
     "output_type": "stream",
     "text": [
      "[Parallel(n_jobs=-2)]: Using backend ThreadingBackend with 15 concurrent workers.\n",
      "[Parallel(n_jobs=-2)]: Done  20 tasks      | elapsed:    0.0s\n",
      "[Parallel(n_jobs=-2)]: Done 170 tasks      | elapsed:    0.1s\n",
      "[Parallel(n_jobs=-2)]: Done 200 out of 200 | elapsed:    0.1s finished\n",
      "[Parallel(n_jobs=15)]: Using backend ThreadingBackend with 15 concurrent workers.\n",
      "[Parallel(n_jobs=15)]: Done  20 tasks      | elapsed:    0.0s\n",
      "[Parallel(n_jobs=15)]: Done 170 tasks      | elapsed:    0.0s\n",
      "[Parallel(n_jobs=15)]: Done 200 out of 200 | elapsed:    0.0s finished\n",
      "[Parallel(n_jobs=15)]: Using backend ThreadingBackend with 15 concurrent workers.\n",
      "[Parallel(n_jobs=15)]: Done  20 tasks      | elapsed:    0.0s\n",
      "[Parallel(n_jobs=15)]: Done 170 tasks      | elapsed:    0.0s\n",
      "[Parallel(n_jobs=15)]: Done 200 out of 200 | elapsed:    0.0s finished\n",
      "[Parallel(n_jobs=15)]: Using backend ThreadingBackend with 15 concurrent workers.\n",
      "[Parallel(n_jobs=15)]: Done  20 tasks      | elapsed:    0.0s\n",
      "[Parallel(n_jobs=15)]: Done 170 tasks      | elapsed:    0.0s\n",
      "[Parallel(n_jobs=15)]: Done 200 out of 200 | elapsed:    0.0s finished\n",
      "[Parallel(n_jobs=15)]: Using backend ThreadingBackend with 15 concurrent workers.\n",
      "[Parallel(n_jobs=15)]: Done  20 tasks      | elapsed:    0.0s\n",
      "[Parallel(n_jobs=15)]: Done 170 tasks      | elapsed:    0.0s\n",
      "[Parallel(n_jobs=15)]: Done 200 out of 200 | elapsed:    0.0s finished\n"
     ]
    },
    {
     "name": "stdout",
     "output_type": "stream",
     "text": [
      "Model Number: 618 with model Theta in generation 5 of 10\n",
      "Model Number: 619 with model NVAR in generation 5 of 10\n",
      "Model Number: 620 with model SeasonalNaive in generation 5 of 10\n",
      "Model Number: 621 with model Theta in generation 5 of 10\n",
      "Model Number: 622 with model SeasonalNaive in generation 5 of 10\n",
      "Model Number: 623 with model UnobservedComponents in generation 5 of 10\n",
      "Model Number: 624 with model LastValueNaive in generation 5 of 10\n",
      "Model Number: 625 with model NVAR in generation 5 of 10\n",
      "Model Number: 626 with model NVAR in generation 5 of 10\n",
      "Model Number: 627 with model ConstantNaive in generation 5 of 10\n",
      "Model Number: 628 with model AverageValueNaive in generation 5 of 10\n",
      "Model Number: 629 with model NVAR in generation 5 of 10\n",
      "Model Number: 630 with model LastValueNaive in generation 5 of 10\n",
      "Model Number: 631 with model MultivariateRegression in generation 5 of 10\n"
     ]
    },
    {
     "name": "stderr",
     "output_type": "stream",
     "text": [
      "[Parallel(n_jobs=-2)]: Using backend ThreadingBackend with 15 concurrent workers.\n",
      "[Parallel(n_jobs=-2)]: Done  20 tasks      | elapsed:    0.0s\n",
      "[Parallel(n_jobs=-2)]: Done 170 tasks      | elapsed:    0.1s\n",
      "[Parallel(n_jobs=-2)]: Done 200 out of 200 | elapsed:    0.1s finished\n",
      "[Parallel(n_jobs=15)]: Using backend ThreadingBackend with 15 concurrent workers.\n",
      "[Parallel(n_jobs=15)]: Done  20 tasks      | elapsed:    0.0s\n",
      "[Parallel(n_jobs=15)]: Done 170 tasks      | elapsed:    0.0s\n",
      "[Parallel(n_jobs=15)]: Done 200 out of 200 | elapsed:    0.0s finished\n",
      "[Parallel(n_jobs=15)]: Using backend ThreadingBackend with 15 concurrent workers.\n",
      "[Parallel(n_jobs=15)]: Done  20 tasks      | elapsed:    0.0s\n",
      "[Parallel(n_jobs=15)]: Done 170 tasks      | elapsed:    0.0s\n",
      "[Parallel(n_jobs=15)]: Done 200 out of 200 | elapsed:    0.0s finished\n",
      "[Parallel(n_jobs=15)]: Using backend ThreadingBackend with 15 concurrent workers.\n",
      "[Parallel(n_jobs=15)]: Done  20 tasks      | elapsed:    0.0s\n",
      "[Parallel(n_jobs=15)]: Done 170 tasks      | elapsed:    0.0s\n",
      "[Parallel(n_jobs=15)]: Done 200 out of 200 | elapsed:    0.0s finished\n",
      "[Parallel(n_jobs=15)]: Using backend ThreadingBackend with 15 concurrent workers.\n",
      "[Parallel(n_jobs=15)]: Done  20 tasks      | elapsed:    0.0s\n",
      "[Parallel(n_jobs=15)]: Done 170 tasks      | elapsed:    0.0s\n",
      "[Parallel(n_jobs=15)]: Done 200 out of 200 | elapsed:    0.0s finished\n"
     ]
    },
    {
     "name": "stdout",
     "output_type": "stream",
     "text": [
      "Model Number: 632 with model UnobservedComponents in generation 5 of 10\n",
      "Model Number: 633 with model NVAR in generation 5 of 10\n",
      "Model Number: 634 with model ConstantNaive in generation 5 of 10\n",
      "Model Number: 635 with model GLS in generation 5 of 10\n",
      "Model Number: 636 with model AverageValueNaive in generation 5 of 10\n",
      "Model Number: 637 with model GLS in generation 5 of 10\n",
      "Model Number: 638 with model SeasonalNaive in generation 5 of 10\n",
      "Model Number: 639 with model UnobservedComponents in generation 5 of 10\n",
      "Model Number: 640 with model NVAR in generation 5 of 10\n",
      "Model Number: 641 with model UnobservedComponents in generation 5 of 10\n",
      "Model Number: 642 with model ETS in generation 5 of 10\n",
      "Model Number: 643 with model LastValueNaive in generation 5 of 10\n",
      "Model Number: 644 with model ConstantNaive in generation 5 of 10\n",
      "Model Number: 645 with model DatepartRegression in generation 5 of 10\n",
      "Model Number: 646 with model Theta in generation 5 of 10\n",
      "Model Number: 647 with model AverageValueNaive in generation 5 of 10\n"
     ]
    },
    {
     "name": "stderr",
     "output_type": "stream",
     "text": [
      "[Parallel(n_jobs=-2)]: Using backend ThreadingBackend with 15 concurrent workers.\n",
      "[Parallel(n_jobs=-2)]: Done  20 tasks      | elapsed:    0.0s\n",
      "[Parallel(n_jobs=-2)]: Done 100 out of 100 | elapsed:    0.0s finished\n",
      "[Parallel(n_jobs=15)]: Using backend ThreadingBackend with 15 concurrent workers.\n",
      "[Parallel(n_jobs=15)]: Done  20 tasks      | elapsed:    0.0s\n",
      "[Parallel(n_jobs=15)]: Done 100 out of 100 | elapsed:    0.0s finished\n"
     ]
    },
    {
     "name": "stdout",
     "output_type": "stream",
     "text": [
      "Model Number: 648 with model LastValueNaive in generation 5 of 10\n",
      "Model Number: 649 with model ConstantNaive in generation 5 of 10\n",
      "Model Number: 650 with model GLS in generation 5 of 10\n",
      "Model Number: 651 with model ConstantNaive in generation 5 of 10\n",
      "Model Number: 652 with model Theta in generation 5 of 10\n",
      "Model Number: 653 with model AverageValueNaive in generation 5 of 10\n",
      "Model Number: 654 with model AverageValueNaive in generation 5 of 10\n",
      "Model Number: 655 with model NVAR in generation 5 of 10\n",
      "Model Number: 656 with model LastValueNaive in generation 5 of 10\n",
      "Model Number: 657 with model Theta in generation 5 of 10\n",
      "Template Eval Error: ValueError('x must have 2 complete cycles requires 24 observations. x only has 11 observation(s)') in model 657: Theta\n",
      "Model Number: 658 with model UnobservedComponents in generation 5 of 10\n",
      "Model Number: 659 with model UnobservedComponents in generation 5 of 10\n",
      "Model Number: 660 with model UnobservedComponents in generation 5 of 10\n",
      "Model Number: 661 with model LastValueNaive in generation 5 of 10\n",
      "Model Number: 662 with model LastValueNaive in generation 5 of 10\n",
      "Model Number: 663 with model GLS in generation 5 of 10\n",
      "Model Number: 664 with model MultivariateRegression in generation 5 of 10\n"
     ]
    },
    {
     "name": "stderr",
     "output_type": "stream",
     "text": [
      "C:\\Users\\henry\\miniconda3\\envs\\jupyter_env\\lib\\site-packages\\autots\\tools\\probabilistic.py:67: RuntimeWarning: invalid value encountered in true_divide\n",
      "  (prior_mu / prior_sigma**2) + ((n * data_mu) / prior_sigma**2)\n",
      "C:\\Users\\henry\\miniconda3\\envs\\jupyter_env\\lib\\site-packages\\autots\\tools\\probabilistic.py:68: RuntimeWarning: divide by zero encountered in true_divide\n",
      "  ) / ((1 / prior_sigma**2) + (n / prior_sigma**2))\n",
      "C:\\Users\\henry\\miniconda3\\envs\\jupyter_env\\lib\\site-packages\\sklearn\\linear_model\\_glm\\link.py:90: RuntimeWarning: overflow encountered in exp\n",
      "  return np.exp(lin_pred)\n",
      "C:\\Users\\henry\\miniconda3\\envs\\jupyter_env\\lib\\site-packages\\sklearn\\linear_model\\_glm\\link.py:93: RuntimeWarning: overflow encountered in exp\n",
      "  return np.exp(lin_pred)\n",
      "C:\\Users\\henry\\miniconda3\\envs\\jupyter_env\\lib\\site-packages\\sklearn\\_loss\\glm_distribution.py:132: RuntimeWarning: invalid value encountered in true_divide\n",
      "  return -2 * (y - y_pred) / self.unit_variance(y_pred)\n",
      "[Parallel(n_jobs=-2)]: Using backend ThreadingBackend with 15 concurrent workers.\n",
      "[Parallel(n_jobs=-2)]: Done  20 tasks      | elapsed:    0.0s\n",
      "[Parallel(n_jobs=-2)]: Done 170 tasks      | elapsed:    0.0s\n",
      "[Parallel(n_jobs=-2)]: Done 200 out of 200 | elapsed:    0.0s finished\n",
      "[Parallel(n_jobs=15)]: Using backend ThreadingBackend with 15 concurrent workers.\n",
      "[Parallel(n_jobs=15)]: Done  20 tasks      | elapsed:    0.0s\n",
      "[Parallel(n_jobs=15)]: Done 170 tasks      | elapsed:    0.0s\n",
      "[Parallel(n_jobs=15)]: Done 200 out of 200 | elapsed:    0.0s finished\n",
      "[Parallel(n_jobs=15)]: Using backend ThreadingBackend with 15 concurrent workers.\n",
      "[Parallel(n_jobs=15)]: Done  20 tasks      | elapsed:    0.0s\n",
      "[Parallel(n_jobs=15)]: Done 170 tasks      | elapsed:    0.0s\n",
      "[Parallel(n_jobs=15)]: Done 200 out of 200 | elapsed:    0.0s finished\n",
      "[Parallel(n_jobs=15)]: Using backend ThreadingBackend with 15 concurrent workers.\n",
      "[Parallel(n_jobs=15)]: Done  20 tasks      | elapsed:    0.0s\n",
      "[Parallel(n_jobs=15)]: Done 170 tasks      | elapsed:    0.0s\n",
      "[Parallel(n_jobs=15)]: Done 200 out of 200 | elapsed:    0.0s finished\n",
      "[Parallel(n_jobs=15)]: Using backend ThreadingBackend with 15 concurrent workers.\n",
      "[Parallel(n_jobs=15)]: Done  20 tasks      | elapsed:    0.0s\n",
      "[Parallel(n_jobs=15)]: Done 170 tasks      | elapsed:    0.0s\n",
      "[Parallel(n_jobs=15)]: Done 200 out of 200 | elapsed:    0.0s finished\n"
     ]
    },
    {
     "name": "stdout",
     "output_type": "stream",
     "text": [
      "Model Number: 665 with model UnobservedComponents in generation 5 of 10\n",
      "Model Number: 666 with model GLS in generation 5 of 10\n",
      "Model Number: 667 with model ConstantNaive in generation 5 of 10\n",
      "Template Eval Error: KeyError(Timestamp('2020-05-31 00:00:00', freq='M')) in model 667: ConstantNaive\n",
      "Model Number: 668 with model MultivariateRegression in generation 5 of 10\n",
      "Template Eval Error: ValueError('Expected n_neighbors <= n_samples,  but n_samples = 10, n_neighbors = 14') in model 668: MultivariateRegression\n",
      "Model Number: 669 with model NVAR in generation 5 of 10\n",
      "Model Number: 670 with model NVAR in generation 5 of 10\n",
      "Model Number: 671 with model GLS in generation 5 of 10\n",
      "Model Number: 672 with model LastValueNaive in generation 5 of 10\n",
      "Model Number: 673 with model Theta in generation 5 of 10\n"
     ]
    },
    {
     "name": "stderr",
     "output_type": "stream",
     "text": [
      "C:\\Users\\henry\\miniconda3\\envs\\jupyter_env\\lib\\site-packages\\sklearn\\utils\\validation.py:1688: FutureWarning: Feature names only support names that are all strings. Got feature names with dtypes: ['Timestamp', 'str']. An error will be raised in 1.2.\n",
      "  warnings.warn(\n",
      "C:\\Users\\henry\\miniconda3\\envs\\jupyter_env\\lib\\site-packages\\sklearn\\decomposition\\_pca.py:501: RuntimeWarning: invalid value encountered in true_divide\n",
      "  explained_variance_ratio_ = explained_variance_ / total_var\n"
     ]
    },
    {
     "name": "stdout",
     "output_type": "stream",
     "text": [
      "Model Number: 674 with model NVAR in generation 5 of 10\n",
      "Model Number: 675 with model SeasonalNaive in generation 5 of 10\n",
      "Model Number: 676 with model AverageValueNaive in generation 5 of 10\n",
      "Model Number: 677 with model AverageValueNaive in generation 5 of 10\n",
      "Model Number: 678 with model ARDL in generation 5 of 10\n",
      "Model Number: 679 with model DatepartRegression in generation 5 of 10\n",
      "Template Eval Error: ImportError('Tensorflow not available, install with pip install tensorflow.') in model 679: DatepartRegression\n",
      "Model Number: 680 with model GLS in generation 5 of 10\n",
      "Model Number: 681 with model SectionalMotif in generation 5 of 10\n",
      "Template Eval Error: ValueError('zero-size array to reduction operation fmax which has no identity') in model 681: SectionalMotif\n",
      "Model Number: 682 with model NVAR in generation 5 of 10\n",
      "Template Eval Error: Exception('Transformer BTCD failed on fit') in model 682: NVAR\n",
      "Model Number: 683 with model SeasonalNaive in generation 5 of 10\n",
      "Model Number: 684 with model ARDL in generation 5 of 10\n",
      "Model Number: 685 with model UnobservedComponents in generation 5 of 10\n",
      "Model Number: 686 with model SeasonalNaive in generation 5 of 10\n",
      "Model Number: 687 with model AverageValueNaive in generation 5 of 10\n",
      "Model Number: 688 with model AverageValueNaive in generation 5 of 10\n",
      "Model Number: 689 with model GLM in generation 5 of 10\n",
      "Template Eval Error: TypeError(\"ufunc 'isfinite' not supported for the input types, and the inputs could not be safely coerced to any supported types according to the casting rule ''safe''\") in model 689: GLM\n",
      "Model Number: 690 with model ARDL in generation 5 of 10\n"
     ]
    },
    {
     "name": "stderr",
     "output_type": "stream",
     "text": [
      "C:\\Users\\henry\\miniconda3\\envs\\jupyter_env\\lib\\site-packages\\sklearn\\linear_model\\_glm\\link.py:90: RuntimeWarning: overflow encountered in exp\n",
      "  return np.exp(lin_pred)\n",
      "C:\\Users\\henry\\miniconda3\\envs\\jupyter_env\\lib\\site-packages\\sklearn\\linear_model\\_glm\\link.py:93: RuntimeWarning: overflow encountered in exp\n",
      "  return np.exp(lin_pred)\n",
      "C:\\Users\\henry\\miniconda3\\envs\\jupyter_env\\lib\\site-packages\\sklearn\\_loss\\glm_distribution.py:132: RuntimeWarning: invalid value encountered in true_divide\n",
      "  return -2 * (y - y_pred) / self.unit_variance(y_pred)\n",
      "C:\\Users\\henry\\miniconda3\\envs\\jupyter_env\\lib\\site-packages\\sklearn\\_loss\\glm_distribution.py:323: RuntimeWarning: invalid value encountered in add\n",
      "  dev = 2 * (xlogy(y, y / y_pred) - y + y_pred)\n",
      "C:\\Users\\henry\\miniconda3\\envs\\jupyter_env\\lib\\site-packages\\sklearn\\linear_model\\_glm\\glm.py:323: ConvergenceWarning: lbfgs failed to converge (status=2):\n",
      "ABNORMAL_TERMINATION_IN_LNSRCH.\n",
      "\n",
      "Increase the number of iterations (max_iter) or scale the data as shown in:\n",
      "    https://scikit-learn.org/stable/modules/preprocessing.html\n",
      "  self.n_iter_ = _check_optimize_result(\"lbfgs\", opt_res)\n"
     ]
    },
    {
     "name": "stdout",
     "output_type": "stream",
     "text": [
      "Model Number: 691 with model UnobservedComponents in generation 5 of 10\n",
      "Model Number: 692 with model GLS in generation 5 of 10\n",
      "New Generation: 6 of 10\n",
      "Model Number: 693 with model AverageValueNaive in generation 6 of 10\n",
      "Model Number: 694 with model SeasonalNaive in generation 6 of 10\n",
      "Model Number: 695 with model UnobservedComponents in generation 6 of 10\n",
      "Model Number: 696 with model GLM in generation 6 of 10\n",
      "Template Eval Error: ValueError('The first guess on the deviance function returned a nan.  This could be a boundary  problem and should be reported.') in model 696: GLM\n",
      "Model Number: 697 with model SeasonalNaive in generation 6 of 10\n",
      "Model Number: 698 with model GLS in generation 6 of 10\n",
      "Model Number: 699 with model SeasonalNaive in generation 6 of 10\n",
      "Model Number: 700 with model GLS in generation 6 of 10\n",
      "Model Number: 701 with model ConstantNaive in generation 6 of 10\n",
      "Model Number: 702 with model Theta in generation 6 of 10\n",
      "Model Number: 703 with model UnobservedComponents in generation 6 of 10\n",
      "Model Number: 704 with model GLS in generation 6 of 10\n",
      "Model Number: 705 with model GLS in generation 6 of 10\n",
      "Model Number: 706 with model Theta in generation 6 of 10\n",
      "Model Number: 707 with model LastValueNaive in generation 6 of 10\n",
      "Model Number: 708 with model AverageValueNaive in generation 6 of 10\n",
      "Model Number: 709 with model LastValueNaive in generation 6 of 10\n"
     ]
    },
    {
     "name": "stderr",
     "output_type": "stream",
     "text": [
      "C:\\Users\\henry\\miniconda3\\envs\\jupyter_env\\lib\\site-packages\\autots\\tools\\probabilistic.py:67: RuntimeWarning: invalid value encountered in true_divide\n",
      "  (prior_mu / prior_sigma**2) + ((n * data_mu) / prior_sigma**2)\n",
      "C:\\Users\\henry\\miniconda3\\envs\\jupyter_env\\lib\\site-packages\\autots\\tools\\probabilistic.py:68: RuntimeWarning: divide by zero encountered in true_divide\n",
      "  ) / ((1 / prior_sigma**2) + (n / prior_sigma**2))\n",
      "C:\\Users\\henry\\miniconda3\\envs\\jupyter_env\\lib\\site-packages\\sklearn\\_loss\\glm_distribution.py:132: RuntimeWarning: divide by zero encountered in true_divide\n",
      "  return -2 * (y - y_pred) / self.unit_variance(y_pred)\n",
      "C:\\Users\\henry\\miniconda3\\envs\\jupyter_env\\lib\\site-packages\\sklearn\\linear_model\\_glm\\glm.py:42: RuntimeWarning: invalid value encountered in multiply\n",
      "  temp = d1 * family.deviance_derivative(y, y_pred, weights)\n",
      "C:\\Users\\henry\\miniconda3\\envs\\jupyter_env\\lib\\site-packages\\sklearn\\_loss\\glm_distribution.py:330: RuntimeWarning: divide by zero encountered in power\n",
      "  - y * np.power(y_pred, 1 - p) / (1 - p)\n"
     ]
    },
    {
     "name": "stdout",
     "output_type": "stream",
     "text": [
      "Model Number: 710 with model NVAR in generation 6 of 10\n",
      "Model Number: 711 with model AverageValueNaive in generation 6 of 10\n",
      "Model Number: 712 with model NVAR in generation 6 of 10\n",
      "Model Number: 713 with model NVAR in generation 6 of 10\n",
      "Template Eval Error: IndexError('index -6 is out of bounds for axis 1 with size 5') in model 713: NVAR\n",
      "Model Number: 714 with model AverageValueNaive in generation 6 of 10\n",
      "Model Number: 715 with model LastValueNaive in generation 6 of 10\n",
      "Model Number: 716 with model DatepartRegression in generation 6 of 10\n",
      "Model Number: 717 with model NVAR in generation 6 of 10\n",
      "Model Number: 718 with model DatepartRegression in generation 6 of 10\n",
      "Model Number: 719 with model NVAR in generation 6 of 10\n",
      "Model Number: 720 with model NVAR in generation 6 of 10\n",
      "Template Eval Error: Exception('Transformer Cointegration failed on fit') in model 720: NVAR\n",
      "Model Number: 721 with model UnobservedComponents in generation 6 of 10\n"
     ]
    },
    {
     "name": "stderr",
     "output_type": "stream",
     "text": [
      "C:\\Users\\henry\\miniconda3\\envs\\jupyter_env\\lib\\site-packages\\sklearn\\linear_model\\_glm\\link.py:90: RuntimeWarning: overflow encountered in exp\n",
      "  return np.exp(lin_pred)\n",
      "C:\\Users\\henry\\miniconda3\\envs\\jupyter_env\\lib\\site-packages\\sklearn\\linear_model\\_glm\\link.py:93: RuntimeWarning: overflow encountered in exp\n",
      "  return np.exp(lin_pred)\n",
      "C:\\Users\\henry\\miniconda3\\envs\\jupyter_env\\lib\\site-packages\\sklearn\\_loss\\glm_distribution.py:132: RuntimeWarning: invalid value encountered in true_divide\n",
      "  return -2 * (y - y_pred) / self.unit_variance(y_pred)\n",
      "C:\\Users\\henry\\miniconda3\\envs\\jupyter_env\\lib\\site-packages\\sklearn\\linear_model\\_glm\\link.py:90: RuntimeWarning: overflow encountered in exp\n",
      "  return np.exp(lin_pred)\n",
      "C:\\Users\\henry\\miniconda3\\envs\\jupyter_env\\lib\\site-packages\\sklearn\\linear_model\\_glm\\link.py:93: RuntimeWarning: overflow encountered in exp\n",
      "  return np.exp(lin_pred)\n",
      "C:\\Users\\henry\\miniconda3\\envs\\jupyter_env\\lib\\site-packages\\sklearn\\_loss\\glm_distribution.py:132: RuntimeWarning: invalid value encountered in true_divide\n",
      "  return -2 * (y - y_pred) / self.unit_variance(y_pred)\n",
      "C:\\Users\\henry\\miniconda3\\envs\\jupyter_env\\lib\\site-packages\\sklearn\\_loss\\glm_distribution.py:323: RuntimeWarning: invalid value encountered in add\n",
      "  dev = 2 * (xlogy(y, y / y_pred) - y + y_pred)\n",
      "C:\\Users\\henry\\miniconda3\\envs\\jupyter_env\\lib\\site-packages\\sklearn\\linear_model\\_glm\\glm.py:323: ConvergenceWarning: lbfgs failed to converge (status=2):\n",
      "ABNORMAL_TERMINATION_IN_LNSRCH.\n",
      "\n",
      "Increase the number of iterations (max_iter) or scale the data as shown in:\n",
      "    https://scikit-learn.org/stable/modules/preprocessing.html\n",
      "  self.n_iter_ = _check_optimize_result(\"lbfgs\", opt_res)\n",
      "C:\\Users\\henry\\miniconda3\\envs\\jupyter_env\\lib\\site-packages\\sklearn\\linear_model\\_coordinate_descent.py:647: ConvergenceWarning: Objective did not converge. You might want to increase the number of iterations, check the scale of the features or consider increasing regularisation. Duality gap: 4.502e+02, tolerance: 5.995e+00\n",
      "  model = cd_fast.enet_coordinate_descent(\n",
      "C:\\Users\\henry\\miniconda3\\envs\\jupyter_env\\lib\\site-packages\\sklearn\\linear_model\\_glm\\link.py:90: RuntimeWarning: overflow encountered in exp\n",
      "  return np.exp(lin_pred)\n",
      "C:\\Users\\henry\\miniconda3\\envs\\jupyter_env\\lib\\site-packages\\sklearn\\linear_model\\_glm\\link.py:93: RuntimeWarning: overflow encountered in exp\n",
      "  return np.exp(lin_pred)\n",
      "C:\\Users\\henry\\miniconda3\\envs\\jupyter_env\\lib\\site-packages\\sklearn\\_loss\\glm_distribution.py:132: RuntimeWarning: invalid value encountered in true_divide\n",
      "  return -2 * (y - y_pred) / self.unit_variance(y_pred)\n",
      "C:\\Users\\henry\\miniconda3\\envs\\jupyter_env\\lib\\site-packages\\sklearn\\_loss\\glm_distribution.py:132: RuntimeWarning: divide by zero encountered in true_divide\n",
      "  return -2 * (y - y_pred) / self.unit_variance(y_pred)\n",
      "C:\\Users\\henry\\miniconda3\\envs\\jupyter_env\\lib\\site-packages\\sklearn\\linear_model\\_glm\\glm.py:42: RuntimeWarning: invalid value encountered in multiply\n",
      "  temp = d1 * family.deviance_derivative(y, y_pred, weights)\n",
      "C:\\Users\\henry\\miniconda3\\envs\\jupyter_env\\lib\\site-packages\\sklearn\\_loss\\glm_distribution.py:323: RuntimeWarning: divide by zero encountered in true_divide\n",
      "  dev = 2 * (xlogy(y, y / y_pred) - y + y_pred)\n"
     ]
    },
    {
     "name": "stdout",
     "output_type": "stream",
     "text": [
      "Model Number: 722 with model UnobservedComponents in generation 6 of 10\n",
      "Model Number: 723 with model LastValueNaive in generation 6 of 10\n",
      "Model Number: 724 with model UnobservedComponents in generation 6 of 10\n",
      "Model Number: 725 with model SeasonalNaive in generation 6 of 10\n",
      "Model Number: 726 with model LastValueNaive in generation 6 of 10\n",
      "Model Number: 727 with model AverageValueNaive in generation 6 of 10\n",
      "Model Number: 728 with model Theta in generation 6 of 10\n",
      "Model Number: 729 with model GLS in generation 6 of 10\n",
      "Model Number: 730 with model GLS in generation 6 of 10\n",
      "Model Number: 731 with model MultivariateRegression in generation 6 of 10\n",
      "Template Eval Error: ModuleNotFoundError(\"No module named 'lightgbm'\") in model 731: MultivariateRegression\n",
      "Model Number: 732 with model LastValueNaive in generation 6 of 10\n",
      "Model Number: 733 with model ETS in generation 6 of 10\n",
      "Model Number: 734 with model ConstantNaive in generation 6 of 10\n",
      "Model Number: 735 with model SeasonalNaive in generation 6 of 10\n",
      "Template Eval Error: Exception('Transformer BTCD failed on fit') in model 735: SeasonalNaive\n",
      "Model Number: 736 with model LastValueNaive in generation 6 of 10\n",
      "Model Number: 737 with model ConstantNaive in generation 6 of 10\n",
      "Model Number: 738 with model Theta in generation 6 of 10\n",
      "Model Number: 739 with model ARDL in generation 6 of 10\n",
      "Model Number: 740 with model AverageValueNaive in generation 6 of 10\n",
      "Model Number: 741 with model UnobservedComponents in generation 6 of 10\n",
      "Model Number: 742 with model SeasonalNaive in generation 6 of 10\n",
      "Model Number: 743 with model GLS in generation 6 of 10\n",
      "Model Number: 744 with model UnobservedComponents in generation 6 of 10\n",
      "Model Number: 745 with model ETS in generation 6 of 10\n",
      "Model Number: 746 with model DatepartRegression in generation 6 of 10\n"
     ]
    },
    {
     "name": "stderr",
     "output_type": "stream",
     "text": [
      "C:\\Users\\henry\\miniconda3\\envs\\jupyter_env\\lib\\site-packages\\sklearn\\base.py:450: UserWarning: X does not have valid feature names, but MLPRegressor was fitted with feature names\n",
      "  warnings.warn(\n",
      "C:\\Users\\henry\\miniconda3\\envs\\jupyter_env\\lib\\site-packages\\sklearn\\base.py:450: UserWarning: X does not have valid feature names, but MLPRegressor was fitted with feature names\n",
      "  warnings.warn(\n",
      "C:\\Users\\henry\\miniconda3\\envs\\jupyter_env\\lib\\site-packages\\sklearn\\base.py:450: UserWarning: X does not have valid feature names, but MLPRegressor was fitted with feature names\n",
      "  warnings.warn(\n",
      "C:\\Users\\henry\\miniconda3\\envs\\jupyter_env\\lib\\site-packages\\sklearn\\base.py:450: UserWarning: X does not have valid feature names, but MLPRegressor was fitted with feature names\n",
      "  warnings.warn(\n",
      "C:\\Users\\henry\\miniconda3\\envs\\jupyter_env\\lib\\site-packages\\sklearn\\base.py:450: UserWarning: X does not have valid feature names, but MLPRegressor was fitted with feature names\n",
      "  warnings.warn(\n",
      "C:\\Users\\henry\\miniconda3\\envs\\jupyter_env\\lib\\site-packages\\sklearn\\base.py:450: UserWarning: X does not have valid feature names, but MLPRegressor was fitted with feature names\n",
      "  warnings.warn(\n",
      "C:\\Users\\henry\\miniconda3\\envs\\jupyter_env\\lib\\site-packages\\sklearn\\base.py:450: UserWarning: X does not have valid feature names, but MLPRegressor was fitted with feature names\n",
      "  warnings.warn(\n",
      "C:\\Users\\henry\\miniconda3\\envs\\jupyter_env\\lib\\site-packages\\sklearn\\base.py:450: UserWarning: X does not have valid feature names, but MLPRegressor was fitted with feature names\n",
      "  warnings.warn(\n",
      "C:\\Users\\henry\\miniconda3\\envs\\jupyter_env\\lib\\site-packages\\sklearn\\base.py:450: UserWarning: X does not have valid feature names, but MLPRegressor was fitted with feature names\n",
      "  warnings.warn(\n",
      "C:\\Users\\henry\\miniconda3\\envs\\jupyter_env\\lib\\site-packages\\sklearn\\base.py:450: UserWarning: X does not have valid feature names, but MLPRegressor was fitted with feature names\n",
      "  warnings.warn(\n",
      "C:\\Users\\henry\\miniconda3\\envs\\jupyter_env\\lib\\site-packages\\sklearn\\base.py:450: UserWarning: X does not have valid feature names, but MLPRegressor was fitted with feature names\n",
      "  warnings.warn(\n",
      "C:\\Users\\henry\\miniconda3\\envs\\jupyter_env\\lib\\site-packages\\sklearn\\base.py:450: UserWarning: X does not have valid feature names, but MLPRegressor was fitted with feature names\n",
      "  warnings.warn(\n",
      "C:\\Users\\henry\\miniconda3\\envs\\jupyter_env\\lib\\site-packages\\sklearn\\base.py:450: UserWarning: X does not have valid feature names, but MLPRegressor was fitted with feature names\n",
      "  warnings.warn(\n",
      "C:\\Users\\henry\\miniconda3\\envs\\jupyter_env\\lib\\site-packages\\sklearn\\base.py:450: UserWarning: X does not have valid feature names, but MLPRegressor was fitted with feature names\n",
      "  warnings.warn(\n",
      "C:\\Users\\henry\\miniconda3\\envs\\jupyter_env\\lib\\site-packages\\sklearn\\base.py:450: UserWarning: X does not have valid feature names, but MLPRegressor was fitted with feature names\n",
      "  warnings.warn(\n",
      "C:\\Users\\henry\\miniconda3\\envs\\jupyter_env\\lib\\site-packages\\sklearn\\base.py:450: UserWarning: X does not have valid feature names, but MLPRegressor was fitted with feature names\n",
      "  warnings.warn(\n",
      "C:\\Users\\henry\\miniconda3\\envs\\jupyter_env\\lib\\site-packages\\sklearn\\base.py:450: UserWarning: X does not have valid feature names, but MLPRegressor was fitted with feature names\n",
      "  warnings.warn(\n",
      "C:\\Users\\henry\\miniconda3\\envs\\jupyter_env\\lib\\site-packages\\sklearn\\base.py:450: UserWarning: X does not have valid feature names, but MLPRegressor was fitted with feature names\n",
      "  warnings.warn(\n",
      "C:\\Users\\henry\\miniconda3\\envs\\jupyter_env\\lib\\site-packages\\sklearn\\base.py:450: UserWarning: X does not have valid feature names, but MLPRegressor was fitted with feature names\n",
      "  warnings.warn(\n",
      "C:\\Users\\henry\\miniconda3\\envs\\jupyter_env\\lib\\site-packages\\sklearn\\base.py:450: UserWarning: X does not have valid feature names, but MLPRegressor was fitted with feature names\n",
      "  warnings.warn(\n",
      "C:\\Users\\henry\\miniconda3\\envs\\jupyter_env\\lib\\site-packages\\sklearn\\base.py:450: UserWarning: X does not have valid feature names, but MLPRegressor was fitted with feature names\n",
      "  warnings.warn(\n",
      "C:\\Users\\henry\\miniconda3\\envs\\jupyter_env\\lib\\site-packages\\sklearn\\base.py:450: UserWarning: X does not have valid feature names, but MLPRegressor was fitted with feature names\n",
      "  warnings.warn(\n",
      "C:\\Users\\henry\\miniconda3\\envs\\jupyter_env\\lib\\site-packages\\sklearn\\base.py:450: UserWarning: X does not have valid feature names, but MLPRegressor was fitted with feature names\n",
      "  warnings.warn(\n",
      "C:\\Users\\henry\\miniconda3\\envs\\jupyter_env\\lib\\site-packages\\sklearn\\base.py:450: UserWarning: X does not have valid feature names, but MLPRegressor was fitted with feature names\n",
      "  warnings.warn(\n",
      "C:\\Users\\henry\\miniconda3\\envs\\jupyter_env\\lib\\site-packages\\sklearn\\base.py:450: UserWarning: X does not have valid feature names, but MLPRegressor was fitted with feature names\n",
      "  warnings.warn(\n",
      "[Parallel(n_jobs=-2)]: Using backend ThreadingBackend with 15 concurrent workers.\n",
      "[Parallel(n_jobs=-2)]: Done  20 tasks      | elapsed:    0.0s\n",
      "[Parallel(n_jobs=-2)]: Done 170 tasks      | elapsed:    0.0s\n",
      "[Parallel(n_jobs=-2)]: Done 420 tasks      | elapsed:    0.2s\n",
      "[Parallel(n_jobs=-2)]: Done 770 tasks      | elapsed:    0.6s\n",
      "[Parallel(n_jobs=-2)]: Done 1000 out of 1000 | elapsed:    0.9s finished\n",
      "[Parallel(n_jobs=15)]: Using backend ThreadingBackend with 15 concurrent workers.\n",
      "[Parallel(n_jobs=15)]: Done  20 tasks      | elapsed:    0.0s\n",
      "[Parallel(n_jobs=15)]: Done 170 tasks      | elapsed:    0.0s\n",
      "[Parallel(n_jobs=15)]: Done 420 tasks      | elapsed:    0.0s\n",
      "[Parallel(n_jobs=15)]: Done 770 tasks      | elapsed:    0.0s\n",
      "[Parallel(n_jobs=15)]: Done 1000 out of 1000 | elapsed:    0.1s finished\n"
     ]
    },
    {
     "name": "stdout",
     "output_type": "stream",
     "text": [
      "Model Number: 747 with model AverageValueNaive in generation 6 of 10\n",
      "Model Number: 748 with model SectionalMotif in generation 6 of 10\n",
      "Template Eval Error: ValueError('XA and XB must have the same number of columns (i.e. feature dimension.)') in model 748: SectionalMotif\n",
      "Model Number: 749 with model SeasonalNaive in generation 6 of 10\n",
      "Template Eval Error: Exception('Transformer Cointegration failed on fit') in model 749: SeasonalNaive\n",
      "Model Number: 750 with model SeasonalNaive in generation 6 of 10\n",
      "Model Number: 751 with model LastValueNaive in generation 6 of 10\n",
      "Model Number: 752 with model NVAR in generation 6 of 10\n",
      "Model Number: 753 with model UnobservedComponents in generation 6 of 10\n",
      "Model Number: 754 with model NVAR in generation 6 of 10\n",
      "Model Number: 755 with model SeasonalNaive in generation 6 of 10\n",
      "Model Number: 756 with model NVAR in generation 6 of 10\n",
      "Model Number: 757 with model MultivariateRegression in generation 6 of 10\n"
     ]
    },
    {
     "name": "stderr",
     "output_type": "stream",
     "text": [
      "[Parallel(n_jobs=-2)]: Using backend ThreadingBackend with 15 concurrent workers.\n",
      "[Parallel(n_jobs=-2)]: Done  20 tasks      | elapsed:    0.0s\n",
      "[Parallel(n_jobs=-2)]: Done 170 tasks      | elapsed:    0.1s\n",
      "[Parallel(n_jobs=-2)]: Done 200 out of 200 | elapsed:    0.1s finished\n",
      "[Parallel(n_jobs=15)]: Using backend ThreadingBackend with 15 concurrent workers.\n",
      "[Parallel(n_jobs=15)]: Done  20 tasks      | elapsed:    0.0s\n",
      "[Parallel(n_jobs=15)]: Done 170 tasks      | elapsed:    0.0s\n",
      "[Parallel(n_jobs=15)]: Done 200 out of 200 | elapsed:    0.0s finished\n",
      "[Parallel(n_jobs=15)]: Using backend ThreadingBackend with 15 concurrent workers.\n",
      "[Parallel(n_jobs=15)]: Done  20 tasks      | elapsed:    0.0s\n",
      "[Parallel(n_jobs=15)]: Done 170 tasks      | elapsed:    0.0s\n",
      "[Parallel(n_jobs=15)]: Done 200 out of 200 | elapsed:    0.0s finished\n",
      "[Parallel(n_jobs=15)]: Using backend ThreadingBackend with 15 concurrent workers.\n",
      "[Parallel(n_jobs=15)]: Done  20 tasks      | elapsed:    0.0s\n",
      "[Parallel(n_jobs=15)]: Done 170 tasks      | elapsed:    0.0s\n",
      "[Parallel(n_jobs=15)]: Done 200 out of 200 | elapsed:    0.0s finished\n"
     ]
    },
    {
     "name": "stdout",
     "output_type": "stream",
     "text": [
      "Model Number: 758 with model Theta in generation 6 of 10\n"
     ]
    },
    {
     "name": "stderr",
     "output_type": "stream",
     "text": [
      "[Parallel(n_jobs=15)]: Using backend ThreadingBackend with 15 concurrent workers.\n",
      "[Parallel(n_jobs=15)]: Done  20 tasks      | elapsed:    0.0s\n",
      "[Parallel(n_jobs=15)]: Done 170 tasks      | elapsed:    0.0s\n",
      "[Parallel(n_jobs=15)]: Done 200 out of 200 | elapsed:    0.0s finished\n"
     ]
    },
    {
     "name": "stdout",
     "output_type": "stream",
     "text": [
      "Model Number: 759 with model NVAR in generation 6 of 10\n",
      "Model Number: 760 with model UnobservedComponents in generation 6 of 10\n",
      "Model Number: 761 with model ConstantNaive in generation 6 of 10\n",
      "Model Number: 762 with model LastValueNaive in generation 6 of 10\n",
      "Model Number: 763 with model AverageValueNaive in generation 6 of 10\n",
      "Model Number: 764 with model ConstantNaive in generation 6 of 10\n",
      "Model Number: 765 with model NVAR in generation 6 of 10\n",
      "Model Number: 766 with model NVAR in generation 6 of 10\n",
      "Model Number: 767 with model UnobservedComponents in generation 6 of 10\n",
      "Model Number: 768 with model LastValueNaive in generation 6 of 10\n",
      "Model Number: 769 with model NVAR in generation 6 of 10\n",
      "Model Number: 770 with model SeasonalNaive in generation 6 of 10\n",
      "Model Number: 771 with model ARDL in generation 6 of 10\n",
      "Model Number: 772 with model ARDL in generation 6 of 10\n",
      "Model Number: 773 with model MultivariateRegression in generation 6 of 10\n",
      "Template Eval Error: Exception('Transformer FastICA failed on fit') in model 773: MultivariateRegression\n",
      "Model Number: 774 with model ETS in generation 6 of 10\n",
      "Model Number: 775 with model NVAR in generation 6 of 10\n",
      "Model Number: 776 with model NVAR in generation 6 of 10\n",
      "Template Eval Error: IndexError('index -4 is out of bounds for axis 1 with size 3') in model 776: NVAR\n",
      "Model Number: 777 with model AverageValueNaive in generation 6 of 10\n",
      "Model Number: 778 with model DatepartRegression in generation 6 of 10\n",
      "Model Number: 779 with model AverageValueNaive in generation 6 of 10\n"
     ]
    },
    {
     "name": "stderr",
     "output_type": "stream",
     "text": [
      "C:\\Users\\henry\\miniconda3\\envs\\jupyter_env\\lib\\site-packages\\sklearn\\decomposition\\_fastica.py:532: RuntimeWarning: divide by zero encountered in true_divide\n",
      "  K = (u / d).T[:n_components]  # see (6.33) p.140\n"
     ]
    },
    {
     "name": "stdout",
     "output_type": "stream",
     "text": [
      "Model Number: 780 with model Theta in generation 6 of 10\n",
      "New Generation: 7 of 10\n",
      "Model Number: 781 with model MultivariateRegression in generation 7 of 10\n"
     ]
    },
    {
     "name": "stderr",
     "output_type": "stream",
     "text": [
      "[Parallel(n_jobs=-2)]: Using backend ThreadingBackend with 15 concurrent workers.\n",
      "[Parallel(n_jobs=-2)]: Done  20 tasks      | elapsed:    0.0s\n",
      "[Parallel(n_jobs=-2)]: Done 170 tasks      | elapsed:    0.0s\n",
      "[Parallel(n_jobs=-2)]: Done 200 out of 200 | elapsed:    0.0s finished\n",
      "[Parallel(n_jobs=15)]: Using backend ThreadingBackend with 15 concurrent workers.\n",
      "[Parallel(n_jobs=15)]: Done  20 tasks      | elapsed:    0.0s\n",
      "[Parallel(n_jobs=15)]: Done 170 tasks      | elapsed:    0.0s\n",
      "[Parallel(n_jobs=15)]: Done 200 out of 200 | elapsed:    0.0s finished\n",
      "[Parallel(n_jobs=15)]: Using backend ThreadingBackend with 15 concurrent workers.\n",
      "[Parallel(n_jobs=15)]: Done  20 tasks      | elapsed:    0.0s\n",
      "[Parallel(n_jobs=15)]: Done 170 tasks      | elapsed:    0.0s\n",
      "[Parallel(n_jobs=15)]: Done 200 out of 200 | elapsed:    0.0s finished\n",
      "[Parallel(n_jobs=15)]: Using backend ThreadingBackend with 15 concurrent workers.\n"
     ]
    },
    {
     "name": "stdout",
     "output_type": "stream",
     "text": [
      "Model Number: 782 with model ConstantNaive in generation 7 of 10\n",
      "Model Number: 783 with model NVAR in generation 7 of 10\n",
      "Model Number: 784 with model GLS in generation 7 of 10\n",
      "Model Number: 785 with model LastValueNaive in generation 7 of 10\n",
      "Model Number: 786 with model SeasonalNaive in generation 7 of 10\n",
      "Model Number: 787 with model AverageValueNaive in generation 7 of 10\n"
     ]
    },
    {
     "name": "stderr",
     "output_type": "stream",
     "text": [
      "[Parallel(n_jobs=15)]: Done  20 tasks      | elapsed:    0.0s\n",
      "[Parallel(n_jobs=15)]: Done 170 tasks      | elapsed:    0.0s\n",
      "[Parallel(n_jobs=15)]: Done 200 out of 200 | elapsed:    0.0s finished\n",
      "[Parallel(n_jobs=15)]: Using backend ThreadingBackend with 15 concurrent workers.\n",
      "[Parallel(n_jobs=15)]: Done  20 tasks      | elapsed:    0.0s\n",
      "[Parallel(n_jobs=15)]: Done 170 tasks      | elapsed:    0.0s\n",
      "[Parallel(n_jobs=15)]: Done 200 out of 200 | elapsed:    0.0s finished\n",
      "C:\\Users\\henry\\miniconda3\\envs\\jupyter_env\\lib\\site-packages\\autots\\tools\\probabilistic.py:67: RuntimeWarning: invalid value encountered in true_divide\n",
      "  (prior_mu / prior_sigma**2) + ((n * data_mu) / prior_sigma**2)\n",
      "C:\\Users\\henry\\miniconda3\\envs\\jupyter_env\\lib\\site-packages\\autots\\tools\\probabilistic.py:68: RuntimeWarning: divide by zero encountered in true_divide\n",
      "  ) / ((1 / prior_sigma**2) + (n / prior_sigma**2))\n"
     ]
    },
    {
     "name": "stdout",
     "output_type": "stream",
     "text": [
      "Model Number: 788 with model UnobservedComponents in generation 7 of 10\n",
      "Template Eval Error: ValueError(\"regression_type='User' but no future_regressor supplied\") in model 788: UnobservedComponents\n",
      "Model Number: 789 with model SeasonalNaive in generation 7 of 10\n",
      "Model Number: 790 with model ETS in generation 7 of 10\n",
      "Model Number: 791 with model GLS in generation 7 of 10\n",
      "Model Number: 792 with model SeasonalNaive in generation 7 of 10\n",
      "Model Number: 793 with model AverageValueNaive in generation 7 of 10\n",
      "Model Number: 794 with model SeasonalNaive in generation 7 of 10\n",
      "Model Number: 795 with model NVAR in generation 7 of 10\n",
      "Model Number: 796 with model NVAR in generation 7 of 10\n",
      "Template Eval Error: Exception('Transformer BTCD failed on fit') in model 796: NVAR\n",
      "Model Number: 797 with model UnobservedComponents in generation 7 of 10\n"
     ]
    },
    {
     "name": "stderr",
     "output_type": "stream",
     "text": [
      "C:\\Users\\henry\\miniconda3\\envs\\jupyter_env\\lib\\site-packages\\sklearn\\linear_model\\_glm\\link.py:90: RuntimeWarning: overflow encountered in exp\n",
      "  return np.exp(lin_pred)\n",
      "C:\\Users\\henry\\miniconda3\\envs\\jupyter_env\\lib\\site-packages\\sklearn\\linear_model\\_glm\\link.py:93: RuntimeWarning: overflow encountered in exp\n",
      "  return np.exp(lin_pred)\n",
      "C:\\Users\\henry\\miniconda3\\envs\\jupyter_env\\lib\\site-packages\\sklearn\\_loss\\glm_distribution.py:132: RuntimeWarning: invalid value encountered in true_divide\n",
      "  return -2 * (y - y_pred) / self.unit_variance(y_pred)\n",
      "C:\\Users\\henry\\miniconda3\\envs\\jupyter_env\\lib\\site-packages\\sklearn\\_loss\\glm_distribution.py:323: RuntimeWarning: invalid value encountered in add\n",
      "  dev = 2 * (xlogy(y, y / y_pred) - y + y_pred)\n",
      "C:\\Users\\henry\\miniconda3\\envs\\jupyter_env\\lib\\site-packages\\sklearn\\linear_model\\_glm\\glm.py:323: ConvergenceWarning: lbfgs failed to converge (status=2):\n",
      "ABNORMAL_TERMINATION_IN_LNSRCH.\n",
      "\n",
      "Increase the number of iterations (max_iter) or scale the data as shown in:\n",
      "    https://scikit-learn.org/stable/modules/preprocessing.html\n",
      "  self.n_iter_ = _check_optimize_result(\"lbfgs\", opt_res)\n"
     ]
    },
    {
     "name": "stdout",
     "output_type": "stream",
     "text": [
      "Model Number: 798 with model AverageValueNaive in generation 7 of 10\n",
      "Model Number: 799 with model ConstantNaive in generation 7 of 10\n",
      "Model Number: 800 with model NVAR in generation 7 of 10\n",
      "Model Number: 801 with model AverageValueNaive in generation 7 of 10\n",
      "Model Number: 802 with model GLM in generation 7 of 10\n",
      "Model Number: 803 with model ARDL in generation 7 of 10\n"
     ]
    },
    {
     "name": "stderr",
     "output_type": "stream",
     "text": [
      "C:\\Users\\henry\\miniconda3\\envs\\jupyter_env\\lib\\site-packages\\statsmodels\\genmod\\generalized_linear_model.py:298: DomainWarning: The inverse_power link function does not respect the domain of the Gamma family.\n",
      "  warnings.warn((f\"The {type(family.link).__name__} link function \"\n"
     ]
    },
    {
     "name": "stdout",
     "output_type": "stream",
     "text": [
      "Model Number: 804 with model UnobservedComponents in generation 7 of 10\n",
      "Model Number: 805 with model UnobservedComponents in generation 7 of 10\n",
      "Model Number: 806 with model NVAR in generation 7 of 10\n",
      "Model Number: 807 with model Theta in generation 7 of 10\n",
      "Model Number: 808 with model UnobservedComponents in generation 7 of 10\n",
      "Model Number: 809 with model Theta in generation 7 of 10\n",
      "Template Eval Error: ValueError('x must have 2 complete cycles requires 24 observations. x only has 11 observation(s)') in model 809: Theta\n",
      "Model Number: 810 with model GLS in generation 7 of 10\n",
      "Model Number: 811 with model ETS in generation 7 of 10\n",
      "Model Number: 812 with model ConstantNaive in generation 7 of 10\n",
      "Model Number: 813 with model ARDL in generation 7 of 10\n"
     ]
    },
    {
     "name": "stderr",
     "output_type": "stream",
     "text": [
      "C:\\Users\\henry\\miniconda3\\envs\\jupyter_env\\lib\\site-packages\\sklearn\\linear_model\\_glm\\link.py:90: RuntimeWarning: overflow encountered in exp\n",
      "  return np.exp(lin_pred)\n",
      "C:\\Users\\henry\\miniconda3\\envs\\jupyter_env\\lib\\site-packages\\sklearn\\linear_model\\_glm\\link.py:93: RuntimeWarning: overflow encountered in exp\n",
      "  return np.exp(lin_pred)\n",
      "C:\\Users\\henry\\miniconda3\\envs\\jupyter_env\\lib\\site-packages\\sklearn\\_loss\\glm_distribution.py:132: RuntimeWarning: invalid value encountered in true_divide\n",
      "  return -2 * (y - y_pred) / self.unit_variance(y_pred)\n"
     ]
    },
    {
     "name": "stdout",
     "output_type": "stream",
     "text": [
      "Model Number: 814 with model UnobservedComponents in generation 7 of 10\n",
      "Model Number: 815 with model Theta in generation 7 of 10\n",
      "Model Number: 816 with model UnobservedComponents in generation 7 of 10\n",
      "Model Number: 817 with model Theta in generation 7 of 10\n",
      "Model Number: 818 with model GLS in generation 7 of 10\n",
      "Model Number: 819 with model UnobservedComponents in generation 7 of 10\n",
      "Model Number: 820 with model UnobservedComponents in generation 7 of 10\n"
     ]
    },
    {
     "name": "stderr",
     "output_type": "stream",
     "text": [
      "C:\\Users\\henry\\miniconda3\\envs\\jupyter_env\\lib\\site-packages\\sklearn\\linear_model\\_glm\\link.py:90: RuntimeWarning: overflow encountered in exp\n",
      "  return np.exp(lin_pred)\n",
      "C:\\Users\\henry\\miniconda3\\envs\\jupyter_env\\lib\\site-packages\\sklearn\\linear_model\\_glm\\link.py:93: RuntimeWarning: overflow encountered in exp\n",
      "  return np.exp(lin_pred)\n",
      "C:\\Users\\henry\\miniconda3\\envs\\jupyter_env\\lib\\site-packages\\sklearn\\_loss\\glm_distribution.py:132: RuntimeWarning: invalid value encountered in true_divide\n",
      "  return -2 * (y - y_pred) / self.unit_variance(y_pred)\n"
     ]
    },
    {
     "name": "stdout",
     "output_type": "stream",
     "text": [
      "Model Number: 821 with model DatepartRegression in generation 7 of 10\n",
      "Model Number: 822 with model Theta in generation 7 of 10\n",
      "Model Number: 823 with model LastValueNaive in generation 7 of 10\n",
      "Model Number: 824 with model AverageValueNaive in generation 7 of 10\n",
      "Model Number: 825 with model LastValueNaive in generation 7 of 10\n",
      "Model Number: 826 with model MultivariateRegression in generation 7 of 10\n",
      "Template Eval Error: ValueError(\"regression_type='User' but not future_regressor supplied.\") in model 826: MultivariateRegression\n",
      "Model Number: 827 with model MultivariateRegression in generation 7 of 10\n"
     ]
    },
    {
     "name": "stderr",
     "output_type": "stream",
     "text": [
      "C:\\Users\\henry\\miniconda3\\envs\\jupyter_env\\lib\\site-packages\\autots\\tools\\probabilistic.py:67: RuntimeWarning: invalid value encountered in true_divide\n",
      "  (prior_mu / prior_sigma**2) + ((n * data_mu) / prior_sigma**2)\n",
      "C:\\Users\\henry\\miniconda3\\envs\\jupyter_env\\lib\\site-packages\\autots\\tools\\probabilistic.py:68: RuntimeWarning: divide by zero encountered in true_divide\n",
      "  ) / ((1 / prior_sigma**2) + (n / prior_sigma**2))\n",
      "[Parallel(n_jobs=-2)]: Using backend ThreadingBackend with 15 concurrent workers.\n",
      "[Parallel(n_jobs=-2)]: Done  20 tasks      | elapsed:    0.0s\n",
      "[Parallel(n_jobs=-2)]: Done 170 tasks      | elapsed:    0.0s\n",
      "[Parallel(n_jobs=-2)]: Done 200 out of 200 | elapsed:    0.0s finished\n",
      "[Parallel(n_jobs=15)]: Using backend ThreadingBackend with 15 concurrent workers.\n",
      "[Parallel(n_jobs=15)]: Done  20 tasks      | elapsed:    0.0s\n",
      "[Parallel(n_jobs=15)]: Done 170 tasks      | elapsed:    0.0s\n",
      "[Parallel(n_jobs=15)]: Done 200 out of 200 | elapsed:    0.0s finished\n",
      "[Parallel(n_jobs=15)]: Using backend ThreadingBackend with 15 concurrent workers.\n",
      "[Parallel(n_jobs=15)]: Done  20 tasks      | elapsed:    0.0s\n",
      "[Parallel(n_jobs=15)]: Done 170 tasks      | elapsed:    0.0s\n",
      "[Parallel(n_jobs=15)]: Done 200 out of 200 | elapsed:    0.0s finished\n",
      "[Parallel(n_jobs=15)]: Using backend ThreadingBackend with 15 concurrent workers.\n",
      "[Parallel(n_jobs=15)]: Done  20 tasks      | elapsed:    0.0s\n",
      "[Parallel(n_jobs=15)]: Done 170 tasks      | elapsed:    0.0s\n",
      "[Parallel(n_jobs=15)]: Done 200 out of 200 | elapsed:    0.0s finished\n",
      "[Parallel(n_jobs=15)]: Using backend ThreadingBackend with 15 concurrent workers.\n",
      "[Parallel(n_jobs=15)]: Done  20 tasks      | elapsed:    0.0s\n",
      "[Parallel(n_jobs=15)]: Done 170 tasks      | elapsed:    0.0s\n",
      "[Parallel(n_jobs=15)]: Done 200 out of 200 | elapsed:    0.0s finished\n",
      "[Parallel(n_jobs=-2)]: Using backend ThreadingBackend with 15 concurrent workers.\n",
      "[Parallel(n_jobs=-2)]: Done  20 tasks      | elapsed:    0.0s\n"
     ]
    },
    {
     "name": "stdout",
     "output_type": "stream",
     "text": [
      "Model Number: 828 with model MultivariateRegression in generation 7 of 10\n"
     ]
    },
    {
     "name": "stderr",
     "output_type": "stream",
     "text": [
      "[Parallel(n_jobs=-2)]: Done 170 tasks      | elapsed:    0.0s\n",
      "[Parallel(n_jobs=-2)]: Done 200 out of 200 | elapsed:    0.0s finished\n",
      "[Parallel(n_jobs=15)]: Using backend ThreadingBackend with 15 concurrent workers.\n",
      "[Parallel(n_jobs=15)]: Done  20 tasks      | elapsed:    0.0s\n",
      "[Parallel(n_jobs=15)]: Done 170 tasks      | elapsed:    0.0s\n",
      "[Parallel(n_jobs=15)]: Done 200 out of 200 | elapsed:    0.0s finished\n",
      "[Parallel(n_jobs=15)]: Using backend ThreadingBackend with 15 concurrent workers.\n",
      "[Parallel(n_jobs=15)]: Done  20 tasks      | elapsed:    0.0s\n",
      "[Parallel(n_jobs=15)]: Done 170 tasks      | elapsed:    0.0s\n",
      "[Parallel(n_jobs=15)]: Done 200 out of 200 | elapsed:    0.0s finished\n",
      "[Parallel(n_jobs=15)]: Using backend ThreadingBackend with 15 concurrent workers.\n",
      "[Parallel(n_jobs=15)]: Done  20 tasks      | elapsed:    0.0s\n",
      "[Parallel(n_jobs=15)]: Done 170 tasks      | elapsed:    0.0s\n",
      "[Parallel(n_jobs=15)]: Done 200 out of 200 | elapsed:    0.0s finished\n",
      "[Parallel(n_jobs=15)]: Using backend ThreadingBackend with 15 concurrent workers.\n",
      "[Parallel(n_jobs=15)]: Done  20 tasks      | elapsed:    0.0s\n",
      "[Parallel(n_jobs=15)]: Done 170 tasks      | elapsed:    0.0s\n",
      "[Parallel(n_jobs=15)]: Done 200 out of 200 | elapsed:    0.0s finished\n",
      "C:\\Users\\henry\\miniconda3\\envs\\jupyter_env\\lib\\site-packages\\sklearn\\linear_model\\_glm\\link.py:90: RuntimeWarning: overflow encountered in exp\n",
      "  return np.exp(lin_pred)\n",
      "C:\\Users\\henry\\miniconda3\\envs\\jupyter_env\\lib\\site-packages\\sklearn\\linear_model\\_glm\\link.py:93: RuntimeWarning: overflow encountered in exp\n",
      "  return np.exp(lin_pred)\n",
      "C:\\Users\\henry\\miniconda3\\envs\\jupyter_env\\lib\\site-packages\\sklearn\\_loss\\glm_distribution.py:132: RuntimeWarning: invalid value encountered in true_divide\n",
      "  return -2 * (y - y_pred) / self.unit_variance(y_pred)\n"
     ]
    },
    {
     "name": "stdout",
     "output_type": "stream",
     "text": [
      "Model Number: 829 with model MultivariateRegression in generation 7 of 10\n"
     ]
    },
    {
     "name": "stderr",
     "output_type": "stream",
     "text": [
      "[Parallel(n_jobs=-2)]: Using backend ThreadingBackend with 15 concurrent workers.\n",
      "[Parallel(n_jobs=-2)]: Done  20 tasks      | elapsed:    0.0s\n",
      "[Parallel(n_jobs=-2)]: Done 170 tasks      | elapsed:    0.0s\n",
      "[Parallel(n_jobs=-2)]: Done 200 out of 200 | elapsed:    0.0s finished\n",
      "[Parallel(n_jobs=15)]: Using backend ThreadingBackend with 15 concurrent workers.\n",
      "[Parallel(n_jobs=15)]: Done  20 tasks      | elapsed:    0.0s\n",
      "[Parallel(n_jobs=15)]: Done 170 tasks      | elapsed:    0.0s\n",
      "[Parallel(n_jobs=15)]: Done 200 out of 200 | elapsed:    0.0s finished\n",
      "[Parallel(n_jobs=15)]: Using backend ThreadingBackend with 15 concurrent workers.\n",
      "[Parallel(n_jobs=15)]: Done  20 tasks      | elapsed:    0.0s\n",
      "[Parallel(n_jobs=15)]: Done 170 tasks      | elapsed:    0.0s\n",
      "[Parallel(n_jobs=15)]: Done 200 out of 200 | elapsed:    0.0s finished\n",
      "[Parallel(n_jobs=15)]: Using backend ThreadingBackend with 15 concurrent workers.\n",
      "[Parallel(n_jobs=15)]: Done  20 tasks      | elapsed:    0.0s\n",
      "[Parallel(n_jobs=15)]: Done 170 tasks      | elapsed:    0.0s\n",
      "[Parallel(n_jobs=15)]: Done 200 out of 200 | elapsed:    0.0s finished\n",
      "[Parallel(n_jobs=15)]: Using backend ThreadingBackend with 15 concurrent workers.\n"
     ]
    },
    {
     "name": "stdout",
     "output_type": "stream",
     "text": [
      "Model Number: 830 with model LastValueNaive in generation 7 of 10\n"
     ]
    },
    {
     "name": "stderr",
     "output_type": "stream",
     "text": [
      "[Parallel(n_jobs=15)]: Done  20 tasks      | elapsed:    0.0s\n",
      "[Parallel(n_jobs=15)]: Done 170 tasks      | elapsed:    0.0s\n",
      "[Parallel(n_jobs=15)]: Done 200 out of 200 | elapsed:    0.0s finished\n"
     ]
    },
    {
     "name": "stdout",
     "output_type": "stream",
     "text": [
      "Model Number: 831 with model MultivariateRegression in generation 7 of 10\n",
      "Template Eval Error: ModuleNotFoundError(\"No module named 'xgboost'\") in model 831: MultivariateRegression\n",
      "Model Number: 832 with model NVAR in generation 7 of 10\n",
      "Model Number: 833 with model SeasonalNaive in generation 7 of 10\n",
      "Template Eval Error: ValueError('Model SeasonalNaive returned NaN for one or more series. fail_on_forecast_nan=True') in model 833: SeasonalNaive\n",
      "Model Number: 834 with model LastValueNaive in generation 7 of 10\n",
      "Model Number: 835 with model UnobservedComponents in generation 7 of 10\n",
      "Model Number: 836 with model GLS in generation 7 of 10\n",
      "Model Number: 837 with model SeasonalNaive in generation 7 of 10\n",
      "Model Number: 838 with model SeasonalNaive in generation 7 of 10\n",
      "Model Number: 839 with model ARDL in generation 7 of 10\n",
      "Model Number: 840 with model SeasonalNaive in generation 7 of 10\n",
      "Model Number: 841 with model ARDL in generation 7 of 10\n",
      "Model Number: 842 with model SeasonalNaive in generation 7 of 10\n",
      "Model Number: 843 with model ConstantNaive in generation 7 of 10\n",
      "Model Number: 844 with model SeasonalNaive in generation 7 of 10\n",
      "Model Number: 845 with model ARDL in generation 7 of 10\n"
     ]
    },
    {
     "name": "stderr",
     "output_type": "stream",
     "text": [
      "C:\\Users\\henry\\miniconda3\\envs\\jupyter_env\\lib\\site-packages\\sklearn\\linear_model\\_glm\\link.py:90: RuntimeWarning: overflow encountered in exp\n",
      "  return np.exp(lin_pred)\n",
      "C:\\Users\\henry\\miniconda3\\envs\\jupyter_env\\lib\\site-packages\\sklearn\\linear_model\\_glm\\link.py:93: RuntimeWarning: overflow encountered in exp\n",
      "  return np.exp(lin_pred)\n",
      "C:\\Users\\henry\\miniconda3\\envs\\jupyter_env\\lib\\site-packages\\sklearn\\_loss\\glm_distribution.py:132: RuntimeWarning: invalid value encountered in true_divide\n",
      "  return -2 * (y - y_pred) / self.unit_variance(y_pred)\n"
     ]
    },
    {
     "name": "stdout",
     "output_type": "stream",
     "text": [
      "Model Number: 846 with model AverageValueNaive in generation 7 of 10\n",
      "Model Number: 847 with model NVAR in generation 7 of 10\n",
      "Model Number: 848 with model GLS in generation 7 of 10\n",
      "Model Number: 849 with model Theta in generation 7 of 10\n",
      "Model Number: 850 with model LastValueNaive in generation 7 of 10\n",
      "Model Number: 851 with model SeasonalNaive in generation 7 of 10\n",
      "Model Number: 852 with model UnobservedComponents in generation 7 of 10\n"
     ]
    },
    {
     "name": "stderr",
     "output_type": "stream",
     "text": [
      "C:\\Users\\henry\\miniconda3\\envs\\jupyter_env\\lib\\site-packages\\numpy\\core\\fromnumeric.py:57: RuntimeWarning: overflow encountered in accumulate\n",
      "  return bound(*args, **kwds)\n",
      "C:\\Users\\henry\\miniconda3\\envs\\jupyter_env\\lib\\site-packages\\sklearn\\linear_model\\_glm\\link.py:90: RuntimeWarning: overflow encountered in exp\n",
      "  return np.exp(lin_pred)\n",
      "C:\\Users\\henry\\miniconda3\\envs\\jupyter_env\\lib\\site-packages\\sklearn\\linear_model\\_glm\\link.py:93: RuntimeWarning: overflow encountered in exp\n",
      "  return np.exp(lin_pred)\n",
      "C:\\Users\\henry\\miniconda3\\envs\\jupyter_env\\lib\\site-packages\\sklearn\\_loss\\glm_distribution.py:132: RuntimeWarning: invalid value encountered in true_divide\n",
      "  return -2 * (y - y_pred) / self.unit_variance(y_pred)\n"
     ]
    },
    {
     "name": "stdout",
     "output_type": "stream",
     "text": [
      "Model Number: 853 with model NVAR in generation 7 of 10\n",
      "Model Number: 854 with model AverageValueNaive in generation 7 of 10\n",
      "Model Number: 855 with model ARDL in generation 7 of 10\n",
      "Model Number: 856 with model LastValueNaive in generation 7 of 10\n",
      "Model Number: 857 with model UnobservedComponents in generation 7 of 10\n",
      "Template Eval Error: ValueError(\"regression_type='User' but no future_regressor supplied\") in model 857: UnobservedComponents\n",
      "Model Number: 858 with model NVAR in generation 7 of 10\n",
      "Model Number: 859 with model NVAR in generation 7 of 10\n",
      "Model Number: 860 with model DatepartRegression in generation 7 of 10\n",
      "Model Number: 861 with model LastValueNaive in generation 7 of 10\n",
      "Model Number: 862 with model Theta in generation 7 of 10\n",
      "Template Eval Error: Exception('Transformer Detrend failed on fit') in model 862: Theta\n",
      "Model Number: 863 with model NVAR in generation 7 of 10\n",
      "Template Eval Error: Exception('Transformer BTCD failed on fit') in model 863: NVAR\n",
      "Model Number: 864 with model LastValueNaive in generation 7 of 10\n",
      "Model Number: 865 with model GLS in generation 7 of 10\n",
      "Model Number: 866 with model ETS in generation 7 of 10\n",
      "Model Number: 867 with model Theta in generation 7 of 10\n",
      "Model Number: 868 with model LastValueNaive in generation 7 of 10\n"
     ]
    },
    {
     "name": "stderr",
     "output_type": "stream",
     "text": [
      "C:\\Users\\henry\\miniconda3\\envs\\jupyter_env\\lib\\site-packages\\scipy\\signal\\signaltools.py:1611: RuntimeWarning: invalid value encountered in true_divide\n",
      "  res *= (1 - noise / lVar)\n"
     ]
    },
    {
     "name": "stdout",
     "output_type": "stream",
     "text": [
      "New Generation: 8 of 10\n",
      "Model Number: 869 with model Theta in generation 8 of 10\n",
      "Model Number: 870 with model UnobservedComponents in generation 8 of 10\n"
     ]
    },
    {
     "name": "stderr",
     "output_type": "stream",
     "text": [
      "C:\\Users\\henry\\miniconda3\\envs\\jupyter_env\\lib\\site-packages\\sklearn\\linear_model\\_glm\\link.py:90: RuntimeWarning: overflow encountered in exp\n",
      "  return np.exp(lin_pred)\n",
      "C:\\Users\\henry\\miniconda3\\envs\\jupyter_env\\lib\\site-packages\\sklearn\\linear_model\\_glm\\link.py:93: RuntimeWarning: overflow encountered in exp\n",
      "  return np.exp(lin_pred)\n",
      "C:\\Users\\henry\\miniconda3\\envs\\jupyter_env\\lib\\site-packages\\sklearn\\_loss\\glm_distribution.py:132: RuntimeWarning: invalid value encountered in true_divide\n",
      "  return -2 * (y - y_pred) / self.unit_variance(y_pred)\n",
      "C:\\Users\\henry\\miniconda3\\envs\\jupyter_env\\lib\\site-packages\\sklearn\\linear_model\\_glm\\link.py:90: RuntimeWarning: overflow encountered in exp\n",
      "  return np.exp(lin_pred)\n",
      "C:\\Users\\henry\\miniconda3\\envs\\jupyter_env\\lib\\site-packages\\sklearn\\linear_model\\_glm\\link.py:93: RuntimeWarning: overflow encountered in exp\n",
      "  return np.exp(lin_pred)\n",
      "C:\\Users\\henry\\miniconda3\\envs\\jupyter_env\\lib\\site-packages\\sklearn\\_loss\\glm_distribution.py:132: RuntimeWarning: invalid value encountered in true_divide\n",
      "  return -2 * (y - y_pred) / self.unit_variance(y_pred)\n",
      "C:\\Users\\henry\\miniconda3\\envs\\jupyter_env\\lib\\site-packages\\sklearn\\linear_model\\_glm\\link.py:90: RuntimeWarning: overflow encountered in exp\n",
      "  return np.exp(lin_pred)\n",
      "C:\\Users\\henry\\miniconda3\\envs\\jupyter_env\\lib\\site-packages\\sklearn\\linear_model\\_glm\\link.py:93: RuntimeWarning: overflow encountered in exp\n",
      "  return np.exp(lin_pred)\n",
      "C:\\Users\\henry\\miniconda3\\envs\\jupyter_env\\lib\\site-packages\\sklearn\\_loss\\glm_distribution.py:132: RuntimeWarning: invalid value encountered in true_divide\n",
      "  return -2 * (y - y_pred) / self.unit_variance(y_pred)\n"
     ]
    },
    {
     "name": "stdout",
     "output_type": "stream",
     "text": [
      "Model Number: 871 with model MultivariateRegression in generation 8 of 10\n",
      "Template Eval Error: Exception('Transformer STLFilter failed on fit') in model 871: MultivariateRegression\n",
      "Model Number: 872 with model AverageValueNaive in generation 8 of 10\n",
      "Model Number: 873 with model ETS in generation 8 of 10\n",
      "ETS error ValueError('Can only dampen the trend component')\n",
      "ETS failed on followers_gained with ValueError('Can only dampen the trend component')\n",
      "Model Number: 874 with model LastValueNaive in generation 8 of 10\n",
      "Model Number: 875 with model AverageValueNaive in generation 8 of 10\n",
      "Model Number: 876 with model AverageValueNaive in generation 8 of 10\n",
      "Model Number: 877 with model ConstantNaive in generation 8 of 10\n"
     ]
    },
    {
     "name": "stderr",
     "output_type": "stream",
     "text": [
      "C:\\Users\\henry\\miniconda3\\envs\\jupyter_env\\lib\\site-packages\\sklearn\\linear_model\\_glm\\link.py:90: RuntimeWarning: overflow encountered in exp\n",
      "  return np.exp(lin_pred)\n",
      "C:\\Users\\henry\\miniconda3\\envs\\jupyter_env\\lib\\site-packages\\sklearn\\linear_model\\_glm\\link.py:93: RuntimeWarning: overflow encountered in exp\n",
      "  return np.exp(lin_pred)\n",
      "C:\\Users\\henry\\miniconda3\\envs\\jupyter_env\\lib\\site-packages\\sklearn\\_loss\\glm_distribution.py:132: RuntimeWarning: invalid value encountered in true_divide\n",
      "  return -2 * (y - y_pred) / self.unit_variance(y_pred)\n",
      "C:\\Users\\henry\\miniconda3\\envs\\jupyter_env\\lib\\site-packages\\sklearn\\_loss\\glm_distribution.py:323: RuntimeWarning: invalid value encountered in add\n",
      "  dev = 2 * (xlogy(y, y / y_pred) - y + y_pred)\n",
      "C:\\Users\\henry\\miniconda3\\envs\\jupyter_env\\lib\\site-packages\\sklearn\\linear_model\\_glm\\glm.py:323: ConvergenceWarning: lbfgs failed to converge (status=2):\n",
      "ABNORMAL_TERMINATION_IN_LNSRCH.\n",
      "\n",
      "Increase the number of iterations (max_iter) or scale the data as shown in:\n",
      "    https://scikit-learn.org/stable/modules/preprocessing.html\n",
      "  self.n_iter_ = _check_optimize_result(\"lbfgs\", opt_res)\n"
     ]
    },
    {
     "name": "stdout",
     "output_type": "stream",
     "text": [
      "Model Number: 878 with model SeasonalNaive in generation 8 of 10\n",
      "Model Number: 879 with model AverageValueNaive in generation 8 of 10\n",
      "Model Number: 880 with model UnobservedComponents in generation 8 of 10\n"
     ]
    },
    {
     "name": "stderr",
     "output_type": "stream",
     "text": [
      "C:\\Users\\henry\\miniconda3\\envs\\jupyter_env\\lib\\site-packages\\sklearn\\linear_model\\_glm\\link.py:90: RuntimeWarning: overflow encountered in exp\n",
      "  return np.exp(lin_pred)\n",
      "C:\\Users\\henry\\miniconda3\\envs\\jupyter_env\\lib\\site-packages\\sklearn\\linear_model\\_glm\\link.py:93: RuntimeWarning: overflow encountered in exp\n",
      "  return np.exp(lin_pred)\n",
      "C:\\Users\\henry\\miniconda3\\envs\\jupyter_env\\lib\\site-packages\\sklearn\\_loss\\glm_distribution.py:132: RuntimeWarning: invalid value encountered in true_divide\n",
      "  return -2 * (y - y_pred) / self.unit_variance(y_pred)\n",
      "C:\\Users\\henry\\miniconda3\\envs\\jupyter_env\\lib\\site-packages\\sklearn\\linear_model\\_glm\\link.py:90: RuntimeWarning: overflow encountered in exp\n",
      "  return np.exp(lin_pred)\n",
      "C:\\Users\\henry\\miniconda3\\envs\\jupyter_env\\lib\\site-packages\\sklearn\\linear_model\\_glm\\link.py:93: RuntimeWarning: overflow encountered in exp\n",
      "  return np.exp(lin_pred)\n",
      "C:\\Users\\henry\\miniconda3\\envs\\jupyter_env\\lib\\site-packages\\sklearn\\_loss\\glm_distribution.py:132: RuntimeWarning: invalid value encountered in true_divide\n",
      "  return -2 * (y - y_pred) / self.unit_variance(y_pred)\n"
     ]
    },
    {
     "name": "stdout",
     "output_type": "stream",
     "text": [
      "Model Number: 881 with model SeasonalNaive in generation 8 of 10\n",
      "Model Number: 882 with model SeasonalNaive in generation 8 of 10\n",
      "Model Number: 883 with model AverageValueNaive in generation 8 of 10\n",
      "Model Number: 884 with model SeasonalNaive in generation 8 of 10\n",
      "Model Number: 885 with model UnobservedComponents in generation 8 of 10\n"
     ]
    },
    {
     "name": "stderr",
     "output_type": "stream",
     "text": [
      "C:\\Users\\henry\\miniconda3\\envs\\jupyter_env\\lib\\site-packages\\sklearn\\linear_model\\_glm\\link.py:90: RuntimeWarning: overflow encountered in exp\n",
      "  return np.exp(lin_pred)\n",
      "C:\\Users\\henry\\miniconda3\\envs\\jupyter_env\\lib\\site-packages\\sklearn\\linear_model\\_glm\\link.py:93: RuntimeWarning: overflow encountered in exp\n",
      "  return np.exp(lin_pred)\n",
      "C:\\Users\\henry\\miniconda3\\envs\\jupyter_env\\lib\\site-packages\\sklearn\\_loss\\glm_distribution.py:132: RuntimeWarning: invalid value encountered in true_divide\n",
      "  return -2 * (y - y_pred) / self.unit_variance(y_pred)\n"
     ]
    },
    {
     "name": "stdout",
     "output_type": "stream",
     "text": [
      "Model Number: 886 with model MultivariateRegression in generation 8 of 10\n"
     ]
    },
    {
     "name": "stderr",
     "output_type": "stream",
     "text": [
      "[Parallel(n_jobs=-2)]: Using backend ThreadingBackend with 15 concurrent workers.\n",
      "[Parallel(n_jobs=-2)]: Done  20 tasks      | elapsed:    0.0s\n",
      "[Parallel(n_jobs=-2)]: Done 170 tasks      | elapsed:    0.0s\n",
      "[Parallel(n_jobs=-2)]: Done 200 out of 200 | elapsed:    0.0s finished\n",
      "[Parallel(n_jobs=15)]: Using backend ThreadingBackend with 15 concurrent workers.\n",
      "[Parallel(n_jobs=15)]: Done  20 tasks      | elapsed:    0.0s\n",
      "[Parallel(n_jobs=15)]: Done 170 tasks      | elapsed:    0.0s\n",
      "[Parallel(n_jobs=15)]: Done 200 out of 200 | elapsed:    0.0s finished\n",
      "[Parallel(n_jobs=15)]: Using backend ThreadingBackend with 15 concurrent workers.\n",
      "[Parallel(n_jobs=15)]: Done  20 tasks      | elapsed:    0.0s\n",
      "[Parallel(n_jobs=15)]: Done 170 tasks      | elapsed:    0.0s\n",
      "[Parallel(n_jobs=15)]: Done 200 out of 200 | elapsed:    0.0s finished\n",
      "[Parallel(n_jobs=15)]: Using backend ThreadingBackend with 15 concurrent workers.\n",
      "[Parallel(n_jobs=15)]: Done  20 tasks      | elapsed:    0.0s\n",
      "[Parallel(n_jobs=15)]: Done 170 tasks      | elapsed:    0.0s\n",
      "[Parallel(n_jobs=15)]: Done 200 out of 200 | elapsed:    0.0s finished\n",
      "[Parallel(n_jobs=15)]: Using backend ThreadingBackend with 15 concurrent workers.\n",
      "[Parallel(n_jobs=15)]: Done  20 tasks      | elapsed:    0.0s\n",
      "[Parallel(n_jobs=15)]: Done 170 tasks      | elapsed:    0.0s\n",
      "[Parallel(n_jobs=15)]: Done 200 out of 200 | elapsed:    0.0s finished\n"
     ]
    },
    {
     "name": "stdout",
     "output_type": "stream",
     "text": [
      "Model Number: 887 with model ARDL in generation 8 of 10\n",
      "Model Number: 888 with model NVAR in generation 8 of 10\n",
      "Template Eval Error: Exception('Transformer Detrend failed on fit') in model 888: NVAR\n",
      "Model Number: 889 with model ARDL in generation 8 of 10\n",
      "Model Number: 890 with model ETS in generation 8 of 10\n",
      "Model Number: 891 with model ConstantNaive in generation 8 of 10\n",
      "Model Number: 892 with model LastValueNaive in generation 8 of 10\n",
      "Model Number: 893 with model AverageValueNaive in generation 8 of 10\n",
      "Model Number: 894 with model GLS in generation 8 of 10\n",
      "Model Number: 895 with model DatepartRegression in generation 8 of 10\n",
      "Model Number: 896 with model ConstantNaive in generation 8 of 10\n",
      "Model Number: 897 with model UnobservedComponents in generation 8 of 10\n",
      "Model Number: 898 with model DatepartRegression in generation 8 of 10\n",
      "Model Number: 899 with model SeasonalNaive in generation 8 of 10\n",
      "Model Number: 900 with model SeasonalNaive in generation 8 of 10\n",
      "Model Number: 901 with model ARDL in generation 8 of 10\n",
      "Template Eval Error: ValueError(\"regression_type='User' but future_regressor not supplied\") in model 901: ARDL\n",
      "Model Number: 902 with model LastValueNaive in generation 8 of 10\n",
      "Model Number: 903 with model AverageValueNaive in generation 8 of 10\n",
      "Model Number: 904 with model GLS in generation 8 of 10\n",
      "Model Number: 905 with model NVAR in generation 8 of 10\n",
      "Model Number: 906 with model NVAR in generation 8 of 10\n",
      "Model Number: 907 with model NVAR in generation 8 of 10\n",
      "Model Number: 908 with model LastValueNaive in generation 8 of 10\n",
      "Model Number: 909 with model SeasonalNaive in generation 8 of 10\n"
     ]
    },
    {
     "name": "stderr",
     "output_type": "stream",
     "text": [
      "C:\\Users\\henry\\miniconda3\\envs\\jupyter_env\\lib\\site-packages\\sklearn\\linear_model\\_glm\\link.py:90: RuntimeWarning: overflow encountered in exp\n",
      "  return np.exp(lin_pred)\n",
      "C:\\Users\\henry\\miniconda3\\envs\\jupyter_env\\lib\\site-packages\\sklearn\\linear_model\\_glm\\link.py:93: RuntimeWarning: overflow encountered in exp\n",
      "  return np.exp(lin_pred)\n",
      "C:\\Users\\henry\\miniconda3\\envs\\jupyter_env\\lib\\site-packages\\sklearn\\_loss\\glm_distribution.py:132: RuntimeWarning: invalid value encountered in true_divide\n",
      "  return -2 * (y - y_pred) / self.unit_variance(y_pred)\n",
      "C:\\Users\\henry\\miniconda3\\envs\\jupyter_env\\lib\\site-packages\\sklearn\\decomposition\\_pca.py:501: RuntimeWarning: invalid value encountered in true_divide\n",
      "  explained_variance_ratio_ = explained_variance_ / total_var\n",
      "C:\\Users\\henry\\miniconda3\\envs\\jupyter_env\\lib\\site-packages\\sklearn\\linear_model\\_glm\\link.py:90: RuntimeWarning: overflow encountered in exp\n",
      "  return np.exp(lin_pred)\n",
      "C:\\Users\\henry\\miniconda3\\envs\\jupyter_env\\lib\\site-packages\\sklearn\\linear_model\\_glm\\link.py:93: RuntimeWarning: overflow encountered in exp\n",
      "  return np.exp(lin_pred)\n",
      "C:\\Users\\henry\\miniconda3\\envs\\jupyter_env\\lib\\site-packages\\sklearn\\_loss\\glm_distribution.py:132: RuntimeWarning: invalid value encountered in true_divide\n",
      "  return -2 * (y - y_pred) / self.unit_variance(y_pred)\n",
      "C:\\Users\\henry\\miniconda3\\envs\\jupyter_env\\lib\\site-packages\\autots\\tools\\probabilistic.py:67: RuntimeWarning: invalid value encountered in true_divide\n",
      "  (prior_mu / prior_sigma**2) + ((n * data_mu) / prior_sigma**2)\n",
      "C:\\Users\\henry\\miniconda3\\envs\\jupyter_env\\lib\\site-packages\\autots\\tools\\probabilistic.py:68: RuntimeWarning: divide by zero encountered in true_divide\n",
      "  ) / ((1 / prior_sigma**2) + (n / prior_sigma**2))\n",
      "C:\\Users\\henry\\miniconda3\\envs\\jupyter_env\\lib\\site-packages\\sklearn\\decomposition\\_pca.py:501: RuntimeWarning: invalid value encountered in true_divide\n",
      "  explained_variance_ratio_ = explained_variance_ / total_var\n"
     ]
    },
    {
     "name": "stdout",
     "output_type": "stream",
     "text": [
      "Model Number: 910 with model UnobservedComponents in generation 8 of 10\n",
      "Model Number: 911 with model AverageValueNaive in generation 8 of 10\n",
      "Model Number: 912 with model GLS in generation 8 of 10\n",
      "Model Number: 913 with model SeasonalNaive in generation 8 of 10\n",
      "Model Number: 914 with model SeasonalNaive in generation 8 of 10\n",
      "Model Number: 915 with model Theta in generation 8 of 10\n",
      "Model Number: 916 with model SeasonalNaive in generation 8 of 10\n",
      "Model Number: 917 with model ConstantNaive in generation 8 of 10\n",
      "Model Number: 918 with model ARDL in generation 8 of 10\n"
     ]
    },
    {
     "name": "stderr",
     "output_type": "stream",
     "text": [
      "C:\\Users\\henry\\miniconda3\\envs\\jupyter_env\\lib\\site-packages\\sklearn\\linear_model\\_glm\\link.py:90: RuntimeWarning: overflow encountered in exp\n",
      "  return np.exp(lin_pred)\n",
      "C:\\Users\\henry\\miniconda3\\envs\\jupyter_env\\lib\\site-packages\\sklearn\\linear_model\\_glm\\link.py:93: RuntimeWarning: overflow encountered in exp\n",
      "  return np.exp(lin_pred)\n",
      "C:\\Users\\henry\\miniconda3\\envs\\jupyter_env\\lib\\site-packages\\sklearn\\_loss\\glm_distribution.py:132: RuntimeWarning: invalid value encountered in true_divide\n",
      "  return -2 * (y - y_pred) / self.unit_variance(y_pred)\n",
      "C:\\Users\\henry\\miniconda3\\envs\\jupyter_env\\lib\\site-packages\\sklearn\\linear_model\\_glm\\link.py:90: RuntimeWarning: overflow encountered in exp\n",
      "  return np.exp(lin_pred)\n",
      "C:\\Users\\henry\\miniconda3\\envs\\jupyter_env\\lib\\site-packages\\sklearn\\linear_model\\_glm\\link.py:93: RuntimeWarning: overflow encountered in exp\n",
      "  return np.exp(lin_pred)\n",
      "C:\\Users\\henry\\miniconda3\\envs\\jupyter_env\\lib\\site-packages\\sklearn\\_loss\\glm_distribution.py:132: RuntimeWarning: invalid value encountered in true_divide\n",
      "  return -2 * (y - y_pred) / self.unit_variance(y_pred)\n",
      "C:\\Users\\henry\\miniconda3\\envs\\jupyter_env\\lib\\site-packages\\sklearn\\_loss\\glm_distribution.py:323: RuntimeWarning: invalid value encountered in add\n",
      "  dev = 2 * (xlogy(y, y / y_pred) - y + y_pred)\n",
      "C:\\Users\\henry\\miniconda3\\envs\\jupyter_env\\lib\\site-packages\\sklearn\\linear_model\\_glm\\glm.py:323: ConvergenceWarning: lbfgs failed to converge (status=2):\n",
      "ABNORMAL_TERMINATION_IN_LNSRCH.\n",
      "\n",
      "Increase the number of iterations (max_iter) or scale the data as shown in:\n",
      "    https://scikit-learn.org/stable/modules/preprocessing.html\n",
      "  self.n_iter_ = _check_optimize_result(\"lbfgs\", opt_res)\n"
     ]
    },
    {
     "name": "stdout",
     "output_type": "stream",
     "text": [
      "Model Number: 919 with model AverageValueNaive in generation 8 of 10\n",
      "Model Number: 920 with model ConstantNaive in generation 8 of 10\n",
      "Model Number: 921 with model Theta in generation 8 of 10\n",
      "Model Number: 922 with model NVAR in generation 8 of 10\n",
      "Model Number: 923 with model ETS in generation 8 of 10\n",
      "Model Number: 924 with model LastValueNaive in generation 8 of 10\n",
      "Model Number: 925 with model ConstantNaive in generation 8 of 10\n",
      "Model Number: 926 with model LastValueNaive in generation 8 of 10\n",
      "Model Number: 927 with model NVAR in generation 8 of 10\n",
      "Model Number: 928 with model NVAR in generation 8 of 10\n",
      "Model Number: 929 with model SectionalMotif in generation 8 of 10\n",
      "Template Eval Error: ValueError(\"regression_type=='User' but no future_regressor supplied\") in model 929: SectionalMotif\n",
      "Model Number: 930 with model UnobservedComponents in generation 8 of 10\n",
      "Template Eval Error: Exception('Transformer Cointegration failed on fit') in model 930: UnobservedComponents\n",
      "Model Number: 931 with model ETS in generation 8 of 10\n",
      "Model Number: 932 with model Theta in generation 8 of 10\n",
      "Model Number: 933 with model Theta in generation 8 of 10\n",
      "Model Number: 934 with model ConstantNaive in generation 8 of 10\n",
      "Model Number: 935 with model ETS in generation 8 of 10\n",
      "Model Number: 936 with model GLS in generation 8 of 10\n",
      "Model Number: 937 with model MultivariateRegression in generation 8 of 10\n",
      "Model Number: 938 with model NVAR in generation 8 of 10\n",
      "Model Number: 939 with model ARDL in generation 8 of 10\n",
      "Model Number: 940 with model MultivariateRegression in generation 8 of 10\n"
     ]
    },
    {
     "name": "stderr",
     "output_type": "stream",
     "text": [
      "C:\\Users\\henry\\miniconda3\\envs\\jupyter_env\\lib\\site-packages\\sklearn\\linear_model\\_glm\\link.py:90: RuntimeWarning: overflow encountered in exp\n",
      "  return np.exp(lin_pred)\n",
      "C:\\Users\\henry\\miniconda3\\envs\\jupyter_env\\lib\\site-packages\\sklearn\\linear_model\\_glm\\link.py:93: RuntimeWarning: overflow encountered in exp\n",
      "  return np.exp(lin_pred)\n",
      "C:\\Users\\henry\\miniconda3\\envs\\jupyter_env\\lib\\site-packages\\sklearn\\_loss\\glm_distribution.py:132: RuntimeWarning: invalid value encountered in true_divide\n",
      "  return -2 * (y - y_pred) / self.unit_variance(y_pred)\n",
      "[Parallel(n_jobs=-2)]: Using backend ThreadingBackend with 15 concurrent workers.\n",
      "[Parallel(n_jobs=-2)]: Done  20 tasks      | elapsed:    0.0s\n",
      "[Parallel(n_jobs=-2)]: Done 170 tasks      | elapsed:    0.0s\n",
      "[Parallel(n_jobs=-2)]: Done 200 out of 200 | elapsed:    0.0s finished\n",
      "[Parallel(n_jobs=15)]: Using backend ThreadingBackend with 15 concurrent workers.\n",
      "[Parallel(n_jobs=15)]: Done  20 tasks      | elapsed:    0.0s\n",
      "[Parallel(n_jobs=15)]: Done 170 tasks      | elapsed:    0.0s\n",
      "[Parallel(n_jobs=15)]: Done 200 out of 200 | elapsed:    0.0s finished\n",
      "[Parallel(n_jobs=15)]: Using backend ThreadingBackend with 15 concurrent workers.\n",
      "[Parallel(n_jobs=15)]: Done  20 tasks      | elapsed:    0.0s\n",
      "[Parallel(n_jobs=15)]: Done 170 tasks      | elapsed:    0.0s\n",
      "[Parallel(n_jobs=15)]: Done 200 out of 200 | elapsed:    0.0s finished\n",
      "[Parallel(n_jobs=15)]: Using backend ThreadingBackend with 15 concurrent workers.\n",
      "[Parallel(n_jobs=15)]: Done  20 tasks      | elapsed:    0.0s\n",
      "[Parallel(n_jobs=15)]: Done 170 tasks      | elapsed:    0.0s\n",
      "[Parallel(n_jobs=15)]: Done 200 out of 200 | elapsed:    0.0s finished\n",
      "[Parallel(n_jobs=15)]: Using backend ThreadingBackend with 15 concurrent workers.\n"
     ]
    },
    {
     "name": "stdout",
     "output_type": "stream",
     "text": [
      "Model Number: 941 with model SeasonalNaive in generation 8 of 10\n",
      "Model Number: 942 with model NVAR in generation 8 of 10\n",
      "Model Number: 943 with model SeasonalNaive in generation 8 of 10\n",
      "Model Number: 944 with model Theta in generation 8 of 10\n"
     ]
    },
    {
     "name": "stderr",
     "output_type": "stream",
     "text": [
      "[Parallel(n_jobs=15)]: Done  20 tasks      | elapsed:    0.0s\n",
      "[Parallel(n_jobs=15)]: Done 170 tasks      | elapsed:    0.0s\n",
      "[Parallel(n_jobs=15)]: Done 200 out of 200 | elapsed:    0.0s finished\n",
      "C:\\Users\\henry\\miniconda3\\envs\\jupyter_env\\lib\\site-packages\\sklearn\\linear_model\\_glm\\link.py:90: RuntimeWarning: overflow encountered in exp\n",
      "  return np.exp(lin_pred)\n",
      "C:\\Users\\henry\\miniconda3\\envs\\jupyter_env\\lib\\site-packages\\sklearn\\linear_model\\_glm\\link.py:93: RuntimeWarning: overflow encountered in exp\n",
      "  return np.exp(lin_pred)\n",
      "C:\\Users\\henry\\miniconda3\\envs\\jupyter_env\\lib\\site-packages\\sklearn\\_loss\\glm_distribution.py:132: RuntimeWarning: invalid value encountered in true_divide\n",
      "  return -2 * (y - y_pred) / self.unit_variance(y_pred)\n",
      "C:\\Users\\henry\\miniconda3\\envs\\jupyter_env\\lib\\site-packages\\sklearn\\_loss\\glm_distribution.py:323: RuntimeWarning: invalid value encountered in add\n",
      "  dev = 2 * (xlogy(y, y / y_pred) - y + y_pred)\n",
      "C:\\Users\\henry\\miniconda3\\envs\\jupyter_env\\lib\\site-packages\\sklearn\\linear_model\\_glm\\glm.py:323: ConvergenceWarning: lbfgs failed to converge (status=2):\n",
      "ABNORMAL_TERMINATION_IN_LNSRCH.\n",
      "\n",
      "Increase the number of iterations (max_iter) or scale the data as shown in:\n",
      "    https://scikit-learn.org/stable/modules/preprocessing.html\n",
      "  self.n_iter_ = _check_optimize_result(\"lbfgs\", opt_res)\n"
     ]
    },
    {
     "name": "stdout",
     "output_type": "stream",
     "text": [
      "Model Number: 945 with model UnobservedComponents in generation 8 of 10\n",
      "Template Eval Error: ValueError(\"'shape' elements cannot be negative\") in model 945: UnobservedComponents\n",
      "Model Number: 946 with model SectionalMotif in generation 8 of 10\n",
      "Model Number: 947 with model ConstantNaive in generation 8 of 10\n",
      "Model Number: 948 with model UnobservedComponents in generation 8 of 10\n",
      "Model Number: 949 with model LastValueNaive in generation 8 of 10\n",
      "Model Number: 950 with model NVAR in generation 8 of 10\n",
      "Model Number: 951 with model NVAR in generation 8 of 10\n",
      "Model Number: 952 with model UnobservedComponents in generation 8 of 10\n",
      "Model Number: 953 with model NVAR in generation 8 of 10\n",
      "Model Number: 954 with model MultivariateRegression in generation 8 of 10\n",
      "Template Eval Error: Exception('Transformer STLFilter failed on fit') in model 954: MultivariateRegression\n",
      "Model Number: 955 with model DatepartRegression in generation 8 of 10\n",
      "Template Eval Error: Exception('Transformer STLFilter failed on fit') in model 955: DatepartRegression\n",
      "Model Number: 956 with model MultivariateRegression in generation 8 of 10\n"
     ]
    },
    {
     "name": "stderr",
     "output_type": "stream",
     "text": [
      "C:\\Users\\henry\\miniconda3\\envs\\jupyter_env\\lib\\site-packages\\sklearn\\linear_model\\_glm\\link.py:90: RuntimeWarning: overflow encountered in exp\n",
      "  return np.exp(lin_pred)\n",
      "C:\\Users\\henry\\miniconda3\\envs\\jupyter_env\\lib\\site-packages\\sklearn\\linear_model\\_glm\\link.py:93: RuntimeWarning: overflow encountered in exp\n",
      "  return np.exp(lin_pred)\n",
      "C:\\Users\\henry\\miniconda3\\envs\\jupyter_env\\lib\\site-packages\\sklearn\\_loss\\glm_distribution.py:132: RuntimeWarning: invalid value encountered in true_divide\n",
      "  return -2 * (y - y_pred) / self.unit_variance(y_pred)\n",
      "[Parallel(n_jobs=-2)]: Using backend ThreadingBackend with 15 concurrent workers.\n",
      "[Parallel(n_jobs=-2)]: Done  20 tasks      | elapsed:    0.0s\n",
      "[Parallel(n_jobs=-2)]: Done 170 tasks      | elapsed:    0.0s\n",
      "[Parallel(n_jobs=-2)]: Done 200 out of 200 | elapsed:    0.0s finished\n",
      "[Parallel(n_jobs=15)]: Using backend ThreadingBackend with 15 concurrent workers.\n",
      "[Parallel(n_jobs=15)]: Done  20 tasks      | elapsed:    0.0s\n",
      "[Parallel(n_jobs=15)]: Done 170 tasks      | elapsed:    0.0s\n",
      "[Parallel(n_jobs=15)]: Done 200 out of 200 | elapsed:    0.0s finished\n",
      "[Parallel(n_jobs=15)]: Using backend ThreadingBackend with 15 concurrent workers.\n",
      "[Parallel(n_jobs=15)]: Done  20 tasks      | elapsed:    0.0s\n",
      "[Parallel(n_jobs=15)]: Done 170 tasks      | elapsed:    0.0s\n",
      "[Parallel(n_jobs=15)]: Done 200 out of 200 | elapsed:    0.0s finished\n",
      "[Parallel(n_jobs=15)]: Using backend ThreadingBackend with 15 concurrent workers.\n",
      "[Parallel(n_jobs=15)]: Done  20 tasks      | elapsed:    0.0s\n",
      "[Parallel(n_jobs=15)]: Done 170 tasks      | elapsed:    0.0s\n",
      "[Parallel(n_jobs=15)]: Done 200 out of 200 | elapsed:    0.0s finished\n",
      "[Parallel(n_jobs=15)]: Using backend ThreadingBackend with 15 concurrent workers.\n",
      "[Parallel(n_jobs=15)]: Done  20 tasks      | elapsed:    0.0s\n",
      "[Parallel(n_jobs=15)]: Done 170 tasks      | elapsed:    0.0s\n",
      "[Parallel(n_jobs=15)]: Done 200 out of 200 | elapsed:    0.0s finished\n"
     ]
    },
    {
     "name": "stdout",
     "output_type": "stream",
     "text": [
      "New Generation: 9 of 10\n",
      "Model Number: 957 with model UnobservedComponents in generation 9 of 10\n",
      "Template Eval Error: ValueError(\"regression_type='User' but no future_regressor supplied\") in model 957: UnobservedComponents\n",
      "Model Number: 958 with model Theta in generation 9 of 10\n",
      "Model Number: 959 with model NVAR in generation 9 of 10\n",
      "Template Eval Error: Exception('Transformer STLFilter failed on fit') in model 959: NVAR\n",
      "Model Number: 960 with model SeasonalNaive in generation 9 of 10\n",
      "Model Number: 961 with model LastValueNaive in generation 9 of 10\n",
      "Template Eval Error: Exception('Transformer Cointegration failed on fit') in model 961: LastValueNaive\n",
      "Model Number: 962 with model SeasonalNaive in generation 9 of 10\n"
     ]
    },
    {
     "name": "stderr",
     "output_type": "stream",
     "text": [
      "C:\\Users\\henry\\miniconda3\\envs\\jupyter_env\\lib\\site-packages\\sklearn\\linear_model\\_glm\\link.py:90: RuntimeWarning: overflow encountered in exp\n",
      "  return np.exp(lin_pred)\n",
      "C:\\Users\\henry\\miniconda3\\envs\\jupyter_env\\lib\\site-packages\\sklearn\\linear_model\\_glm\\link.py:93: RuntimeWarning: overflow encountered in exp\n",
      "  return np.exp(lin_pred)\n",
      "C:\\Users\\henry\\miniconda3\\envs\\jupyter_env\\lib\\site-packages\\sklearn\\_loss\\glm_distribution.py:132: RuntimeWarning: invalid value encountered in true_divide\n",
      "  return -2 * (y - y_pred) / self.unit_variance(y_pred)\n",
      "C:\\Users\\henry\\miniconda3\\envs\\jupyter_env\\lib\\site-packages\\autots\\tools\\probabilistic.py:67: RuntimeWarning: invalid value encountered in true_divide\n",
      "  (prior_mu / prior_sigma**2) + ((n * data_mu) / prior_sigma**2)\n",
      "C:\\Users\\henry\\miniconda3\\envs\\jupyter_env\\lib\\site-packages\\autots\\tools\\probabilistic.py:68: RuntimeWarning: divide by zero encountered in true_divide\n",
      "  ) / ((1 / prior_sigma**2) + (n / prior_sigma**2))\n"
     ]
    },
    {
     "name": "stdout",
     "output_type": "stream",
     "text": [
      "Model Number: 963 with model SeasonalNaive in generation 9 of 10\n",
      "Model Number: 964 with model LastValueNaive in generation 9 of 10\n",
      "Template Eval Error: Exception('Transformer Cointegration failed on fit') in model 964: LastValueNaive\n",
      "Model Number: 965 with model AverageValueNaive in generation 9 of 10\n",
      "Model Number: 966 with model ConstantNaive in generation 9 of 10\n",
      "Template Eval Error: Exception('Transformer Detrend failed on fit') in model 966: ConstantNaive\n",
      "Model Number: 967 with model Theta in generation 9 of 10\n",
      "Model Number: 968 with model AverageValueNaive in generation 9 of 10\n",
      "Model Number: 969 with model NVAR in generation 9 of 10\n",
      "Model Number: 970 with model MultivariateRegression in generation 9 of 10\n"
     ]
    },
    {
     "name": "stderr",
     "output_type": "stream",
     "text": [
      "C:\\Users\\henry\\miniconda3\\envs\\jupyter_env\\lib\\site-packages\\sklearn\\linear_model\\_glm\\link.py:90: RuntimeWarning: overflow encountered in exp\n",
      "  return np.exp(lin_pred)\n",
      "C:\\Users\\henry\\miniconda3\\envs\\jupyter_env\\lib\\site-packages\\sklearn\\linear_model\\_glm\\link.py:93: RuntimeWarning: overflow encountered in exp\n",
      "  return np.exp(lin_pred)\n",
      "C:\\Users\\henry\\miniconda3\\envs\\jupyter_env\\lib\\site-packages\\sklearn\\_loss\\glm_distribution.py:132: RuntimeWarning: invalid value encountered in true_divide\n",
      "  return -2 * (y - y_pred) / self.unit_variance(y_pred)\n",
      "C:\\Users\\henry\\miniconda3\\envs\\jupyter_env\\lib\\site-packages\\sklearn\\_loss\\glm_distribution.py:323: RuntimeWarning: invalid value encountered in add\n",
      "  dev = 2 * (xlogy(y, y / y_pred) - y + y_pred)\n",
      "C:\\Users\\henry\\miniconda3\\envs\\jupyter_env\\lib\\site-packages\\sklearn\\linear_model\\_glm\\glm.py:323: ConvergenceWarning: lbfgs failed to converge (status=2):\n",
      "ABNORMAL_TERMINATION_IN_LNSRCH.\n",
      "\n",
      "Increase the number of iterations (max_iter) or scale the data as shown in:\n",
      "    https://scikit-learn.org/stable/modules/preprocessing.html\n",
      "  self.n_iter_ = _check_optimize_result(\"lbfgs\", opt_res)\n",
      "[Parallel(n_jobs=-2)]: Using backend ThreadingBackend with 15 concurrent workers.\n",
      "[Parallel(n_jobs=-2)]: Done  20 tasks      | elapsed:    0.0s\n",
      "[Parallel(n_jobs=-2)]: Done 170 tasks      | elapsed:    0.1s\n",
      "[Parallel(n_jobs=-2)]: Done 200 out of 200 | elapsed:    0.1s finished\n",
      "[Parallel(n_jobs=15)]: Using backend ThreadingBackend with 15 concurrent workers.\n"
     ]
    },
    {
     "name": "stdout",
     "output_type": "stream",
     "text": [
      "Model Number: 971 with model AverageValueNaive in generation 9 of 10\n",
      "Model Number: 972 with model SeasonalNaive in generation 9 of 10\n",
      "Model Number: 973 with model LastValueNaive in generation 9 of 10\n"
     ]
    },
    {
     "name": "stderr",
     "output_type": "stream",
     "text": [
      "[Parallel(n_jobs=15)]: Done  20 tasks      | elapsed:    0.0s\n",
      "[Parallel(n_jobs=15)]: Done 170 tasks      | elapsed:    0.0s\n",
      "[Parallel(n_jobs=15)]: Done 200 out of 200 | elapsed:    0.0s finished\n",
      "[Parallel(n_jobs=15)]: Using backend ThreadingBackend with 15 concurrent workers.\n",
      "[Parallel(n_jobs=15)]: Done  20 tasks      | elapsed:    0.0s\n",
      "[Parallel(n_jobs=15)]: Done 170 tasks      | elapsed:    0.0s\n",
      "[Parallel(n_jobs=15)]: Done 200 out of 200 | elapsed:    0.0s finished\n",
      "[Parallel(n_jobs=15)]: Using backend ThreadingBackend with 15 concurrent workers.\n",
      "[Parallel(n_jobs=15)]: Done  20 tasks      | elapsed:    0.0s\n",
      "[Parallel(n_jobs=15)]: Done 170 tasks      | elapsed:    0.0s\n",
      "[Parallel(n_jobs=15)]: Done 200 out of 200 | elapsed:    0.0s finished\n",
      "[Parallel(n_jobs=15)]: Using backend ThreadingBackend with 15 concurrent workers.\n",
      "[Parallel(n_jobs=15)]: Done  20 tasks      | elapsed:    0.0s\n",
      "[Parallel(n_jobs=15)]: Done 170 tasks      | elapsed:    0.0s\n",
      "[Parallel(n_jobs=15)]: Done 200 out of 200 | elapsed:    0.0s finished\n"
     ]
    },
    {
     "name": "stdout",
     "output_type": "stream",
     "text": [
      "Model Number: 974 with model ARDL in generation 9 of 10\n",
      "Template Eval Error: IndexError('tuple index out of range') in model 974: ARDL\n",
      "Model Number: 975 with model ConstantNaive in generation 9 of 10\n",
      "Model Number: 976 with model GLS in generation 9 of 10\n",
      "Model Number: 977 with model SeasonalNaive in generation 9 of 10\n",
      "Model Number: 978 with model LastValueNaive in generation 9 of 10\n",
      "Model Number: 979 with model NVAR in generation 9 of 10\n",
      "Model Number: 980 with model SeasonalNaive in generation 9 of 10\n",
      "Model Number: 981 with model LastValueNaive in generation 9 of 10\n",
      "Model Number: 982 with model ConstantNaive in generation 9 of 10\n",
      "Model Number: 983 with model UnobservedComponents in generation 9 of 10\n",
      "Model Number: 984 with model ConstantNaive in generation 9 of 10\n",
      "Model Number: 985 with model NVAR in generation 9 of 10\n",
      "Model Number: 986 with model LastValueNaive in generation 9 of 10\n",
      "Model Number: 987 with model ARDL in generation 9 of 10\n",
      "Template Eval Error: ValueError(\"regression_type='User' but future_regressor not supplied\") in model 987: ARDL\n",
      "Model Number: 988 with model ARDL in generation 9 of 10\n",
      "Model Number: 989 with model ETS in generation 9 of 10\n",
      "Model Number: 990 with model SeasonalNaive in generation 9 of 10\n",
      "Model Number: 991 with model UnobservedComponents in generation 9 of 10\n",
      "Model Number: 992 with model AverageValueNaive in generation 9 of 10\n",
      "Model Number: 993 with model NVAR in generation 9 of 10\n",
      "Model Number: 994 with model AverageValueNaive in generation 9 of 10\n",
      "Model Number: 995 with model Theta in generation 9 of 10\n",
      "Model Number: 996 with model SeasonalNaive in generation 9 of 10\n",
      "Model Number: 997 with model AverageValueNaive in generation 9 of 10\n",
      "Model Number: 998 with model DatepartRegression in generation 9 of 10\n",
      "Template Eval Error: ValueError(\"regression_type='User' but no future_regressor passed\") in model 998: DatepartRegression\n",
      "Model Number: 999 with model GLS in generation 9 of 10\n",
      "Model Number: 1000 with model GLS in generation 9 of 10\n",
      "Model Number: 1001 with model GLS in generation 9 of 10\n"
     ]
    },
    {
     "name": "stderr",
     "output_type": "stream",
     "text": [
      "C:\\Users\\henry\\miniconda3\\envs\\jupyter_env\\lib\\site-packages\\autots\\tools\\probabilistic.py:67: RuntimeWarning: invalid value encountered in true_divide\n",
      "  (prior_mu / prior_sigma**2) + ((n * data_mu) / prior_sigma**2)\n",
      "C:\\Users\\henry\\miniconda3\\envs\\jupyter_env\\lib\\site-packages\\autots\\tools\\probabilistic.py:68: RuntimeWarning: divide by zero encountered in true_divide\n",
      "  ) / ((1 / prior_sigma**2) + (n / prior_sigma**2))\n",
      "C:\\Users\\henry\\miniconda3\\envs\\jupyter_env\\lib\\site-packages\\autots\\tools\\probabilistic.py:67: RuntimeWarning: invalid value encountered in true_divide\n",
      "  (prior_mu / prior_sigma**2) + ((n * data_mu) / prior_sigma**2)\n",
      "C:\\Users\\henry\\miniconda3\\envs\\jupyter_env\\lib\\site-packages\\autots\\tools\\probabilistic.py:68: RuntimeWarning: divide by zero encountered in true_divide\n",
      "  ) / ((1 / prior_sigma**2) + (n / prior_sigma**2))\n"
     ]
    },
    {
     "name": "stdout",
     "output_type": "stream",
     "text": [
      "Model Number: 1002 with model ARDL in generation 9 of 10\n",
      "Model Number: 1003 with model Theta in generation 9 of 10\n",
      "Model Number: 1004 with model AverageValueNaive in generation 9 of 10\n",
      "Model Number: 1005 with model UnobservedComponents in generation 9 of 10\n",
      "Model Number: 1006 with model LastValueNaive in generation 9 of 10\n",
      "Template Eval Error: ValueError('Model LastValueNaive returned NaN for one or more series. fail_on_forecast_nan=True') in model 1006: LastValueNaive\n",
      "Model Number: 1007 with model NVAR in generation 9 of 10\n",
      "Model Number: 1008 with model DatepartRegression in generation 9 of 10\n",
      "Model Number: 1009 with model LastValueNaive in generation 9 of 10\n",
      "Model Number: 1010 with model DatepartRegression in generation 9 of 10\n",
      "Template Eval Error: ImportError('Tensorflow not available, install with pip install tensorflow.') in model 1010: DatepartRegression\n",
      "Model Number: 1011 with model SeasonalNaive in generation 9 of 10\n",
      "Model Number: 1012 with model ConstantNaive in generation 9 of 10\n",
      "Model Number: 1013 with model Theta in generation 9 of 10\n"
     ]
    },
    {
     "name": "stderr",
     "output_type": "stream",
     "text": [
      "C:\\Users\\henry\\miniconda3\\envs\\jupyter_env\\lib\\site-packages\\autots\\tools\\percentile.py:47: RuntimeWarning: All-NaN slice encountered\n",
      "  max_val = np.nanmax(arr)\n",
      "C:\\Users\\henry\\miniconda3\\envs\\jupyter_env\\lib\\site-packages\\sklearn\\linear_model\\_coordinate_descent.py:647: ConvergenceWarning: Objective did not converge. You might want to increase the number of iterations, check the scale of the features or consider increasing regularisation. Duality gap: 0.000e+00, tolerance: 0.000e+00\n",
      "  model = cd_fast.enet_coordinate_descent(\n",
      "C:\\Users\\henry\\miniconda3\\envs\\jupyter_env\\lib\\site-packages\\autots\\tools\\probabilistic.py:67: RuntimeWarning: invalid value encountered in true_divide\n",
      "  (prior_mu / prior_sigma**2) + ((n * data_mu) / prior_sigma**2)\n",
      "C:\\Users\\henry\\miniconda3\\envs\\jupyter_env\\lib\\site-packages\\autots\\tools\\probabilistic.py:68: RuntimeWarning: divide by zero encountered in true_divide\n",
      "  ) / ((1 / prior_sigma**2) + (n / prior_sigma**2))\n",
      "C:\\Users\\henry\\miniconda3\\envs\\jupyter_env\\lib\\site-packages\\sklearn\\linear_model\\_glm\\link.py:90: RuntimeWarning: overflow encountered in exp\n",
      "  return np.exp(lin_pred)\n",
      "C:\\Users\\henry\\miniconda3\\envs\\jupyter_env\\lib\\site-packages\\sklearn\\linear_model\\_glm\\link.py:93: RuntimeWarning: overflow encountered in exp\n",
      "  return np.exp(lin_pred)\n",
      "C:\\Users\\henry\\miniconda3\\envs\\jupyter_env\\lib\\site-packages\\sklearn\\_loss\\glm_distribution.py:132: RuntimeWarning: invalid value encountered in true_divide\n",
      "  return -2 * (y - y_pred) / self.unit_variance(y_pred)\n",
      "C:\\Users\\henry\\miniconda3\\envs\\jupyter_env\\lib\\site-packages\\sklearn\\linear_model\\_glm\\link.py:90: RuntimeWarning: overflow encountered in exp\n",
      "  return np.exp(lin_pred)\n",
      "C:\\Users\\henry\\miniconda3\\envs\\jupyter_env\\lib\\site-packages\\sklearn\\linear_model\\_glm\\link.py:93: RuntimeWarning: overflow encountered in exp\n",
      "  return np.exp(lin_pred)\n",
      "C:\\Users\\henry\\miniconda3\\envs\\jupyter_env\\lib\\site-packages\\sklearn\\_loss\\glm_distribution.py:132: RuntimeWarning: invalid value encountered in true_divide\n",
      "  return -2 * (y - y_pred) / self.unit_variance(y_pred)\n"
     ]
    },
    {
     "name": "stdout",
     "output_type": "stream",
     "text": [
      "Model Number: 1014 with model NVAR in generation 9 of 10\n",
      "Model Number: 1015 with model UnobservedComponents in generation 9 of 10\n",
      "Model Number: 1016 with model SeasonalNaive in generation 9 of 10\n",
      "Model Number: 1017 with model UnobservedComponents in generation 9 of 10\n",
      "Model Number: 1018 with model ARDL in generation 9 of 10\n"
     ]
    },
    {
     "name": "stderr",
     "output_type": "stream",
     "text": [
      "C:\\Users\\henry\\miniconda3\\envs\\jupyter_env\\lib\\site-packages\\sklearn\\linear_model\\_glm\\link.py:90: RuntimeWarning: overflow encountered in exp\n",
      "  return np.exp(lin_pred)\n",
      "C:\\Users\\henry\\miniconda3\\envs\\jupyter_env\\lib\\site-packages\\sklearn\\linear_model\\_glm\\link.py:93: RuntimeWarning: overflow encountered in exp\n",
      "  return np.exp(lin_pred)\n",
      "C:\\Users\\henry\\miniconda3\\envs\\jupyter_env\\lib\\site-packages\\sklearn\\_loss\\glm_distribution.py:132: RuntimeWarning: invalid value encountered in true_divide\n",
      "  return -2 * (y - y_pred) / self.unit_variance(y_pred)\n"
     ]
    },
    {
     "name": "stdout",
     "output_type": "stream",
     "text": [
      "Model Number: 1019 with model Theta in generation 9 of 10\n",
      "Model Number: 1020 with model UnobservedComponents in generation 9 of 10\n",
      "Model Number: 1021 with model UnobservedComponents in generation 9 of 10\n",
      "Model Number: 1022 with model MultivariateRegression in generation 9 of 10\n"
     ]
    },
    {
     "name": "stderr",
     "output_type": "stream",
     "text": [
      "[Parallel(n_jobs=-2)]: Using backend ThreadingBackend with 15 concurrent workers.\n",
      "[Parallel(n_jobs=-2)]: Done  20 tasks      | elapsed:    0.0s\n",
      "[Parallel(n_jobs=-2)]: Done 170 tasks      | elapsed:    0.1s\n",
      "[Parallel(n_jobs=-2)]: Done 200 out of 200 | elapsed:    0.1s finished\n",
      "[Parallel(n_jobs=15)]: Using backend ThreadingBackend with 15 concurrent workers.\n",
      "[Parallel(n_jobs=15)]: Done  20 tasks      | elapsed:    0.0s\n",
      "[Parallel(n_jobs=15)]: Done 170 tasks      | elapsed:    0.0s\n",
      "[Parallel(n_jobs=15)]: Done 200 out of 200 | elapsed:    0.0s finished\n",
      "[Parallel(n_jobs=15)]: Using backend ThreadingBackend with 15 concurrent workers.\n",
      "[Parallel(n_jobs=15)]: Done  20 tasks      | elapsed:    0.0s\n",
      "[Parallel(n_jobs=15)]: Done 170 tasks      | elapsed:    0.0s\n",
      "[Parallel(n_jobs=15)]: Done 200 out of 200 | elapsed:    0.0s finished\n",
      "[Parallel(n_jobs=15)]: Using backend ThreadingBackend with 15 concurrent workers.\n",
      "[Parallel(n_jobs=15)]: Done  20 tasks      | elapsed:    0.0s\n",
      "[Parallel(n_jobs=15)]: Done 170 tasks      | elapsed:    0.0s\n",
      "[Parallel(n_jobs=15)]: Done 200 out of 200 | elapsed:    0.0s finished\n",
      "[Parallel(n_jobs=15)]: Using backend ThreadingBackend with 15 concurrent workers.\n",
      "[Parallel(n_jobs=15)]: Done  20 tasks      | elapsed:    0.0s\n",
      "[Parallel(n_jobs=15)]: Done 170 tasks      | elapsed:    0.0s\n"
     ]
    },
    {
     "name": "stdout",
     "output_type": "stream",
     "text": [
      "Model Number: 1023 with model NVAR in generation 9 of 10\n",
      "Model Number: 1024 with model AverageValueNaive in generation 9 of 10\n",
      "Model Number: 1025 with model ARDL in generation 9 of 10\n",
      "Template Eval Error: ValueError(\"regression_type='User' but future_regressor not supplied\") in model 1025: ARDL\n",
      "Model Number: 1026 with model GLS in generation 9 of 10\n",
      "Model Number: 1027 with model ConstantNaive in generation 9 of 10\n",
      "Model Number: 1028 with model LastValueNaive in generation 9 of 10\n",
      "Model Number: 1029 with model NVAR in generation 9 of 10\n"
     ]
    },
    {
     "name": "stderr",
     "output_type": "stream",
     "text": [
      "[Parallel(n_jobs=15)]: Done 200 out of 200 | elapsed:    0.0s finished\n",
      "C:\\Users\\henry\\miniconda3\\envs\\jupyter_env\\lib\\site-packages\\sklearn\\linear_model\\_glm\\link.py:90: RuntimeWarning: overflow encountered in exp\n",
      "  return np.exp(lin_pred)\n",
      "C:\\Users\\henry\\miniconda3\\envs\\jupyter_env\\lib\\site-packages\\sklearn\\linear_model\\_glm\\link.py:93: RuntimeWarning: overflow encountered in exp\n",
      "  return np.exp(lin_pred)\n",
      "C:\\Users\\henry\\miniconda3\\envs\\jupyter_env\\lib\\site-packages\\sklearn\\_loss\\glm_distribution.py:132: RuntimeWarning: invalid value encountered in true_divide\n",
      "  return -2 * (y - y_pred) / self.unit_variance(y_pred)\n",
      "C:\\Users\\henry\\miniconda3\\envs\\jupyter_env\\lib\\site-packages\\sklearn\\_loss\\glm_distribution.py:323: RuntimeWarning: invalid value encountered in add\n",
      "  dev = 2 * (xlogy(y, y / y_pred) - y + y_pred)\n",
      "C:\\Users\\henry\\miniconda3\\envs\\jupyter_env\\lib\\site-packages\\sklearn\\linear_model\\_glm\\glm.py:323: ConvergenceWarning: lbfgs failed to converge (status=2):\n",
      "ABNORMAL_TERMINATION_IN_LNSRCH.\n",
      "\n",
      "Increase the number of iterations (max_iter) or scale the data as shown in:\n",
      "    https://scikit-learn.org/stable/modules/preprocessing.html\n",
      "  self.n_iter_ = _check_optimize_result(\"lbfgs\", opt_res)\n",
      "C:\\Users\\henry\\miniconda3\\envs\\jupyter_env\\lib\\site-packages\\sklearn\\linear_model\\_glm\\link.py:90: RuntimeWarning: overflow encountered in exp\n",
      "  return np.exp(lin_pred)\n",
      "C:\\Users\\henry\\miniconda3\\envs\\jupyter_env\\lib\\site-packages\\sklearn\\linear_model\\_glm\\link.py:93: RuntimeWarning: overflow encountered in exp\n",
      "  return np.exp(lin_pred)\n",
      "C:\\Users\\henry\\miniconda3\\envs\\jupyter_env\\lib\\site-packages\\sklearn\\_loss\\glm_distribution.py:132: RuntimeWarning: invalid value encountered in true_divide\n",
      "  return -2 * (y - y_pred) / self.unit_variance(y_pred)\n"
     ]
    },
    {
     "name": "stdout",
     "output_type": "stream",
     "text": [
      "Model Number: 1030 with model LastValueNaive in generation 9 of 10\n",
      "Template Eval Error: Exception('Transformer Cointegration failed on fit') in model 1030: LastValueNaive\n",
      "Model Number: 1031 with model MultivariateRegression in generation 9 of 10\n"
     ]
    },
    {
     "name": "stderr",
     "output_type": "stream",
     "text": [
      "[Parallel(n_jobs=-2)]: Using backend ThreadingBackend with 15 concurrent workers.\n",
      "[Parallel(n_jobs=-2)]: Done  20 tasks      | elapsed:    0.0s\n",
      "[Parallel(n_jobs=-2)]: Done 170 tasks      | elapsed:    0.0s\n",
      "[Parallel(n_jobs=-2)]: Done 200 out of 200 | elapsed:    0.0s finished\n",
      "[Parallel(n_jobs=15)]: Using backend ThreadingBackend with 15 concurrent workers.\n",
      "[Parallel(n_jobs=15)]: Done  20 tasks      | elapsed:    0.0s\n",
      "[Parallel(n_jobs=15)]: Done 170 tasks      | elapsed:    0.0s\n",
      "[Parallel(n_jobs=15)]: Done 200 out of 200 | elapsed:    0.0s finished\n",
      "[Parallel(n_jobs=15)]: Using backend ThreadingBackend with 15 concurrent workers.\n",
      "[Parallel(n_jobs=15)]: Done  20 tasks      | elapsed:    0.0s\n",
      "[Parallel(n_jobs=15)]: Done 170 tasks      | elapsed:    0.0s\n",
      "[Parallel(n_jobs=15)]: Done 200 out of 200 | elapsed:    0.0s finished\n",
      "[Parallel(n_jobs=15)]: Using backend ThreadingBackend with 15 concurrent workers.\n",
      "[Parallel(n_jobs=15)]: Done  20 tasks      | elapsed:    0.0s\n",
      "[Parallel(n_jobs=15)]: Done 170 tasks      | elapsed:    0.0s\n",
      "[Parallel(n_jobs=15)]: Done 200 out of 200 | elapsed:    0.0s finished\n"
     ]
    },
    {
     "name": "stdout",
     "output_type": "stream",
     "text": [
      "Model Number: 1032 with model UnobservedComponents in generation 9 of 10\n",
      "Model Number: 1033 with model ETS in generation 9 of 10\n",
      "ETS error ValueError('endog must be strictly positive when usingmultiplicative trend or seasonal components.')\n",
      "ETS failed on followers_gained with ValueError('endog must be strictly positive when usingmultiplicative trend or seasonal components.')\n",
      "Model Number: 1034 with model LastValueNaive in generation 9 of 10\n",
      "Model Number: 1035 with model GLS in generation 9 of 10\n"
     ]
    },
    {
     "name": "stderr",
     "output_type": "stream",
     "text": [
      "[Parallel(n_jobs=15)]: Using backend ThreadingBackend with 15 concurrent workers.\n",
      "[Parallel(n_jobs=15)]: Done  20 tasks      | elapsed:    0.0s\n",
      "[Parallel(n_jobs=15)]: Done 170 tasks      | elapsed:    0.0s\n",
      "[Parallel(n_jobs=15)]: Done 200 out of 200 | elapsed:    0.0s finished\n"
     ]
    },
    {
     "name": "stdout",
     "output_type": "stream",
     "text": [
      "Model Number: 1036 with model NVAR in generation 9 of 10\n",
      "Model Number: 1037 with model SeasonalNaive in generation 9 of 10\n",
      "Model Number: 1038 with model NVAR in generation 9 of 10\n",
      "Model Number: 1039 with model SeasonalNaive in generation 9 of 10\n",
      "Model Number: 1040 with model SeasonalNaive in generation 9 of 10\n",
      "Model Number: 1041 with model Theta in generation 9 of 10\n"
     ]
    },
    {
     "name": "stderr",
     "output_type": "stream",
     "text": [
      "C:\\Users\\henry\\miniconda3\\envs\\jupyter_env\\lib\\site-packages\\sklearn\\_loss\\glm_distribution.py:132: RuntimeWarning: divide by zero encountered in true_divide\n",
      "  return -2 * (y - y_pred) / self.unit_variance(y_pred)\n",
      "C:\\Users\\henry\\miniconda3\\envs\\jupyter_env\\lib\\site-packages\\sklearn\\linear_model\\_glm\\glm.py:42: RuntimeWarning: invalid value encountered in multiply\n",
      "  temp = d1 * family.deviance_derivative(y, y_pred, weights)\n",
      "C:\\Users\\henry\\miniconda3\\envs\\jupyter_env\\lib\\site-packages\\sklearn\\_loss\\glm_distribution.py:330: RuntimeWarning: divide by zero encountered in power\n",
      "  - y * np.power(y_pred, 1 - p) / (1 - p)\n",
      "C:\\Users\\henry\\miniconda3\\envs\\jupyter_env\\lib\\site-packages\\autots\\tools\\probabilistic.py:67: RuntimeWarning: invalid value encountered in true_divide\n",
      "  (prior_mu / prior_sigma**2) + ((n * data_mu) / prior_sigma**2)\n",
      "C:\\Users\\henry\\miniconda3\\envs\\jupyter_env\\lib\\site-packages\\autots\\tools\\probabilistic.py:68: RuntimeWarning: divide by zero encountered in true_divide\n",
      "  ) / ((1 / prior_sigma**2) + (n / prior_sigma**2))\n"
     ]
    },
    {
     "name": "stdout",
     "output_type": "stream",
     "text": [
      "Model Number: 1042 with model AverageValueNaive in generation 9 of 10\n",
      "Model Number: 1043 with model MultivariateRegression in generation 9 of 10\n"
     ]
    },
    {
     "name": "stderr",
     "output_type": "stream",
     "text": [
      "[Parallel(n_jobs=-2)]: Using backend ThreadingBackend with 15 concurrent workers.\n",
      "[Parallel(n_jobs=-2)]: Done  20 tasks      | elapsed:    0.0s\n",
      "[Parallel(n_jobs=-2)]: Done 170 tasks      | elapsed:    0.2s\n",
      "[Parallel(n_jobs=-2)]: Done 200 out of 200 | elapsed:    0.2s finished\n",
      "[Parallel(n_jobs=15)]: Using backend ThreadingBackend with 15 concurrent workers.\n",
      "[Parallel(n_jobs=15)]: Done  20 tasks      | elapsed:    0.0s\n",
      "[Parallel(n_jobs=15)]: Done 170 tasks      | elapsed:    0.0s\n",
      "[Parallel(n_jobs=15)]: Done 200 out of 200 | elapsed:    0.0s finished\n",
      "[Parallel(n_jobs=15)]: Using backend ThreadingBackend with 15 concurrent workers.\n",
      "[Parallel(n_jobs=15)]: Done  20 tasks      | elapsed:    0.0s\n",
      "[Parallel(n_jobs=15)]: Done 170 tasks      | elapsed:    0.0s\n",
      "[Parallel(n_jobs=15)]: Done 200 out of 200 | elapsed:    0.0s finished\n",
      "[Parallel(n_jobs=15)]: Using backend ThreadingBackend with 15 concurrent workers.\n",
      "[Parallel(n_jobs=15)]: Done  20 tasks      | elapsed:    0.0s\n",
      "[Parallel(n_jobs=15)]: Done 170 tasks      | elapsed:    0.0s\n",
      "[Parallel(n_jobs=15)]: Done 200 out of 200 | elapsed:    0.0s finished\n"
     ]
    },
    {
     "name": "stdout",
     "output_type": "stream",
     "text": [
      "Model Number: 1044 with model MultivariateRegression in generation 9 of 10\n"
     ]
    },
    {
     "name": "stderr",
     "output_type": "stream",
     "text": [
      "[Parallel(n_jobs=15)]: Using backend ThreadingBackend with 15 concurrent workers.\n",
      "[Parallel(n_jobs=15)]: Done  20 tasks      | elapsed:    0.0s\n",
      "[Parallel(n_jobs=15)]: Done 170 tasks      | elapsed:    0.0s\n",
      "[Parallel(n_jobs=15)]: Done 200 out of 200 | elapsed:    0.0s finished\n"
     ]
    },
    {
     "name": "stdout",
     "output_type": "stream",
     "text": [
      "New Generation: 10 of 10\n",
      "Model Number: 1045 with model UnobservedComponents in generation 10 of 10\n",
      "Template Eval Error: Exception('Transformer Cointegration failed on fit') in model 1045: UnobservedComponents\n",
      "Model Number: 1046 with model NVAR in generation 10 of 10\n",
      "Model Number: 1047 with model ConstantNaive in generation 10 of 10\n",
      "Model Number: 1048 with model LastValueNaive in generation 10 of 10\n",
      "Model Number: 1049 with model SeasonalNaive in generation 10 of 10\n",
      "Model Number: 1050 with model MultivariateRegression in generation 10 of 10\n",
      "Model Number: 1051 with model LastValueNaive in generation 10 of 10\n",
      "Model Number: 1052 with model GLS in generation 10 of 10\n",
      "Model Number: 1053 with model SeasonalNaive in generation 10 of 10\n"
     ]
    },
    {
     "name": "stderr",
     "output_type": "stream",
     "text": [
      "C:\\Users\\henry\\miniconda3\\envs\\jupyter_env\\lib\\site-packages\\autots\\tools\\probabilistic.py:67: RuntimeWarning: invalid value encountered in true_divide\n",
      "  (prior_mu / prior_sigma**2) + ((n * data_mu) / prior_sigma**2)\n",
      "C:\\Users\\henry\\miniconda3\\envs\\jupyter_env\\lib\\site-packages\\autots\\tools\\probabilistic.py:68: RuntimeWarning: divide by zero encountered in true_divide\n",
      "  ) / ((1 / prior_sigma**2) + (n / prior_sigma**2))\n"
     ]
    },
    {
     "name": "stdout",
     "output_type": "stream",
     "text": [
      "Model Number: 1054 with model LastValueNaive in generation 10 of 10\n",
      "Model Number: 1055 with model UnobservedComponents in generation 10 of 10\n",
      "Template Eval Error: ValueError(\"regression_type='User' but no future_regressor supplied\") in model 1055: UnobservedComponents\n",
      "Model Number: 1056 with model AverageValueNaive in generation 10 of 10\n",
      "Model Number: 1057 with model ConstantNaive in generation 10 of 10\n",
      "Model Number: 1058 with model Theta in generation 10 of 10\n",
      "Model Number: 1059 with model AverageValueNaive in generation 10 of 10\n",
      "Model Number: 1060 with model GLS in generation 10 of 10\n",
      "Model Number: 1061 with model ConstantNaive in generation 10 of 10\n"
     ]
    },
    {
     "name": "stderr",
     "output_type": "stream",
     "text": [
      "C:\\Users\\henry\\miniconda3\\envs\\jupyter_env\\lib\\site-packages\\sklearn\\linear_model\\_glm\\link.py:90: RuntimeWarning: overflow encountered in exp\n",
      "  return np.exp(lin_pred)\n",
      "C:\\Users\\henry\\miniconda3\\envs\\jupyter_env\\lib\\site-packages\\sklearn\\linear_model\\_glm\\link.py:93: RuntimeWarning: overflow encountered in exp\n",
      "  return np.exp(lin_pred)\n",
      "C:\\Users\\henry\\miniconda3\\envs\\jupyter_env\\lib\\site-packages\\sklearn\\_loss\\glm_distribution.py:132: RuntimeWarning: invalid value encountered in true_divide\n",
      "  return -2 * (y - y_pred) / self.unit_variance(y_pred)\n"
     ]
    },
    {
     "name": "stdout",
     "output_type": "stream",
     "text": [
      "Model Number: 1062 with model GLS in generation 10 of 10\n",
      "Model Number: 1063 with model ConstantNaive in generation 10 of 10\n",
      "Model Number: 1064 with model NVAR in generation 10 of 10\n",
      "Model Number: 1065 with model ConstantNaive in generation 10 of 10\n",
      "Template Eval Error: Exception('Transformer PCA failed on fit') in model 1065: ConstantNaive\n",
      "Model Number: 1066 with model Theta in generation 10 of 10\n",
      "Model Number: 1067 with model NVAR in generation 10 of 10\n",
      "Model Number: 1068 with model SeasonalNaive in generation 10 of 10\n"
     ]
    },
    {
     "name": "stderr",
     "output_type": "stream",
     "text": [
      "C:\\Users\\henry\\miniconda3\\envs\\jupyter_env\\lib\\site-packages\\sklearn\\utils\\validation.py:1688: FutureWarning: Feature names only support names that are all strings. Got feature names with dtypes: ['Timestamp', 'str']. An error will be raised in 1.2.\n",
      "  warnings.warn(\n"
     ]
    },
    {
     "name": "stdout",
     "output_type": "stream",
     "text": [
      "Model Number: 1069 with model AverageValueNaive in generation 10 of 10\n",
      "Model Number: 1070 with model MultivariateRegression in generation 10 of 10\n"
     ]
    },
    {
     "name": "stderr",
     "output_type": "stream",
     "text": [
      "[Parallel(n_jobs=-2)]: Using backend ThreadingBackend with 15 concurrent workers.\n",
      "[Parallel(n_jobs=-2)]: Done  20 tasks      | elapsed:    0.0s\n",
      "[Parallel(n_jobs=-2)]: Done 170 tasks      | elapsed:    0.1s\n",
      "[Parallel(n_jobs=-2)]: Done 200 out of 200 | elapsed:    0.1s finished\n",
      "[Parallel(n_jobs=15)]: Using backend ThreadingBackend with 15 concurrent workers.\n",
      "[Parallel(n_jobs=15)]: Done  20 tasks      | elapsed:    0.0s\n",
      "[Parallel(n_jobs=15)]: Done 170 tasks      | elapsed:    0.0s\n",
      "[Parallel(n_jobs=15)]: Done 200 out of 200 | elapsed:    0.0s finished\n",
      "[Parallel(n_jobs=15)]: Using backend ThreadingBackend with 15 concurrent workers.\n",
      "[Parallel(n_jobs=15)]: Done  20 tasks      | elapsed:    0.0s\n",
      "[Parallel(n_jobs=15)]: Done 170 tasks      | elapsed:    0.0s\n",
      "[Parallel(n_jobs=15)]: Done 200 out of 200 | elapsed:    0.0s finished\n",
      "[Parallel(n_jobs=15)]: Using backend ThreadingBackend with 15 concurrent workers.\n",
      "[Parallel(n_jobs=15)]: Done  20 tasks      | elapsed:    0.0s\n",
      "[Parallel(n_jobs=15)]: Done 170 tasks      | elapsed:    0.0s\n",
      "[Parallel(n_jobs=15)]: Done 200 out of 200 | elapsed:    0.0s finished\n"
     ]
    },
    {
     "name": "stdout",
     "output_type": "stream",
     "text": [
      "Model Number: 1071 with model DatepartRegression in generation 10 of 10\n",
      "Model Number: 1072 with model NVAR in generation 10 of 10\n"
     ]
    },
    {
     "name": "stderr",
     "output_type": "stream",
     "text": [
      "[Parallel(n_jobs=15)]: Using backend ThreadingBackend with 15 concurrent workers.\n",
      "[Parallel(n_jobs=15)]: Done  20 tasks      | elapsed:    0.0s\n",
      "[Parallel(n_jobs=15)]: Done 170 tasks      | elapsed:    0.0s\n",
      "[Parallel(n_jobs=15)]: Done 200 out of 200 | elapsed:    0.0s finished\n",
      "C:\\Users\\henry\\miniconda3\\envs\\jupyter_env\\lib\\site-packages\\sklearn\\linear_model\\_glm\\link.py:90: RuntimeWarning: overflow encountered in exp\n",
      "  return np.exp(lin_pred)\n",
      "C:\\Users\\henry\\miniconda3\\envs\\jupyter_env\\lib\\site-packages\\sklearn\\linear_model\\_glm\\link.py:93: RuntimeWarning: overflow encountered in exp\n",
      "  return np.exp(lin_pred)\n",
      "C:\\Users\\henry\\miniconda3\\envs\\jupyter_env\\lib\\site-packages\\sklearn\\_loss\\glm_distribution.py:132: RuntimeWarning: invalid value encountered in true_divide\n",
      "  return -2 * (y - y_pred) / self.unit_variance(y_pred)\n",
      "C:\\Users\\henry\\miniconda3\\envs\\jupyter_env\\lib\\site-packages\\sklearn\\_loss\\glm_distribution.py:323: RuntimeWarning: invalid value encountered in add\n",
      "  dev = 2 * (xlogy(y, y / y_pred) - y + y_pred)\n",
      "C:\\Users\\henry\\miniconda3\\envs\\jupyter_env\\lib\\site-packages\\sklearn\\linear_model\\_glm\\glm.py:323: ConvergenceWarning: lbfgs failed to converge (status=2):\n",
      "ABNORMAL_TERMINATION_IN_LNSRCH.\n",
      "\n",
      "Increase the number of iterations (max_iter) or scale the data as shown in:\n",
      "    https://scikit-learn.org/stable/modules/preprocessing.html\n",
      "  self.n_iter_ = _check_optimize_result(\"lbfgs\", opt_res)\n"
     ]
    },
    {
     "name": "stdout",
     "output_type": "stream",
     "text": [
      "Model Number: 1073 with model Theta in generation 10 of 10\n",
      "Model Number: 1074 with model NVAR in generation 10 of 10\n",
      "Template Eval Error: Exception('Transformer BTCD failed on fit') in model 1074: NVAR\n",
      "Model Number: 1075 with model LastValueNaive in generation 10 of 10\n",
      "Model Number: 1076 with model MultivariateRegression in generation 10 of 10\n"
     ]
    },
    {
     "name": "stderr",
     "output_type": "stream",
     "text": [
      "[Parallel(n_jobs=-2)]: Using backend ThreadingBackend with 15 concurrent workers.\n",
      "[Parallel(n_jobs=-2)]: Done  20 tasks      | elapsed:    0.0s\n",
      "[Parallel(n_jobs=-2)]: Done 170 tasks      | elapsed:    0.2s\n",
      "[Parallel(n_jobs=-2)]: Done 200 out of 200 | elapsed:    0.3s finished\n",
      "[Parallel(n_jobs=15)]: Using backend ThreadingBackend with 15 concurrent workers.\n",
      "[Parallel(n_jobs=15)]: Done  20 tasks      | elapsed:    0.0s\n",
      "[Parallel(n_jobs=15)]: Done 170 tasks      | elapsed:    0.0s\n",
      "[Parallel(n_jobs=15)]: Done 200 out of 200 | elapsed:    0.0s finished\n",
      "[Parallel(n_jobs=15)]: Using backend ThreadingBackend with 15 concurrent workers.\n",
      "[Parallel(n_jobs=15)]: Done  20 tasks      | elapsed:    0.0s\n",
      "[Parallel(n_jobs=15)]: Done 170 tasks      | elapsed:    0.0s\n",
      "[Parallel(n_jobs=15)]: Done 200 out of 200 | elapsed:    0.0s finished\n",
      "[Parallel(n_jobs=15)]: Using backend ThreadingBackend with 15 concurrent workers.\n",
      "[Parallel(n_jobs=15)]: Done  20 tasks      | elapsed:    0.0s\n"
     ]
    },
    {
     "name": "stdout",
     "output_type": "stream",
     "text": [
      "Model Number: 1077 with model GLM in generation 10 of 10\n"
     ]
    },
    {
     "name": "stderr",
     "output_type": "stream",
     "text": [
      "[Parallel(n_jobs=15)]: Done 170 tasks      | elapsed:    0.0s\n",
      "[Parallel(n_jobs=15)]: Done 200 out of 200 | elapsed:    0.0s finished\n",
      "[Parallel(n_jobs=15)]: Using backend ThreadingBackend with 15 concurrent workers.\n",
      "[Parallel(n_jobs=15)]: Done  20 tasks      | elapsed:    0.0s\n",
      "[Parallel(n_jobs=15)]: Done 170 tasks      | elapsed:    0.0s\n",
      "[Parallel(n_jobs=15)]: Done 200 out of 200 | elapsed:    0.0s finished\n",
      "C:\\Users\\henry\\miniconda3\\envs\\jupyter_env\\lib\\site-packages\\statsmodels\\genmod\\generalized_linear_model.py:298: DomainWarning: The inverse_power link function does not respect the domain of the Gamma family.\n",
      "  warnings.warn((f\"The {type(family.link).__name__} link function \"\n"
     ]
    },
    {
     "name": "stdout",
     "output_type": "stream",
     "text": [
      "Model Number: 1078 with model GLS in generation 10 of 10\n",
      "Model Number: 1079 with model SeasonalNaive in generation 10 of 10\n",
      "Model Number: 1080 with model LastValueNaive in generation 10 of 10\n",
      "Model Number: 1081 with model ConstantNaive in generation 10 of 10\n",
      "Model Number: 1082 with model UnobservedComponents in generation 10 of 10\n",
      "Model Number: 1083 with model AverageValueNaive in generation 10 of 10\n",
      "Model Number: 1084 with model LastValueNaive in generation 10 of 10\n",
      "Model Number: 1085 with model ETS in generation 10 of 10\n"
     ]
    },
    {
     "name": "stderr",
     "output_type": "stream",
     "text": [
      "C:\\Users\\henry\\miniconda3\\envs\\jupyter_env\\lib\\site-packages\\sklearn\\linear_model\\_glm\\link.py:90: RuntimeWarning: overflow encountered in exp\n",
      "  return np.exp(lin_pred)\n",
      "C:\\Users\\henry\\miniconda3\\envs\\jupyter_env\\lib\\site-packages\\sklearn\\linear_model\\_glm\\link.py:93: RuntimeWarning: overflow encountered in exp\n",
      "  return np.exp(lin_pred)\n",
      "C:\\Users\\henry\\miniconda3\\envs\\jupyter_env\\lib\\site-packages\\sklearn\\_loss\\glm_distribution.py:132: RuntimeWarning: invalid value encountered in true_divide\n",
      "  return -2 * (y - y_pred) / self.unit_variance(y_pred)\n",
      "C:\\Users\\henry\\miniconda3\\envs\\jupyter_env\\lib\\site-packages\\sklearn\\linear_model\\_glm\\link.py:90: RuntimeWarning: overflow encountered in exp\n",
      "  return np.exp(lin_pred)\n",
      "C:\\Users\\henry\\miniconda3\\envs\\jupyter_env\\lib\\site-packages\\sklearn\\linear_model\\_glm\\link.py:93: RuntimeWarning: overflow encountered in exp\n",
      "  return np.exp(lin_pred)\n",
      "C:\\Users\\henry\\miniconda3\\envs\\jupyter_env\\lib\\site-packages\\sklearn\\_loss\\glm_distribution.py:132: RuntimeWarning: invalid value encountered in true_divide\n",
      "  return -2 * (y - y_pred) / self.unit_variance(y_pred)\n"
     ]
    },
    {
     "name": "stdout",
     "output_type": "stream",
     "text": [
      "Template Eval Error: ValueError('Model ETS returned NaN for one or more series. fail_on_forecast_nan=True') in model 1085: ETS\n",
      "Model Number: 1086 with model LastValueNaive in generation 10 of 10\n",
      "Model Number: 1087 with model UnobservedComponents in generation 10 of 10\n",
      "Model Number: 1088 with model UnobservedComponents in generation 10 of 10\n",
      "Model Number: 1089 with model Theta in generation 10 of 10\n",
      "Model Number: 1090 with model Theta in generation 10 of 10\n"
     ]
    },
    {
     "name": "stderr",
     "output_type": "stream",
     "text": [
      "C:\\Users\\henry\\miniconda3\\envs\\jupyter_env\\lib\\site-packages\\sklearn\\linear_model\\_glm\\link.py:90: RuntimeWarning: overflow encountered in exp\n",
      "  return np.exp(lin_pred)\n",
      "C:\\Users\\henry\\miniconda3\\envs\\jupyter_env\\lib\\site-packages\\sklearn\\linear_model\\_glm\\link.py:93: RuntimeWarning: overflow encountered in exp\n",
      "  return np.exp(lin_pred)\n",
      "C:\\Users\\henry\\miniconda3\\envs\\jupyter_env\\lib\\site-packages\\sklearn\\_loss\\glm_distribution.py:132: RuntimeWarning: invalid value encountered in true_divide\n",
      "  return -2 * (y - y_pred) / self.unit_variance(y_pred)\n"
     ]
    },
    {
     "name": "stdout",
     "output_type": "stream",
     "text": [
      "Model Number: 1091 with model SectionalMotif in generation 10 of 10\n",
      "Model Number: 1092 with model GLS in generation 10 of 10\n",
      "Model Number: 1093 with model AverageValueNaive in generation 10 of 10\n",
      "Model Number: 1094 with model UnobservedComponents in generation 10 of 10\n"
     ]
    },
    {
     "name": "stderr",
     "output_type": "stream",
     "text": [
      "C:\\Users\\henry\\miniconda3\\envs\\jupyter_env\\lib\\site-packages\\sklearn\\linear_model\\_glm\\link.py:90: RuntimeWarning: overflow encountered in exp\n",
      "  return np.exp(lin_pred)\n",
      "C:\\Users\\henry\\miniconda3\\envs\\jupyter_env\\lib\\site-packages\\sklearn\\linear_model\\_glm\\link.py:93: RuntimeWarning: overflow encountered in exp\n",
      "  return np.exp(lin_pred)\n",
      "C:\\Users\\henry\\miniconda3\\envs\\jupyter_env\\lib\\site-packages\\sklearn\\_loss\\glm_distribution.py:132: RuntimeWarning: invalid value encountered in true_divide\n",
      "  return -2 * (y - y_pred) / self.unit_variance(y_pred)\n",
      "C:\\Users\\henry\\miniconda3\\envs\\jupyter_env\\lib\\site-packages\\sklearn\\linear_model\\_glm\\link.py:90: RuntimeWarning: overflow encountered in exp\n",
      "  return np.exp(lin_pred)\n",
      "C:\\Users\\henry\\miniconda3\\envs\\jupyter_env\\lib\\site-packages\\sklearn\\linear_model\\_glm\\link.py:93: RuntimeWarning: overflow encountered in exp\n",
      "  return np.exp(lin_pred)\n",
      "C:\\Users\\henry\\miniconda3\\envs\\jupyter_env\\lib\\site-packages\\sklearn\\_loss\\glm_distribution.py:132: RuntimeWarning: invalid value encountered in true_divide\n",
      "  return -2 * (y - y_pred) / self.unit_variance(y_pred)\n",
      "C:\\Users\\henry\\miniconda3\\envs\\jupyter_env\\lib\\site-packages\\sklearn\\_loss\\glm_distribution.py:323: RuntimeWarning: invalid value encountered in add\n",
      "  dev = 2 * (xlogy(y, y / y_pred) - y + y_pred)\n",
      "C:\\Users\\henry\\miniconda3\\envs\\jupyter_env\\lib\\site-packages\\sklearn\\linear_model\\_glm\\glm.py:323: ConvergenceWarning: lbfgs failed to converge (status=2):\n",
      "ABNORMAL_TERMINATION_IN_LNSRCH.\n",
      "\n",
      "Increase the number of iterations (max_iter) or scale the data as shown in:\n",
      "    https://scikit-learn.org/stable/modules/preprocessing.html\n",
      "  self.n_iter_ = _check_optimize_result(\"lbfgs\", opt_res)\n"
     ]
    },
    {
     "name": "stdout",
     "output_type": "stream",
     "text": [
      "Model Number: 1095 with model UnobservedComponents in generation 10 of 10\n",
      "Model Number: 1096 with model ARDL in generation 10 of 10\n",
      "Model Number: 1097 with model ARDL in generation 10 of 10\n"
     ]
    },
    {
     "name": "stderr",
     "output_type": "stream",
     "text": [
      "C:\\Users\\henry\\miniconda3\\envs\\jupyter_env\\lib\\site-packages\\sklearn\\svm\\_base.py:1206: ConvergenceWarning: Liblinear failed to converge, increase the number of iterations.\n",
      "  warnings.warn(\n"
     ]
    },
    {
     "name": "stdout",
     "output_type": "stream",
     "text": [
      "Model Number: 1098 with model ARDL in generation 10 of 10\n",
      "Model Number: 1099 with model ConstantNaive in generation 10 of 10\n",
      "Model Number: 1100 with model Theta in generation 10 of 10\n",
      "Model Number: 1101 with model GLS in generation 10 of 10\n",
      "Model Number: 1102 with model SeasonalNaive in generation 10 of 10\n",
      "Model Number: 1103 with model LastValueNaive in generation 10 of 10\n",
      "Model Number: 1104 with model UnobservedComponents in generation 10 of 10\n",
      "Model Number: 1105 with model MultivariateRegression in generation 10 of 10\n"
     ]
    },
    {
     "name": "stderr",
     "output_type": "stream",
     "text": [
      "C:\\Users\\henry\\miniconda3\\envs\\jupyter_env\\lib\\site-packages\\sklearn\\linear_model\\_glm\\link.py:90: RuntimeWarning: overflow encountered in exp\n",
      "  return np.exp(lin_pred)\n",
      "C:\\Users\\henry\\miniconda3\\envs\\jupyter_env\\lib\\site-packages\\sklearn\\linear_model\\_glm\\link.py:93: RuntimeWarning: overflow encountered in exp\n",
      "  return np.exp(lin_pred)\n",
      "C:\\Users\\henry\\miniconda3\\envs\\jupyter_env\\lib\\site-packages\\sklearn\\_loss\\glm_distribution.py:132: RuntimeWarning: invalid value encountered in true_divide\n",
      "  return -2 * (y - y_pred) / self.unit_variance(y_pred)\n"
     ]
    },
    {
     "name": "stdout",
     "output_type": "stream",
     "text": [
      "Model Number: 1106 with model SeasonalNaive in generation 10 of 10\n",
      "Model Number: 1107 with model NVAR in generation 10 of 10\n",
      "Model Number: 1108 with model LastValueNaive in generation 10 of 10\n",
      "Model Number: 1109 with model SeasonalNaive in generation 10 of 10\n",
      "Model Number: 1110 with model GLS in generation 10 of 10\n",
      "Model Number: 1111 with model Ensemble in generation 11 of Ensembles\n",
      "Model Number: 1112 with model Ensemble in generation 11 of Ensembles\n",
      "Model Number: 1113 with model Ensemble in generation 11 of Ensembles\n",
      "Model Number: 1114 with model Ensemble in generation 11 of Ensembles\n",
      "Model Number: 1115 with model Ensemble in generation 11 of Ensembles\n",
      "Model Number: 1116 with model Ensemble in generation 11 of Ensembles\n"
     ]
    },
    {
     "name": "stderr",
     "output_type": "stream",
     "text": [
      "[Parallel(n_jobs=-2)]: Using backend ThreadingBackend with 15 concurrent workers.\n",
      "[Parallel(n_jobs=-2)]: Done  20 tasks      | elapsed:    0.0s\n",
      "[Parallel(n_jobs=-2)]: Done 170 tasks      | elapsed:    0.0s\n",
      "[Parallel(n_jobs=-2)]: Done 200 out of 200 | elapsed:    0.0s finished\n",
      "[Parallel(n_jobs=15)]: Using backend ThreadingBackend with 15 concurrent workers.\n",
      "[Parallel(n_jobs=15)]: Done  20 tasks      | elapsed:    0.0s\n",
      "[Parallel(n_jobs=15)]: Done 170 tasks      | elapsed:    0.0s\n",
      "[Parallel(n_jobs=15)]: Done 200 out of 200 | elapsed:    0.0s finished\n",
      "[Parallel(n_jobs=15)]: Using backend ThreadingBackend with 15 concurrent workers.\n",
      "[Parallel(n_jobs=15)]: Done  20 tasks      | elapsed:    0.0s\n",
      "[Parallel(n_jobs=15)]: Done 170 tasks      | elapsed:    0.0s\n"
     ]
    },
    {
     "name": "stdout",
     "output_type": "stream",
     "text": [
      "Model Number: 1117 with model Ensemble in generation 11 of Ensembles\n"
     ]
    },
    {
     "name": "stderr",
     "output_type": "stream",
     "text": [
      "[Parallel(n_jobs=15)]: Done 200 out of 200 | elapsed:    0.0s finished\n",
      "[Parallel(n_jobs=15)]: Using backend ThreadingBackend with 15 concurrent workers.\n",
      "[Parallel(n_jobs=15)]: Done  20 tasks      | elapsed:    0.0s\n",
      "[Parallel(n_jobs=15)]: Done 170 tasks      | elapsed:    0.0s\n",
      "[Parallel(n_jobs=15)]: Done 200 out of 200 | elapsed:    0.0s finished\n",
      "[Parallel(n_jobs=15)]: Using backend ThreadingBackend with 15 concurrent workers.\n",
      "[Parallel(n_jobs=15)]: Done  20 tasks      | elapsed:    0.0s\n",
      "[Parallel(n_jobs=15)]: Done 170 tasks      | elapsed:    0.0s\n",
      "[Parallel(n_jobs=15)]: Done 200 out of 200 | elapsed:    0.0s finished\n"
     ]
    },
    {
     "name": "stdout",
     "output_type": "stream",
     "text": [
      "Model Number: 1118 with model Ensemble in generation 11 of Ensembles\n",
      "Validation Round: 1\n",
      "Model Number: 1 of 123 with model Ensemble for Validation 1\n",
      "📈 1 - Ensemble with avg smape 173.4: \n",
      "Model Number: 2 of 123 with model Ensemble for Validation 1\n",
      "📈 2 - Ensemble with avg smape 158.83: \n",
      "Model Number: 3 of 123 with model SeasonalNaive for Validation 1\n",
      "3 - SeasonalNaive with avg smape 163.87: \n",
      "Model Number: 4 of 123 with model SeasonalNaive for Validation 1\n",
      "📈 4 - SeasonalNaive with avg smape 156.76: \n",
      "Model Number: 5 of 123 with model Ensemble for Validation 1\n",
      "5 - Ensemble with avg smape 156.76: \n",
      "Model Number: 6 of 123 with model SeasonalNaive for Validation 1\n",
      "6 - SeasonalNaive with avg smape 156.76: \n",
      "Model Number: 7 of 123 with model SeasonalNaive for Validation 1\n",
      "7 - SeasonalNaive with avg smape 156.76: \n",
      "Model Number: 8 of 123 with model Ensemble for Validation 1\n",
      "📈 8 - Ensemble with avg smape 103.27: \n",
      "Model Number: 9 of 123 with model Ensemble for Validation 1\n",
      "📈 9 - Ensemble with avg smape 98.82: \n",
      "Model Number: 10 of 123 with model Ensemble for Validation 1\n"
     ]
    },
    {
     "name": "stderr",
     "output_type": "stream",
     "text": [
      "[Parallel(n_jobs=-2)]: Using backend ThreadingBackend with 15 concurrent workers.\n",
      "[Parallel(n_jobs=-2)]: Done  20 tasks      | elapsed:    0.0s\n",
      "[Parallel(n_jobs=-2)]: Done 170 tasks      | elapsed:    0.0s\n",
      "[Parallel(n_jobs=-2)]: Done 200 out of 200 | elapsed:    0.0s finished\n",
      "[Parallel(n_jobs=15)]: Using backend ThreadingBackend with 15 concurrent workers.\n",
      "[Parallel(n_jobs=15)]: Done  20 tasks      | elapsed:    0.0s\n",
      "[Parallel(n_jobs=15)]: Done 170 tasks      | elapsed:    0.0s\n",
      "[Parallel(n_jobs=15)]: Done 200 out of 200 | elapsed:    0.0s finished\n",
      "[Parallel(n_jobs=15)]: Using backend ThreadingBackend with 15 concurrent workers.\n",
      "[Parallel(n_jobs=15)]: Done  20 tasks      | elapsed:    0.0s\n"
     ]
    },
    {
     "name": "stdout",
     "output_type": "stream",
     "text": [
      "📈 10 - Ensemble with avg smape 74.69: \n",
      "Model Number: 11 of 123 with model SeasonalNaive for Validation 1\n",
      "11 - SeasonalNaive with avg smape 163.35: \n",
      "Model Number: 12 of 123 with model SeasonalNaive for Validation 1\n",
      "12 - SeasonalNaive with avg smape 163.35: \n",
      "Model Number: 13 of 123 with model SeasonalNaive for Validation 1\n",
      "13 - SeasonalNaive with avg smape 160.55: \n",
      "Model Number: 14 of 123 with model SeasonalNaive for Validation 1\n",
      "14 - SeasonalNaive with avg smape 154.01: \n",
      "Model Number: 15 of 123 with model SeasonalNaive for Validation 1\n"
     ]
    },
    {
     "name": "stderr",
     "output_type": "stream",
     "text": [
      "[Parallel(n_jobs=15)]: Done 170 tasks      | elapsed:    0.0s\n",
      "[Parallel(n_jobs=15)]: Done 200 out of 200 | elapsed:    0.0s finished\n",
      "[Parallel(n_jobs=15)]: Using backend ThreadingBackend with 15 concurrent workers.\n",
      "[Parallel(n_jobs=15)]: Done  20 tasks      | elapsed:    0.0s\n",
      "[Parallel(n_jobs=15)]: Done 170 tasks      | elapsed:    0.0s\n",
      "[Parallel(n_jobs=15)]: Done 200 out of 200 | elapsed:    0.0s finished\n",
      "[Parallel(n_jobs=15)]: Using backend ThreadingBackend with 15 concurrent workers.\n",
      "[Parallel(n_jobs=15)]: Done  20 tasks      | elapsed:    0.0s\n",
      "[Parallel(n_jobs=15)]: Done 170 tasks      | elapsed:    0.0s\n",
      "[Parallel(n_jobs=15)]: Done 200 out of 200 | elapsed:    0.0s finished\n",
      "C:\\Users\\henry\\miniconda3\\envs\\jupyter_env\\lib\\site-packages\\autots\\tools\\probabilistic.py:67: RuntimeWarning: invalid value encountered in true_divide\n",
      "  (prior_mu / prior_sigma**2) + ((n * data_mu) / prior_sigma**2)\n",
      "C:\\Users\\henry\\miniconda3\\envs\\jupyter_env\\lib\\site-packages\\autots\\tools\\probabilistic.py:68: RuntimeWarning: divide by zero encountered in true_divide\n",
      "  ) / ((1 / prior_sigma**2) + (n / prior_sigma**2))\n",
      "C:\\Users\\henry\\miniconda3\\envs\\jupyter_env\\lib\\site-packages\\autots\\tools\\probabilistic.py:67: RuntimeWarning: invalid value encountered in true_divide\n",
      "  (prior_mu / prior_sigma**2) + ((n * data_mu) / prior_sigma**2)\n",
      "C:\\Users\\henry\\miniconda3\\envs\\jupyter_env\\lib\\site-packages\\autots\\tools\\probabilistic.py:68: RuntimeWarning: divide by zero encountered in true_divide\n",
      "  ) / ((1 / prior_sigma**2) + (n / prior_sigma**2))\n"
     ]
    },
    {
     "name": "stdout",
     "output_type": "stream",
     "text": [
      "15 - SeasonalNaive with avg smape 154.01: \n",
      "Model Number: 16 of 123 with model NVAR for Validation 1\n",
      "16 - NVAR with avg smape 200.0: \n",
      "Model Number: 17 of 123 with model NVAR for Validation 1\n",
      "17 - NVAR with avg smape 200.0: \n",
      "Model Number: 18 of 123 with model NVAR for Validation 1\n",
      "18 - NVAR with avg smape 200.0: \n",
      "Model Number: 19 of 123 with model NVAR for Validation 1\n",
      "19 - NVAR with avg smape 200.0: \n",
      "Model Number: 20 of 123 with model NVAR for Validation 1\n",
      "20 - NVAR with avg smape 138.06: \n",
      "Model Number: 21 of 123 with model ConstantNaive for Validation 1\n",
      "📈 21 - ConstantNaive with avg smape 37.57: \n",
      "Model Number: 22 of 123 with model UnobservedComponents for Validation 1\n",
      "📈 22 - UnobservedComponents with avg smape 32.63: \n",
      "Model Number: 23 of 123 with model UnobservedComponents for Validation 1\n",
      "23 - UnobservedComponents with avg smape 32.63: \n",
      "Model Number: 24 of 123 with model UnobservedComponents for Validation 1\n",
      "24 - UnobservedComponents with avg smape 157.77: \n",
      "Model Number: 25 of 123 with model MultivariateRegression for Validation 1\n"
     ]
    },
    {
     "name": "stderr",
     "output_type": "stream",
     "text": [
      "[Parallel(n_jobs=-2)]: Using backend ThreadingBackend with 15 concurrent workers.\n",
      "[Parallel(n_jobs=-2)]: Done  20 tasks      | elapsed:    0.0s\n",
      "[Parallel(n_jobs=-2)]: Done 170 tasks      | elapsed:    0.0s\n",
      "[Parallel(n_jobs=-2)]: Done 200 out of 200 | elapsed:    0.0s finished\n",
      "[Parallel(n_jobs=15)]: Using backend ThreadingBackend with 15 concurrent workers.\n",
      "[Parallel(n_jobs=15)]: Done  20 tasks      | elapsed:    0.0s\n",
      "[Parallel(n_jobs=15)]: Done 170 tasks      | elapsed:    0.0s\n",
      "[Parallel(n_jobs=15)]: Done 200 out of 200 | elapsed:    0.0s finished\n",
      "[Parallel(n_jobs=15)]: Using backend ThreadingBackend with 15 concurrent workers.\n",
      "[Parallel(n_jobs=15)]: Done  20 tasks      | elapsed:    0.0s\n",
      "[Parallel(n_jobs=15)]: Done 170 tasks      | elapsed:    0.0s\n",
      "[Parallel(n_jobs=15)]: Done 200 out of 200 | elapsed:    0.0s finished\n"
     ]
    },
    {
     "name": "stdout",
     "output_type": "stream",
     "text": [
      "25 - MultivariateRegression with avg smape 92.32: \n",
      "Model Number: 26 of 123 with model LastValueNaive for Validation 1\n",
      "26 - LastValueNaive with avg smape 164.76: \n",
      "Model Number: 27 of 123 with model AverageValueNaive for Validation 1\n"
     ]
    },
    {
     "name": "stderr",
     "output_type": "stream",
     "text": [
      "[Parallel(n_jobs=15)]: Using backend ThreadingBackend with 15 concurrent workers.\n",
      "[Parallel(n_jobs=15)]: Done  20 tasks      | elapsed:    0.0s\n",
      "[Parallel(n_jobs=15)]: Done 170 tasks      | elapsed:    0.0s\n",
      "[Parallel(n_jobs=15)]: Done 200 out of 200 | elapsed:    0.0s finished\n",
      "[Parallel(n_jobs=15)]: Using backend ThreadingBackend with 15 concurrent workers.\n",
      "[Parallel(n_jobs=15)]: Done  20 tasks      | elapsed:    0.0s\n",
      "[Parallel(n_jobs=15)]: Done 170 tasks      | elapsed:    0.0s\n",
      "[Parallel(n_jobs=15)]: Done 200 out of 200 | elapsed:    0.0s finished\n"
     ]
    },
    {
     "name": "stdout",
     "output_type": "stream",
     "text": [
      "27 - AverageValueNaive with avg smape 68.48: \n",
      "Model Number: 28 of 123 with model UnobservedComponents for Validation 1\n",
      "28 - UnobservedComponents with avg smape 161.45: \n",
      "Model Number: 29 of 123 with model LastValueNaive for Validation 1\n",
      "29 - LastValueNaive with avg smape 42.33: \n",
      "Model Number: 30 of 123 with model LastValueNaive for Validation 1\n",
      "30 - LastValueNaive with avg smape 164.76: \n",
      "Model Number: 31 of 123 with model LastValueNaive for Validation 1\n",
      "31 - LastValueNaive with avg smape 164.76: \n",
      "Model Number: 32 of 123 with model LastValueNaive for Validation 1\n",
      "32 - LastValueNaive with avg smape 164.76: \n",
      "Model Number: 33 of 123 with model LastValueNaive for Validation 1\n",
      "33 - LastValueNaive with avg smape 164.76: \n",
      "Model Number: 34 of 123 with model Ensemble for Validation 1\n",
      "📈 34 - Ensemble with avg smape 31.48: \n",
      "Model Number: 35 of 123 with model LastValueNaive for Validation 1\n",
      "35 - LastValueNaive with avg smape 32.0: \n",
      "Model Number: 36 of 123 with model LastValueNaive for Validation 1\n",
      "36 - LastValueNaive with avg smape 31.97: \n",
      "Model Number: 37 of 123 with model LastValueNaive for Validation 1\n",
      "37 - LastValueNaive with avg smape 31.97: \n",
      "Model Number: 38 of 123 with model UnobservedComponents for Validation 1\n",
      "38 - UnobservedComponents with avg smape 185.03: \n",
      "Model Number: 39 of 123 with model UnobservedComponents for Validation 1\n",
      "39 - UnobservedComponents with avg smape 185.03: \n",
      "Model Number: 40 of 123 with model AverageValueNaive for Validation 1\n",
      "40 - AverageValueNaive with avg smape 163.2: \n",
      "Model Number: 41 of 123 with model AverageValueNaive for Validation 1\n",
      "41 - AverageValueNaive with avg smape 163.2: \n",
      "Model Number: 42 of 123 with model NVAR for Validation 1\n",
      "Template Eval Error: Exception('Transformer FastICA failed on inverse') in model 42: NVAR\n",
      "Model Number: 43 of 123 with model NVAR for Validation 1\n",
      "43 - NVAR with avg smape 200.0: \n",
      "Model Number: 44 of 123 with model NVAR for Validation 1\n",
      "44 - NVAR with avg smape 200.0: \n",
      "Model Number: 45 of 123 with model NVAR for Validation 1\n",
      "45 - NVAR with avg smape 200.0: \n",
      "Model Number: 46 of 123 with model AverageValueNaive for Validation 1\n",
      "46 - AverageValueNaive with avg smape 70.88: \n",
      "Model Number: 47 of 123 with model AverageValueNaive for Validation 1\n",
      "47 - AverageValueNaive with avg smape 57.55: \n",
      "Model Number: 48 of 123 with model AverageValueNaive for Validation 1\n",
      "48 - AverageValueNaive with avg smape 57.55: \n",
      "Model Number: 49 of 123 with model UnobservedComponents for Validation 1\n",
      "49 - UnobservedComponents with avg smape 179.56: \n",
      "Model Number: 50 of 123 with model UnobservedComponents for Validation 1\n",
      "50 - UnobservedComponents with avg smape 152.08: \n",
      "Model Number: 51 of 123 with model UnobservedComponents for Validation 1\n",
      "51 - UnobservedComponents with avg smape 152.08: \n",
      "Model Number: 52 of 123 with model ConstantNaive for Validation 1\n",
      "52 - ConstantNaive with avg smape 146.33: \n",
      "Model Number: 53 of 123 with model ConstantNaive for Validation 1\n",
      "53 - ConstantNaive with avg smape 32.85: \n",
      "Model Number: 54 of 123 with model ConstantNaive for Validation 1\n",
      "54 - ConstantNaive with avg smape 59.44: \n",
      "Model Number: 55 of 123 with model Theta for Validation 1\n",
      "55 - Theta with avg smape 87.37: \n",
      "Model Number: 56 of 123 with model ConstantNaive for Validation 1\n",
      "56 - ConstantNaive with avg smape 59.6: \n",
      "Model Number: 57 of 123 with model ConstantNaive for Validation 1\n",
      "57 - ConstantNaive with avg smape 159.6: \n",
      "Model Number: 58 of 123 with model ConstantNaive for Validation 1\n",
      "58 - ConstantNaive with avg smape 159.6: \n",
      "Model Number: 59 of 123 with model ConstantNaive for Validation 1\n",
      "59 - ConstantNaive with avg smape 161.95: \n",
      "Model Number: 60 of 123 with model GLS for Validation 1\n",
      "60 - GLS with avg smape 82.56: \n",
      "Model Number: 61 of 123 with model GLS for Validation 1\n",
      "61 - GLS with avg smape 82.61: \n",
      "Model Number: 62 of 123 with model GLS for Validation 1\n",
      "62 - GLS with avg smape 82.61: \n",
      "Model Number: 63 of 123 with model Theta for Validation 1\n",
      "63 - Theta with avg smape 91.63: \n",
      "Model Number: 64 of 123 with model GLS for Validation 1\n",
      "64 - GLS with avg smape 83.5: \n",
      "Model Number: 65 of 123 with model GLS for Validation 1\n",
      "65 - GLS with avg smape 83.5: \n",
      "Model Number: 66 of 123 with model AverageValueNaive for Validation 1\n",
      "66 - AverageValueNaive with avg smape 37.91: \n",
      "Model Number: 67 of 123 with model Theta for Validation 1\n",
      "67 - Theta with avg smape 95.17: \n",
      "Model Number: 68 of 123 with model Theta for Validation 1\n"
     ]
    },
    {
     "name": "stderr",
     "output_type": "stream",
     "text": [
      "C:\\Users\\henry\\miniconda3\\envs\\jupyter_env\\lib\\site-packages\\sklearn\\linear_model\\_glm\\link.py:90: RuntimeWarning: overflow encountered in exp\n",
      "  return np.exp(lin_pred)\n",
      "C:\\Users\\henry\\miniconda3\\envs\\jupyter_env\\lib\\site-packages\\sklearn\\linear_model\\_glm\\link.py:93: RuntimeWarning: overflow encountered in exp\n",
      "  return np.exp(lin_pred)\n",
      "C:\\Users\\henry\\miniconda3\\envs\\jupyter_env\\lib\\site-packages\\sklearn\\_loss\\glm_distribution.py:132: RuntimeWarning: invalid value encountered in true_divide\n",
      "  return -2 * (y - y_pred) / self.unit_variance(y_pred)\n"
     ]
    },
    {
     "name": "stdout",
     "output_type": "stream",
     "text": [
      "68 - Theta with avg smape 82.8: \n",
      "Model Number: 69 of 123 with model Theta for Validation 1\n"
     ]
    },
    {
     "name": "stderr",
     "output_type": "stream",
     "text": [
      "C:\\Users\\henry\\miniconda3\\envs\\jupyter_env\\lib\\site-packages\\sklearn\\linear_model\\_glm\\link.py:90: RuntimeWarning: overflow encountered in exp\n",
      "  return np.exp(lin_pred)\n",
      "C:\\Users\\henry\\miniconda3\\envs\\jupyter_env\\lib\\site-packages\\sklearn\\linear_model\\_glm\\link.py:93: RuntimeWarning: overflow encountered in exp\n",
      "  return np.exp(lin_pred)\n",
      "C:\\Users\\henry\\miniconda3\\envs\\jupyter_env\\lib\\site-packages\\sklearn\\_loss\\glm_distribution.py:132: RuntimeWarning: invalid value encountered in true_divide\n",
      "  return -2 * (y - y_pred) / self.unit_variance(y_pred)\n"
     ]
    },
    {
     "name": "stdout",
     "output_type": "stream",
     "text": [
      "69 - Theta with avg smape 95.72: \n",
      "Model Number: 70 of 123 with model GLS for Validation 1\n",
      "70 - GLS with avg smape 32.15: \n",
      "Model Number: 71 of 123 with model Theta for Validation 1\n",
      "71 - Theta with avg smape 66.37: \n",
      "Model Number: 72 of 123 with model ETS for Validation 1\n",
      "72 - ETS with avg smape 157.55: \n",
      "Model Number: 73 of 123 with model AverageValueNaive for Validation 1\n",
      "73 - AverageValueNaive with avg smape 155.27: \n",
      "Model Number: 74 of 123 with model AverageValueNaive for Validation 1\n",
      "74 - AverageValueNaive with avg smape 155.27: \n",
      "Model Number: 75 of 123 with model ARDL for Validation 1\n",
      "75 - ARDL with avg smape 156.19: \n",
      "Model Number: 76 of 123 with model MultivariateRegression for Validation 1\n"
     ]
    },
    {
     "name": "stderr",
     "output_type": "stream",
     "text": [
      "[Parallel(n_jobs=-2)]: Using backend ThreadingBackend with 15 concurrent workers.\n",
      "[Parallel(n_jobs=-2)]: Done  20 tasks      | elapsed:    0.0s\n",
      "[Parallel(n_jobs=-2)]: Done 170 tasks      | elapsed:    0.1s\n",
      "[Parallel(n_jobs=-2)]: Done 200 out of 200 | elapsed:    0.1s finished\n",
      "[Parallel(n_jobs=15)]: Using backend ThreadingBackend with 15 concurrent workers.\n",
      "[Parallel(n_jobs=15)]: Done  20 tasks      | elapsed:    0.0s\n",
      "[Parallel(n_jobs=15)]: Done 170 tasks      | elapsed:    0.0s\n",
      "[Parallel(n_jobs=15)]: Done 200 out of 200 | elapsed:    0.0s finished\n",
      "[Parallel(n_jobs=15)]: Using backend ThreadingBackend with 15 concurrent workers.\n",
      "[Parallel(n_jobs=15)]: Done  20 tasks      | elapsed:    0.0s\n",
      "[Parallel(n_jobs=15)]: Done 170 tasks      | elapsed:    0.0s\n",
      "[Parallel(n_jobs=15)]: Done 200 out of 200 | elapsed:    0.0s finished\n",
      "[Parallel(n_jobs=15)]: Using backend ThreadingBackend with 15 concurrent workers.\n",
      "[Parallel(n_jobs=15)]: Done  20 tasks      | elapsed:    0.0s\n",
      "[Parallel(n_jobs=15)]: Done 170 tasks      | elapsed:    0.0s\n",
      "[Parallel(n_jobs=15)]: Done 200 out of 200 | elapsed:    0.0s finished\n"
     ]
    },
    {
     "name": "stdout",
     "output_type": "stream",
     "text": [
      "76 - MultivariateRegression with avg smape 160.75: \n",
      "Model Number: 77 of 123 with model GLS for Validation 1\n"
     ]
    },
    {
     "name": "stderr",
     "output_type": "stream",
     "text": [
      "[Parallel(n_jobs=15)]: Using backend ThreadingBackend with 15 concurrent workers.\n",
      "[Parallel(n_jobs=15)]: Done  20 tasks      | elapsed:    0.0s\n",
      "[Parallel(n_jobs=15)]: Done 170 tasks      | elapsed:    0.0s\n",
      "[Parallel(n_jobs=15)]: Done 200 out of 200 | elapsed:    0.0s finished\n"
     ]
    },
    {
     "name": "stdout",
     "output_type": "stream",
     "text": [
      "77 - GLS with avg smape 32.45: \n",
      "Model Number: 78 of 123 with model ARDL for Validation 1\n",
      "78 - ARDL with avg smape 118.66: \n",
      "Model Number: 79 of 123 with model Theta for Validation 1\n",
      "79 - Theta with avg smape 62.48: \n",
      "Model Number: 80 of 123 with model MultivariateRegression for Validation 1\n",
      "80 - MultivariateRegression with avg smape 152.2: \n",
      "Model Number: 81 of 123 with model Theta for Validation 1\n"
     ]
    },
    {
     "name": "stderr",
     "output_type": "stream",
     "text": [
      "C:\\Users\\henry\\miniconda3\\envs\\jupyter_env\\lib\\site-packages\\sklearn\\linear_model\\_glm\\link.py:90: RuntimeWarning: overflow encountered in exp\n",
      "  return np.exp(lin_pred)\n",
      "C:\\Users\\henry\\miniconda3\\envs\\jupyter_env\\lib\\site-packages\\sklearn\\linear_model\\_glm\\link.py:93: RuntimeWarning: overflow encountered in exp\n",
      "  return np.exp(lin_pred)\n",
      "C:\\Users\\henry\\miniconda3\\envs\\jupyter_env\\lib\\site-packages\\sklearn\\_loss\\glm_distribution.py:132: RuntimeWarning: invalid value encountered in true_divide\n",
      "  return -2 * (y - y_pred) / self.unit_variance(y_pred)\n",
      "C:\\Users\\henry\\miniconda3\\envs\\jupyter_env\\lib\\site-packages\\sklearn\\_loss\\glm_distribution.py:323: RuntimeWarning: invalid value encountered in add\n",
      "  dev = 2 * (xlogy(y, y / y_pred) - y + y_pred)\n",
      "C:\\Users\\henry\\miniconda3\\envs\\jupyter_env\\lib\\site-packages\\sklearn\\linear_model\\_glm\\glm.py:323: ConvergenceWarning: lbfgs failed to converge (status=2):\n",
      "ABNORMAL_TERMINATION_IN_LNSRCH.\n",
      "\n",
      "Increase the number of iterations (max_iter) or scale the data as shown in:\n",
      "    https://scikit-learn.org/stable/modules/preprocessing.html\n",
      "  self.n_iter_ = _check_optimize_result(\"lbfgs\", opt_res)\n",
      "C:\\Users\\henry\\miniconda3\\envs\\jupyter_env\\lib\\site-packages\\sklearn\\linear_model\\_glm\\link.py:90: RuntimeWarning: overflow encountered in exp\n",
      "  return np.exp(lin_pred)\n",
      "C:\\Users\\henry\\miniconda3\\envs\\jupyter_env\\lib\\site-packages\\sklearn\\linear_model\\_glm\\link.py:93: RuntimeWarning: overflow encountered in exp\n",
      "  return np.exp(lin_pred)\n",
      "C:\\Users\\henry\\miniconda3\\envs\\jupyter_env\\lib\\site-packages\\sklearn\\_loss\\glm_distribution.py:132: RuntimeWarning: invalid value encountered in true_divide\n",
      "  return -2 * (y - y_pred) / self.unit_variance(y_pred)\n"
     ]
    },
    {
     "name": "stdout",
     "output_type": "stream",
     "text": [
      "81 - Theta with avg smape 52.64: \n",
      "Model Number: 82 of 123 with model ConstantNaive for Validation 1\n",
      "82 - ConstantNaive with avg smape 155.27: \n",
      "Model Number: 83 of 123 with model Theta for Validation 1\n",
      "83 - Theta with avg smape 75.7: \n",
      "Model Number: 84 of 123 with model MultivariateRegression for Validation 1\n"
     ]
    },
    {
     "name": "stderr",
     "output_type": "stream",
     "text": [
      "[Parallel(n_jobs=-2)]: Using backend ThreadingBackend with 15 concurrent workers.\n",
      "[Parallel(n_jobs=-2)]: Done  20 tasks      | elapsed:    0.0s\n",
      "[Parallel(n_jobs=-2)]: Done 170 tasks      | elapsed:    0.1s\n",
      "[Parallel(n_jobs=-2)]: Done 200 out of 200 | elapsed:    0.1s finished\n",
      "[Parallel(n_jobs=15)]: Using backend ThreadingBackend with 15 concurrent workers.\n",
      "[Parallel(n_jobs=15)]: Done  20 tasks      | elapsed:    0.0s\n",
      "[Parallel(n_jobs=15)]: Done 170 tasks      | elapsed:    0.0s\n",
      "[Parallel(n_jobs=15)]: Done 200 out of 200 | elapsed:    0.0s finished\n",
      "[Parallel(n_jobs=15)]: Using backend ThreadingBackend with 15 concurrent workers.\n",
      "[Parallel(n_jobs=15)]: Done  20 tasks      | elapsed:    0.0s\n",
      "[Parallel(n_jobs=15)]: Done 170 tasks      | elapsed:    0.0s\n",
      "[Parallel(n_jobs=15)]: Done 200 out of 200 | elapsed:    0.0s finished\n",
      "[Parallel(n_jobs=15)]: Using backend ThreadingBackend with 15 concurrent workers.\n",
      "[Parallel(n_jobs=15)]: Done  20 tasks      | elapsed:    0.0s\n",
      "[Parallel(n_jobs=15)]: Done 170 tasks      | elapsed:    0.0s\n",
      "[Parallel(n_jobs=15)]: Done 200 out of 200 | elapsed:    0.0s finished\n",
      "[Parallel(n_jobs=15)]: Using backend ThreadingBackend with 15 concurrent workers.\n",
      "[Parallel(n_jobs=15)]: Done  20 tasks      | elapsed:    0.0s\n",
      "[Parallel(n_jobs=15)]: Done 170 tasks      | elapsed:    0.0s\n",
      "[Parallel(n_jobs=15)]: Done 200 out of 200 | elapsed:    0.0s finished\n"
     ]
    },
    {
     "name": "stdout",
     "output_type": "stream",
     "text": [
      "📈 84 - MultivariateRegression with avg smape 31.2: \n",
      "Model Number: 85 of 123 with model MultivariateRegression for Validation 1\n"
     ]
    },
    {
     "name": "stderr",
     "output_type": "stream",
     "text": [
      "[Parallel(n_jobs=-2)]: Using backend ThreadingBackend with 15 concurrent workers.\n",
      "[Parallel(n_jobs=-2)]: Done  20 tasks      | elapsed:    0.0s\n",
      "[Parallel(n_jobs=-2)]: Done 170 tasks      | elapsed:    0.3s\n",
      "[Parallel(n_jobs=-2)]: Done 200 out of 200 | elapsed:    0.3s finished\n",
      "[Parallel(n_jobs=15)]: Using backend ThreadingBackend with 15 concurrent workers.\n",
      "[Parallel(n_jobs=15)]: Done  20 tasks      | elapsed:    0.0s\n",
      "[Parallel(n_jobs=15)]: Done 170 tasks      | elapsed:    0.0s\n",
      "[Parallel(n_jobs=15)]: Done 200 out of 200 | elapsed:    0.0s finished\n",
      "[Parallel(n_jobs=15)]: Using backend ThreadingBackend with 15 concurrent workers.\n",
      "[Parallel(n_jobs=15)]: Done  20 tasks      | elapsed:    0.0s\n",
      "[Parallel(n_jobs=15)]: Done 170 tasks      | elapsed:    0.0s\n",
      "[Parallel(n_jobs=15)]: Done 200 out of 200 | elapsed:    0.0s finished\n",
      "[Parallel(n_jobs=15)]: Using backend ThreadingBackend with 15 concurrent workers.\n",
      "[Parallel(n_jobs=15)]: Done  20 tasks      | elapsed:    0.0s\n",
      "[Parallel(n_jobs=15)]: Done 170 tasks      | elapsed:    0.0s\n",
      "[Parallel(n_jobs=15)]: Done 200 out of 200 | elapsed:    0.0s finished\n",
      "[Parallel(n_jobs=15)]: Using backend ThreadingBackend with 15 concurrent workers.\n",
      "[Parallel(n_jobs=15)]: Done  20 tasks      | elapsed:    0.0s\n",
      "[Parallel(n_jobs=15)]: Done 170 tasks      | elapsed:    0.0s\n",
      "[Parallel(n_jobs=15)]: Done 200 out of 200 | elapsed:    0.0s finished\n",
      "C:\\Users\\henry\\miniconda3\\envs\\jupyter_env\\lib\\site-packages\\sklearn\\linear_model\\_glm\\link.py:90: RuntimeWarning: overflow encountered in exp\n",
      "  return np.exp(lin_pred)\n",
      "C:\\Users\\henry\\miniconda3\\envs\\jupyter_env\\lib\\site-packages\\sklearn\\linear_model\\_glm\\link.py:93: RuntimeWarning: overflow encountered in exp\n",
      "  return np.exp(lin_pred)\n",
      "C:\\Users\\henry\\miniconda3\\envs\\jupyter_env\\lib\\site-packages\\sklearn\\_loss\\glm_distribution.py:132: RuntimeWarning: invalid value encountered in true_divide\n",
      "  return -2 * (y - y_pred) / self.unit_variance(y_pred)\n"
     ]
    },
    {
     "name": "stdout",
     "output_type": "stream",
     "text": [
      "85 - MultivariateRegression with avg smape 156.99: \n",
      "Model Number: 86 of 123 with model MultivariateRegression for Validation 1\n"
     ]
    },
    {
     "name": "stderr",
     "output_type": "stream",
     "text": [
      "[Parallel(n_jobs=-2)]: Using backend ThreadingBackend with 15 concurrent workers.\n",
      "[Parallel(n_jobs=-2)]: Done  20 tasks      | elapsed:    0.0s\n",
      "[Parallel(n_jobs=-2)]: Done 170 tasks      | elapsed:    0.0s\n",
      "[Parallel(n_jobs=-2)]: Done 200 out of 200 | elapsed:    0.0s finished\n",
      "[Parallel(n_jobs=15)]: Using backend ThreadingBackend with 15 concurrent workers.\n",
      "[Parallel(n_jobs=15)]: Done  20 tasks      | elapsed:    0.0s\n",
      "[Parallel(n_jobs=15)]: Done 170 tasks      | elapsed:    0.0s\n",
      "[Parallel(n_jobs=15)]: Done 200 out of 200 | elapsed:    0.0s finished\n",
      "[Parallel(n_jobs=15)]: Using backend ThreadingBackend with 15 concurrent workers.\n",
      "[Parallel(n_jobs=15)]: Done  20 tasks      | elapsed:    0.0s\n",
      "[Parallel(n_jobs=15)]: Done 170 tasks      | elapsed:    0.0s\n",
      "[Parallel(n_jobs=15)]: Done 200 out of 200 | elapsed:    0.0s finished\n",
      "[Parallel(n_jobs=15)]: Using backend ThreadingBackend with 15 concurrent workers.\n",
      "[Parallel(n_jobs=15)]: Done  20 tasks      | elapsed:    0.0s\n",
      "[Parallel(n_jobs=15)]: Done 170 tasks      | elapsed:    0.0s\n",
      "[Parallel(n_jobs=15)]: Done 200 out of 200 | elapsed:    0.0s finished\n",
      "[Parallel(n_jobs=15)]: Using backend ThreadingBackend with 15 concurrent workers.\n"
     ]
    },
    {
     "name": "stdout",
     "output_type": "stream",
     "text": [
      "86 - MultivariateRegression with avg smape 69.7: \n",
      "Model Number: 87 of 123 with model ETS for Validation 1\n",
      "87 - ETS with avg smape 156.32: \n",
      "Model Number: 88 of 123 with model GLS for Validation 1\n"
     ]
    },
    {
     "name": "stderr",
     "output_type": "stream",
     "text": [
      "[Parallel(n_jobs=15)]: Done  20 tasks      | elapsed:    0.0s\n",
      "[Parallel(n_jobs=15)]: Done 170 tasks      | elapsed:    0.0s\n",
      "[Parallel(n_jobs=15)]: Done 200 out of 200 | elapsed:    0.0s finished\n",
      "[Parallel(n_jobs=-2)]: Using backend ThreadingBackend with 15 concurrent workers.\n"
     ]
    },
    {
     "name": "stdout",
     "output_type": "stream",
     "text": [
      "88 - GLS with avg smape 38.46: \n",
      "Model Number: 89 of 123 with model MultivariateRegression for Validation 1\n"
     ]
    },
    {
     "name": "stderr",
     "output_type": "stream",
     "text": [
      "[Parallel(n_jobs=-2)]: Done  20 tasks      | elapsed:    0.0s\n",
      "[Parallel(n_jobs=-2)]: Done 170 tasks      | elapsed:    0.0s\n",
      "[Parallel(n_jobs=-2)]: Done 200 out of 200 | elapsed:    0.0s finished\n",
      "[Parallel(n_jobs=15)]: Using backend ThreadingBackend with 15 concurrent workers.\n",
      "[Parallel(n_jobs=15)]: Done  20 tasks      | elapsed:    0.0s\n",
      "[Parallel(n_jobs=15)]: Done 170 tasks      | elapsed:    0.0s\n",
      "[Parallel(n_jobs=15)]: Done 200 out of 200 | elapsed:    0.0s finished\n",
      "[Parallel(n_jobs=15)]: Using backend ThreadingBackend with 15 concurrent workers.\n",
      "[Parallel(n_jobs=15)]: Done  20 tasks      | elapsed:    0.0s\n",
      "[Parallel(n_jobs=15)]: Done 170 tasks      | elapsed:    0.0s\n",
      "[Parallel(n_jobs=15)]: Done 200 out of 200 | elapsed:    0.0s finished\n",
      "[Parallel(n_jobs=15)]: Using backend ThreadingBackend with 15 concurrent workers.\n",
      "[Parallel(n_jobs=15)]: Done  20 tasks      | elapsed:    0.0s\n",
      "[Parallel(n_jobs=15)]: Done 170 tasks      | elapsed:    0.0s\n",
      "[Parallel(n_jobs=15)]: Done 200 out of 200 | elapsed:    0.0s finished\n",
      "[Parallel(n_jobs=15)]: Using backend ThreadingBackend with 15 concurrent workers.\n",
      "[Parallel(n_jobs=15)]: Done  20 tasks      | elapsed:    0.0s\n"
     ]
    },
    {
     "name": "stdout",
     "output_type": "stream",
     "text": [
      "89 - MultivariateRegression with avg smape 155.83: \n",
      "Model Number: 90 of 123 with model DatepartRegression for Validation 1\n",
      "90 - DatepartRegression with avg smape 43.07: \n",
      "Model Number: 91 of 123 with model ETS for Validation 1\n",
      "91 - ETS with avg smape 70.21: \n",
      "Model Number: 92 of 123 with model ETS for Validation 1\n",
      "92 - ETS with avg smape 70.21: \n",
      "Model Number: 93 of 123 with model GLS for Validation 1\n",
      "93 - GLS with avg smape 64.35: \n",
      "Model Number: 94 of 123 with model ETS for Validation 1\n"
     ]
    },
    {
     "name": "stderr",
     "output_type": "stream",
     "text": [
      "[Parallel(n_jobs=15)]: Done 170 tasks      | elapsed:    0.0s\n",
      "[Parallel(n_jobs=15)]: Done 200 out of 200 | elapsed:    0.0s finished\n",
      "C:\\Users\\henry\\miniconda3\\envs\\jupyter_env\\lib\\site-packages\\autots\\tools\\probabilistic.py:67: RuntimeWarning: invalid value encountered in true_divide\n",
      "  (prior_mu / prior_sigma**2) + ((n * data_mu) / prior_sigma**2)\n",
      "C:\\Users\\henry\\miniconda3\\envs\\jupyter_env\\lib\\site-packages\\autots\\tools\\probabilistic.py:68: RuntimeWarning: divide by zero encountered in true_divide\n",
      "  ) / ((1 / prior_sigma**2) + (n / prior_sigma**2))\n"
     ]
    },
    {
     "name": "stdout",
     "output_type": "stream",
     "text": [
      "94 - ETS with avg smape 66.45: \n",
      "Model Number: 95 of 123 with model MultivariateRegression for Validation 1\n"
     ]
    },
    {
     "name": "stderr",
     "output_type": "stream",
     "text": [
      "[Parallel(n_jobs=-2)]: Using backend ThreadingBackend with 15 concurrent workers.\n",
      "[Parallel(n_jobs=-2)]: Done  20 tasks      | elapsed:    0.0s\n",
      "[Parallel(n_jobs=-2)]: Done 170 tasks      | elapsed:    0.0s\n",
      "[Parallel(n_jobs=-2)]: Done 200 out of 200 | elapsed:    0.0s finished\n",
      "[Parallel(n_jobs=15)]: Using backend ThreadingBackend with 15 concurrent workers.\n",
      "[Parallel(n_jobs=15)]: Done  20 tasks      | elapsed:    0.0s\n",
      "[Parallel(n_jobs=15)]: Done 170 tasks      | elapsed:    0.0s\n",
      "[Parallel(n_jobs=15)]: Done 200 out of 200 | elapsed:    0.0s finished\n",
      "[Parallel(n_jobs=15)]: Using backend ThreadingBackend with 15 concurrent workers.\n",
      "[Parallel(n_jobs=15)]: Done  20 tasks      | elapsed:    0.0s\n",
      "[Parallel(n_jobs=15)]: Done 170 tasks      | elapsed:    0.0s\n",
      "[Parallel(n_jobs=15)]: Done 200 out of 200 | elapsed:    0.0s finished\n",
      "[Parallel(n_jobs=15)]: Using backend ThreadingBackend with 15 concurrent workers.\n",
      "[Parallel(n_jobs=15)]: Done  20 tasks      | elapsed:    0.0s\n",
      "[Parallel(n_jobs=15)]: Done 170 tasks      | elapsed:    0.0s\n",
      "[Parallel(n_jobs=15)]: Done 200 out of 200 | elapsed:    0.0s finished\n"
     ]
    },
    {
     "name": "stdout",
     "output_type": "stream",
     "text": [
      "95 - MultivariateRegression with avg smape 156.89: \n",
      "Model Number: 96 of 123 with model ETS for Validation 1\n",
      "96 - ETS with avg smape 66.29: \n",
      "Model Number: 97 of 123 with model ETS for Validation 1\n",
      "97 - ETS with avg smape 66.42: \n",
      "Model Number: 98 of 123 with model Ensemble for Validation 1\n"
     ]
    },
    {
     "name": "stderr",
     "output_type": "stream",
     "text": [
      "[Parallel(n_jobs=15)]: Using backend ThreadingBackend with 15 concurrent workers.\n",
      "[Parallel(n_jobs=15)]: Done  20 tasks      | elapsed:    0.0s\n",
      "[Parallel(n_jobs=15)]: Done 170 tasks      | elapsed:    0.0s\n",
      "[Parallel(n_jobs=15)]: Done 200 out of 200 | elapsed:    0.0s finished\n"
     ]
    },
    {
     "name": "stdout",
     "output_type": "stream",
     "text": [
      "98 - Ensemble with avg smape 37.71: \n",
      "Model Number: 99 of 123 with model MultivariateRegression for Validation 1\n"
     ]
    },
    {
     "name": "stderr",
     "output_type": "stream",
     "text": [
      "[Parallel(n_jobs=-2)]: Using backend ThreadingBackend with 15 concurrent workers.\n",
      "[Parallel(n_jobs=-2)]: Done  20 tasks      | elapsed:    0.0s\n",
      "[Parallel(n_jobs=-2)]: Done 170 tasks      | elapsed:    0.0s\n",
      "[Parallel(n_jobs=-2)]: Done 200 out of 200 | elapsed:    0.0s finished\n",
      "[Parallel(n_jobs=15)]: Using backend ThreadingBackend with 15 concurrent workers.\n",
      "[Parallel(n_jobs=15)]: Done  20 tasks      | elapsed:    0.0s\n",
      "[Parallel(n_jobs=15)]: Done 170 tasks      | elapsed:    0.0s\n",
      "[Parallel(n_jobs=15)]: Done 200 out of 200 | elapsed:    0.0s finished\n",
      "[Parallel(n_jobs=15)]: Using backend ThreadingBackend with 15 concurrent workers.\n",
      "[Parallel(n_jobs=15)]: Done  20 tasks      | elapsed:    0.0s\n",
      "[Parallel(n_jobs=15)]: Done 170 tasks      | elapsed:    0.0s\n",
      "[Parallel(n_jobs=15)]: Done 200 out of 200 | elapsed:    0.0s finished\n",
      "[Parallel(n_jobs=15)]: Using backend ThreadingBackend with 15 concurrent workers.\n",
      "[Parallel(n_jobs=15)]: Done  20 tasks      | elapsed:    0.0s\n",
      "[Parallel(n_jobs=15)]: Done 170 tasks      | elapsed:    0.0s\n",
      "[Parallel(n_jobs=15)]: Done 200 out of 200 | elapsed:    0.0s finished\n",
      "[Parallel(n_jobs=15)]: Using backend ThreadingBackend with 15 concurrent workers.\n",
      "[Parallel(n_jobs=15)]: Done  20 tasks      | elapsed:    0.0s\n",
      "[Parallel(n_jobs=15)]: Done 170 tasks      | elapsed:    0.0s\n",
      "[Parallel(n_jobs=15)]: Done 200 out of 200 | elapsed:    0.0s finished\n"
     ]
    },
    {
     "name": "stdout",
     "output_type": "stream",
     "text": [
      "99 - MultivariateRegression with avg smape 36.27: \n",
      "Model Number: 100 of 123 with model ARDL for Validation 1\n",
      "100 - ARDL with avg smape 150.82: \n",
      "Model Number: 101 of 123 with model ARDL for Validation 1\n"
     ]
    },
    {
     "name": "stderr",
     "output_type": "stream",
     "text": [
      "C:\\Users\\henry\\miniconda3\\envs\\jupyter_env\\lib\\site-packages\\sklearn\\linear_model\\_glm\\link.py:90: RuntimeWarning: overflow encountered in exp\n",
      "  return np.exp(lin_pred)\n",
      "C:\\Users\\henry\\miniconda3\\envs\\jupyter_env\\lib\\site-packages\\sklearn\\linear_model\\_glm\\link.py:93: RuntimeWarning: overflow encountered in exp\n",
      "  return np.exp(lin_pred)\n",
      "C:\\Users\\henry\\miniconda3\\envs\\jupyter_env\\lib\\site-packages\\sklearn\\_loss\\glm_distribution.py:132: RuntimeWarning: invalid value encountered in true_divide\n",
      "  return -2 * (y - y_pred) / self.unit_variance(y_pred)\n",
      "C:\\Users\\henry\\miniconda3\\envs\\jupyter_env\\lib\\site-packages\\sklearn\\_loss\\glm_distribution.py:323: RuntimeWarning: invalid value encountered in add\n",
      "  dev = 2 * (xlogy(y, y / y_pred) - y + y_pred)\n",
      "C:\\Users\\henry\\miniconda3\\envs\\jupyter_env\\lib\\site-packages\\sklearn\\linear_model\\_glm\\glm.py:323: ConvergenceWarning: lbfgs failed to converge (status=2):\n",
      "ABNORMAL_TERMINATION_IN_LNSRCH.\n",
      "\n",
      "Increase the number of iterations (max_iter) or scale the data as shown in:\n",
      "    https://scikit-learn.org/stable/modules/preprocessing.html\n",
      "  self.n_iter_ = _check_optimize_result(\"lbfgs\", opt_res)\n"
     ]
    },
    {
     "name": "stdout",
     "output_type": "stream",
     "text": [
      "101 - ARDL with avg smape 150.82: \n",
      "Model Number: 102 of 123 with model ETS for Validation 1\n",
      "102 - ETS with avg smape 74.93: \n",
      "Model Number: 103 of 123 with model ETS for Validation 1\n",
      "103 - ETS with avg smape 64.56: \n",
      "Model Number: 104 of 123 with model ARDL for Validation 1\n",
      "104 - ARDL with avg smape 98.61: \n",
      "Model Number: 105 of 123 with model ARDL for Validation 1\n",
      "Template Eval Error: ValueError('The number of regressors (7) including deterministics, lags of the endog, lags of the exogenous, and fixed regressors is larer than the sample available for estimation (4).') in model 105: ARDL\n",
      "Model Number: 106 of 123 with model ARDL for Validation 1\n",
      "Template Eval Error: ValueError('The number of regressors (7) including deterministics, lags of the endog, lags of the exogenous, and fixed regressors is larer than the sample available for estimation (4).') in model 106: ARDL\n",
      "Model Number: 107 of 123 with model DatepartRegression for Validation 1\n",
      "107 - DatepartRegression with avg smape 59.98: \n",
      "Model Number: 108 of 123 with model ARDL for Validation 1\n",
      "108 - ARDL with avg smape 67.69: \n",
      "Model Number: 109 of 123 with model DatepartRegression for Validation 1\n",
      "109 - DatepartRegression with avg smape 160.96: \n",
      "Model Number: 110 of 123 with model DatepartRegression for Validation 1\n",
      "110 - DatepartRegression with avg smape 50.3: \n",
      "Model Number: 111 of 123 with model DatepartRegression for Validation 1\n",
      "111 - DatepartRegression with avg smape 50.3: \n",
      "Model Number: 112 of 123 with model ARDL for Validation 1\n"
     ]
    },
    {
     "name": "stderr",
     "output_type": "stream",
     "text": [
      "C:\\Users\\henry\\miniconda3\\envs\\jupyter_env\\lib\\site-packages\\sklearn\\linear_model\\_coordinate_descent.py:647: ConvergenceWarning: Objective did not converge. You might want to increase the number of iterations, check the scale of the features or consider increasing regularisation. Duality gap: 4.708e+00, tolerance: 3.897e+00\n",
      "  model = cd_fast.enet_coordinate_descent(\n"
     ]
    },
    {
     "name": "stdout",
     "output_type": "stream",
     "text": [
      "112 - ARDL with avg smape 111.77: \n",
      "Model Number: 113 of 123 with model DatepartRegression for Validation 1\n",
      "113 - DatepartRegression with avg smape 74.33: \n",
      "Model Number: 114 of 123 with model DatepartRegression for Validation 1\n",
      "114 - DatepartRegression with avg smape 74.33: \n",
      "Model Number: 115 of 123 with model DatepartRegression for Validation 1\n",
      "115 - DatepartRegression with avg smape 52.86: \n",
      "Model Number: 116 of 123 with model DatepartRegression for Validation 1\n",
      "116 - DatepartRegression with avg smape 74.41: \n",
      "Model Number: 117 of 123 with model SectionalMotif for Validation 1\n",
      "Template Eval Error: ValueError('zero-size array to reduction operation fmax which has no identity') in model 117: SectionalMotif\n",
      "Model Number: 118 of 123 with model GLM for Validation 1\n",
      "118 - GLM with avg smape 134.87: \n",
      "Model Number: 119 of 123 with model SectionalMotif for Validation 1\n",
      "Template Eval Error: ValueError('zero-size array to reduction operation fmax which has no identity') in model 119: SectionalMotif\n",
      "Model Number: 120 of 123 with model SectionalMotif for Validation 1\n",
      "Template Eval Error: ValueError('zero-size array to reduction operation fmax which has no identity') in model 120: SectionalMotif\n",
      "Model Number: 121 of 123 with model GLM for Validation 1\n",
      "121 - GLM with avg smape 128.22: \n",
      "Model Number: 122 of 123 with model GLM for Validation 1\n"
     ]
    },
    {
     "name": "stderr",
     "output_type": "stream",
     "text": [
      "C:\\Users\\henry\\miniconda3\\envs\\jupyter_env\\lib\\site-packages\\sklearn\\linear_model\\_glm\\link.py:90: RuntimeWarning: overflow encountered in exp\n",
      "  return np.exp(lin_pred)\n",
      "C:\\Users\\henry\\miniconda3\\envs\\jupyter_env\\lib\\site-packages\\sklearn\\linear_model\\_glm\\link.py:93: RuntimeWarning: overflow encountered in exp\n",
      "  return np.exp(lin_pred)\n",
      "C:\\Users\\henry\\miniconda3\\envs\\jupyter_env\\lib\\site-packages\\sklearn\\_loss\\glm_distribution.py:132: RuntimeWarning: invalid value encountered in true_divide\n",
      "  return -2 * (y - y_pred) / self.unit_variance(y_pred)\n",
      "C:\\Users\\henry\\miniconda3\\envs\\jupyter_env\\lib\\site-packages\\sklearn\\_loss\\glm_distribution.py:323: RuntimeWarning: invalid value encountered in add\n",
      "  dev = 2 * (xlogy(y, y / y_pred) - y + y_pred)\n",
      "C:\\Users\\henry\\miniconda3\\envs\\jupyter_env\\lib\\site-packages\\sklearn\\linear_model\\_glm\\glm.py:323: ConvergenceWarning: lbfgs failed to converge (status=2):\n",
      "ABNORMAL_TERMINATION_IN_LNSRCH.\n",
      "\n",
      "Increase the number of iterations (max_iter) or scale the data as shown in:\n",
      "    https://scikit-learn.org/stable/modules/preprocessing.html\n",
      "  self.n_iter_ = _check_optimize_result(\"lbfgs\", opt_res)\n",
      "C:\\Users\\henry\\miniconda3\\envs\\jupyter_env\\lib\\site-packages\\numpy\\lib\\nanfunctions.py:1216: RuntimeWarning: Mean of empty slice\n",
      "  return np.nanmean(a, axis, out=out, keepdims=keepdims)\n",
      "C:\\Users\\henry\\miniconda3\\envs\\jupyter_env\\lib\\site-packages\\statsmodels\\genmod\\generalized_linear_model.py:298: DomainWarning: The inverse_power link function does not respect the domain of the Gamma family.\n",
      "  warnings.warn((f\"The {type(family.link).__name__} link function \"\n",
      "C:\\Users\\henry\\miniconda3\\envs\\jupyter_env\\lib\\site-packages\\numpy\\lib\\nanfunctions.py:1216: RuntimeWarning: Mean of empty slice\n",
      "  return np.nanmean(a, axis, out=out, keepdims=keepdims)\n",
      "C:\\Users\\henry\\miniconda3\\envs\\jupyter_env\\lib\\site-packages\\numpy\\lib\\function_base.py:495: RuntimeWarning: Mean of empty slice.\n",
      "  avg = a.mean(axis)\n",
      "C:\\Users\\henry\\miniconda3\\envs\\jupyter_env\\lib\\site-packages\\numpy\\core\\_methods.py:181: RuntimeWarning: invalid value encountered in true_divide\n",
      "  ret = um.true_divide(\n",
      "C:\\Users\\henry\\miniconda3\\envs\\jupyter_env\\lib\\site-packages\\statsmodels\\genmod\\generalized_linear_model.py:298: DomainWarning: The inverse_power link function does not respect the domain of the Gamma family.\n",
      "  warnings.warn((f\"The {type(family.link).__name__} link function \"\n",
      "C:\\Users\\henry\\miniconda3\\envs\\jupyter_env\\lib\\site-packages\\numpy\\lib\\nanfunctions.py:1216: RuntimeWarning: Mean of empty slice\n",
      "  return np.nanmean(a, axis, out=out, keepdims=keepdims)\n"
     ]
    },
    {
     "name": "stdout",
     "output_type": "stream",
     "text": [
      "122 - GLM with avg smape 167.56: \n",
      "Model Number: 123 of 123 with model SectionalMotif for Validation 1\n",
      "Template Eval Error: ValueError('zero-size array to reduction operation fmax which has no identity') in model 123: SectionalMotif\n",
      "Validation Round: 2\n",
      "Model Number: 1 of 123 with model Ensemble for Validation 2\n",
      "Traceback (most recent call last):\n",
      "  File \"C:\\Users\\henry\\miniconda3\\envs\\jupyter_env\\lib\\site-packages\\autots\\evaluator\\auto_model.py\", line 985, in model_forecast\n",
      "    df_forecast = model_forecast(\n",
      "  File \"C:\\Users\\henry\\miniconda3\\envs\\jupyter_env\\lib\\site-packages\\autots\\evaluator\\auto_model.py\", line 1071, in model_forecast\n",
      "    df_forecast = ModelPrediction(\n",
      "  File \"C:\\Users\\henry\\miniconda3\\envs\\jupyter_env\\lib\\site-packages\\autots\\evaluator\\auto_model.py\", line 608, in ModelPrediction\n",
      "    df_forecast = model.predict(\n",
      "  File \"C:\\Users\\henry\\miniconda3\\envs\\jupyter_env\\lib\\site-packages\\autots\\models\\basics.py\", line 1627, in predict\n",
      "    fore, up, low = predict_reservoir(\n",
      "  File \"C:\\Users\\henry\\miniconda3\\envs\\jupyter_env\\lib\\site-packages\\autots\\models\\basics.py\", line 1487, in predict_reservoir\n",
      "    x_int[:, 0] = x[:, warmtrain_pts - 2 - ns]\n",
      "IndexError: index -4 is out of bounds for axis 1 with size 3\n",
      "\n",
      "FAILED: Ensemble BestN component 3 of 3 NVAR with error: IndexError('index -4 is out of bounds for axis 1 with size 3')\n",
      "SinTrend failed with TypeError('The number of func parameters=4 must not exceed the number of data points=3') for followers_gained with 0\n",
      "Traceback (most recent call last):\n",
      "  File \"C:\\Users\\henry\\miniconda3\\envs\\jupyter_env\\lib\\site-packages\\autots\\tools\\transform.py\", line 2739, in _fit\n",
      "    df = self.transformers[i].fit_transform(df)\n",
      "  File \"C:\\Users\\henry\\miniconda3\\envs\\jupyter_env\\lib\\site-packages\\autots\\tools\\transform.py\", line 593, in fit_transform\n",
      "    self.fit(df)\n",
      "  File \"C:\\Users\\henry\\miniconda3\\envs\\jupyter_env\\lib\\site-packages\\autots\\tools\\transform.py\", line 583, in fit\n",
      "    raise ValueError(\"SinTrend Transformer failed on all series.\")\n",
      "ValueError: SinTrend Transformer failed on all series.\n",
      "\n",
      "The above exception was the direct cause of the following exception:\n",
      "\n",
      "Traceback (most recent call last):\n",
      "  File \"C:\\Users\\henry\\miniconda3\\envs\\jupyter_env\\lib\\site-packages\\autots\\evaluator\\auto_model.py\", line 985, in model_forecast\n",
      "    df_forecast = model_forecast(\n",
      "  File \"C:\\Users\\henry\\miniconda3\\envs\\jupyter_env\\lib\\site-packages\\autots\\evaluator\\auto_model.py\", line 1071, in model_forecast\n",
      "    df_forecast = ModelPrediction(\n",
      "  File \"C:\\Users\\henry\\miniconda3\\envs\\jupyter_env\\lib\\site-packages\\autots\\evaluator\\auto_model.py\", line 588, in ModelPrediction\n",
      "    df_train_transformed = transformer_object._fit(df_train)\n",
      "  File \"C:\\Users\\henry\\miniconda3\\envs\\jupyter_env\\lib\\site-packages\\autots\\tools\\transform.py\", line 2749, in _fit\n",
      "    raise Exception(\n",
      "Exception: Transformer SinTrend failed on fit\n",
      "\n",
      "FAILED: Ensemble BestN component 4 of 3 ConstantNaive with error: Exception('Transformer SinTrend failed on fit')\n",
      "📈 1 - Ensemble with avg smape 93.28: \n",
      "Model Number: 2 of 123 with model Ensemble for Validation 2\n",
      "2 - Ensemble with avg smape 96.76: \n",
      "Model Number: 3 of 123 with model SeasonalNaive for Validation 2\n",
      "3 - SeasonalNaive with avg smape 93.28: \n",
      "Model Number: 4 of 123 with model SeasonalNaive for Validation 2\n",
      "4 - SeasonalNaive with avg smape 97.83: \n",
      "Model Number: 5 of 123 with model Ensemble for Validation 2\n",
      "5 - Ensemble with avg smape 97.83: \n",
      "Model Number: 6 of 123 with model SeasonalNaive for Validation 2\n",
      "6 - SeasonalNaive with avg smape 97.83: \n",
      "Model Number: 7 of 123 with model SeasonalNaive for Validation 2\n",
      "7 - SeasonalNaive with avg smape 97.83: \n",
      "Model Number: 8 of 123 with model Ensemble for Validation 2\n",
      "8 - Ensemble with avg smape 98.44: \n",
      "Model Number: 9 of 123 with model Ensemble for Validation 2\n",
      "9 - Ensemble with avg smape 98.63: \n",
      "Model Number: 10 of 123 with model Ensemble for Validation 2\n",
      "Traceback (most recent call last):\n",
      "  File \"C:\\Users\\henry\\miniconda3\\envs\\jupyter_env\\lib\\site-packages\\autots\\evaluator\\auto_model.py\", line 985, in model_forecast\n",
      "    df_forecast = model_forecast(\n",
      "  File \"C:\\Users\\henry\\miniconda3\\envs\\jupyter_env\\lib\\site-packages\\autots\\evaluator\\auto_model.py\", line 1071, in model_forecast\n",
      "    df_forecast = ModelPrediction(\n",
      "  File \"C:\\Users\\henry\\miniconda3\\envs\\jupyter_env\\lib\\site-packages\\autots\\evaluator\\auto_model.py\", line 608, in ModelPrediction\n",
      "    df_forecast = model.predict(\n",
      "  File \"C:\\Users\\henry\\miniconda3\\envs\\jupyter_env\\lib\\site-packages\\autots\\models\\basics.py\", line 1627, in predict\n",
      "    fore, up, low = predict_reservoir(\n",
      "  File \"C:\\Users\\henry\\miniconda3\\envs\\jupyter_env\\lib\\site-packages\\autots\\models\\basics.py\", line 1487, in predict_reservoir\n",
      "    x_int[:, 0] = x[:, warmtrain_pts - 2 - ns]\n",
      "IndexError: index -4 is out of bounds for axis 1 with size 3\n",
      "\n",
      "FAILED: Ensemble BestN component 3 of 5 NVAR with error: IndexError('index -4 is out of bounds for axis 1 with size 3')\n",
      "SinTrend failed with TypeError('The number of func parameters=4 must not exceed the number of data points=3') for followers_gained with 0\n",
      "Traceback (most recent call last):\n",
      "  File \"C:\\Users\\henry\\miniconda3\\envs\\jupyter_env\\lib\\site-packages\\autots\\tools\\transform.py\", line 2739, in _fit\n",
      "    df = self.transformers[i].fit_transform(df)\n",
      "  File \"C:\\Users\\henry\\miniconda3\\envs\\jupyter_env\\lib\\site-packages\\autots\\tools\\transform.py\", line 593, in fit_transform\n",
      "    self.fit(df)\n",
      "  File \"C:\\Users\\henry\\miniconda3\\envs\\jupyter_env\\lib\\site-packages\\autots\\tools\\transform.py\", line 583, in fit\n",
      "    raise ValueError(\"SinTrend Transformer failed on all series.\")\n",
      "ValueError: SinTrend Transformer failed on all series.\n",
      "\n",
      "The above exception was the direct cause of the following exception:\n",
      "\n",
      "Traceback (most recent call last):\n",
      "  File \"C:\\Users\\henry\\miniconda3\\envs\\jupyter_env\\lib\\site-packages\\autots\\evaluator\\auto_model.py\", line 985, in model_forecast\n",
      "    df_forecast = model_forecast(\n",
      "  File \"C:\\Users\\henry\\miniconda3\\envs\\jupyter_env\\lib\\site-packages\\autots\\evaluator\\auto_model.py\", line 1071, in model_forecast\n",
      "    df_forecast = ModelPrediction(\n",
      "  File \"C:\\Users\\henry\\miniconda3\\envs\\jupyter_env\\lib\\site-packages\\autots\\evaluator\\auto_model.py\", line 588, in ModelPrediction\n",
      "    df_train_transformed = transformer_object._fit(df_train)\n",
      "  File \"C:\\Users\\henry\\miniconda3\\envs\\jupyter_env\\lib\\site-packages\\autots\\tools\\transform.py\", line 2749, in _fit\n",
      "    raise Exception(\n",
      "Exception: Transformer SinTrend failed on fit\n",
      "\n",
      "FAILED: Ensemble BestN component 4 of 5 ConstantNaive with error: Exception('Transformer SinTrend failed on fit')\n"
     ]
    },
    {
     "name": "stderr",
     "output_type": "stream",
     "text": [
      "[Parallel(n_jobs=-2)]: Using backend ThreadingBackend with 15 concurrent workers.\n",
      "[Parallel(n_jobs=-2)]: Done  20 tasks      | elapsed:    0.0s\n",
      "[Parallel(n_jobs=-2)]: Done 170 tasks      | elapsed:    0.0s\n",
      "[Parallel(n_jobs=-2)]: Done 200 out of 200 | elapsed:    0.0s finished\n",
      "[Parallel(n_jobs=15)]: Using backend ThreadingBackend with 15 concurrent workers.\n",
      "[Parallel(n_jobs=15)]: Done  20 tasks      | elapsed:    0.0s\n",
      "[Parallel(n_jobs=15)]: Done 170 tasks      | elapsed:    0.0s\n",
      "[Parallel(n_jobs=15)]: Done 200 out of 200 | elapsed:    0.0s finished\n",
      "[Parallel(n_jobs=15)]: Using backend ThreadingBackend with 15 concurrent workers.\n",
      "[Parallel(n_jobs=15)]: Done  20 tasks      | elapsed:    0.0s\n",
      "[Parallel(n_jobs=15)]: Done 170 tasks      | elapsed:    0.0s\n"
     ]
    },
    {
     "name": "stdout",
     "output_type": "stream",
     "text": [
      "10 - Ensemble with avg smape 94.19: \n",
      "Model Number: 11 of 123 with model SeasonalNaive for Validation 2\n",
      "📈 11 - SeasonalNaive with avg smape 92.23: \n",
      "Model Number: 12 of 123 with model SeasonalNaive for Validation 2\n",
      "12 - SeasonalNaive with avg smape 92.23: \n",
      "Model Number: 13 of 123 with model SeasonalNaive for Validation 2\n",
      "13 - SeasonalNaive with avg smape 99.47: \n",
      "Model Number: 14 of 123 with model SeasonalNaive for Validation 2\n"
     ]
    },
    {
     "name": "stderr",
     "output_type": "stream",
     "text": [
      "[Parallel(n_jobs=15)]: Done 200 out of 200 | elapsed:    0.0s finished\n",
      "[Parallel(n_jobs=15)]: Using backend ThreadingBackend with 15 concurrent workers.\n",
      "[Parallel(n_jobs=15)]: Done  20 tasks      | elapsed:    0.0s\n",
      "[Parallel(n_jobs=15)]: Done 170 tasks      | elapsed:    0.0s\n",
      "[Parallel(n_jobs=15)]: Done 200 out of 200 | elapsed:    0.0s finished\n",
      "[Parallel(n_jobs=15)]: Using backend ThreadingBackend with 15 concurrent workers.\n",
      "[Parallel(n_jobs=15)]: Done  20 tasks      | elapsed:    0.0s\n",
      "[Parallel(n_jobs=15)]: Done 170 tasks      | elapsed:    0.0s\n",
      "[Parallel(n_jobs=15)]: Done 200 out of 200 | elapsed:    0.0s finished\n",
      "C:\\Users\\henry\\miniconda3\\envs\\jupyter_env\\lib\\site-packages\\autots\\tools\\probabilistic.py:67: RuntimeWarning: invalid value encountered in true_divide\n",
      "  (prior_mu / prior_sigma**2) + ((n * data_mu) / prior_sigma**2)\n",
      "C:\\Users\\henry\\miniconda3\\envs\\jupyter_env\\lib\\site-packages\\autots\\tools\\probabilistic.py:68: RuntimeWarning: divide by zero encountered in true_divide\n",
      "  ) / ((1 / prior_sigma**2) + (n / prior_sigma**2))\n",
      "C:\\Users\\henry\\miniconda3\\envs\\jupyter_env\\lib\\site-packages\\autots\\tools\\probabilistic.py:67: RuntimeWarning: invalid value encountered in true_divide\n",
      "  (prior_mu / prior_sigma**2) + ((n * data_mu) / prior_sigma**2)\n",
      "C:\\Users\\henry\\miniconda3\\envs\\jupyter_env\\lib\\site-packages\\autots\\tools\\probabilistic.py:68: RuntimeWarning: divide by zero encountered in true_divide\n",
      "  ) / ((1 / prior_sigma**2) + (n / prior_sigma**2))\n"
     ]
    },
    {
     "name": "stdout",
     "output_type": "stream",
     "text": [
      "14 - SeasonalNaive with avg smape 97.42: \n",
      "Model Number: 15 of 123 with model SeasonalNaive for Validation 2\n",
      "15 - SeasonalNaive with avg smape 97.42: \n",
      "Model Number: 16 of 123 with model NVAR for Validation 2\n",
      "Template Eval Error: IndexError('index -4 is out of bounds for axis 1 with size 3') in model 16: NVAR\n",
      "Model Number: 17 of 123 with model NVAR for Validation 2\n",
      "Template Eval Error: IndexError('index -4 is out of bounds for axis 1 with size 3') in model 17: NVAR\n",
      "Model Number: 18 of 123 with model NVAR for Validation 2\n",
      "Template Eval Error: IndexError('index -4 is out of bounds for axis 1 with size 3') in model 18: NVAR\n",
      "Model Number: 19 of 123 with model NVAR for Validation 2\n",
      "Template Eval Error: IndexError('index -4 is out of bounds for axis 1 with size 3') in model 19: NVAR\n",
      "Model Number: 20 of 123 with model NVAR for Validation 2\n",
      "Template Eval Error: IndexError('index -4 is out of bounds for axis 1 with size 3') in model 20: NVAR\n",
      "Model Number: 21 of 123 with model ConstantNaive for Validation 2\n",
      "SinTrend failed with TypeError('The number of func parameters=4 must not exceed the number of data points=3') for followers_gained with 0\n",
      "Template Eval Error: Exception('Transformer SinTrend failed on fit') in model 21: ConstantNaive\n",
      "Model Number: 22 of 123 with model UnobservedComponents for Validation 2\n",
      "22 - UnobservedComponents with avg smape 100.84: \n",
      "Model Number: 23 of 123 with model UnobservedComponents for Validation 2\n",
      "23 - UnobservedComponents with avg smape 100.84: \n",
      "Model Number: 24 of 123 with model UnobservedComponents for Validation 2\n"
     ]
    },
    {
     "name": "stderr",
     "output_type": "stream",
     "text": [
      "C:\\Users\\henry\\miniconda3\\envs\\jupyter_env\\lib\\site-packages\\sklearn\\decomposition\\_pca.py:501: RuntimeWarning: invalid value encountered in true_divide\n",
      "  explained_variance_ratio_ = explained_variance_ / total_var\n"
     ]
    },
    {
     "name": "stdout",
     "output_type": "stream",
     "text": [
      "24 - UnobservedComponents with avg smape 133.54: \n",
      "Model Number: 25 of 123 with model MultivariateRegression for Validation 2\n"
     ]
    },
    {
     "name": "stderr",
     "output_type": "stream",
     "text": [
      "[Parallel(n_jobs=-2)]: Using backend ThreadingBackend with 15 concurrent workers.\n",
      "[Parallel(n_jobs=-2)]: Done  20 tasks      | elapsed:    0.0s\n",
      "[Parallel(n_jobs=-2)]: Done 170 tasks      | elapsed:    0.0s\n",
      "[Parallel(n_jobs=-2)]: Done 200 out of 200 | elapsed:    0.0s finished\n",
      "[Parallel(n_jobs=15)]: Using backend ThreadingBackend with 15 concurrent workers.\n",
      "[Parallel(n_jobs=15)]: Done  20 tasks      | elapsed:    0.0s\n",
      "[Parallel(n_jobs=15)]: Done 170 tasks      | elapsed:    0.0s\n",
      "[Parallel(n_jobs=15)]: Done 200 out of 200 | elapsed:    0.0s finished\n",
      "[Parallel(n_jobs=15)]: Using backend ThreadingBackend with 15 concurrent workers.\n",
      "[Parallel(n_jobs=15)]: Done  20 tasks      | elapsed:    0.0s\n"
     ]
    },
    {
     "name": "stdout",
     "output_type": "stream",
     "text": [
      "📈 25 - MultivariateRegression with avg smape 83.66: \n",
      "Model Number: 26 of 123 with model LastValueNaive for Validation 2\n",
      "26 - LastValueNaive with avg smape 100.84: \n",
      "Model Number: 27 of 123 with model AverageValueNaive for Validation 2\n"
     ]
    },
    {
     "name": "stderr",
     "output_type": "stream",
     "text": [
      "[Parallel(n_jobs=15)]: Done 170 tasks      | elapsed:    0.0s\n",
      "[Parallel(n_jobs=15)]: Done 200 out of 200 | elapsed:    0.0s finished\n",
      "[Parallel(n_jobs=15)]: Using backend ThreadingBackend with 15 concurrent workers.\n",
      "[Parallel(n_jobs=15)]: Done  20 tasks      | elapsed:    0.0s\n",
      "[Parallel(n_jobs=15)]: Done 170 tasks      | elapsed:    0.0s\n",
      "[Parallel(n_jobs=15)]: Done 200 out of 200 | elapsed:    0.0s finished\n",
      "[Parallel(n_jobs=15)]: Using backend ThreadingBackend with 15 concurrent workers.\n",
      "[Parallel(n_jobs=15)]: Done  20 tasks      | elapsed:    0.0s\n",
      "[Parallel(n_jobs=15)]: Done 170 tasks      | elapsed:    0.0s\n",
      "[Parallel(n_jobs=15)]: Done 200 out of 200 | elapsed:    0.0s finished\n"
     ]
    },
    {
     "name": "stdout",
     "output_type": "stream",
     "text": [
      "📈 27 - AverageValueNaive with avg smape 71.49: \n",
      "Model Number: 28 of 123 with model UnobservedComponents for Validation 2\n",
      "28 - UnobservedComponents with avg smape 102.38: \n",
      "Model Number: 29 of 123 with model LastValueNaive for Validation 2\n",
      "29 - LastValueNaive with avg smape 100.85: \n",
      "Model Number: 30 of 123 with model LastValueNaive for Validation 2\n",
      "30 - LastValueNaive with avg smape 100.84: \n",
      "Model Number: 31 of 123 with model LastValueNaive for Validation 2\n",
      "31 - LastValueNaive with avg smape 100.84: \n",
      "Model Number: 32 of 123 with model LastValueNaive for Validation 2\n",
      "32 - LastValueNaive with avg smape 100.84: \n",
      "Model Number: 33 of 123 with model LastValueNaive for Validation 2\n",
      "33 - LastValueNaive with avg smape 100.84: \n",
      "Model Number: 34 of 123 with model Ensemble for Validation 2\n",
      "34 - Ensemble with avg smape 102.39: \n",
      "Model Number: 35 of 123 with model LastValueNaive for Validation 2\n",
      "35 - LastValueNaive with avg smape 102.39: \n",
      "Model Number: 36 of 123 with model LastValueNaive for Validation 2\n",
      "36 - LastValueNaive with avg smape 102.39: \n",
      "Model Number: 37 of 123 with model LastValueNaive for Validation 2\n",
      "37 - LastValueNaive with avg smape 102.39: \n",
      "Model Number: 38 of 123 with model UnobservedComponents for Validation 2\n",
      "38 - UnobservedComponents with avg smape 133.54: \n",
      "Model Number: 39 of 123 with model UnobservedComponents for Validation 2\n",
      "39 - UnobservedComponents with avg smape 133.54: \n",
      "Model Number: 40 of 123 with model AverageValueNaive for Validation 2\n",
      "40 - AverageValueNaive with avg smape 100.85: \n",
      "Model Number: 41 of 123 with model AverageValueNaive for Validation 2\n",
      "41 - AverageValueNaive with avg smape 100.85: \n",
      "Model Number: 42 of 123 with model NVAR for Validation 2\n",
      "Template Eval Error: IndexError('index -4 is out of bounds for axis 1 with size 3') in model 42: NVAR\n",
      "Model Number: 43 of 123 with model NVAR for Validation 2\n",
      "Template Eval Error: IndexError('index -4 is out of bounds for axis 1 with size 3') in model 43: NVAR\n",
      "Model Number: 44 of 123 with model NVAR for Validation 2\n",
      "Template Eval Error: IndexError('index -4 is out of bounds for axis 1 with size 3') in model 44: NVAR\n",
      "Model Number: 45 of 123 with model NVAR for Validation 2\n",
      "Template Eval Error: IndexError('index -4 is out of bounds for axis 1 with size 3') in model 45: NVAR\n",
      "Model Number: 46 of 123 with model AverageValueNaive for Validation 2\n",
      "📈 46 - AverageValueNaive with avg smape 69.08: \n",
      "Model Number: 47 of 123 with model AverageValueNaive for Validation 2\n",
      "47 - AverageValueNaive with avg smape 86.04: \n",
      "Model Number: 48 of 123 with model AverageValueNaive for Validation 2\n",
      "48 - AverageValueNaive with avg smape 86.04: \n",
      "Model Number: 49 of 123 with model UnobservedComponents for Validation 2\n",
      "49 - UnobservedComponents with avg smape 98.8: \n",
      "Model Number: 50 of 123 with model UnobservedComponents for Validation 2\n",
      "Template Eval Error: ValueError(\"'shape' elements cannot be negative\") in model 50: UnobservedComponents\n",
      "Model Number: 51 of 123 with model UnobservedComponents for Validation 2\n",
      "Template Eval Error: ValueError(\"'shape' elements cannot be negative\") in model 51: UnobservedComponents\n",
      "Model Number: 52 of 123 with model ConstantNaive for Validation 2\n",
      "52 - ConstantNaive with avg smape 101.08: \n",
      "Model Number: 53 of 123 with model ConstantNaive for Validation 2\n",
      "53 - ConstantNaive with avg smape 123.67: \n",
      "Model Number: 54 of 123 with model ConstantNaive for Validation 2\n",
      "54 - ConstantNaive with avg smape 140.71: \n",
      "Model Number: 55 of 123 with model Theta for Validation 2\n",
      "55 - Theta with avg smape 70.07: \n",
      "Model Number: 56 of 123 with model ConstantNaive for Validation 2\n",
      "56 - ConstantNaive with avg smape 140.95: \n",
      "Model Number: 57 of 123 with model ConstantNaive for Validation 2\n"
     ]
    },
    {
     "name": "stderr",
     "output_type": "stream",
     "text": [
      "C:\\Users\\henry\\miniconda3\\envs\\jupyter_env\\lib\\site-packages\\sklearn\\decomposition\\_fastica.py:532: RuntimeWarning: divide by zero encountered in true_divide\n",
      "  K = (u / d).T[:n_components]  # see (6.33) p.140\n",
      "C:\\Users\\henry\\miniconda3\\envs\\jupyter_env\\lib\\site-packages\\sklearn\\decomposition\\_fastica.py:532: RuntimeWarning: divide by zero encountered in true_divide\n",
      "  K = (u / d).T[:n_components]  # see (6.33) p.140\n",
      "C:\\Users\\henry\\miniconda3\\envs\\jupyter_env\\lib\\site-packages\\sklearn\\decomposition\\_pca.py:501: RuntimeWarning: invalid value encountered in true_divide\n",
      "  explained_variance_ratio_ = explained_variance_ / total_var\n"
     ]
    },
    {
     "name": "stdout",
     "output_type": "stream",
     "text": [
      "57 - ConstantNaive with avg smape 101.77: \n",
      "Model Number: 58 of 123 with model ConstantNaive for Validation 2\n",
      "58 - ConstantNaive with avg smape 101.94: \n",
      "Model Number: 59 of 123 with model ConstantNaive for Validation 2\n",
      "59 - ConstantNaive with avg smape 99.96: \n",
      "Model Number: 60 of 123 with model GLS for Validation 2\n",
      "60 - GLS with avg smape 99.09: \n",
      "Model Number: 61 of 123 with model GLS for Validation 2\n",
      "61 - GLS with avg smape 99.09: \n",
      "Model Number: 62 of 123 with model GLS for Validation 2\n",
      "62 - GLS with avg smape 99.09: \n",
      "Model Number: 63 of 123 with model Theta for Validation 2\n",
      "63 - Theta with avg smape 70.07: \n",
      "Model Number: 64 of 123 with model GLS for Validation 2\n",
      "64 - GLS with avg smape 98.86: \n",
      "Model Number: 65 of 123 with model GLS for Validation 2\n",
      "65 - GLS with avg smape 98.86: \n",
      "Model Number: 66 of 123 with model AverageValueNaive for Validation 2\n",
      "66 - AverageValueNaive with avg smape 124.11: \n",
      "Model Number: 67 of 123 with model Theta for Validation 2\n",
      "67 - Theta with avg smape 95.47: \n",
      "Model Number: 68 of 123 with model Theta for Validation 2\n",
      "68 - Theta with avg smape 97.73: \n",
      "Model Number: 69 of 123 with model Theta for Validation 2\n",
      "69 - Theta with avg smape 95.19: \n",
      "Model Number: 70 of 123 with model GLS for Validation 2\n",
      "70 - GLS with avg smape 100.38: \n",
      "Model Number: 71 of 123 with model Theta for Validation 2\n"
     ]
    },
    {
     "name": "stderr",
     "output_type": "stream",
     "text": [
      "C:\\Users\\henry\\miniconda3\\envs\\jupyter_env\\lib\\site-packages\\sklearn\\linear_model\\_glm\\link.py:90: RuntimeWarning: overflow encountered in exp\n",
      "  return np.exp(lin_pred)\n",
      "C:\\Users\\henry\\miniconda3\\envs\\jupyter_env\\lib\\site-packages\\sklearn\\linear_model\\_glm\\link.py:93: RuntimeWarning: overflow encountered in exp\n",
      "  return np.exp(lin_pred)\n",
      "C:\\Users\\henry\\miniconda3\\envs\\jupyter_env\\lib\\site-packages\\sklearn\\_loss\\glm_distribution.py:132: RuntimeWarning: invalid value encountered in true_divide\n",
      "  return -2 * (y - y_pred) / self.unit_variance(y_pred)\n",
      "C:\\Users\\henry\\miniconda3\\envs\\jupyter_env\\lib\\site-packages\\sklearn\\linear_model\\_glm\\link.py:90: RuntimeWarning: overflow encountered in exp\n",
      "  return np.exp(lin_pred)\n",
      "C:\\Users\\henry\\miniconda3\\envs\\jupyter_env\\lib\\site-packages\\sklearn\\linear_model\\_glm\\link.py:93: RuntimeWarning: overflow encountered in exp\n",
      "  return np.exp(lin_pred)\n",
      "C:\\Users\\henry\\miniconda3\\envs\\jupyter_env\\lib\\site-packages\\sklearn\\_loss\\glm_distribution.py:132: RuntimeWarning: invalid value encountered in true_divide\n",
      "  return -2 * (y - y_pred) / self.unit_variance(y_pred)\n"
     ]
    },
    {
     "name": "stdout",
     "output_type": "stream",
     "text": [
      "71 - Theta with avg smape 99.95: \n",
      "Model Number: 72 of 123 with model ETS for Validation 2\n",
      "72 - ETS with avg smape 98.85: \n",
      "Model Number: 73 of 123 with model AverageValueNaive for Validation 2\n",
      "73 - AverageValueNaive with avg smape 98.6: \n",
      "Model Number: 74 of 123 with model AverageValueNaive for Validation 2\n",
      "74 - AverageValueNaive with avg smape 98.6: \n",
      "Model Number: 75 of 123 with model ARDL for Validation 2\n",
      "Template Eval Error: ValueError('The number of regressors (5) including deterministics, lags of the endog, lags of the exogenous, and fixed regressors is larer than the sample available for estimation (1).') in model 75: ARDL\n",
      "Model Number: 76 of 123 with model MultivariateRegression for Validation 2\n",
      "Template Eval Error: ValueError('Need at least 3 dates to infer frequency') in model 76: MultivariateRegression\n",
      "Model Number: 77 of 123 with model GLS for Validation 2\n",
      "77 - GLS with avg smape 100.24: \n",
      "Model Number: 78 of 123 with model ARDL for Validation 2\n",
      "Template Eval Error: ValueError('The number of regressors (5) including deterministics, lags of the endog, lags of the exogenous, and fixed regressors is larer than the sample available for estimation (1).') in model 78: ARDL\n",
      "Model Number: 79 of 123 with model Theta for Validation 2\n",
      "79 - Theta with avg smape 99.95: \n",
      "Model Number: 80 of 123 with model MultivariateRegression for Validation 2\n",
      "80 - MultivariateRegression with avg smape 97.28: \n",
      "Model Number: 81 of 123 with model Theta for Validation 2\n"
     ]
    },
    {
     "name": "stderr",
     "output_type": "stream",
     "text": [
      "C:\\Users\\henry\\miniconda3\\envs\\jupyter_env\\lib\\site-packages\\sklearn\\linear_model\\_glm\\link.py:90: RuntimeWarning: overflow encountered in exp\n",
      "  return np.exp(lin_pred)\n",
      "C:\\Users\\henry\\miniconda3\\envs\\jupyter_env\\lib\\site-packages\\sklearn\\linear_model\\_glm\\link.py:93: RuntimeWarning: overflow encountered in exp\n",
      "  return np.exp(lin_pred)\n",
      "C:\\Users\\henry\\miniconda3\\envs\\jupyter_env\\lib\\site-packages\\sklearn\\_loss\\glm_distribution.py:132: RuntimeWarning: invalid value encountered in true_divide\n",
      "  return -2 * (y - y_pred) / self.unit_variance(y_pred)\n",
      "C:\\Users\\henry\\miniconda3\\envs\\jupyter_env\\lib\\site-packages\\sklearn\\_loss\\glm_distribution.py:323: RuntimeWarning: invalid value encountered in add\n",
      "  dev = 2 * (xlogy(y, y / y_pred) - y + y_pred)\n",
      "C:\\Users\\henry\\miniconda3\\envs\\jupyter_env\\lib\\site-packages\\sklearn\\linear_model\\_glm\\glm.py:323: ConvergenceWarning: lbfgs failed to converge (status=2):\n",
      "ABNORMAL_TERMINATION_IN_LNSRCH.\n",
      "\n",
      "Increase the number of iterations (max_iter) or scale the data as shown in:\n",
      "    https://scikit-learn.org/stable/modules/preprocessing.html\n",
      "  self.n_iter_ = _check_optimize_result(\"lbfgs\", opt_res)\n",
      "C:\\Users\\henry\\miniconda3\\envs\\jupyter_env\\lib\\site-packages\\sklearn\\linear_model\\_glm\\link.py:90: RuntimeWarning: overflow encountered in exp\n",
      "  return np.exp(lin_pred)\n",
      "C:\\Users\\henry\\miniconda3\\envs\\jupyter_env\\lib\\site-packages\\sklearn\\linear_model\\_glm\\link.py:93: RuntimeWarning: overflow encountered in exp\n",
      "  return np.exp(lin_pred)\n",
      "C:\\Users\\henry\\miniconda3\\envs\\jupyter_env\\lib\\site-packages\\sklearn\\_loss\\glm_distribution.py:132: RuntimeWarning: invalid value encountered in true_divide\n",
      "  return -2 * (y - y_pred) / self.unit_variance(y_pred)\n"
     ]
    },
    {
     "name": "stdout",
     "output_type": "stream",
     "text": [
      "81 - Theta with avg smape 185.9: \n",
      "Model Number: 82 of 123 with model ConstantNaive for Validation 2\n",
      "82 - ConstantNaive with avg smape 98.6: \n",
      "Model Number: 83 of 123 with model Theta for Validation 2\n",
      "83 - Theta with avg smape 98.92: \n",
      "Model Number: 84 of 123 with model MultivariateRegression for Validation 2\n"
     ]
    },
    {
     "name": "stderr",
     "output_type": "stream",
     "text": [
      "[Parallel(n_jobs=-2)]: Using backend ThreadingBackend with 15 concurrent workers.\n",
      "[Parallel(n_jobs=-2)]: Done  20 tasks      | elapsed:    0.0s\n",
      "[Parallel(n_jobs=-2)]: Done 170 tasks      | elapsed:    0.0s\n",
      "[Parallel(n_jobs=-2)]: Done 200 out of 200 | elapsed:    0.0s finished\n",
      "[Parallel(n_jobs=15)]: Using backend ThreadingBackend with 15 concurrent workers.\n",
      "[Parallel(n_jobs=15)]: Done  20 tasks      | elapsed:    0.0s\n",
      "[Parallel(n_jobs=15)]: Done 170 tasks      | elapsed:    0.0s\n",
      "[Parallel(n_jobs=15)]: Done 200 out of 200 | elapsed:    0.0s finished\n",
      "[Parallel(n_jobs=15)]: Using backend ThreadingBackend with 15 concurrent workers.\n",
      "[Parallel(n_jobs=15)]: Done  20 tasks      | elapsed:    0.0s\n",
      "[Parallel(n_jobs=15)]: Done 170 tasks      | elapsed:    0.0s\n",
      "[Parallel(n_jobs=15)]: Done 200 out of 200 | elapsed:    0.0s finished\n",
      "[Parallel(n_jobs=15)]: Using backend ThreadingBackend with 15 concurrent workers.\n",
      "[Parallel(n_jobs=15)]: Done  20 tasks      | elapsed:    0.0s\n",
      "[Parallel(n_jobs=15)]: Done 170 tasks      | elapsed:    0.0s\n",
      "[Parallel(n_jobs=15)]: Done 200 out of 200 | elapsed:    0.0s finished\n",
      "[Parallel(n_jobs=15)]: Using backend ThreadingBackend with 15 concurrent workers.\n",
      "[Parallel(n_jobs=15)]: Done  20 tasks      | elapsed:    0.0s\n",
      "[Parallel(n_jobs=15)]: Done 170 tasks      | elapsed:    0.0s\n",
      "[Parallel(n_jobs=15)]: Done 200 out of 200 | elapsed:    0.0s finished\n",
      "C:\\Users\\henry\\miniconda3\\envs\\jupyter_env\\lib\\site-packages\\sklearn\\linear_model\\_glm\\link.py:90: RuntimeWarning: overflow encountered in exp\n",
      "  return np.exp(lin_pred)\n",
      "C:\\Users\\henry\\miniconda3\\envs\\jupyter_env\\lib\\site-packages\\sklearn\\linear_model\\_glm\\link.py:93: RuntimeWarning: overflow encountered in exp\n",
      "  return np.exp(lin_pred)\n",
      "C:\\Users\\henry\\miniconda3\\envs\\jupyter_env\\lib\\site-packages\\sklearn\\_loss\\glm_distribution.py:132: RuntimeWarning: invalid value encountered in true_divide\n",
      "  return -2 * (y - y_pred) / self.unit_variance(y_pred)\n"
     ]
    },
    {
     "name": "stdout",
     "output_type": "stream",
     "text": [
      "84 - MultivariateRegression with avg smape 101.98: \n",
      "Model Number: 85 of 123 with model MultivariateRegression for Validation 2\n",
      "Template Eval Error: ValueError('Need at least 3 dates to infer frequency') in model 85: MultivariateRegression\n",
      "Model Number: 86 of 123 with model MultivariateRegression for Validation 2\n",
      "Template Eval Error: ValueError('Need at least 3 dates to infer frequency') in model 86: MultivariateRegression\n",
      "Model Number: 87 of 123 with model ETS for Validation 2\n",
      "87 - ETS with avg smape 98.8: \n",
      "Model Number: 88 of 123 with model GLS for Validation 2\n",
      "88 - GLS with avg smape 113.87: \n",
      "Model Number: 89 of 123 with model MultivariateRegression for Validation 2\n"
     ]
    },
    {
     "name": "stderr",
     "output_type": "stream",
     "text": [
      "[Parallel(n_jobs=-2)]: Using backend ThreadingBackend with 15 concurrent workers.\n",
      "[Parallel(n_jobs=-2)]: Done  20 tasks      | elapsed:    0.0s\n",
      "[Parallel(n_jobs=-2)]: Done 170 tasks      | elapsed:    0.0s\n",
      "[Parallel(n_jobs=-2)]: Done 200 out of 200 | elapsed:    0.0s finished\n",
      "[Parallel(n_jobs=15)]: Using backend ThreadingBackend with 15 concurrent workers.\n",
      "[Parallel(n_jobs=15)]: Done  20 tasks      | elapsed:    0.0s\n",
      "[Parallel(n_jobs=15)]: Done 170 tasks      | elapsed:    0.0s\n",
      "[Parallel(n_jobs=15)]: Done 200 out of 200 | elapsed:    0.0s finished\n",
      "[Parallel(n_jobs=15)]: Using backend ThreadingBackend with 15 concurrent workers.\n",
      "[Parallel(n_jobs=15)]: Done  20 tasks      | elapsed:    0.0s\n",
      "[Parallel(n_jobs=15)]: Done 170 tasks      | elapsed:    0.0s\n",
      "[Parallel(n_jobs=15)]: Done 200 out of 200 | elapsed:    0.0s finished\n",
      "[Parallel(n_jobs=15)]: Using backend ThreadingBackend with 15 concurrent workers.\n",
      "[Parallel(n_jobs=15)]: Done  20 tasks      | elapsed:    0.0s\n"
     ]
    },
    {
     "name": "stdout",
     "output_type": "stream",
     "text": [
      "89 - MultivariateRegression with avg smape 98.41: \n",
      "Model Number: 90 of 123 with model DatepartRegression for Validation 2\n",
      "90 - DatepartRegression with avg smape 191.55: \n",
      "Model Number: 91 of 123 with model ETS for Validation 2\n",
      "91 - ETS with avg smape 98.8: \n",
      "Model Number: 92 of 123 with model ETS for Validation 2\n"
     ]
    },
    {
     "name": "stderr",
     "output_type": "stream",
     "text": [
      "[Parallel(n_jobs=15)]: Done 170 tasks      | elapsed:    0.0s\n",
      "[Parallel(n_jobs=15)]: Done 200 out of 200 | elapsed:    0.0s finished\n",
      "[Parallel(n_jobs=15)]: Using backend ThreadingBackend with 15 concurrent workers.\n",
      "[Parallel(n_jobs=15)]: Done  20 tasks      | elapsed:    0.0s\n",
      "[Parallel(n_jobs=15)]: Done 170 tasks      | elapsed:    0.0s\n",
      "[Parallel(n_jobs=15)]: Done 200 out of 200 | elapsed:    0.0s finished\n",
      "C:\\Users\\henry\\miniconda3\\envs\\jupyter_env\\lib\\site-packages\\autots\\tools\\probabilistic.py:67: RuntimeWarning: invalid value encountered in true_divide\n",
      "  (prior_mu / prior_sigma**2) + ((n * data_mu) / prior_sigma**2)\n",
      "C:\\Users\\henry\\miniconda3\\envs\\jupyter_env\\lib\\site-packages\\autots\\tools\\probabilistic.py:68: RuntimeWarning: divide by zero encountered in true_divide\n",
      "  ) / ((1 / prior_sigma**2) + (n / prior_sigma**2))\n"
     ]
    },
    {
     "name": "stdout",
     "output_type": "stream",
     "text": [
      "92 - ETS with avg smape 98.8: \n",
      "Model Number: 93 of 123 with model GLS for Validation 2\n",
      "93 - GLS with avg smape 91.98: \n",
      "Model Number: 94 of 123 with model ETS for Validation 2\n",
      "94 - ETS with avg smape 98.6: \n",
      "Model Number: 95 of 123 with model MultivariateRegression for Validation 2\n",
      "Template Eval Error: ValueError('Need at least 3 dates to infer frequency') in model 95: MultivariateRegression\n",
      "Model Number: 96 of 123 with model ETS for Validation 2\n",
      "96 - ETS with avg smape 98.54: \n"
     ]
    },
    {
     "name": "stderr",
     "output_type": "stream",
     "text": [
      "C:\\Users\\henry\\miniconda3\\envs\\jupyter_env\\lib\\site-packages\\autots\\tools\\probabilistic.py:67: RuntimeWarning: invalid value encountered in true_divide\n",
      "  (prior_mu / prior_sigma**2) + ((n * data_mu) / prior_sigma**2)\n",
      "C:\\Users\\henry\\miniconda3\\envs\\jupyter_env\\lib\\site-packages\\autots\\tools\\probabilistic.py:68: RuntimeWarning: divide by zero encountered in true_divide\n",
      "  ) / ((1 / prior_sigma**2) + (n / prior_sigma**2))\n"
     ]
    },
    {
     "name": "stdout",
     "output_type": "stream",
     "text": [
      "Model Number: 97 of 123 with model ETS for Validation 2\n",
      "97 - ETS with avg smape 98.6: \n",
      "Model Number: 98 of 123 with model Ensemble for Validation 2\n",
      "98 - Ensemble with avg smape 109.85: \n",
      "Model Number: 99 of 123 with model MultivariateRegression for Validation 2\n"
     ]
    },
    {
     "name": "stderr",
     "output_type": "stream",
     "text": [
      "[Parallel(n_jobs=-2)]: Using backend ThreadingBackend with 15 concurrent workers.\n",
      "[Parallel(n_jobs=-2)]: Done  20 tasks      | elapsed:    0.0s\n",
      "[Parallel(n_jobs=-2)]: Done 170 tasks      | elapsed:    0.0s\n",
      "[Parallel(n_jobs=-2)]: Done 200 out of 200 | elapsed:    0.0s finished\n",
      "[Parallel(n_jobs=15)]: Using backend ThreadingBackend with 15 concurrent workers.\n",
      "[Parallel(n_jobs=15)]: Done  20 tasks      | elapsed:    0.0s\n",
      "[Parallel(n_jobs=15)]: Done 170 tasks      | elapsed:    0.0s\n",
      "[Parallel(n_jobs=15)]: Done 200 out of 200 | elapsed:    0.0s finished\n",
      "[Parallel(n_jobs=15)]: Using backend ThreadingBackend with 15 concurrent workers.\n",
      "[Parallel(n_jobs=15)]: Done  20 tasks      | elapsed:    0.0s\n",
      "[Parallel(n_jobs=15)]: Done 170 tasks      | elapsed:    0.0s\n",
      "[Parallel(n_jobs=15)]: Done 200 out of 200 | elapsed:    0.0s finished\n",
      "[Parallel(n_jobs=15)]: Using backend ThreadingBackend with 15 concurrent workers.\n",
      "[Parallel(n_jobs=15)]: Done  20 tasks      | elapsed:    0.0s\n",
      "[Parallel(n_jobs=15)]: Done 170 tasks      | elapsed:    0.0s\n",
      "[Parallel(n_jobs=15)]: Done 200 out of 200 | elapsed:    0.0s finished\n",
      "[Parallel(n_jobs=15)]: Using backend ThreadingBackend with 15 concurrent workers.\n",
      "[Parallel(n_jobs=15)]: Done  20 tasks      | elapsed:    0.0s\n",
      "[Parallel(n_jobs=15)]: Done 170 tasks      | elapsed:    0.0s\n",
      "[Parallel(n_jobs=15)]: Done 200 out of 200 | elapsed:    0.0s finished\n"
     ]
    },
    {
     "name": "stdout",
     "output_type": "stream",
     "text": [
      "99 - MultivariateRegression with avg smape 102.1: \n",
      "Model Number: 100 of 123 with model ARDL for Validation 2\n",
      "Template Eval Error: ValueError('The number of regressors (4) including deterministics, lags of the endog, lags of the exogenous, and fixed regressors is larer than the sample available for estimation (1).') in model 100: ARDL\n",
      "Model Number: 101 of 123 with model ARDL for Validation 2\n"
     ]
    },
    {
     "name": "stderr",
     "output_type": "stream",
     "text": [
      "C:\\Users\\henry\\miniconda3\\envs\\jupyter_env\\lib\\site-packages\\sklearn\\linear_model\\_glm\\link.py:90: RuntimeWarning: overflow encountered in exp\n",
      "  return np.exp(lin_pred)\n",
      "C:\\Users\\henry\\miniconda3\\envs\\jupyter_env\\lib\\site-packages\\sklearn\\linear_model\\_glm\\link.py:93: RuntimeWarning: overflow encountered in exp\n",
      "  return np.exp(lin_pred)\n",
      "C:\\Users\\henry\\miniconda3\\envs\\jupyter_env\\lib\\site-packages\\sklearn\\_loss\\glm_distribution.py:132: RuntimeWarning: invalid value encountered in true_divide\n",
      "  return -2 * (y - y_pred) / self.unit_variance(y_pred)\n",
      "C:\\Users\\henry\\miniconda3\\envs\\jupyter_env\\lib\\site-packages\\sklearn\\_loss\\glm_distribution.py:323: RuntimeWarning: invalid value encountered in add\n",
      "  dev = 2 * (xlogy(y, y / y_pred) - y + y_pred)\n",
      "C:\\Users\\henry\\miniconda3\\envs\\jupyter_env\\lib\\site-packages\\sklearn\\linear_model\\_glm\\glm.py:323: ConvergenceWarning: lbfgs failed to converge (status=2):\n",
      "ABNORMAL_TERMINATION_IN_LNSRCH.\n",
      "\n",
      "Increase the number of iterations (max_iter) or scale the data as shown in:\n",
      "    https://scikit-learn.org/stable/modules/preprocessing.html\n",
      "  self.n_iter_ = _check_optimize_result(\"lbfgs\", opt_res)\n"
     ]
    },
    {
     "name": "stdout",
     "output_type": "stream",
     "text": [
      "Template Eval Error: ValueError('The number of regressors (5) including deterministics, lags of the endog, lags of the exogenous, and fixed regressors is larer than the sample available for estimation (1).') in model 101: ARDL\n",
      "Model Number: 102 of 123 with model ETS for Validation 2\n",
      "ETS error ValueError('Cannot compute initial seasonals using heuristic method with less than two full seasonal cycles in the data.')\n",
      "ETS failed on followers_gained with ValueError('Cannot compute initial seasonals using heuristic method with less than two full seasonal cycles in the data.')\n",
      "102 - ETS with avg smape 98.6: \n",
      "Model Number: 103 of 123 with model ETS for Validation 2\n",
      "103 - ETS with avg smape 98.85: \n",
      "Model Number: 104 of 123 with model ARDL for Validation 2\n",
      "Template Eval Error: ValueError('The number of regressors (5) including deterministics, lags of the endog, lags of the exogenous, and fixed regressors is larer than the sample available for estimation (1).') in model 104: ARDL\n",
      "Model Number: 105 of 123 with model ARDL for Validation 2\n",
      "Template Eval Error: ValueError('maxlag should be < nobs') in model 105: ARDL\n",
      "Model Number: 106 of 123 with model ARDL for Validation 2\n",
      "Template Eval Error: ValueError('maxlag should be < nobs') in model 106: ARDL\n",
      "Model Number: 107 of 123 with model DatepartRegression for Validation 2\n",
      "107 - DatepartRegression with avg smape 95.41: \n",
      "Model Number: 108 of 123 with model ARDL for Validation 2\n",
      "Template Eval Error: ValueError('The number of regressors (3) including deterministics, lags of the endog, lags of the exogenous, and fixed regressors is larer than the sample available for estimation (2).') in model 108: ARDL\n",
      "Model Number: 109 of 123 with model DatepartRegression for Validation 2\n",
      "109 - DatepartRegression with avg smape 98.19: \n",
      "Model Number: 110 of 123 with model DatepartRegression for Validation 2\n",
      "110 - DatepartRegression with avg smape 124.13: \n",
      "Model Number: 111 of 123 with model DatepartRegression for Validation 2\n",
      "111 - DatepartRegression with avg smape 124.13: \n",
      "Model Number: 112 of 123 with model ARDL for Validation 2\n"
     ]
    },
    {
     "name": "stderr",
     "output_type": "stream",
     "text": [
      "C:\\Users\\henry\\miniconda3\\envs\\jupyter_env\\lib\\site-packages\\sklearn\\linear_model\\_coordinate_descent.py:647: ConvergenceWarning: Objective did not converge. You might want to increase the number of iterations, check the scale of the features or consider increasing regularisation. Duality gap: 6.818e+01, tolerance: 5.296e-01\n",
      "  model = cd_fast.enet_coordinate_descent(\n"
     ]
    },
    {
     "name": "stdout",
     "output_type": "stream",
     "text": [
      "Template Eval Error: ValueError('The number of regressors (4) including deterministics, lags of the endog, lags of the exogenous, and fixed regressors is larer than the sample available for estimation (2).') in model 112: ARDL\n",
      "Model Number: 113 of 123 with model DatepartRegression for Validation 2\n",
      "113 - DatepartRegression with avg smape 95.41: \n",
      "Model Number: 114 of 123 with model DatepartRegression for Validation 2\n",
      "114 - DatepartRegression with avg smape 95.41: \n",
      "Model Number: 115 of 123 with model DatepartRegression for Validation 2\n",
      "115 - DatepartRegression with avg smape 124.13: \n",
      "Model Number: 116 of 123 with model DatepartRegression for Validation 2\n",
      "116 - DatepartRegression with avg smape 94.58: \n",
      "Model Number: 117 of 123 with model SectionalMotif for Validation 2\n",
      "Template Eval Error: ValueError('XA and XB must have the same number of columns (i.e. feature dimension.)') in model 117: SectionalMotif\n",
      "Model Number: 118 of 123 with model GLM for Validation 2\n",
      "📈 118 - GLM with avg smape 50.52: \n",
      "Model Number: 119 of 123 with model SectionalMotif for Validation 2\n",
      "Template Eval Error: ValueError('XA and XB must have the same number of columns (i.e. feature dimension.)') in model 119: SectionalMotif\n",
      "Model Number: 120 of 123 with model SectionalMotif for Validation 2\n",
      "Template Eval Error: ValueError('XA and XB must have the same number of columns (i.e. feature dimension.)') in model 120: SectionalMotif\n",
      "Model Number: 121 of 123 with model GLM for Validation 2\n",
      "121 - GLM with avg smape 149.71: \n",
      "Model Number: 122 of 123 with model GLM for Validation 2\n",
      "122 - GLM with avg smape 191.55: \n",
      "Model Number: 123 of 123 with model SectionalMotif for Validation 2\n"
     ]
    },
    {
     "name": "stderr",
     "output_type": "stream",
     "text": [
      "C:\\Users\\henry\\miniconda3\\envs\\jupyter_env\\lib\\site-packages\\sklearn\\linear_model\\_glm\\link.py:90: RuntimeWarning: overflow encountered in exp\n",
      "  return np.exp(lin_pred)\n",
      "C:\\Users\\henry\\miniconda3\\envs\\jupyter_env\\lib\\site-packages\\sklearn\\linear_model\\_glm\\link.py:93: RuntimeWarning: overflow encountered in exp\n",
      "  return np.exp(lin_pred)\n",
      "C:\\Users\\henry\\miniconda3\\envs\\jupyter_env\\lib\\site-packages\\sklearn\\_loss\\glm_distribution.py:132: RuntimeWarning: invalid value encountered in true_divide\n",
      "  return -2 * (y - y_pred) / self.unit_variance(y_pred)\n",
      "C:\\Users\\henry\\miniconda3\\envs\\jupyter_env\\lib\\site-packages\\sklearn\\_loss\\glm_distribution.py:323: RuntimeWarning: invalid value encountered in add\n",
      "  dev = 2 * (xlogy(y, y / y_pred) - y + y_pred)\n",
      "C:\\Users\\henry\\miniconda3\\envs\\jupyter_env\\lib\\site-packages\\sklearn\\linear_model\\_glm\\glm.py:323: ConvergenceWarning: lbfgs failed to converge (status=2):\n",
      "ABNORMAL_TERMINATION_IN_LNSRCH.\n",
      "\n",
      "Increase the number of iterations (max_iter) or scale the data as shown in:\n",
      "    https://scikit-learn.org/stable/modules/preprocessing.html\n",
      "  self.n_iter_ = _check_optimize_result(\"lbfgs\", opt_res)\n",
      "C:\\Users\\henry\\miniconda3\\envs\\jupyter_env\\lib\\site-packages\\statsmodels\\genmod\\generalized_linear_model.py:298: DomainWarning: The inverse_power link function does not respect the domain of the Gamma family.\n",
      "  warnings.warn((f\"The {type(family.link).__name__} link function \"\n",
      "C:\\Users\\henry\\miniconda3\\envs\\jupyter_env\\lib\\site-packages\\statsmodels\\genmod\\generalized_linear_model.py:298: DomainWarning: The inverse_power link function does not respect the domain of the Gamma family.\n",
      "  warnings.warn((f\"The {type(family.link).__name__} link function \"\n"
     ]
    },
    {
     "name": "stdout",
     "output_type": "stream",
     "text": [
      "Template Eval Error: ValueError('XA and XB must have the same number of columns (i.e. feature dimension.)') in model 123: SectionalMotif\n",
      "Validation Round: 3\n"
     ]
    },
    {
     "ename": "ValueError",
     "evalue": "forecast_length is too large for training data, alter min_allowed_train_percent to override",
     "output_type": "error",
     "traceback": [
      "\u001b[1;31m---------------------------------------------------------------------------\u001b[0m",
      "\u001b[1;31mValueError\u001b[0m                                Traceback (most recent call last)",
      "Input \u001b[1;32mIn [37]\u001b[0m, in \u001b[0;36m<cell line: 2>\u001b[1;34m()\u001b[0m\n\u001b[0;32m      1\u001b[0m model \u001b[38;5;241m=\u001b[39m AutoTS(forecast_length\u001b[38;5;241m=\u001b[39m\u001b[38;5;241m4\u001b[39m, frequency\u001b[38;5;241m=\u001b[39m\u001b[38;5;124m'\u001b[39m\u001b[38;5;124minfer\u001b[39m\u001b[38;5;124m'\u001b[39m, ensemble\u001b[38;5;241m=\u001b[39m\u001b[38;5;124m'\u001b[39m\u001b[38;5;124msimple\u001b[39m\u001b[38;5;124m'\u001b[39m)\n\u001b[1;32m----> 2\u001b[0m \u001b[43mmodel\u001b[49m\u001b[38;5;241;43m.\u001b[39;49m\u001b[43mfit\u001b[49m\u001b[43m(\u001b[49m\u001b[43mdata\u001b[49m\u001b[43m,\u001b[49m\u001b[43m \u001b[49m\u001b[43mdate_col\u001b[49m\u001b[38;5;241;43m=\u001b[39;49m\u001b[38;5;124;43m'\u001b[39;49m\u001b[38;5;124;43mperiod_end\u001b[39;49m\u001b[38;5;124;43m'\u001b[39;49m\u001b[43m,\u001b[49m\u001b[43m \u001b[49m\u001b[43mvalue_col\u001b[49m\u001b[38;5;241;43m=\u001b[39;49m\u001b[38;5;124;43m'\u001b[39;49m\u001b[38;5;124;43mfollowers_gained\u001b[39;49m\u001b[38;5;124;43m'\u001b[39;49m\u001b[43m,\u001b[49m\u001b[43mid_col\u001b[49m\u001b[38;5;241;43m=\u001b[39;49m\u001b[38;5;28;43;01mNone\u001b[39;49;00m\u001b[43m)\u001b[49m\n\u001b[0;32m      3\u001b[0m prediction \u001b[38;5;241m=\u001b[39m model\u001b[38;5;241m.\u001b[39mpredict()\n\u001b[0;32m      4\u001b[0m forecast\u001b[38;5;241m=\u001b[39m prediction\u001b[38;5;241m.\u001b[39mforecast\n",
      "File \u001b[1;32m~\\miniconda3\\envs\\jupyter_env\\lib\\site-packages\\autots\\evaluator\\auto_ts.py:1073\u001b[0m, in \u001b[0;36mAutoTS.fit\u001b[1;34m(self, df, date_col, value_col, id_col, future_regressor, weights, result_file, grouping_ids, validation_indexes)\u001b[0m\n\u001b[0;32m   1070\u001b[0m \u001b[38;5;28;01melse\u001b[39;00m:\n\u001b[0;32m   1071\u001b[0m     current_weights \u001b[38;5;241m=\u001b[39m {x: weights[x] \u001b[38;5;28;01mfor\u001b[39;00m x \u001b[38;5;129;01min\u001b[39;00m df_subset\u001b[38;5;241m.\u001b[39mcolumns}\n\u001b[1;32m-> 1073\u001b[0m val_df_train, val_df_test \u001b[38;5;241m=\u001b[39m \u001b[43msimple_train_test_split\u001b[49m\u001b[43m(\u001b[49m\n\u001b[0;32m   1074\u001b[0m \u001b[43m    \u001b[49m\u001b[43mdf_subset\u001b[49m\u001b[43m,\u001b[49m\n\u001b[0;32m   1075\u001b[0m \u001b[43m    \u001b[49m\u001b[43mforecast_length\u001b[49m\u001b[38;5;241;43m=\u001b[39;49m\u001b[43mforecast_length\u001b[49m\u001b[43m,\u001b[49m\n\u001b[0;32m   1076\u001b[0m \u001b[43m    \u001b[49m\u001b[43mmin_allowed_train_percent\u001b[49m\u001b[38;5;241;43m=\u001b[39;49m\u001b[38;5;28;43mself\u001b[39;49m\u001b[38;5;241;43m.\u001b[39;49m\u001b[43mmin_allowed_train_percent\u001b[49m\u001b[43m,\u001b[49m\n\u001b[0;32m   1077\u001b[0m \u001b[43m    \u001b[49m\u001b[43mverbose\u001b[49m\u001b[38;5;241;43m=\u001b[39;49m\u001b[38;5;28;43mself\u001b[39;49m\u001b[38;5;241;43m.\u001b[39;49m\u001b[43mverbose\u001b[49m\u001b[43m,\u001b[49m\n\u001b[0;32m   1078\u001b[0m \u001b[43m\u001b[49m\u001b[43m)\u001b[49m\n\u001b[0;32m   1079\u001b[0m \u001b[38;5;28mself\u001b[39m\u001b[38;5;241m.\u001b[39mvalidation_train_indexes\u001b[38;5;241m.\u001b[39mappend(val_df_train\u001b[38;5;241m.\u001b[39mindex)\n\u001b[0;32m   1080\u001b[0m \u001b[38;5;28mself\u001b[39m\u001b[38;5;241m.\u001b[39mvalidation_test_indexes\u001b[38;5;241m.\u001b[39mappend(val_df_test\u001b[38;5;241m.\u001b[39mindex)\n",
      "File \u001b[1;32m~\\miniconda3\\envs\\jupyter_env\\lib\\site-packages\\autots\\tools\\shaping.py:379\u001b[0m, in \u001b[0;36msimple_train_test_split\u001b[1;34m(df, forecast_length, min_allowed_train_percent, verbose)\u001b[0m\n\u001b[0;32m    374\u001b[0m \u001b[38;5;28;01massert\u001b[39;00m forecast_length \u001b[38;5;241m>\u001b[39m \u001b[38;5;241m0\u001b[39m, \u001b[38;5;124m\"\u001b[39m\u001b[38;5;124mforecast_length must be greater than 0\u001b[39m\u001b[38;5;124m\"\u001b[39m\n\u001b[0;32m    376\u001b[0m \u001b[38;5;28;01mif\u001b[39;00m (forecast_length \u001b[38;5;241m*\u001b[39m min_allowed_train_percent) \u001b[38;5;241m>\u001b[39m \u001b[38;5;28mint\u001b[39m(\n\u001b[0;32m    377\u001b[0m     (df\u001b[38;5;241m.\u001b[39mshape[\u001b[38;5;241m0\u001b[39m]) \u001b[38;5;241m-\u001b[39m forecast_length\n\u001b[0;32m    378\u001b[0m ):\n\u001b[1;32m--> 379\u001b[0m     \u001b[38;5;28;01mraise\u001b[39;00m \u001b[38;5;167;01mValueError\u001b[39;00m(\n\u001b[0;32m    380\u001b[0m         \u001b[38;5;124m\"\u001b[39m\u001b[38;5;124mforecast_length is too large for training data, alter min_allowed_train_percent to override\u001b[39m\u001b[38;5;124m\"\u001b[39m\n\u001b[0;32m    381\u001b[0m     )\n\u001b[0;32m    383\u001b[0m train \u001b[38;5;241m=\u001b[39m df\u001b[38;5;241m.\u001b[39mhead((df\u001b[38;5;241m.\u001b[39mshape[\u001b[38;5;241m0\u001b[39m]) \u001b[38;5;241m-\u001b[39m forecast_length)\n\u001b[0;32m    384\u001b[0m test \u001b[38;5;241m=\u001b[39m df\u001b[38;5;241m.\u001b[39mtail(forecast_length)\n",
      "\u001b[1;31mValueError\u001b[0m: forecast_length is too large for training data, alter min_allowed_train_percent to override"
     ]
    }
   ],
   "source": [
    "model = AutoTS(forecast_length=4, frequency='infer', ensemble='simple')\n",
    "model.fit(data, date_col='period_end', value_col='followers_gained',id_col=None)\n",
    "prediction = model.predict()\n",
    "forecast= prediction.forecast\n",
    "print(forecast)\n"
   ]
  }
 ],
 "metadata": {
  "kernelspec": {
   "display_name": "TurinEnv",
   "language": "python",
   "name": "turinenv"
  },
  "language_info": {
   "codemirror_mode": {
    "name": "ipython",
    "version": 3
   },
   "file_extension": ".py",
   "mimetype": "text/x-python",
   "name": "python",
   "nbconvert_exporter": "python",
   "pygments_lexer": "ipython3",
   "version": "3.9.12"
  }
 },
 "nbformat": 4,
 "nbformat_minor": 5
}
